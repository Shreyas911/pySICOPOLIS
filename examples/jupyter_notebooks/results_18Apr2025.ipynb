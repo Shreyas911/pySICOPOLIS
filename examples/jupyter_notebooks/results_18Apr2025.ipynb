{
 "cells": [
  {
   "cell_type": "code",
   "execution_count": 1,
   "id": "eaa5a2e0-7d12-4f78-b9ef-4a7d88a734ea",
   "metadata": {},
   "outputs": [],
   "source": [
    "# HPC\n",
    "import numpy as np\n",
    "import xarray as xr\n",
    "\n",
    "# Plotting\n",
    "import matplotlib.pyplot as plt\n",
    "\n",
    "# Paths and stuff\n",
    "import os\n",
    "import sys\n",
    "\n",
    "sys.path.append('/home/shreyas/pySICOPOLIS/src')\n",
    "from pySICOPOLIS import *"
   ]
  },
  {
   "cell_type": "code",
   "execution_count": 2,
   "id": "4e9cb2ee-cdf8-4c6b-adb7-964b79dfbc0f",
   "metadata": {},
   "outputs": [
    {
     "data": {
      "text/plain": [
       "(2966808800000000.0, 2987707398458191.5)"
      ]
     },
     "execution_count": 2,
     "metadata": {},
     "output_type": "execute_result"
    }
   ],
   "source": [
    "dataPath = '/scratch2/shreyas/GrIS_paleo_data/'\n",
    "ds_bm5  = xr.open_dataset(dataPath + 'BedMachineGreenland-v5.nc')\n",
    "\n",
    "# Convert metres to kms\n",
    "ds_bm5['x'] = ds_bm5['x']*0.001\n",
    "ds_bm5['y'] = ds_bm5['y']*0.001\n",
    "xModel40       = np.arange(-72.,97.,4.0)*10\n",
    "yModel40       = np.arange(-345.,-56.,4.0)*10\n",
    "\n",
    "ds_bm5_40kms = xr.open_dataset(dataPath + 'bm5_data_40kms.nc')\n",
    "ds_age_40kms = xr.open_dataset(dataPath + 'age_data_40kms.nc')\n",
    "ds_surfvel_40kms = xr.open_dataset(dataPath + 'surfvel_data_40kms.nc')\n",
    "\n",
    "modelPath = '/home/shreyas/update_to_develop_sicopolis/sicopolis_spinups/sico_out/grl40_bm5_paleo17a_CT4_BH0_8point5CS_spinup_0ka/'\n",
    "ds_model = xr.open_dataset(modelPath + 'grl40_bm5_paleo17a_CT4_BH0_8point5CS_spinup_0ka0011.nc')\n",
    "\n",
    "V_model = np.sum(ds_model[\"H\"].data*ds_model[\"cell_area\"].data)\n",
    "V_data = np.sum(ds_bm5_40kms[\"H\"].data*(ds_bm5_40kms[\"H\"].data >= 0.0)*ds_model[\"cell_area\"].data)\n",
    "\n",
    "V_model, V_data"
   ]
  },
  {
   "cell_type": "code",
   "execution_count": 3,
   "id": "4ecc30fe-4cb9-44fd-ae96-26b99f89af2d",
   "metadata": {},
   "outputs": [
    {
     "ename": "FileNotFoundError",
     "evalue": "[Errno 2] No such file or directory: '/home/shreyas/update_to_develop_sicopolis/sicopolis_tuneCS_2/sico_out/N_grl40_bm5_paleo17a_nudged_CT4_BH0_SVC_m21ka_pkp/0007.nc'",
     "output_type": "error",
     "traceback": [
      "\u001b[0;31m---------------------------------------------------------------------------\u001b[0m",
      "\u001b[0;31mKeyError\u001b[0m                                  Traceback (most recent call last)",
      "File \u001b[0;32m/scratch2/shreyas/mambaforge/envs/py310_LRP/lib/python3.10/site-packages/xarray/backends/file_manager.py:211\u001b[0m, in \u001b[0;36mCachingFileManager._acquire_with_cache_info\u001b[0;34m(self, needs_lock)\u001b[0m\n\u001b[1;32m    210\u001b[0m \u001b[38;5;28;01mtry\u001b[39;00m:\n\u001b[0;32m--> 211\u001b[0m     file \u001b[38;5;241m=\u001b[39m \u001b[38;5;28;43mself\u001b[39;49m\u001b[38;5;241;43m.\u001b[39;49m\u001b[43m_cache\u001b[49m\u001b[43m[\u001b[49m\u001b[38;5;28;43mself\u001b[39;49m\u001b[38;5;241;43m.\u001b[39;49m\u001b[43m_key\u001b[49m\u001b[43m]\u001b[49m\n\u001b[1;32m    212\u001b[0m \u001b[38;5;28;01mexcept\u001b[39;00m \u001b[38;5;167;01mKeyError\u001b[39;00m:\n",
      "File \u001b[0;32m/scratch2/shreyas/mambaforge/envs/py310_LRP/lib/python3.10/site-packages/xarray/backends/lru_cache.py:56\u001b[0m, in \u001b[0;36mLRUCache.__getitem__\u001b[0;34m(self, key)\u001b[0m\n\u001b[1;32m     55\u001b[0m \u001b[38;5;28;01mwith\u001b[39;00m \u001b[38;5;28mself\u001b[39m\u001b[38;5;241m.\u001b[39m_lock:\n\u001b[0;32m---> 56\u001b[0m     value \u001b[38;5;241m=\u001b[39m \u001b[38;5;28;43mself\u001b[39;49m\u001b[38;5;241;43m.\u001b[39;49m\u001b[43m_cache\u001b[49m\u001b[43m[\u001b[49m\u001b[43mkey\u001b[49m\u001b[43m]\u001b[49m\n\u001b[1;32m     57\u001b[0m     \u001b[38;5;28mself\u001b[39m\u001b[38;5;241m.\u001b[39m_cache\u001b[38;5;241m.\u001b[39mmove_to_end(key)\n",
      "\u001b[0;31mKeyError\u001b[0m: [<class 'netCDF4._netCDF4.Dataset'>, ('/home/shreyas/update_to_develop_sicopolis/sicopolis_tuneCS_2/sico_out/N_grl40_bm5_paleo17a_nudged_CT4_BH0_SVC_m21ka_pkp/0007.nc',), 'r', (('clobber', True), ('diskless', False), ('format', 'NETCDF4'), ('persist', False)), '23958ede-2b62-4803-b8f2-6a3a5b7af64e']",
      "\nDuring handling of the above exception, another exception occurred:\n",
      "\u001b[0;31mFileNotFoundError\u001b[0m                         Traceback (most recent call last)",
      "Cell \u001b[0;32mIn[3], line 5\u001b[0m\n\u001b[1;32m      2\u001b[0m dataPath \u001b[38;5;241m=\u001b[39m \u001b[38;5;124m'\u001b[39m\u001b[38;5;124m/scratch2/shreyas/GrIS_paleo_data/\u001b[39m\u001b[38;5;124m'\u001b[39m\n\u001b[1;32m      4\u001b[0m ds_tCS2 \u001b[38;5;241m=\u001b[39m xr\u001b[38;5;241m.\u001b[39mopen_dataset(\u001b[38;5;124m\"\u001b[39m\u001b[38;5;124m/scratch2/shreyas/tCS2/inexact_gn_hessian_cg/state_GNHessCG_iter_21.nc\u001b[39m\u001b[38;5;124m\"\u001b[39m)\n\u001b[0;32m----> 5\u001b[0m ds_model \u001b[38;5;241m=\u001b[39m \u001b[43mxr\u001b[49m\u001b[38;5;241;43m.\u001b[39;49m\u001b[43mopen_dataset\u001b[49m\u001b[43m(\u001b[49m\u001b[38;5;124;43m\"\u001b[39;49m\u001b[38;5;124;43m/home/shreyas/update_to_develop_sicopolis/sicopolis_tuneCS_2/sico_out/N_grl40_bm5_paleo17a_nudged_CT4_BH0_SVC_m21ka_pkp/0007.nc\u001b[39;49m\u001b[38;5;124;43m\"\u001b[39;49m\u001b[43m)\u001b[49m\n\u001b[1;32m      6\u001b[0m ds_model_orig \u001b[38;5;241m=\u001b[39m xr\u001b[38;5;241m.\u001b[39mopen_dataset(\u001b[38;5;124m\"\u001b[39m\u001b[38;5;124m/home/shreyas/update_to_develop_sicopolis/sicopolis_spinups/sico_out/grl40_bm5_paleo17a_nudged_CT4_BH0_m21ka_pkp/grl40_bm5_paleo17a_nudged_CT4_BH0_m21ka_pkp0007.nc\u001b[39m\u001b[38;5;124m\"\u001b[39m)\n\u001b[1;32m      8\u001b[0m mask_land \u001b[38;5;241m=\u001b[39m ds_model[\u001b[38;5;124m\"\u001b[39m\u001b[38;5;124mmask\u001b[39m\u001b[38;5;124m\"\u001b[39m]\u001b[38;5;241m.\u001b[39mdata\u001b[38;5;241m.\u001b[39mcopy()\n",
      "File \u001b[0;32m/scratch2/shreyas/mambaforge/envs/py310_LRP/lib/python3.10/site-packages/xarray/backends/api.py:670\u001b[0m, in \u001b[0;36mopen_dataset\u001b[0;34m(filename_or_obj, engine, chunks, cache, decode_cf, mask_and_scale, decode_times, decode_timedelta, use_cftime, concat_characters, decode_coords, drop_variables, inline_array, chunked_array_type, from_array_kwargs, backend_kwargs, **kwargs)\u001b[0m\n\u001b[1;32m    658\u001b[0m decoders \u001b[38;5;241m=\u001b[39m _resolve_decoders_kwargs(\n\u001b[1;32m    659\u001b[0m     decode_cf,\n\u001b[1;32m    660\u001b[0m     open_backend_dataset_parameters\u001b[38;5;241m=\u001b[39mbackend\u001b[38;5;241m.\u001b[39mopen_dataset_parameters,\n\u001b[0;32m   (...)\u001b[0m\n\u001b[1;32m    666\u001b[0m     decode_coords\u001b[38;5;241m=\u001b[39mdecode_coords,\n\u001b[1;32m    667\u001b[0m )\n\u001b[1;32m    669\u001b[0m overwrite_encoded_chunks \u001b[38;5;241m=\u001b[39m kwargs\u001b[38;5;241m.\u001b[39mpop(\u001b[38;5;124m\"\u001b[39m\u001b[38;5;124moverwrite_encoded_chunks\u001b[39m\u001b[38;5;124m\"\u001b[39m, \u001b[38;5;28;01mNone\u001b[39;00m)\n\u001b[0;32m--> 670\u001b[0m backend_ds \u001b[38;5;241m=\u001b[39m \u001b[43mbackend\u001b[49m\u001b[38;5;241;43m.\u001b[39;49m\u001b[43mopen_dataset\u001b[49m\u001b[43m(\u001b[49m\n\u001b[1;32m    671\u001b[0m \u001b[43m    \u001b[49m\u001b[43mfilename_or_obj\u001b[49m\u001b[43m,\u001b[49m\n\u001b[1;32m    672\u001b[0m \u001b[43m    \u001b[49m\u001b[43mdrop_variables\u001b[49m\u001b[38;5;241;43m=\u001b[39;49m\u001b[43mdrop_variables\u001b[49m\u001b[43m,\u001b[49m\n\u001b[1;32m    673\u001b[0m \u001b[43m    \u001b[49m\u001b[38;5;241;43m*\u001b[39;49m\u001b[38;5;241;43m*\u001b[39;49m\u001b[43mdecoders\u001b[49m\u001b[43m,\u001b[49m\n\u001b[1;32m    674\u001b[0m \u001b[43m    \u001b[49m\u001b[38;5;241;43m*\u001b[39;49m\u001b[38;5;241;43m*\u001b[39;49m\u001b[43mkwargs\u001b[49m\u001b[43m,\u001b[49m\n\u001b[1;32m    675\u001b[0m \u001b[43m\u001b[49m\u001b[43m)\u001b[49m\n\u001b[1;32m    676\u001b[0m ds \u001b[38;5;241m=\u001b[39m _dataset_from_backend_dataset(\n\u001b[1;32m    677\u001b[0m     backend_ds,\n\u001b[1;32m    678\u001b[0m     filename_or_obj,\n\u001b[0;32m   (...)\u001b[0m\n\u001b[1;32m    688\u001b[0m     \u001b[38;5;241m*\u001b[39m\u001b[38;5;241m*\u001b[39mkwargs,\n\u001b[1;32m    689\u001b[0m )\n\u001b[1;32m    690\u001b[0m \u001b[38;5;28;01mreturn\u001b[39;00m ds\n",
      "File \u001b[0;32m/scratch2/shreyas/mambaforge/envs/py310_LRP/lib/python3.10/site-packages/xarray/backends/netCDF4_.py:666\u001b[0m, in \u001b[0;36mNetCDF4BackendEntrypoint.open_dataset\u001b[0;34m(self, filename_or_obj, mask_and_scale, decode_times, concat_characters, decode_coords, drop_variables, use_cftime, decode_timedelta, group, mode, format, clobber, diskless, persist, auto_complex, lock, autoclose)\u001b[0m\n\u001b[1;32m    644\u001b[0m \u001b[38;5;28;01mdef\u001b[39;00m \u001b[38;5;21mopen_dataset\u001b[39m(\n\u001b[1;32m    645\u001b[0m     \u001b[38;5;28mself\u001b[39m,\n\u001b[1;32m    646\u001b[0m     filename_or_obj: \u001b[38;5;28mstr\u001b[39m \u001b[38;5;241m|\u001b[39m os\u001b[38;5;241m.\u001b[39mPathLike[Any] \u001b[38;5;241m|\u001b[39m ReadBuffer \u001b[38;5;241m|\u001b[39m AbstractDataStore,\n\u001b[0;32m   (...)\u001b[0m\n\u001b[1;32m    663\u001b[0m     autoclose\u001b[38;5;241m=\u001b[39m\u001b[38;5;28;01mFalse\u001b[39;00m,\n\u001b[1;32m    664\u001b[0m ) \u001b[38;5;241m-\u001b[39m\u001b[38;5;241m>\u001b[39m Dataset:\n\u001b[1;32m    665\u001b[0m     filename_or_obj \u001b[38;5;241m=\u001b[39m _normalize_path(filename_or_obj)\n\u001b[0;32m--> 666\u001b[0m     store \u001b[38;5;241m=\u001b[39m \u001b[43mNetCDF4DataStore\u001b[49m\u001b[38;5;241;43m.\u001b[39;49m\u001b[43mopen\u001b[49m\u001b[43m(\u001b[49m\n\u001b[1;32m    667\u001b[0m \u001b[43m        \u001b[49m\u001b[43mfilename_or_obj\u001b[49m\u001b[43m,\u001b[49m\n\u001b[1;32m    668\u001b[0m \u001b[43m        \u001b[49m\u001b[43mmode\u001b[49m\u001b[38;5;241;43m=\u001b[39;49m\u001b[43mmode\u001b[49m\u001b[43m,\u001b[49m\n\u001b[1;32m    669\u001b[0m \u001b[43m        \u001b[49m\u001b[38;5;28;43mformat\u001b[39;49m\u001b[38;5;241;43m=\u001b[39;49m\u001b[38;5;28;43mformat\u001b[39;49m\u001b[43m,\u001b[49m\n\u001b[1;32m    670\u001b[0m \u001b[43m        \u001b[49m\u001b[43mgroup\u001b[49m\u001b[38;5;241;43m=\u001b[39;49m\u001b[43mgroup\u001b[49m\u001b[43m,\u001b[49m\n\u001b[1;32m    671\u001b[0m \u001b[43m        \u001b[49m\u001b[43mclobber\u001b[49m\u001b[38;5;241;43m=\u001b[39;49m\u001b[43mclobber\u001b[49m\u001b[43m,\u001b[49m\n\u001b[1;32m    672\u001b[0m \u001b[43m        \u001b[49m\u001b[43mdiskless\u001b[49m\u001b[38;5;241;43m=\u001b[39;49m\u001b[43mdiskless\u001b[49m\u001b[43m,\u001b[49m\n\u001b[1;32m    673\u001b[0m \u001b[43m        \u001b[49m\u001b[43mpersist\u001b[49m\u001b[38;5;241;43m=\u001b[39;49m\u001b[43mpersist\u001b[49m\u001b[43m,\u001b[49m\n\u001b[1;32m    674\u001b[0m \u001b[43m        \u001b[49m\u001b[43mauto_complex\u001b[49m\u001b[38;5;241;43m=\u001b[39;49m\u001b[43mauto_complex\u001b[49m\u001b[43m,\u001b[49m\n\u001b[1;32m    675\u001b[0m \u001b[43m        \u001b[49m\u001b[43mlock\u001b[49m\u001b[38;5;241;43m=\u001b[39;49m\u001b[43mlock\u001b[49m\u001b[43m,\u001b[49m\n\u001b[1;32m    676\u001b[0m \u001b[43m        \u001b[49m\u001b[43mautoclose\u001b[49m\u001b[38;5;241;43m=\u001b[39;49m\u001b[43mautoclose\u001b[49m\u001b[43m,\u001b[49m\n\u001b[1;32m    677\u001b[0m \u001b[43m    \u001b[49m\u001b[43m)\u001b[49m\n\u001b[1;32m    679\u001b[0m     store_entrypoint \u001b[38;5;241m=\u001b[39m StoreBackendEntrypoint()\n\u001b[1;32m    680\u001b[0m     \u001b[38;5;28;01mwith\u001b[39;00m close_on_error(store):\n",
      "File \u001b[0;32m/scratch2/shreyas/mambaforge/envs/py310_LRP/lib/python3.10/site-packages/xarray/backends/netCDF4_.py:452\u001b[0m, in \u001b[0;36mNetCDF4DataStore.open\u001b[0;34m(cls, filename, mode, format, group, clobber, diskless, persist, auto_complex, lock, lock_maker, autoclose)\u001b[0m\n\u001b[1;32m    448\u001b[0m     kwargs[\u001b[38;5;124m\"\u001b[39m\u001b[38;5;124mauto_complex\u001b[39m\u001b[38;5;124m\"\u001b[39m] \u001b[38;5;241m=\u001b[39m auto_complex\n\u001b[1;32m    449\u001b[0m manager \u001b[38;5;241m=\u001b[39m CachingFileManager(\n\u001b[1;32m    450\u001b[0m     netCDF4\u001b[38;5;241m.\u001b[39mDataset, filename, mode\u001b[38;5;241m=\u001b[39mmode, kwargs\u001b[38;5;241m=\u001b[39mkwargs\n\u001b[1;32m    451\u001b[0m )\n\u001b[0;32m--> 452\u001b[0m \u001b[38;5;28;01mreturn\u001b[39;00m \u001b[38;5;28;43mcls\u001b[39;49m\u001b[43m(\u001b[49m\u001b[43mmanager\u001b[49m\u001b[43m,\u001b[49m\u001b[43m \u001b[49m\u001b[43mgroup\u001b[49m\u001b[38;5;241;43m=\u001b[39;49m\u001b[43mgroup\u001b[49m\u001b[43m,\u001b[49m\u001b[43m \u001b[49m\u001b[43mmode\u001b[49m\u001b[38;5;241;43m=\u001b[39;49m\u001b[43mmode\u001b[49m\u001b[43m,\u001b[49m\u001b[43m \u001b[49m\u001b[43mlock\u001b[49m\u001b[38;5;241;43m=\u001b[39;49m\u001b[43mlock\u001b[49m\u001b[43m,\u001b[49m\u001b[43m \u001b[49m\u001b[43mautoclose\u001b[49m\u001b[38;5;241;43m=\u001b[39;49m\u001b[43mautoclose\u001b[49m\u001b[43m)\u001b[49m\n",
      "File \u001b[0;32m/scratch2/shreyas/mambaforge/envs/py310_LRP/lib/python3.10/site-packages/xarray/backends/netCDF4_.py:393\u001b[0m, in \u001b[0;36mNetCDF4DataStore.__init__\u001b[0;34m(self, manager, group, mode, lock, autoclose)\u001b[0m\n\u001b[1;32m    391\u001b[0m \u001b[38;5;28mself\u001b[39m\u001b[38;5;241m.\u001b[39m_group \u001b[38;5;241m=\u001b[39m group\n\u001b[1;32m    392\u001b[0m \u001b[38;5;28mself\u001b[39m\u001b[38;5;241m.\u001b[39m_mode \u001b[38;5;241m=\u001b[39m mode\n\u001b[0;32m--> 393\u001b[0m \u001b[38;5;28mself\u001b[39m\u001b[38;5;241m.\u001b[39mformat \u001b[38;5;241m=\u001b[39m \u001b[38;5;28;43mself\u001b[39;49m\u001b[38;5;241;43m.\u001b[39;49m\u001b[43mds\u001b[49m\u001b[38;5;241m.\u001b[39mdata_model\n\u001b[1;32m    394\u001b[0m \u001b[38;5;28mself\u001b[39m\u001b[38;5;241m.\u001b[39m_filename \u001b[38;5;241m=\u001b[39m \u001b[38;5;28mself\u001b[39m\u001b[38;5;241m.\u001b[39mds\u001b[38;5;241m.\u001b[39mfilepath()\n\u001b[1;32m    395\u001b[0m \u001b[38;5;28mself\u001b[39m\u001b[38;5;241m.\u001b[39mis_remote \u001b[38;5;241m=\u001b[39m is_remote_uri(\u001b[38;5;28mself\u001b[39m\u001b[38;5;241m.\u001b[39m_filename)\n",
      "File \u001b[0;32m/scratch2/shreyas/mambaforge/envs/py310_LRP/lib/python3.10/site-packages/xarray/backends/netCDF4_.py:461\u001b[0m, in \u001b[0;36mNetCDF4DataStore.ds\u001b[0;34m(self)\u001b[0m\n\u001b[1;32m    459\u001b[0m \u001b[38;5;129m@property\u001b[39m\n\u001b[1;32m    460\u001b[0m \u001b[38;5;28;01mdef\u001b[39;00m \u001b[38;5;21mds\u001b[39m(\u001b[38;5;28mself\u001b[39m):\n\u001b[0;32m--> 461\u001b[0m     \u001b[38;5;28;01mreturn\u001b[39;00m \u001b[38;5;28;43mself\u001b[39;49m\u001b[38;5;241;43m.\u001b[39;49m\u001b[43m_acquire\u001b[49m\u001b[43m(\u001b[49m\u001b[43m)\u001b[49m\n",
      "File \u001b[0;32m/scratch2/shreyas/mambaforge/envs/py310_LRP/lib/python3.10/site-packages/xarray/backends/netCDF4_.py:455\u001b[0m, in \u001b[0;36mNetCDF4DataStore._acquire\u001b[0;34m(self, needs_lock)\u001b[0m\n\u001b[1;32m    454\u001b[0m \u001b[38;5;28;01mdef\u001b[39;00m \u001b[38;5;21m_acquire\u001b[39m(\u001b[38;5;28mself\u001b[39m, needs_lock\u001b[38;5;241m=\u001b[39m\u001b[38;5;28;01mTrue\u001b[39;00m):\n\u001b[0;32m--> 455\u001b[0m     \u001b[38;5;28;01mwith\u001b[39;00m \u001b[38;5;28mself\u001b[39m\u001b[38;5;241m.\u001b[39m_manager\u001b[38;5;241m.\u001b[39macquire_context(needs_lock) \u001b[38;5;28;01mas\u001b[39;00m root:\n\u001b[1;32m    456\u001b[0m         ds \u001b[38;5;241m=\u001b[39m _nc4_require_group(root, \u001b[38;5;28mself\u001b[39m\u001b[38;5;241m.\u001b[39m_group, \u001b[38;5;28mself\u001b[39m\u001b[38;5;241m.\u001b[39m_mode)\n\u001b[1;32m    457\u001b[0m     \u001b[38;5;28;01mreturn\u001b[39;00m ds\n",
      "File \u001b[0;32m/scratch2/shreyas/mambaforge/envs/py310_LRP/lib/python3.10/contextlib.py:135\u001b[0m, in \u001b[0;36m_GeneratorContextManager.__enter__\u001b[0;34m(self)\u001b[0m\n\u001b[1;32m    133\u001b[0m \u001b[38;5;28;01mdel\u001b[39;00m \u001b[38;5;28mself\u001b[39m\u001b[38;5;241m.\u001b[39margs, \u001b[38;5;28mself\u001b[39m\u001b[38;5;241m.\u001b[39mkwds, \u001b[38;5;28mself\u001b[39m\u001b[38;5;241m.\u001b[39mfunc\n\u001b[1;32m    134\u001b[0m \u001b[38;5;28;01mtry\u001b[39;00m:\n\u001b[0;32m--> 135\u001b[0m     \u001b[38;5;28;01mreturn\u001b[39;00m \u001b[38;5;28;43mnext\u001b[39;49m\u001b[43m(\u001b[49m\u001b[38;5;28;43mself\u001b[39;49m\u001b[38;5;241;43m.\u001b[39;49m\u001b[43mgen\u001b[49m\u001b[43m)\u001b[49m\n\u001b[1;32m    136\u001b[0m \u001b[38;5;28;01mexcept\u001b[39;00m \u001b[38;5;167;01mStopIteration\u001b[39;00m:\n\u001b[1;32m    137\u001b[0m     \u001b[38;5;28;01mraise\u001b[39;00m \u001b[38;5;167;01mRuntimeError\u001b[39;00m(\u001b[38;5;124m\"\u001b[39m\u001b[38;5;124mgenerator didn\u001b[39m\u001b[38;5;124m'\u001b[39m\u001b[38;5;124mt yield\u001b[39m\u001b[38;5;124m\"\u001b[39m) \u001b[38;5;28;01mfrom\u001b[39;00m \u001b[38;5;28;01mNone\u001b[39;00m\n",
      "File \u001b[0;32m/scratch2/shreyas/mambaforge/envs/py310_LRP/lib/python3.10/site-packages/xarray/backends/file_manager.py:199\u001b[0m, in \u001b[0;36mCachingFileManager.acquire_context\u001b[0;34m(self, needs_lock)\u001b[0m\n\u001b[1;32m    196\u001b[0m \u001b[38;5;129m@contextlib\u001b[39m\u001b[38;5;241m.\u001b[39mcontextmanager\n\u001b[1;32m    197\u001b[0m \u001b[38;5;28;01mdef\u001b[39;00m \u001b[38;5;21macquire_context\u001b[39m(\u001b[38;5;28mself\u001b[39m, needs_lock\u001b[38;5;241m=\u001b[39m\u001b[38;5;28;01mTrue\u001b[39;00m):\n\u001b[1;32m    198\u001b[0m \u001b[38;5;250m    \u001b[39m\u001b[38;5;124;03m\"\"\"Context manager for acquiring a file.\"\"\"\u001b[39;00m\n\u001b[0;32m--> 199\u001b[0m     file, cached \u001b[38;5;241m=\u001b[39m \u001b[38;5;28;43mself\u001b[39;49m\u001b[38;5;241;43m.\u001b[39;49m\u001b[43m_acquire_with_cache_info\u001b[49m\u001b[43m(\u001b[49m\u001b[43mneeds_lock\u001b[49m\u001b[43m)\u001b[49m\n\u001b[1;32m    200\u001b[0m     \u001b[38;5;28;01mtry\u001b[39;00m:\n\u001b[1;32m    201\u001b[0m         \u001b[38;5;28;01myield\u001b[39;00m file\n",
      "File \u001b[0;32m/scratch2/shreyas/mambaforge/envs/py310_LRP/lib/python3.10/site-packages/xarray/backends/file_manager.py:217\u001b[0m, in \u001b[0;36mCachingFileManager._acquire_with_cache_info\u001b[0;34m(self, needs_lock)\u001b[0m\n\u001b[1;32m    215\u001b[0m     kwargs \u001b[38;5;241m=\u001b[39m kwargs\u001b[38;5;241m.\u001b[39mcopy()\n\u001b[1;32m    216\u001b[0m     kwargs[\u001b[38;5;124m\"\u001b[39m\u001b[38;5;124mmode\u001b[39m\u001b[38;5;124m\"\u001b[39m] \u001b[38;5;241m=\u001b[39m \u001b[38;5;28mself\u001b[39m\u001b[38;5;241m.\u001b[39m_mode\n\u001b[0;32m--> 217\u001b[0m file \u001b[38;5;241m=\u001b[39m \u001b[38;5;28;43mself\u001b[39;49m\u001b[38;5;241;43m.\u001b[39;49m\u001b[43m_opener\u001b[49m\u001b[43m(\u001b[49m\u001b[38;5;241;43m*\u001b[39;49m\u001b[38;5;28;43mself\u001b[39;49m\u001b[38;5;241;43m.\u001b[39;49m\u001b[43m_args\u001b[49m\u001b[43m,\u001b[49m\u001b[43m \u001b[49m\u001b[38;5;241;43m*\u001b[39;49m\u001b[38;5;241;43m*\u001b[39;49m\u001b[43mkwargs\u001b[49m\u001b[43m)\u001b[49m\n\u001b[1;32m    218\u001b[0m \u001b[38;5;28;01mif\u001b[39;00m \u001b[38;5;28mself\u001b[39m\u001b[38;5;241m.\u001b[39m_mode \u001b[38;5;241m==\u001b[39m \u001b[38;5;124m\"\u001b[39m\u001b[38;5;124mw\u001b[39m\u001b[38;5;124m\"\u001b[39m:\n\u001b[1;32m    219\u001b[0m     \u001b[38;5;66;03m# ensure file doesn't get overridden when opened again\u001b[39;00m\n\u001b[1;32m    220\u001b[0m     \u001b[38;5;28mself\u001b[39m\u001b[38;5;241m.\u001b[39m_mode \u001b[38;5;241m=\u001b[39m \u001b[38;5;124m\"\u001b[39m\u001b[38;5;124ma\u001b[39m\u001b[38;5;124m\"\u001b[39m\n",
      "File \u001b[0;32msrc/netCDF4/_netCDF4.pyx:2449\u001b[0m, in \u001b[0;36mnetCDF4._netCDF4.Dataset.__init__\u001b[0;34m()\u001b[0m\n",
      "File \u001b[0;32msrc/netCDF4/_netCDF4.pyx:2012\u001b[0m, in \u001b[0;36mnetCDF4._netCDF4._ensure_nc_success\u001b[0;34m()\u001b[0m\n",
      "\u001b[0;31mFileNotFoundError\u001b[0m: [Errno 2] No such file or directory: '/home/shreyas/update_to_develop_sicopolis/sicopolis_tuneCS_2/sico_out/N_grl40_bm5_paleo17a_nudged_CT4_BH0_SVC_m21ka_pkp/0007.nc'"
     ]
    }
   ],
   "source": [
    "modelPath = '/home/shreyas/update_to_develop_sicopolis/sicopolis_spinups/sico_out/'\n",
    "dataPath = '/scratch2/shreyas/GrIS_paleo_data/'\n",
    "\n",
    "ds_tCS2 = xr.open_dataset(\"/scratch2/shreyas/tCS2/inexact_gn_hessian_cg/state_GNHessCG_iter_21.nc\")\n",
    "ds_model = xr.open_dataset(\"/home/shreyas/update_to_develop_sicopolis/sicopolis_tuneCS_2/sico_out/N_grl40_bm5_paleo17a_nudged_CT4_BH0_SVC_m21ka_pkp/0007.nc\")\n",
    "ds_model_orig = xr.open_dataset(\"/home/shreyas/update_to_develop_sicopolis/sicopolis_spinups/sico_out/grl40_bm5_paleo17a_nudged_CT4_BH0_m21ka_pkp/grl40_bm5_paleo17a_nudged_CT4_BH0_m21ka_pkp0007.nc\")\n",
    "\n",
    "mask_land = ds_model[\"mask\"].data.copy()\n",
    "mask_land[mask_land == 0] = -1\n",
    "mask_land[mask_land == 1] = -1\n",
    "mask_land[mask_land == 2] = 1\n",
    "mask_land[mask_land == 3] = 1\n",
    "\n",
    "mask_ice = ds_model[\"mask\"].data.copy()\n",
    "mask_ice[mask_ice == 0] = -1\n",
    "mask_ice[mask_ice == 3] = -1\n",
    "mask_ice[mask_ice == 1] = 1\n",
    "mask_ice[mask_ice == 2] = 1\n",
    "\n",
    "year2sec = 3.1556925445e+07\n",
    "sec2year = 1 / year2sec\n",
    "\n",
    "n_rows, n_cols = 2, 4\n",
    "aspect_ratio = len(ds_tCS2['x'])/len(ds_tCS2['y'])\n",
    "subplot_width = 4\n",
    "subplot_height = subplot_width / aspect_ratio\n",
    "plt.rcParams[\"figure.figsize\"] = ((n_cols+1.0)*subplot_width, n_rows*subplot_height)\n",
    "fig, ax = plt.subplots(n_rows, n_cols)\n",
    "\n",
    "vx_data = ds_surfvel_40kms[\"vx\"].data.copy()\n",
    "vx_data[vx_data < -0.5e9] = np.nan\n",
    "fancyPlotter.plot_log(ds_tCS2['x'], ds_tCS2['y'], \n",
    "                      vx_data, \n",
    "                      cmap = 'RdBu_r', nbins = None, bin_edges = [0, 1, 2, 3, 4], \n",
    "                      fig = fig, ax = ax[0, 0])\n",
    "ax[0, 0].contour(ds_tCS2['x'], \n",
    "                 ds_tCS2['y'],\n",
    "                 mask_land, levels=[0], color=\"black\")\n",
    "ax[0, 0].contour(ds_tCS2['x'], \n",
    "                 ds_tCS2['y'],\n",
    "                 mask_ice, levels=[0], color=\"black\", linestyles = \"dashed\")\n",
    "\n",
    "\n",
    "fancyPlotter.plot_log(ds_tCS2['x'], ds_tCS2['y'], \n",
    "                      ds_model_orig[\"vx_s_g\"].data, \n",
    "                      cmap = 'RdBu_r', nbins = None, bin_edges = [0, 1, 2, 3, 4], \n",
    "                      fig = fig, ax = ax[0, 1])\n",
    "ax[0, 1].contour(ds_tCS2['x'], \n",
    "                 ds_tCS2['y'],\n",
    "                 mask_land, levels=[0], color=\"black\")\n",
    "ax[0, 1].contour(ds_tCS2['x'], \n",
    "                 ds_tCS2['y'],\n",
    "                 mask_ice, levels=[0], color=\"black\", linestyles = \"dashed\")\n",
    "\n",
    "fancyPlotter.plot_log(ds_tCS2['x'], ds_tCS2['y'], \n",
    "                      ds_model[\"vx_s_g\"].data, \n",
    "                      cmap = 'RdBu_r', nbins = None, bin_edges = [0, 1, 2, 3, 4], \n",
    "                      fig = fig, ax = ax[0, 2])\n",
    "ax[0, 2].contour(ds_tCS2['x'], \n",
    "                 ds_tCS2['y'],\n",
    "                 mask_land, levels=[0], color=\"black\")\n",
    "ax[0, 2].contour(ds_tCS2['x'], \n",
    "                 ds_tCS2['y'],\n",
    "                 mask_ice, levels=[0], color=\"black\", linestyles = \"dashed\")\n",
    "\n",
    "fancyPlotter.plot_log(ds_tCS2['x'], ds_tCS2['y'], \n",
    "                      ds_model[\"vx_s_g\"].data - ds_model_orig[\"vx_s_g\"].data, \n",
    "                      cmap = 'RdBu_r', nbins = None, bin_edges = [0, 1, 2, 3, 4], \n",
    "                      fig = fig, ax = ax[0, 3])\n",
    "ax[0, 3].contour(ds_tCS2['x'], \n",
    "                 ds_tCS2['y'],\n",
    "                 mask_land, levels=[0], color=\"black\")\n",
    "ax[0, 3].contour(ds_tCS2['x'], \n",
    "                 ds_tCS2['y'],\n",
    "                 mask_ice, levels=[0], color=\"black\", linestyles = \"dashed\")\n",
    "\n",
    "vy_data = ds_surfvel_40kms[\"vy\"].data.copy()\n",
    "vy_data[vy_data < -0.5e9] = np.nan\n",
    "fancyPlotter.plot_log(ds_tCS2['x'], ds_tCS2['y'], \n",
    "                      vy_data, \n",
    "                      cmap = 'RdBu_r', nbins = None, bin_edges = [0, 1, 2, 3, 4], \n",
    "                      fig = fig, ax = ax[1, 0])\n",
    "ax[1, 0].contour(ds_tCS2['x'], \n",
    "                 ds_tCS2['y'],\n",
    "                 mask_land, levels=[0], color=\"black\")\n",
    "ax[1, 0].contour(ds_tCS2['x'], \n",
    "                 ds_tCS2['y'],\n",
    "                 mask_ice, levels=[0], color=\"black\", linestyles = \"dashed\")\n",
    "\n",
    "\n",
    "fancyPlotter.plot_log(ds_tCS2['x'], ds_tCS2['y'], \n",
    "                      ds_model_orig[\"vy_s_g\"].data, \n",
    "                      cmap = 'RdBu_r', nbins = None, bin_edges = [0, 1, 2, 3, 4], \n",
    "                      fig = fig, ax = ax[1, 1])\n",
    "ax[1, 1].contour(ds_tCS2['x'], \n",
    "                 ds_tCS2['y'],\n",
    "                 mask_land, levels=[0], color=\"black\")\n",
    "ax[1, 1].contour(ds_tCS2['x'], \n",
    "                 ds_tCS2['y'],\n",
    "                 mask_ice, levels=[0], color=\"black\", linestyles = \"dashed\")\n",
    "\n",
    "fancyPlotter.plot_log(ds_tCS2['x'], ds_tCS2['y'], \n",
    "                      ds_model[\"vy_s_g\"].data, \n",
    "                      cmap = 'RdBu_r', nbins = None, bin_edges = [0, 1, 2, 3, 4], \n",
    "                      fig = fig, ax = ax[1, 2])\n",
    "ax[1, 2].contour(ds_tCS2['x'], \n",
    "                 ds_tCS2['y'],\n",
    "                 mask_land, levels=[0], color=\"black\")\n",
    "ax[1, 2].contour(ds_tCS2['x'], \n",
    "                 ds_tCS2['y'],\n",
    "                 mask_ice, levels=[0], color=\"black\", linestyles = \"dashed\")\n",
    "\n",
    "fancyPlotter.plot_log(ds_tCS2['x'], ds_tCS2['y'], \n",
    "                      ds_model[\"vy_s_g\"].data - ds_model_orig[\"vy_s_g\"].data, \n",
    "                      cmap = 'RdBu_r', nbins = None, bin_edges = [0, 1, 2, 3, 4], \n",
    "                      fig = fig, ax = ax[1, 3])\n",
    "ax[1, 3].contour(ds_tCS2['x'], \n",
    "                 ds_tCS2['y'],\n",
    "                 mask_land, levels=[0], color=\"black\")\n",
    "ax[1, 3].contour(ds_tCS2['x'], \n",
    "                 ds_tCS2['y'],\n",
    "                 mask_ice, levels=[0], color=\"black\", linestyles = \"dashed\")\n",
    "\n",
    "plt.tight_layout()"
   ]
  },
  {
   "cell_type": "code",
   "execution_count": null,
   "id": "da6c9966-1d80-4275-8f79-ad246674bd99",
   "metadata": {},
   "outputs": [],
   "source": [
    "0.5*np.sum((ds_surfvel_40kms[\"vx\"].data - ds_model_orig[\"vx_s_g\"].data)**2/ ds_surfvel_40kms[\"vx_uncert\"].data**2), 0.5*np.sum((ds_surfvel_40kms[\"vy\"].data - ds_model_orig[\"vy_s_g\"].data)**2/ ds_surfvel_40kms[\"vy_uncert\"].data**2)"
   ]
  },
  {
   "cell_type": "code",
   "execution_count": null,
   "id": "07fdbd5a-d3b3-434a-86b7-2a8cd08af234",
   "metadata": {},
   "outputs": [],
   "source": [
    "0.5*np.sum((ds_surfvel_40kms[\"vx\"].data - ds_model[\"vx_s_g\"].data)**2/ ds_surfvel_40kms[\"vx_uncert\"].data**2), 0.5*np.sum((ds_surfvel_40kms[\"vy\"].data - ds_model[\"vy_s_g\"].data)**2/ ds_surfvel_40kms[\"vy_uncert\"].data**2)"
   ]
  },
  {
   "cell_type": "code",
   "execution_count": 4,
   "id": "1f147ad0-e8b4-44f5-819b-23669b521f86",
   "metadata": {},
   "outputs": [
    {
     "ename": "NameError",
     "evalue": "name 'mask_land' is not defined",
     "output_type": "error",
     "traceback": [
      "\u001b[0;31m---------------------------------------------------------------------------\u001b[0m",
      "\u001b[0;31mNameError\u001b[0m                                 Traceback (most recent call last)",
      "Cell \u001b[0;32mIn[4], line 14\u001b[0m\n\u001b[1;32m      6\u001b[0m fig, ax \u001b[38;5;241m=\u001b[39m plt\u001b[38;5;241m.\u001b[39msubplots(n_rows, n_cols)\n\u001b[1;32m      8\u001b[0m fancyPlotter\u001b[38;5;241m.\u001b[39mplot_normal(ds_tCS2[\u001b[38;5;124m'\u001b[39m\u001b[38;5;124mx\u001b[39m\u001b[38;5;124m'\u001b[39m], ds_tCS2[\u001b[38;5;124m'\u001b[39m\u001b[38;5;124my\u001b[39m\u001b[38;5;124m'\u001b[39m], \n\u001b[1;32m      9\u001b[0m                          \u001b[38;5;241m10\u001b[39m\u001b[38;5;241m*\u001b[39m\u001b[38;5;241m*\u001b[39mds_tCS2[\u001b[38;5;124m\"\u001b[39m\u001b[38;5;124mxx_c_slide_init\u001b[39m\u001b[38;5;124m\"\u001b[39m],\n\u001b[1;32m     10\u001b[0m                          cmap \u001b[38;5;241m=\u001b[39m \u001b[38;5;124m'\u001b[39m\u001b[38;5;124mjet\u001b[39m\u001b[38;5;124m'\u001b[39m, vmin \u001b[38;5;241m=\u001b[39m \u001b[38;5;241m2\u001b[39m, vmax \u001b[38;5;241m=\u001b[39m \u001b[38;5;241m15\u001b[39m,\n\u001b[1;32m     11\u001b[0m                          cbar_label \u001b[38;5;241m=\u001b[39m \u001b[38;5;124m'\u001b[39m\u001b[38;5;124mtCS2\u001b[39m\u001b[38;5;124m'\u001b[39m, fig \u001b[38;5;241m=\u001b[39m fig, ax \u001b[38;5;241m=\u001b[39m ax)\n\u001b[1;32m     12\u001b[0m ax\u001b[38;5;241m.\u001b[39mcontour(ds_tCS2[\u001b[38;5;124m'\u001b[39m\u001b[38;5;124mx\u001b[39m\u001b[38;5;124m'\u001b[39m], \n\u001b[1;32m     13\u001b[0m            ds_tCS2[\u001b[38;5;124m'\u001b[39m\u001b[38;5;124my\u001b[39m\u001b[38;5;124m'\u001b[39m],\n\u001b[0;32m---> 14\u001b[0m            \u001b[43mmask_land\u001b[49m, levels\u001b[38;5;241m=\u001b[39m[\u001b[38;5;241m0\u001b[39m], color\u001b[38;5;241m=\u001b[39m\u001b[38;5;124m\"\u001b[39m\u001b[38;5;124mblack\u001b[39m\u001b[38;5;124m\"\u001b[39m)\n\u001b[1;32m     15\u001b[0m ax\u001b[38;5;241m.\u001b[39mcontour(ds_tCS2[\u001b[38;5;124m'\u001b[39m\u001b[38;5;124mx\u001b[39m\u001b[38;5;124m'\u001b[39m], \n\u001b[1;32m     16\u001b[0m            ds_tCS2[\u001b[38;5;124m'\u001b[39m\u001b[38;5;124my\u001b[39m\u001b[38;5;124m'\u001b[39m],\n\u001b[1;32m     17\u001b[0m            mask_ice, levels\u001b[38;5;241m=\u001b[39m[\u001b[38;5;241m0\u001b[39m], color\u001b[38;5;241m=\u001b[39m\u001b[38;5;124m\"\u001b[39m\u001b[38;5;124mblack\u001b[39m\u001b[38;5;124m\"\u001b[39m, linestyles \u001b[38;5;241m=\u001b[39m \u001b[38;5;124m\"\u001b[39m\u001b[38;5;124mdashed\u001b[39m\u001b[38;5;124m\"\u001b[39m)\n",
      "\u001b[0;31mNameError\u001b[0m: name 'mask_land' is not defined"
     ]
    },
    {
     "data": {
      "image/png": "[encoded data removed]",
      "text/plain": [
       "<Figure size 400x679.07 with 2 Axes>"
      ]
     },
     "metadata": {},
     "output_type": "display_data"
    }
   ],
   "source": [
    "n_rows, n_cols = 1, 1\n",
    "aspect_ratio = len(ds_tCS2['x'])/len(ds_tCS2['y'])\n",
    "subplot_width = 4\n",
    "subplot_height = subplot_width / aspect_ratio\n",
    "plt.rcParams[\"figure.figsize\"] = ((n_cols)*subplot_width, n_rows*subplot_height)\n",
    "fig, ax = plt.subplots(n_rows, n_cols)\n",
    "\n",
    "fancyPlotter.plot_normal(ds_tCS2['x'], ds_tCS2['y'], \n",
    "                         10**ds_tCS2[\"xx_c_slide_init\"],\n",
    "                         cmap = 'jet', vmin = 2, vmax = 15,\n",
    "                         cbar_label = 'tCS2', fig = fig, ax = ax)\n",
    "ax.contour(ds_tCS2['x'], \n",
    "           ds_tCS2['y'],\n",
    "           mask_land, levels=[0], color=\"black\")\n",
    "ax.contour(ds_tCS2['x'], \n",
    "           ds_tCS2['y'],\n",
    "           mask_ice, levels=[0], color=\"black\", linestyles = \"dashed\")"
   ]
  },
  {
   "cell_type": "code",
   "execution_count": null,
   "id": "2f01a9ed-b427-4ee7-bbfb-ccb3672019c4",
   "metadata": {},
   "outputs": [],
   "source": [
    "modelPath = '/home/shreyas/update_to_develop_sicopolis/sicopolis_spinups/sico_out/'\n",
    "dataPath = '/scratch2/shreyas/GrIS_paleo_data/'\n",
    "\n",
    "ds_A1_0 = xr.open_dataset(\"/scratch2/shreyas/tA1/inexact_gn_hessian_cg/state_GNHessCG_iter_0.nc\")\n",
    "ds_A1 = xr.open_dataset(\"/scratch2/shreyas/tA1/inexact_gn_hessian_cg/state_GNHessCG_iter_4.nc\")"
   ]
  },
  {
   "cell_type": "code",
   "execution_count": null,
   "id": "f7ac47fa-4652-4ec2-9a6a-54f45c3c803d",
   "metadata": {},
   "outputs": [],
   "source": [
    "ds_A1"
   ]
  },
  {
   "cell_type": "code",
   "execution_count": null,
   "id": "a0a3ae81-05fd-4fbb-b04b-bbc297e077f2",
   "metadata": {},
   "outputs": [],
   "source": [
    "n_rows, n_cols = 1, 1\n",
    "aspect_ratio = len(ds_tCS2['x'])/len(ds_tCS2['y'])\n",
    "subplot_width = 4\n",
    "subplot_height = subplot_width / aspect_ratio\n",
    "plt.rcParams[\"figure.figsize\"] = ((n_cols)*subplot_width, n_rows*subplot_height)\n",
    "fig, ax = plt.subplots(n_rows, n_cols)\n",
    "\n",
    "fancyPlotter.plot_normal(ds_tCS2['x'], ds_tCS2['y'], \n",
    "                         ds_A1[\"xx_delta_tda\"][1],\n",
    "                         cmap = 'jet',\n",
    "                         cbar_label = 'tCS2', fig = fig, ax = ax)"
   ]
  },
  {
   "cell_type": "code",
   "execution_count": null,
   "id": "1b56ab56-a36d-49de-8d62-b573501e797d",
   "metadata": {},
   "outputs": [],
   "source": []
  }
 ],
 "metadata": {
  "kernelspec": {
   "display_name": "py310_LRP",
   "language": "python",
   "name": "py310_lrp"
  },
  "language_info": {
   "codemirror_mode": {
    "name": "ipython",
    "version": 3
   },
   "file_extension": ".py",
   "mimetype": "text/x-python",
   "name": "python",
   "nbconvert_exporter": "python",
   "pygments_lexer": "ipython3",
   "version": "3.10.8"
  }
 },
 "nbformat": 4,
 "nbformat_minor": 5
}
