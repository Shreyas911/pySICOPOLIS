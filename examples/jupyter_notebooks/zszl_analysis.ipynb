{
 "cells": [
  {
   "cell_type": "code",
   "execution_count": 1,
   "id": "39db47fb-a98e-42d3-b165-37b331ceb53d",
   "metadata": {},
   "outputs": [],
   "source": [
    "# HPC\n",
    "import netCDF4 as nc\n",
    "import numpy as np\n",
    "import xarray as xr\n",
    "\n",
    "# Plotting\n",
    "import matplotlib.pyplot as plt\n",
    "import matplotlib.tri as tri\n",
    "from mpl_toolkits.axes_grid1 import make_axes_locatable\n",
    "from matplotlib.ticker import FormatStrFormatter\n",
    "\n",
    "# Paths and stuff\n",
    "import os\n",
    "import sys\n",
    "\n",
    "sys.path.append('/home/shreyas/pySICOPOLIS/src')\n",
    "from pySICOPOLIS import *"
   ]
  },
  {
   "cell_type": "code",
   "execution_count": 2,
   "id": "7b65e644-63f4-45d4-8efc-708e50e85834",
   "metadata": {},
   "outputs": [],
   "source": [
    "### Load data\n",
    "\n",
    "dataPath = '/scratch2/shreyas/GrIS_paleo_data/'\n",
    "ds_temp = xr.open_dataset(dataPath + 'RDBTS4_Greenland_1993_2017_02_basal_thermal_state.nc')\n",
    "ds_vel  = xr.open_dataset(dataPath + 'RDGBV4_Greenland_1993_2013_01_balance_velocity_9ka.nc')\n",
    "ds_bm5  = xr.open_dataset(dataPath + 'BedMachineGreenland-v5.nc')\n",
    "ds_age  = xr.open_dataset(dataPath + 'RRRAG4_Greenland_1993_2013_01_age_grid.nc')\n",
    "ds_bm5_40kms = xr.load_dataset(\"/scratch2/shreyas/GrIS_paleo_data/bm5_data_40kms.nc\")\n",
    "ds_fake_bm5_40kms = xr.load_dataset(\"/scratch2/shreyas/GrIS_paleo_data/fake_bm5_data_40kms.nc\")\n",
    "\n",
    "# Convert metres to kms\n",
    "ds_bm5['x'] = ds_bm5['x']*0.001\n",
    "ds_bm5['y'] = ds_bm5['y']*0.001\n",
    "ds_temp['x'] = ds_temp['x']*0.001\n",
    "ds_temp['y'] = ds_temp['y']*0.001\n",
    "\n",
    "### Load model outputs\n",
    "\n",
    "modelPath = '/home/shreyas/update_to_develop_sicopolis/sicopolis_spinups/sico_out/grl40_bm5_paleo17a_CT4_BH0_8point5CS_spinup_0ka/'\n",
    "ds_model = xr.open_dataset(modelPath + 'grl40_bm5_paleo17a_CT4_BH0_8point5CS_spinup_0ka0011.nc')\n",
    "ds_model_nudged = xr.open_dataset(\"/home/shreyas/update_to_develop_sicopolis/sicopolis_spinups/sico_out/grl40_bm5_spinup02_smooth_100a/grl40_bm5_spinup02_smooth_100a0001.nc\")"
   ]
  },
  {
   "cell_type": "code",
   "execution_count": 3,
   "id": "275f8309-adff-4084-842f-d21d6170829e",
   "metadata": {},
   "outputs": [
    {
     "ename": "KeyError",
     "evalue": "\"No variable named 'xModel'. Variables on the dataset include ['mapping', 'x', 'y', 'zs', 'zb', ..., 'zl_uncert_unbounded', 'H_uncert_unbounded', 'zl_uncert', 'H_uncert', 'zs_uncert']\"",
     "output_type": "error",
     "traceback": [
      "\u001b[0;31m---------------------------------------------------------------------------\u001b[0m",
      "\u001b[0;31mKeyError\u001b[0m                                  Traceback (most recent call last)",
      "\u001b[0;32m/scratch2/shreyas/mambaforge/envs/py310_LRP/lib/python3.10/site-packages/xarray/core/dataset.py\u001b[0m in \u001b[0;36m?\u001b[0;34m(self, name)\u001b[0m\n\u001b[1;32m   1511\u001b[0m             \u001b[0mvariable\u001b[0m \u001b[0;34m=\u001b[0m \u001b[0mself\u001b[0m\u001b[0;34m.\u001b[0m\u001b[0m_variables\u001b[0m\u001b[0;34m[\u001b[0m\u001b[0mname\u001b[0m\u001b[0;34m]\u001b[0m\u001b[0;34m\u001b[0m\u001b[0;34m\u001b[0m\u001b[0m\n\u001b[1;32m   1512\u001b[0m         \u001b[0;32mexcept\u001b[0m \u001b[0mKeyError\u001b[0m\u001b[0;34m:\u001b[0m\u001b[0;34m\u001b[0m\u001b[0;34m\u001b[0m\u001b[0m\n\u001b[0;32m-> 1513\u001b[0;31m             \u001b[0m_\u001b[0m\u001b[0;34m,\u001b[0m \u001b[0mname\u001b[0m\u001b[0;34m,\u001b[0m \u001b[0mvariable\u001b[0m \u001b[0;34m=\u001b[0m \u001b[0m_get_virtual_variable\u001b[0m\u001b[0;34m(\u001b[0m\u001b[0mself\u001b[0m\u001b[0;34m.\u001b[0m\u001b[0m_variables\u001b[0m\u001b[0;34m,\u001b[0m \u001b[0mname\u001b[0m\u001b[0;34m,\u001b[0m \u001b[0mself\u001b[0m\u001b[0;34m.\u001b[0m\u001b[0msizes\u001b[0m\u001b[0;34m)\u001b[0m\u001b[0;34m\u001b[0m\u001b[0;34m\u001b[0m\u001b[0m\n\u001b[0m\u001b[1;32m   1514\u001b[0m \u001b[0;34m\u001b[0m\u001b[0m\n",
      "\u001b[0;31mKeyError\u001b[0m: 'xModel'",
      "\nDuring handling of the above exception, another exception occurred:\n",
      "\u001b[0;31mKeyError\u001b[0m                                  Traceback (most recent call last)",
      "\u001b[0;32m/scratch2/shreyas/mambaforge/envs/py310_LRP/lib/python3.10/site-packages/xarray/core/dataset.py\u001b[0m in \u001b[0;36m?\u001b[0;34m(self, key)\u001b[0m\n\u001b[1;32m   1614\u001b[0m                 \u001b[0;32mif\u001b[0m \u001b[0misinstance\u001b[0m\u001b[0;34m(\u001b[0m\u001b[0mkey\u001b[0m\u001b[0;34m,\u001b[0m \u001b[0mtuple\u001b[0m\u001b[0;34m)\u001b[0m\u001b[0;34m:\u001b[0m\u001b[0;34m\u001b[0m\u001b[0;34m\u001b[0m\u001b[0m\n\u001b[1;32m   1615\u001b[0m                     \u001b[0mmessage\u001b[0m \u001b[0;34m+=\u001b[0m \u001b[0;34mf\"\\nHint: use a list to select multiple variables, for example `ds[{list(key)}]`\"\u001b[0m\u001b[0;34m\u001b[0m\u001b[0;34m\u001b[0m\u001b[0m\n\u001b[0;32m-> 1616\u001b[0;31m                 \u001b[0;32mraise\u001b[0m \u001b[0mKeyError\u001b[0m\u001b[0;34m(\u001b[0m\u001b[0mmessage\u001b[0m\u001b[0;34m)\u001b[0m \u001b[0;32mfrom\u001b[0m \u001b[0me\u001b[0m\u001b[0;34m\u001b[0m\u001b[0;34m\u001b[0m\u001b[0m\n\u001b[0m\u001b[1;32m   1617\u001b[0m \u001b[0;34m\u001b[0m\u001b[0m\n",
      "\u001b[0;32m/scratch2/shreyas/mambaforge/envs/py310_LRP/lib/python3.10/site-packages/xarray/core/dataset.py\u001b[0m in \u001b[0;36m?\u001b[0;34m(self, name)\u001b[0m\n\u001b[1;32m   1511\u001b[0m             \u001b[0mvariable\u001b[0m \u001b[0;34m=\u001b[0m \u001b[0mself\u001b[0m\u001b[0;34m.\u001b[0m\u001b[0m_variables\u001b[0m\u001b[0;34m[\u001b[0m\u001b[0mname\u001b[0m\u001b[0;34m]\u001b[0m\u001b[0;34m\u001b[0m\u001b[0;34m\u001b[0m\u001b[0m\n\u001b[1;32m   1512\u001b[0m         \u001b[0;32mexcept\u001b[0m \u001b[0mKeyError\u001b[0m\u001b[0;34m:\u001b[0m\u001b[0;34m\u001b[0m\u001b[0;34m\u001b[0m\u001b[0m\n\u001b[0;32m-> 1513\u001b[0;31m             \u001b[0m_\u001b[0m\u001b[0;34m,\u001b[0m \u001b[0mname\u001b[0m\u001b[0;34m,\u001b[0m \u001b[0mvariable\u001b[0m \u001b[0;34m=\u001b[0m \u001b[0m_get_virtual_variable\u001b[0m\u001b[0;34m(\u001b[0m\u001b[0mself\u001b[0m\u001b[0;34m.\u001b[0m\u001b[0m_variables\u001b[0m\u001b[0;34m,\u001b[0m \u001b[0mname\u001b[0m\u001b[0;34m,\u001b[0m \u001b[0mself\u001b[0m\u001b[0;34m.\u001b[0m\u001b[0msizes\u001b[0m\u001b[0;34m)\u001b[0m\u001b[0;34m\u001b[0m\u001b[0;34m\u001b[0m\u001b[0m\n\u001b[0m\u001b[1;32m   1514\u001b[0m \u001b[0;34m\u001b[0m\u001b[0m\n",
      "\u001b[0;32m/scratch2/shreyas/mambaforge/envs/py310_LRP/lib/python3.10/site-packages/xarray/core/dataset.py\u001b[0m in \u001b[0;36m?\u001b[0;34m(variables, key, dim_sizes)\u001b[0m\n\u001b[1;32m    218\u001b[0m     \u001b[0msplit_key\u001b[0m \u001b[0;34m=\u001b[0m \u001b[0mkey\u001b[0m\u001b[0;34m.\u001b[0m\u001b[0msplit\u001b[0m\u001b[0;34m(\u001b[0m\u001b[0;34m\".\"\u001b[0m\u001b[0;34m,\u001b[0m \u001b[0;36m1\u001b[0m\u001b[0;34m)\u001b[0m\u001b[0;34m\u001b[0m\u001b[0;34m\u001b[0m\u001b[0m\n\u001b[1;32m    219\u001b[0m     \u001b[0;32mif\u001b[0m \u001b[0mlen\u001b[0m\u001b[0;34m(\u001b[0m\u001b[0msplit_key\u001b[0m\u001b[0;34m)\u001b[0m \u001b[0;34m!=\u001b[0m \u001b[0;36m2\u001b[0m\u001b[0;34m:\u001b[0m\u001b[0;34m\u001b[0m\u001b[0;34m\u001b[0m\u001b[0m\n\u001b[0;32m--> 220\u001b[0;31m         \u001b[0;32mraise\u001b[0m \u001b[0mKeyError\u001b[0m\u001b[0;34m(\u001b[0m\u001b[0mkey\u001b[0m\u001b[0;34m)\u001b[0m\u001b[0;34m\u001b[0m\u001b[0;34m\u001b[0m\u001b[0m\n\u001b[0m\u001b[1;32m    221\u001b[0m \u001b[0;34m\u001b[0m\u001b[0m\n",
      "\u001b[0;31mKeyError\u001b[0m: 'xModel'",
      "\nThe above exception was the direct cause of the following exception:\n",
      "\u001b[0;31mKeyError\u001b[0m                                  Traceback (most recent call last)",
      "\u001b[0;32m/tmp/ipykernel_180987/3572475479.py\u001b[0m in \u001b[0;36m?\u001b[0;34m()\u001b[0m\n\u001b[1;32m      7\u001b[0m \u001b[0;34m\u001b[0m\u001b[0m\n\u001b[1;32m      8\u001b[0m \u001b[0;32mfor\u001b[0m \u001b[0maxis\u001b[0m \u001b[0;32min\u001b[0m \u001b[0max\u001b[0m\u001b[0;34m.\u001b[0m\u001b[0mflatten\u001b[0m\u001b[0;34m(\u001b[0m\u001b[0;34m)\u001b[0m\u001b[0;34m:\u001b[0m\u001b[0;34m\u001b[0m\u001b[0;34m\u001b[0m\u001b[0m\n\u001b[1;32m      9\u001b[0m     \u001b[0maxis\u001b[0m\u001b[0;34m.\u001b[0m\u001b[0mset_box_aspect\u001b[0m\u001b[0;34m(\u001b[0m\u001b[0;36m1\u001b[0m\u001b[0;34m/\u001b[0m\u001b[0maspect_ratio\u001b[0m\u001b[0;34m)\u001b[0m\u001b[0;34m\u001b[0m\u001b[0;34m\u001b[0m\u001b[0m\n\u001b[1;32m     10\u001b[0m \u001b[0;34m\u001b[0m\u001b[0m\n\u001b[0;32m---> 11\u001b[0;31m fancyPlotter.plot_normal(ds_bm5_40kms['xModel'], ds_bm5_40kms['yModel'], \n\u001b[0m\u001b[1;32m     12\u001b[0m                          \u001b[0mds_bm5_40kms\u001b[0m\u001b[0;34m[\u001b[0m\u001b[0;34m'H'\u001b[0m\u001b[0;34m]\u001b[0m\u001b[0;34m.\u001b[0m\u001b[0mdata\u001b[0m\u001b[0;34m-\u001b[0m\u001b[0mds_model\u001b[0m\u001b[0;34m[\u001b[0m\u001b[0;34m'H'\u001b[0m\u001b[0;34m]\u001b[0m\u001b[0;34m.\u001b[0m\u001b[0mdata\u001b[0m\u001b[0;34m,\u001b[0m\u001b[0;34m\u001b[0m\u001b[0;34m\u001b[0m\u001b[0m\n\u001b[1;32m     13\u001b[0m                          cmap = 'jet', nbins = 100, fig = fig, ax = ax[0, 0])\n\u001b[1;32m     14\u001b[0m \u001b[0;34m\u001b[0m\u001b[0m\n",
      "\u001b[0;32m/scratch2/shreyas/mambaforge/envs/py310_LRP/lib/python3.10/site-packages/xarray/core/dataset.py\u001b[0m in \u001b[0;36m?\u001b[0;34m(self, key)\u001b[0m\n\u001b[1;32m   1612\u001b[0m                 \u001b[0mmessage\u001b[0m \u001b[0;34m=\u001b[0m \u001b[0;34mf\"No variable named {key!r}. Variables on the dataset include {shorten_list_repr(list(self.variables.keys()), max_items=10)}\"\u001b[0m\u001b[0;34m\u001b[0m\u001b[0;34m\u001b[0m\u001b[0m\n\u001b[1;32m   1613\u001b[0m                 \u001b[0;31m# If someone attempts `ds['foo' , 'bar']` instead of `ds[['foo', 'bar']]`\u001b[0m\u001b[0;34m\u001b[0m\u001b[0;34m\u001b[0m\u001b[0m\n\u001b[1;32m   1614\u001b[0m                 \u001b[0;32mif\u001b[0m \u001b[0misinstance\u001b[0m\u001b[0;34m(\u001b[0m\u001b[0mkey\u001b[0m\u001b[0;34m,\u001b[0m \u001b[0mtuple\u001b[0m\u001b[0;34m)\u001b[0m\u001b[0;34m:\u001b[0m\u001b[0;34m\u001b[0m\u001b[0;34m\u001b[0m\u001b[0m\n\u001b[1;32m   1615\u001b[0m                     \u001b[0mmessage\u001b[0m \u001b[0;34m+=\u001b[0m \u001b[0;34mf\"\\nHint: use a list to select multiple variables, for example `ds[{list(key)}]`\"\u001b[0m\u001b[0;34m\u001b[0m\u001b[0;34m\u001b[0m\u001b[0m\n\u001b[0;32m-> 1616\u001b[0;31m                 \u001b[0;32mraise\u001b[0m \u001b[0mKeyError\u001b[0m\u001b[0;34m(\u001b[0m\u001b[0mmessage\u001b[0m\u001b[0;34m)\u001b[0m \u001b[0;32mfrom\u001b[0m \u001b[0me\u001b[0m\u001b[0;34m\u001b[0m\u001b[0;34m\u001b[0m\u001b[0m\n\u001b[0m\u001b[1;32m   1617\u001b[0m \u001b[0;34m\u001b[0m\u001b[0m\n\u001b[1;32m   1618\u001b[0m         \u001b[0;32mif\u001b[0m \u001b[0mutils\u001b[0m\u001b[0;34m.\u001b[0m\u001b[0miterable_of_hashable\u001b[0m\u001b[0;34m(\u001b[0m\u001b[0mkey\u001b[0m\u001b[0;34m)\u001b[0m\u001b[0;34m:\u001b[0m\u001b[0;34m\u001b[0m\u001b[0;34m\u001b[0m\u001b[0m\n\u001b[1;32m   1619\u001b[0m             \u001b[0;32mreturn\u001b[0m \u001b[0mself\u001b[0m\u001b[0;34m.\u001b[0m\u001b[0m_copy_listed\u001b[0m\u001b[0;34m(\u001b[0m\u001b[0mkey\u001b[0m\u001b[0;34m)\u001b[0m\u001b[0;34m\u001b[0m\u001b[0;34m\u001b[0m\u001b[0m\n",
      "\u001b[0;31mKeyError\u001b[0m: \"No variable named 'xModel'. Variables on the dataset include ['mapping', 'x', 'y', 'zs', 'zb', ..., 'zl_uncert_unbounded', 'H_uncert_unbounded', 'zl_uncert', 'H_uncert', 'zs_uncert']\""
     ]
    },
    {
     "data": {
      "image/png": "[encoded data removed]",
      "text/plain": [
       "<Figure size 1100x1358.14 with 4 Axes>"
      ]
     },
     "metadata": {},
     "output_type": "display_data"
    }
   ],
   "source": [
    "n_rows, n_cols = 2, 2\n",
    "aspect_ratio = len(ds_model['x'])/len(ds_model['y'])\n",
    "subplot_width = 4\n",
    "subplot_height = subplot_width / aspect_ratio\n",
    "plt.rcParams[\"figure.figsize\"] = ((n_cols+0.75)*subplot_width, n_rows*subplot_height)\n",
    "fig, ax = plt.subplots(n_rows, n_cols)\n",
    "\n",
    "for axis in ax.flatten():\n",
    "    axis.set_box_aspect(1/aspect_ratio)\n",
    "\n",
    "fancyPlotter.plot_normal(ds_bm5_40kms['xModel'], ds_bm5_40kms['yModel'], \n",
    "                         ds_bm5_40kms['H'].data-ds_model['H'].data,\n",
    "                         cmap = 'jet', nbins = 100, fig = fig, ax = ax[0, 0])\n",
    "\n",
    "fancyPlotter.plot_normal(ds_bm5_40kms['xModel'], ds_bm5_40kms['yModel'], \n",
    "                         ds_fake_bm5_40kms['zl'].data >= 0,\n",
    "                         cmap = 'jet', nbins = 100, fig = fig, ax = ax[0, 1])\n",
    "\n",
    "fancyPlotter.plot_normal(ds_bm5_40kms['xModel'], ds_bm5_40kms['yModel'], \n",
    "                         ds_bm5_40kms['H'].data-ds_model[\"H\"].data,\n",
    "                         cmap = 'jet', vmin = -1000, vmax = 1000, nbins = 100, fig = fig, ax = ax[1, 0])\n",
    "\n",
    "fancyPlotter.plot_normal(ds_bm5_40kms['xModel'], ds_bm5_40kms['yModel'], \n",
    "                         ds_bm5_40kms['H'].data-ds_model_nudged[\"H\"].data,\n",
    "                         cmap = 'jet', vmin = -1000, vmax = 1000, nbins = 100, fig = fig, ax = ax[1, 1])\n",
    "\n",
    "plt.tight_layout()"
   ]
  },
  {
   "cell_type": "code",
   "execution_count": null,
   "id": "b5a1d517-13e4-4b2d-858b-0001d2336ff4",
   "metadata": {},
   "outputs": [],
   "source": [
    "costs = 0.5*(ds_model[\"H\"].data - ds_bm5_40kms[\"H\"].data)**2/ds_bm5_40kms[\"H_uncert\"].data**2 * (ds_bm5_40kms[\"H\"].data >= 0)\n",
    "cost = np.sum(costs)\n",
    "cost"
   ]
  },
  {
   "cell_type": "code",
   "execution_count": null,
   "id": "bfe76307-cd9e-4e17-a842-1fddf54a8771",
   "metadata": {},
   "outputs": [],
   "source": [
    "costs = 0.5*(ds_model[\"zl\"].data - ds_bm5_40kms[\"zl\"].data)**2/ds_bm5_40kms[\"zl_uncert\"].data**2 * (ds_bm5_40kms[\"H\"].data >= 700)\n",
    "cost = np.sum(costs)\n",
    "cost"
   ]
  },
  {
   "cell_type": "code",
   "execution_count": null,
   "id": "c337c908-07d5-4ccf-aad6-c386e2741e8e",
   "metadata": {},
   "outputs": [],
   "source": [
    "costs = 0.5*(ds_model[\"zl\"].data - ds_bm5_40kms[\"zl\"].data)**2/ds_bm5_40kms[\"zl_uncert\"].data**2 * (ds_bm5_40kms[\"zl\"].data >= 700)\n",
    "cost = np.sum(costs)\n",
    "cost"
   ]
  },
  {
   "cell_type": "code",
   "execution_count": null,
   "id": "c590655b-6ae3-41ba-b18c-579d8bb1c285",
   "metadata": {},
   "outputs": [],
   "source": [
    "n_rows, n_cols = 2, 3\n",
    "aspect_ratio = len(ds_model['x'])/len(ds_model['y'])\n",
    "subplot_width = 4\n",
    "subplot_height = subplot_width / aspect_ratio\n",
    "plt.rcParams[\"figure.figsize\"] = ((n_cols+1.0)*subplot_width, n_rows*subplot_height)\n",
    "fig, ax = plt.subplots(n_rows, n_cols)\n",
    "\n",
    "for axis in ax.flatten():\n",
    "    axis.set_box_aspect(1/aspect_ratio)\n",
    "\n",
    "fancyPlotter.plot_normal(ds_bm5_40kms['xModel'], ds_bm5_40kms['yModel'], \n",
    "                         (ds_bm5_40kms['zl'].data-ds_model[\"zl\"].data)*(ds_model[\"H\"].data>0),\n",
    "                         cmap = 'jet', vmin = -1000, vmax = 1000, nbins = 100, fig = fig, ax = ax[0, 0])\n",
    "\n",
    "fancyPlotter.plot_normal(ds_bm5_40kms['xModel'], ds_bm5_40kms['yModel'], \n",
    "                         (ds_bm5_40kms['zl'].data-ds_model_nudged[\"zl\"].data)*(ds_model_nudged[\"H\"].data>0),\n",
    "                         cmap = 'jet', vmin = -1000, vmax = 1000, nbins = 100, fig = fig, ax = ax[0, 1])\n",
    "\n",
    "fancyPlotter.plot_normal(ds_bm5_40kms['xModel'], ds_bm5_40kms['yModel'], \n",
    "                         (ds_bm5_40kms['zs'].data-ds_model[\"zs\"].data)*(ds_bm5_40kms[\"H\"].data>=700),\n",
    "                         cmap = 'RdBu_r', vmin = -1000, vmax = 1000, nbins = 100, fig = fig, ax = ax[0, 2])\n",
    "\n",
    "fancyPlotter.plot_normal(ds_bm5_40kms['xModel'], ds_bm5_40kms['yModel'], \n",
    "                         (ds_bm5_40kms['H'].data > 700),\n",
    "                         cmap = 'jet', nbins = 100, fig = fig, ax = ax[1, 0])\n",
    "\n",
    "fancyPlotter.plot_normal(ds_bm5_40kms['xModel'], ds_bm5_40kms['yModel'], \n",
    "                         (ds_bm5_40kms['H'].data > 0),\n",
    "                         cmap = 'jet', nbins = 100, fig = fig, ax = ax[1, 1])\n",
    "\n",
    "fancyPlotter.plot_normal(ds_bm5_40kms['xModel'], ds_bm5_40kms['yModel'], \n",
    "                         (ds_bm5_40kms['zl'].data-ds_model[\"zl\"].data)*(ds_bm5_40kms[\"H\"].data>=700),\n",
    "                         cmap = 'RdBu_r', vmin = -1000, vmax = 1000, nbins = 100, fig = fig, ax = ax[1, 2])\n",
    "\n",
    "plt.tight_layout()"
   ]
  }
 ],
 "metadata": {
  "kernelspec": {
   "display_name": "py310_LRP",
   "language": "python",
   "name": "py310_lrp"
  },
  "language_info": {
   "codemirror_mode": {
    "name": "ipython",
    "version": 3
   },
   "file_extension": ".py",
   "mimetype": "text/x-python",
   "name": "python",
   "nbconvert_exporter": "python",
   "pygments_lexer": "ipython3",
   "version": "3.10.8"
  }
 },
 "nbformat": 4,
 "nbformat_minor": 5
}
