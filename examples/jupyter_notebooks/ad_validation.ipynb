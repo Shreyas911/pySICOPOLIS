{
 "cells": [
  {
   "cell_type": "code",
   "execution_count": 1,
   "id": "c7a6f9f6-4e93-40ab-a742-1deb6ebee6d6",
   "metadata": {},
   "outputs": [],
   "source": [
    "import numpy as np\n",
    "import xarray as xr\n",
    "import matplotlib.pyplot as plt\n",
    "import time\n",
    "\n",
    "# Paths and stuff\n",
    "import os\n",
    "import sys\n",
    "\n",
    "sys.path.append('/home/shreyas/pySICOPOLIS/src')\n",
    "from pySICOPOLIS import *"
   ]
  },
  {
   "cell_type": "code",
   "execution_count": 2,
   "id": "43cdebd1-df13-4891-a6a6-0e6942566e0b",
   "metadata": {},
   "outputs": [],
   "source": [
    "ds_grl40_bm5_paleo17a_CT4_BH0_m21ka_pkp_init = xr.open_dataset('/home/shreyas/update_to_develop_sicopolis/sicopolis_spinups/sico_out/grl40_bm5_paleo17a_CT4_BH0_8point5CS_spinup_0ka/grl40_bm5_paleo17a_CT4_BH0_8point5CS_spinup_0ka0005.nc')\n",
    "ds_grl40_bm5_paleo17a_CT4_BH0_m11ka_pkp_init = xr.open_dataset('/home/shreyas/update_to_develop_sicopolis/sicopolis_spinups/sico_out/grl40_bm5_paleo17a_CT4_BH0_8point5CS_spinup_0ka/grl40_bm5_paleo17a_CT4_BH0_8point5CS_spinup_0ka0006.nc')\n",
    "\n",
    "# Manually verify gradients in sicopolis_validation_genctrl_nolog match sicopolis_validation. A quick check of SUM(varb) for each var should suffice.\n",
    "# Once you are confident in sicopolis_validation_genctrl_nolog, use it to verify sicopolis_validation_genctrl_prof_real*.\n",
    "# The ad_input*.nc files for sicopolis_validation_genctrl_prof_real* are generated in their respective mini directories.\n",
    "sicopolis_validation_genctrl_nolog_dir = '/home/shreyas/update_to_develop_sicopolis/sicopolis_validation_genctrl_nolog'\n",
    "sicopolis_validation_genctrl_prof_realSVC_dir = '/home/shreyas/update_to_develop_sicopolis/sicopolis_validation_genctrl_prof_realSVC'\n",
    "sicopolis_validation_genctrl_prof_realACBM5ZLC_dir = '/home/shreyas/update_to_develop_sicopolis/sicopolis_validation_genctrl_prof_realACBM5ZLC'\n",
    "\n",
    "H_data_40 = xr.open_dataset(\"/scratch2/shreyas/GrIS_paleo_data/bm5_data_40kms.nc\")\n",
    "age_data_40 = xr.open_dataset(\"/scratch2/shreyas/GrIS_paleo_data/age_data_40kms.nc\")\n",
    "\n",
    "H_data = H_data_40[\"H\"].data\n",
    "H_uncert_data = H_data_40[\"H_uncert\"].data\n",
    "zl_uncert_data = H_data_40[\"zl_uncert\"].data\n",
    "\n",
    "age_c_data = age_data_40[\"age_c\"].data\n",
    "age_c_uncert_data = age_data_40[\"age_c_uncert\"].data\n",
    "\n",
    "mask_age_c = np.zeros(age_c_data.shape)\n",
    "for kc in range(age_c_data.shape[0]):\n",
    "    for j in range(age_c_data.shape[1]):\n",
    "        for i in range(age_c_data.shape[2]):\n",
    "            if age_c_uncert_data[kc, j, i] > 0 and age_c_data[kc, j, i] >= 0 and age_c_data[kc, j, i] <= 134000 and H_data[j, i] >= 2000.0:\n",
    "                mask_age_c[kc, j, i] = 1.0"
   ]
  },
  {
   "cell_type": "code",
   "execution_count": 3,
   "id": "f0dc9dc0-169b-463c-8343-c59bd9bf6104",
   "metadata": {},
   "outputs": [],
   "source": [
    "# Compile all executables before this block, so that some of them can run for this block.\n",
    "# Since all we need is fake sampling to get all the netcdf files including prior files, no need to change simulation name I think. \n",
    "# The generated input files should work for both cases as long as the same variables are activated in the same order.\n",
    "# NTDAMAX will have to be set to 5 to make it work though and for direct comparison with validation_genctrl_prof_real* setups.\n",
    "simulation = 'grl40_bm5_paleo17a_CT4_BH0_AC_BM5_ZLC_m11ka_pkp'\n",
    "# simulation = 'grl40_bm5_paleo17a_nudged_CT4_BH0_m21ka_pkp'\n",
    "\n",
    "dict_sico_out_folder_prefixes = {\"nodiff\": \"N\",\n",
    "                                 \"tlm\": \"FORWARD\",\n",
    "                                 \"adj\": \"ADJOINT\",\n",
    "                                 \"tlm_action\": \"FORWARDHESSACTION\",\n",
    "                                 \"adj_action\": \"ADJHESSACTION\"}\n",
    "dict_ad_exec_cmds_suffixes = {\"nodiff\": \"nodiff\",\n",
    "                              \"tlm\": \"forward\",\n",
    "                              \"adj\": \"adjoint\",\n",
    "                              \"tlm_action\": \"forwardhessaction\",\n",
    "                              \"adj_action\": \"adjointhessaction\"}\n",
    "dict_ad_log_file_suffixes = {\"nodiff\": \"nodiff\",\n",
    "                             \"tlm\": \"tlm\",\n",
    "                             \"adj\": \"adj\",\n",
    "                             \"tlm_action\": \"tlm_hessaction\",\n",
    "                             \"adj_action\": \"adj_hessaction\"}\n",
    "dict_ad_nc_suffixes = {\"nodiff\": \"nodiff\",\n",
    "                       \"tlm\": \"tlm\",\n",
    "                       \"adj\": \"adj\",\n",
    "                       \"tlm_action\": \"tlm_hessaction\",\n",
    "                       \"adj_action\": \"adj_hessaction\"}\n",
    "\n",
    "KCMAX = 80\n",
    "exp_sigma_level = dataCleaner.exp_sigma_level(zeta = np.arange(0,1+1./KCMAX,1./KCMAX),\n",
    "                                              exponent = 2.0)\n",
    "KRMAX = 40\n",
    "zeta_r = np.arange(0.,1. + 1.0/KRMAX, 1.0/KRMAX)\n",
    "xModel40       = np.arange(-72.,97.,4.0)*10\n",
    "yModel40       = np.arange(-345.,-56.,4.0)*10\n",
    "# Set NTDAMAX to 5 to match mini setups from which the validation_genctrl_prof_real* setups derive their ad_input_*.nc files.\n",
    "time_ad = np.arange(6, dtype=float)\n",
    "IMAX = xModel40.shape[0]-1\n",
    "JMAX = yModel40.shape[0]-1\n",
    "NTDAMAX = time_ad.shape[0]-1\n",
    "\n",
    "dict_og_params_fields_vals_nolog = {\"xx_c_slide_init\": np.zeros((JMAX+1, IMAX+1), dtype=float),\n",
    "                                    \"xx_delta_tda_const\": np.zeros((JMAX+1, IMAX+1), dtype=float),\n",
    "                                    \"xx_c_dis_da\": 0.0,\n",
    "                                    \"xx_q_geo\": np.zeros((JMAX+1, IMAX+1), dtype=float),\n",
    "                                    \"xx_gamma_s\": np.zeros((JMAX+1, IMAX+1), dtype=float),\n",
    "                                    \"xx_s_stat\": 0.0,\n",
    "                                    \"xx_beta1\": 0.0,\n",
    "                                    \"xx_beta2\": 0.0,\n",
    "                                    \"xx_Pmax\": 0.0,\n",
    "                                    \"xx_mu\": 0.0,\n",
    "                                    \"xx_RHO_A\": 0.0,\n",
    "                                    \"xx_time_lag_asth\": 0.0,\n",
    "                                    \"xx_flex_rig_lith\": np.zeros((JMAX+1, IMAX+1), dtype=float),\n",
    "                                    \"xx_p_weert\": 0.0,\n",
    "                                    \"xx_q_weert\": 0.0,\n",
    "                                    \"xx_enh_fact_da_dummy2d_scalar\": 0.0,\n",
    "                                    \"xx_enh_intg_da_dummy2d_scalar\": 0.0,\n",
    "                                    \"xx_n_glen_da_dummy2d_scalar\": 0.0,\n",
    "                                    \"xx_zs\": np.zeros((JMAX+1, IMAX+1), dtype=float),\n",
    "                                    \"xx_zl\": np.zeros((JMAX+1, IMAX+1), dtype=float),\n",
    "                                    \"xx_zl0\": np.zeros((JMAX+1, IMAX+1), dtype=float),\n",
    "                                    \"xx_zb\": np.zeros((JMAX+1, IMAX+1), dtype=float),\n",
    "                                    \"xx_temp_c\": np.zeros((KCMAX+1, JMAX+1, IMAX+1), dtype=float),\n",
    "                                    \"xx_omega_c\": np.zeros((KCMAX+1, JMAX+1, IMAX+1), dtype=float),\n",
    "                                    \"xx_age_c\": np.zeros((KCMAX+1, JMAX+1, IMAX+1), dtype=float),\n",
    "                                    \"xx_temp_r\": np.zeros((KRMAX+1, JMAX+1, IMAX+1), dtype=float),\n",
    "                                    \"xx_delta_tda\": np.zeros((NTDAMAX+1, JMAX+1, IMAX+1), dtype=float)}\n",
    "dict_prior_params_fields_vals_nolog = dict_og_params_fields_vals_nolog.copy()\n",
    "\n",
    "dict_params_fields_num_dims = {\"xx_c_slide_init\": \"2D\",\n",
    "                               \"xx_delta_tda_const\": \"2D\",\n",
    "                               \"xx_c_dis_da\": \"2D\",\n",
    "                               \"xx_q_geo\": \"2D\",\n",
    "                               \"xx_gamma_s\": \"2D\",\n",
    "                               \"xx_s_stat\": \"2D\",\n",
    "                               \"xx_beta1\": \"2D\",\n",
    "                               \"xx_beta2\": \"2D\",\n",
    "                               \"xx_Pmax\": \"2D\",\n",
    "                               \"xx_mu\": \"2D\",\n",
    "                               \"xx_RHO_A\": \"2D\",\n",
    "                               \"xx_time_lag_asth\": \"2D\",\n",
    "                               \"xx_flex_rig_lith\": \"2D\",\n",
    "                               \"xx_p_weert\": \"2D\",\n",
    "                               \"xx_q_weert\": \"2D\",\n",
    "                               \"xx_enh_fact_da_dummy2d_scalar\": \"2D\",\n",
    "                               \"xx_enh_intg_da_dummy2d_scalar\": \"2D\",\n",
    "                               \"xx_n_glen_da_dummy2d_scalar\": \"2D\",\n",
    "                               \"xx_zs\": \"2D\",\n",
    "                               \"xx_zl\": \"2D\",\n",
    "                               \"xx_zl0\": \"2D\",\n",
    "                               \"xx_zb\": \"2D\",\n",
    "                               \"xx_temp_c\": \"3D\",\n",
    "                               \"xx_omega_c\": \"3D\",\n",
    "                               \"xx_age_c\": \"3D\",\n",
    "                               \"xx_temp_r\": \"3DR\",\n",
    "                               \"xx_delta_tda\": \"2DT\"}\n",
    "\n",
    "dict_params_coords = {\"time_ad\": time_ad,\n",
    "                      \"zeta_c\": exp_sigma_level,\n",
    "                      \"zeta_r\": zeta_r,\n",
    "                      \"y\": yModel40,\n",
    "                      \"x\": xModel40}\n",
    "\n",
    "dict_params_attrs_type = {\"xx_c_slide_init\": \"nodiff\",\n",
    "                          \"xx_delta_tda_const\": \"nodiff\",\n",
    "                          \"xx_c_dis_da\": \"nodiff\",\n",
    "                          \"xx_q_geo\": \"nodiff\",\n",
    "                          \"xx_gamma_s\": \"nodiff\",\n",
    "                          \"xx_s_stat\": \"nodiff\",\n",
    "                          \"xx_beta1\": \"nodiff\",\n",
    "                          \"xx_beta2\": \"nodiff\",\n",
    "                          \"xx_Pmax\": \"nodiff\",\n",
    "                          \"xx_mu\": \"nodiff\",\n",
    "                          \"xx_RHO_A\": \"nodiff\",\n",
    "                          \"xx_time_lag_asth\": \"nodiff\",\n",
    "                          \"xx_flex_rig_lith\": \"nodiff\",\n",
    "                          \"xx_p_weert\": \"nodiff\",\n",
    "                          \"xx_q_weert\": \"nodiff\",\n",
    "                          \"xx_enh_fact_da_dummy2d_scalar\": \"nodiff\",\n",
    "                          \"xx_enh_intg_da_dummy2d_scalar\": \"nodiff\",\n",
    "                          \"xx_n_glen_da_dummy2d_scalar\": \"nodiff\",\n",
    "                          \"xx_zs\": \"nodiff\",\n",
    "                          \"xx_zl\": \"nodiff\",\n",
    "                          \"xx_zl0\": \"nodiff\",\n",
    "                          \"xx_zb\": \"nodiff\",\n",
    "                          \"xx_temp_c\": \"nodiff\",\n",
    "                          \"xx_omega_c\": \"nodiff\",\n",
    "                          \"xx_age_c\": \"nodiff\",\n",
    "                          \"xx_temp_r\": \"nodiff\",\n",
    "                          \"xx_delta_tda\": \"nodiff\"}\n",
    "\n",
    "dict_params_fields_or_scalars = {\"xx_c_slide_init\": \"field\",\n",
    "                                 \"xx_delta_tda_const\": \"field\",\n",
    "                                 \"xx_c_dis_da\": \"scalar\",\n",
    "                                 \"xx_q_geo\": \"field\",\n",
    "                                 \"xx_gamma_s\": \"field\",\n",
    "                                 \"xx_s_stat\": \"scalar\",\n",
    "                                 \"xx_beta1\": \"scalar\",\n",
    "                                 \"xx_beta2\": \"scalar\",\n",
    "                                 \"xx_Pmax\": \"scalar\",\n",
    "                                 \"xx_mu\": \"scalar\",\n",
    "                                 \"xx_RHO_A\": \"scalar\",\n",
    "                                 \"xx_time_lag_asth\": \"scalar\",\n",
    "                                 \"xx_flex_rig_lith\": \"field\",\n",
    "                                 \"xx_p_weert\": \"scalar\",\n",
    "                                 \"xx_q_weert\": \"scalar\",\n",
    "                                 \"xx_enh_fact_da_dummy2d_scalar\": \"scalar\",\n",
    "                                 \"xx_enh_intg_da_dummy2d_scalar\": \"scalar\",\n",
    "                                 \"xx_n_glen_da_dummy2d_scalar\": \"scalar\",\n",
    "                                 \"xx_zs\": \"field\",\n",
    "                                 \"xx_zl\": \"field\",\n",
    "                                 \"xx_zl0\": \"field\",\n",
    "                                 \"xx_zb\": \"field\",\n",
    "                                 \"xx_temp_c\": \"field\",\n",
    "                                 \"xx_omega_c\": \"field\",\n",
    "                                 \"xx_age_c\": \"field\",\n",
    "                                 \"xx_temp_r\": \"field\",\n",
    "                                 \"xx_delta_tda\": \"field\"}\n",
    "\n",
    "year2sec = 3.1556925445e+07\n",
    "dict_masks_observables = {\"H\": H_uncert_data**(-2),\n",
    "                          \"zl\": zl_uncert_data**(-2),\n",
    "                          \"age_c\": mask_age_c*(age_c_uncert_data*year2sec)**(-2)}\n",
    "\n",
    "dict_prior_sigmas_nolog = {\"xx_c_slide_init\": 1.5,\n",
    "                     \"xx_delta_tda_const\": 0.1,\n",
    "                     \"xx_c_dis_da\": 1000.0,\n",
    "                     \"xx_q_geo\": 100.0,\n",
    "                     \"xx_gamma_s\": 0.01,\n",
    "                     \"xx_s_stat\": 1.0,\n",
    "                     \"xx_beta1\": 1.0,\n",
    "                     \"xx_beta2\": 1.0,\n",
    "                     \"xx_Pmax\": 1.0,\n",
    "                     \"xx_mu\": 1.0,\n",
    "                     \"xx_RHO_A\": 100.0,\n",
    "                     \"xx_time_lag_asth\": 100.0,\n",
    "                     \"xx_flex_rig_lith\": 1.e+24,\n",
    "                     \"xx_p_weert\": 1.0,\n",
    "                     \"xx_q_weert\": 1.0,\n",
    "                     \"xx_enh_fact_da_dummy2d_scalar\": 0.3,\n",
    "                     \"xx_enh_intg_da_dummy2d_scalar\": 0.3,\n",
    "                     \"xx_n_glen_da_dummy2d_scalar\": 0.2,\n",
    "                     \"xx_zs\": 300.0,\n",
    "                     \"xx_zl\": 300.0,\n",
    "                     \"xx_zl0\": 300.0,\n",
    "                     \"xx_zb\": 300.0,\n",
    "                     \"xx_temp_c\": 0.5,\n",
    "                     \"xx_omega_c\": 0.01,\n",
    "                     \"xx_age_c\": 100.0,\n",
    "                     \"xx_temp_r\": 0.5,\n",
    "                     \"xx_delta_tda\": 0.1}\n",
    "\n",
    "dict_prior_gammas = {\"xx_c_slide_init\": 1.0,\n",
    "                     \"xx_delta_tda_const\": 1.0,\n",
    "                     \"xx_c_dis_da\": 0.0,\n",
    "                     \"xx_q_geo\": 1.0,\n",
    "                     \"xx_gamma_s\": 1.0,\n",
    "                     \"xx_s_stat\": 0.0,\n",
    "                     \"xx_beta1\": 0.0,\n",
    "                     \"xx_beta2\": 0.0,\n",
    "                     \"xx_Pmax\": 0.0,\n",
    "                     \"xx_mu\": 0.0,\n",
    "                     \"xx_RHO_A\": 0.0,\n",
    "                     \"xx_time_lag_asth\": 0.0,\n",
    "                     \"xx_flex_rig_lith\": 1.0,\n",
    "                     \"xx_p_weert\": 0.0,\n",
    "                     \"xx_q_weert\": 0.0,\n",
    "                     \"xx_enh_fact_da_dummy2d_scalar\": 0.0,\n",
    "                     \"xx_enh_intg_da_dummy2d_scalar\": 0.0,\n",
    "                     \"xx_n_glen_da_dummy2d_scalar\": 0.0,\n",
    "                     \"xx_zs\": 1.0,\n",
    "                     \"xx_zl\": 1.0,\n",
    "                     \"xx_zl0\": 1.0,\n",
    "                     \"xx_zb\": 1.0,\n",
    "                     \"xx_temp_c\": 0.0,\n",
    "                     \"xx_omega_c\": 0.0,\n",
    "                     \"xx_age_c\": 0.0,\n",
    "                     \"xx_temp_r\": 0.0,\n",
    "                     \"xx_delta_tda\": 1.0}\n",
    "\n",
    "dict_prior_deltas = {\"xx_c_slide_init\": 0.001,\n",
    "                     \"xx_delta_tda_const\": 0.001,\n",
    "                     \"xx_c_dis_da\": 0.001,\n",
    "                     \"xx_q_geo\": 0.001,\n",
    "                     \"xx_gamma_s\": 0.001,\n",
    "                     \"xx_s_stat\": 0.001,\n",
    "                     \"xx_beta1\": 0.001,\n",
    "                     \"xx_beta2\": 0.001,\n",
    "                     \"xx_Pmax\": 0.001,\n",
    "                     \"xx_mu\": 0.001,\n",
    "                     \"xx_RHO_A\": 0.001,\n",
    "                     \"xx_time_lag_asth\": 0.001,\n",
    "                     \"xx_flex_rig_lith\": 0.001,\n",
    "                     \"xx_p_weert\": 0.001,\n",
    "                     \"xx_q_weert\": 0.001,\n",
    "                     \"xx_enh_fact_da_dummy2d_scalar\": 0.001,\n",
    "                     \"xx_enh_intg_da_dummy2d_scalar\": 0.001,\n",
    "                     \"xx_n_glen_da_dummy2d_scalar\": 0.001,\n",
    "                     \"xx_zs\": 0.001,\n",
    "                     \"xx_zl\": 0.001,\n",
    "                     \"xx_zl0\": 0.001,\n",
    "                     \"xx_zb\": 0.001,\n",
    "                     \"xx_temp_c\": 0.001,\n",
    "                     \"xx_omega_c\": 0.001,\n",
    "                     \"xx_age_c\": 0.001,\n",
    "                     \"xx_temp_r\": 0.001,\n",
    "                     \"xx_delta_tda\": 0.001}\n",
    "\n",
    "list_fields_to_ignore = None\n",
    "MAX_ITERS_SOR = 50\n",
    "OMEGA_SOR = 1.5\n",
    "\n",
    "## Use only when you want to generate the ad_input files for validation_genctrl_nolog.\n",
    "# _ = optim.DataAssimilation(sicopolis_validation_genctrl_nolog_dir, simulation,\n",
    "#                             dict_sico_out_folder_prefixes, dict_ad_exec_cmds_suffixes,\n",
    "#                             dict_ad_log_file_suffixes, dict_ad_nc_suffixes,\n",
    "#                             dict_og_params_fields_vals_nolog, dict_prior_params_fields_vals_nolog, dict_params_fields_num_dims, \n",
    "#                             dict_params_coords, dict_params_attrs_type, dict_params_fields_or_scalars, dict_masks_observables,\n",
    "#                             dict_prior_sigmas_nolog, dict_prior_gammas, dict_prior_deltas,\n",
    "#                             MAX_ITERS_SOR, OMEGA_SOR, list_fields_to_ignore, False, None, \"/scratch2/shreyas/ad_validation_genctrl_nolog\", 10, None)"
   ]
  },
  {
   "cell_type": "code",
   "execution_count": 4,
   "id": "fbffb8de-69b5-4c6a-b4e2-87f3b249aa5b",
   "metadata": {},
   "outputs": [],
   "source": [
    "### GO TO THE TERMINAL AND RUN THE ADJOINTS IN ALL DIRS NOW BEFORE RUNNING THE REST OF THIS NOTEBOOK."
   ]
  },
  {
   "cell_type": "code",
   "execution_count": 5,
   "id": "41a9e520-2b15-4cb2-a364-c82ff827f446",
   "metadata": {},
   "outputs": [],
   "source": [
    "ds_validation_genctrl_nolog_SVC = xr.open_dataset(sicopolis_validation_genctrl_nolog_dir + \"/src/subroutines/tapenade/ad_io/ad_output_SVC_nudged_m21ka_pkp_adj_genctrl_nooptim_noprof.nc\")\n",
    "ds_validation_genctrl_nolog_ACBM5ZLC = xr.open_dataset(sicopolis_validation_genctrl_nolog_dir + \"/src/subroutines/tapenade/ad_io/ad_output_AC_BM5_ZLC_m11ka_pkp_adj_genctrl_nooptim_noprof.nc\")\n",
    "ds_validation_genctrl_prof_realSVC = xr.open_dataset(sicopolis_validation_genctrl_prof_realSVC_dir + \"/src/subroutines/tapenade/ad_io/ad_output_SVC_nudged_m21ka_pkp_adj_genctrl_nooptim_noprof_realSVC.nc\")\n",
    "ds_validation_genctrl_prof_realACBM5ZLC = xr.open_dataset(sicopolis_validation_genctrl_prof_realACBM5ZLC_dir + \"/src/subroutines/tapenade/ad_io/ad_output_AC_BM5_ZLC_m11ka_pkp_adj_genctrl_optim_noprof_realACBM5ZLC.nc\")"
   ]
  },
  {
   "cell_type": "code",
   "execution_count": 6,
   "id": "1ad2c505-701e-4052-9ae1-b4ee1d3bce4a",
   "metadata": {},
   "outputs": [],
   "source": [
    "def compare(ds_nolog, ds_genctrl_prof, var_name, var_log10_value = None, bool_log = False):\n",
    "    if bool_log and var_log10_value is None:\n",
    "        return ValueError(\"If bool_log is True, var_log10_value must be specified.\")\n",
    "\n",
    "    varb_validation_genctrl_nolog = ds_nolog[\"xx_\" + var_name + \"b\"].data\n",
    "    if not bool_log:\n",
    "        varb_validation_genctrl_prof = ds_genctrl_prof[\"xx_\" + var_name + \"b\"].data\n",
    "    else:\n",
    "        varb_validation_genctrl_prof = 10**(-var_log10_value)*ds_genctrl_prof[\"xx_\" + var_name + \"b\"].data/np.log(10)\n",
    "        \n",
    "    print(np.sum(varb_validation_genctrl_nolog), \n",
    "          np.sum(varb_validation_genctrl_prof),\n",
    "          np.sum(np.abs(varb_validation_genctrl_nolog)), \n",
    "          np.sum(np.abs(varb_validation_genctrl_prof)),\n",
    "          np.nanmax((np.abs(varb_validation_genctrl_prof/varb_validation_genctrl_nolog) - 1.0) * (np.abs(varb_validation_genctrl_nolog) > 0.1*np.max(np.abs(varb_validation_genctrl_nolog)))),\n",
    "          np.sum((varb_validation_genctrl_nolog == 0.0) & (varb_validation_genctrl_prof != 0.0)),\n",
    "          np.sum((varb_validation_genctrl_nolog != 0.0) & (varb_validation_genctrl_prof == 0.0)))"
   ]
  },
  {
   "cell_type": "code",
   "execution_count": 7,
   "id": "91daf13b-5aa6-4e7e-9745-a7f4f5d94fec",
   "metadata": {},
   "outputs": [
    {
     "name": "stdout",
     "output_type": "stream",
     "text": [
      "14550.730486413948 14545.566345827472 25010.513737851357 25014.355478553814 6.772278696676182e-05 0 0\n"
     ]
    },
    {
     "name": "stderr",
     "output_type": "stream",
     "text": [
      "/tmp/ipykernel_2145777/308923850.py:15: RuntimeWarning: invalid value encountered in divide\n",
      "  np.nanmax((np.abs(varb_validation_genctrl_prof/varb_validation_genctrl_nolog) - 1.0) * (np.abs(varb_validation_genctrl_nolog) > 0.1*np.max(np.abs(varb_validation_genctrl_nolog)))),\n"
     ]
    }
   ],
   "source": [
    "log_c_slide_init = np.log10(0.85)*np.ones((JMAX+1, IMAX+1))\n",
    "compare(ds_validation_genctrl_nolog_SVC, ds_validation_genctrl_prof_realSVC, \"c_slide_init\", log_c_slide_init, True)"
   ]
  },
  {
   "cell_type": "code",
   "execution_count": 8,
   "id": "0531c4b6-07d0-47d5-afc3-c1d87ea18881",
   "metadata": {},
   "outputs": [
    {
     "name": "stdout",
     "output_type": "stream",
     "text": [
      "57363.03989926748 57372.263903937404 88461.07139749473 88469.25830458342 -0.0 0 0\n"
     ]
    },
    {
     "name": "stderr",
     "output_type": "stream",
     "text": [
      "/tmp/ipykernel_2145777/308923850.py:15: RuntimeWarning: invalid value encountered in divide\n",
      "  np.nanmax((np.abs(varb_validation_genctrl_prof/varb_validation_genctrl_nolog) - 1.0) * (np.abs(varb_validation_genctrl_nolog) > 0.1*np.max(np.abs(varb_validation_genctrl_nolog)))),\n"
     ]
    }
   ],
   "source": [
    "data = ds_grl40_bm5_paleo17a_CT4_BH0_m21ka_pkp_init['q_geo'].data\n",
    "log_q_geo = np.where(data > 0, np.log10(data), -10)\n",
    "compare(ds_validation_genctrl_nolog_SVC, ds_validation_genctrl_prof_realSVC, \"q_geo\", log_q_geo, True)"
   ]
  },
  {
   "cell_type": "code",
   "execution_count": 9,
   "id": "a2746a6d-3614-4059-b4bb-62d745f92e25",
   "metadata": {},
   "outputs": [
    {
     "name": "stdout",
     "output_type": "stream",
     "text": [
      "64.24935198699222 64.25655351568915 93.75862189086232 93.76623670643959 3.573796260614159e-05 0 0\n"
     ]
    },
    {
     "name": "stderr",
     "output_type": "stream",
     "text": [
      "/tmp/ipykernel_2145777/308923850.py:15: RuntimeWarning: invalid value encountered in divide\n",
      "  np.nanmax((np.abs(varb_validation_genctrl_prof/varb_validation_genctrl_nolog) - 1.0) * (np.abs(varb_validation_genctrl_nolog) > 0.1*np.max(np.abs(varb_validation_genctrl_nolog)))),\n"
     ]
    }
   ],
   "source": [
    "log_mu = np.log10(9.7155)\n",
    "compare(ds_validation_genctrl_nolog_SVC, ds_validation_genctrl_prof_realSVC, \"mu\", log_mu, True)"
   ]
  },
  {
   "cell_type": "code",
   "execution_count": 10,
   "id": "6e1d469c-2136-48e2-92c6-ead86092ce9a",
   "metadata": {},
   "outputs": [
    {
     "name": "stdout",
     "output_type": "stream",
     "text": [
      "-4205.284563676415 -4205.460213723953 5962.643939407653 5962.831236077991 -0.0 0 0\n"
     ]
    },
    {
     "name": "stderr",
     "output_type": "stream",
     "text": [
      "/tmp/ipykernel_2145777/308923850.py:15: RuntimeWarning: invalid value encountered in divide\n",
      "  np.nanmax((np.abs(varb_validation_genctrl_prof/varb_validation_genctrl_nolog) - 1.0) * (np.abs(varb_validation_genctrl_nolog) > 0.1*np.max(np.abs(varb_validation_genctrl_nolog)))),\n"
     ]
    }
   ],
   "source": [
    "log_p_weert = np.log10(3.0)\n",
    "compare(ds_validation_genctrl_nolog_SVC, ds_validation_genctrl_prof_realSVC, \"p_weert\", log_p_weert, True)"
   ]
  },
  {
   "cell_type": "code",
   "execution_count": 11,
   "id": "b9796cdf-2454-40fb-94e3-07e780a2014e",
   "metadata": {},
   "outputs": [
    {
     "name": "stdout",
     "output_type": "stream",
     "text": [
      "6085.892590423664 6087.696150098912 12038.106417314557 12039.722742220332 1.423586519266884e-05 0 0\n"
     ]
    },
    {
     "name": "stderr",
     "output_type": "stream",
     "text": [
      "/tmp/ipykernel_2145777/308923850.py:15: RuntimeWarning: invalid value encountered in divide\n",
      "  np.nanmax((np.abs(varb_validation_genctrl_prof/varb_validation_genctrl_nolog) - 1.0) * (np.abs(varb_validation_genctrl_nolog) > 0.1*np.max(np.abs(varb_validation_genctrl_nolog)))),\n"
     ]
    }
   ],
   "source": [
    "log_q_weert = np.log10(2.0)\n",
    "compare(ds_validation_genctrl_nolog_SVC, ds_validation_genctrl_prof_realSVC, \"q_weert\", log_q_weert, True)"
   ]
  },
  {
   "cell_type": "code",
   "execution_count": 12,
   "id": "9e6c4919-6cd0-46ac-afee-4ad20db3ae38",
   "metadata": {},
   "outputs": [
    {
     "name": "stdout",
     "output_type": "stream",
     "text": [
      "2825.030836365716 2827.7099991886203 2825.030836365716 2827.7099991886203 0.0009483658685827123 0 0\n"
     ]
    }
   ],
   "source": [
    "log_enh_fact_da_dummy2d_scalar = np.log10(3.0)\n",
    "compare(ds_validation_genctrl_nolog_SVC, ds_validation_genctrl_prof_realSVC, \"enh_fact_da_dummy2d_scalar\", log_enh_fact_da_dummy2d_scalar, True)"
   ]
  },
  {
   "cell_type": "code",
   "execution_count": 13,
   "id": "f4a61527-79e7-49d3-8a35-4dd472291c80",
   "metadata": {},
   "outputs": [
    {
     "name": "stdout",
     "output_type": "stream",
     "text": [
      "-4800.696575587761 -4801.964385641366 4800.696575587761 4801.964385641366 0.00026408876996164565 0 0\n"
     ]
    }
   ],
   "source": [
    "log_n_glen_da_dummy2d_scalar = np.log10(3.0)\n",
    "compare(ds_validation_genctrl_nolog_SVC, ds_validation_genctrl_prof_realSVC, \"n_glen_da_dummy2d_scalar\", log_n_glen_da_dummy2d_scalar, True)"
   ]
  },
  {
   "cell_type": "code",
   "execution_count": 14,
   "id": "e1e5de86-8eee-4ee2-a956-849ba0afd7f3",
   "metadata": {},
   "outputs": [
    {
     "name": "stdout",
     "output_type": "stream",
     "text": [
      "-34770.60953800539 -34770.607197638004 59127.82599048865 59122.949701021585 0.0009414976823600707 0 0\n"
     ]
    },
    {
     "name": "stderr",
     "output_type": "stream",
     "text": [
      "/tmp/ipykernel_2145777/308923850.py:15: RuntimeWarning: invalid value encountered in divide\n",
      "  np.nanmax((np.abs(varb_validation_genctrl_prof/varb_validation_genctrl_nolog) - 1.0) * (np.abs(varb_validation_genctrl_nolog) > 0.1*np.max(np.abs(varb_validation_genctrl_nolog)))),\n"
     ]
    }
   ],
   "source": [
    "compare(ds_validation_genctrl_nolog_ACBM5ZLC, ds_validation_genctrl_prof_realACBM5ZLC, \"delta_tda_const\", None, False)"
   ]
  },
  {
   "cell_type": "code",
   "execution_count": 15,
   "id": "f6c31af5-f404-4439-8add-e19f7d0da015",
   "metadata": {},
   "outputs": [
    {
     "name": "stdout",
     "output_type": "stream",
     "text": [
      "-3.103756431276544 -3.1036194695836077 3.6688347511782493 3.668442472862811 0.0004737800126539682 0 0\n"
     ]
    },
    {
     "name": "stderr",
     "output_type": "stream",
     "text": [
      "/tmp/ipykernel_2145777/308923850.py:15: RuntimeWarning: invalid value encountered in divide\n",
      "  np.nanmax((np.abs(varb_validation_genctrl_prof/varb_validation_genctrl_nolog) - 1.0) * (np.abs(varb_validation_genctrl_nolog) > 0.1*np.max(np.abs(varb_validation_genctrl_nolog)))),\n"
     ]
    }
   ],
   "source": [
    "log_c_dis_da = np.log10(15659.0)\n",
    "compare(ds_validation_genctrl_nolog_ACBM5ZLC, ds_validation_genctrl_prof_realACBM5ZLC, \"c_dis_da\", log_c_dis_da, True)"
   ]
  },
  {
   "cell_type": "code",
   "execution_count": 16,
   "id": "f0d44856-aba9-41fc-96b9-8b94319a9c80",
   "metadata": {},
   "outputs": [
    {
     "name": "stdout",
     "output_type": "stream",
     "text": [
      "11863.20222088675 11838.165336388949 253052.45877444284 253046.14108467917 0.0011612953429731565 0 0\n"
     ]
    },
    {
     "name": "stderr",
     "output_type": "stream",
     "text": [
      "/tmp/ipykernel_2145777/308923850.py:15: RuntimeWarning: invalid value encountered in divide\n",
      "  np.nanmax((np.abs(varb_validation_genctrl_prof/varb_validation_genctrl_nolog) - 1.0) * (np.abs(varb_validation_genctrl_nolog) > 0.1*np.max(np.abs(varb_validation_genctrl_nolog)))),\n"
     ]
    }
   ],
   "source": [
    "log_gamma_s = np.log10(0.070458)*np.ones((JMAX+1, IMAX+1))\n",
    "compare(ds_validation_genctrl_nolog_ACBM5ZLC, ds_validation_genctrl_prof_realACBM5ZLC, \"gamma_s\", log_gamma_s, True)"
   ]
  },
  {
   "cell_type": "code",
   "execution_count": 17,
   "id": "dc80da68-480a-4bd7-9a17-b83e62b5f3eb",
   "metadata": {},
   "outputs": [
    {
     "name": "stdout",
     "output_type": "stream",
     "text": [
      "-24849.29308419575 -24848.033902601026 33997.92789311879 33992.851311550236 0.0009665837500654195 0 0\n"
     ]
    },
    {
     "name": "stderr",
     "output_type": "stream",
     "text": [
      "/tmp/ipykernel_2145777/308923850.py:15: RuntimeWarning: invalid value encountered in divide\n",
      "  np.nanmax((np.abs(varb_validation_genctrl_prof/varb_validation_genctrl_nolog) - 1.0) * (np.abs(varb_validation_genctrl_nolog) > 0.1*np.max(np.abs(varb_validation_genctrl_nolog)))),\n"
     ]
    }
   ],
   "source": [
    "log_s_stat = np.log10(5.0)\n",
    "compare(ds_validation_genctrl_nolog_ACBM5ZLC, ds_validation_genctrl_prof_realACBM5ZLC, \"s_stat\", log_s_stat, True)"
   ]
  },
  {
   "cell_type": "code",
   "execution_count": 18,
   "id": "35717e98-9a1d-4085-9300-1472869ffca5",
   "metadata": {},
   "outputs": [
    {
     "name": "stdout",
     "output_type": "stream",
     "text": [
      "-7875.697814615456 -7875.073026085394 11165.869403320845 11164.31304531297 0.0005683923605215302 0 0\n"
     ]
    },
    {
     "name": "stderr",
     "output_type": "stream",
     "text": [
      "/tmp/ipykernel_2145777/308923850.py:15: RuntimeWarning: invalid value encountered in divide\n",
      "  np.nanmax((np.abs(varb_validation_genctrl_prof/varb_validation_genctrl_nolog) - 1.0) * (np.abs(varb_validation_genctrl_nolog) > 0.1*np.max(np.abs(varb_validation_genctrl_nolog)))),\n"
     ]
    }
   ],
   "source": [
    "log_beta1 = np.log10(2.73)\n",
    "compare(ds_validation_genctrl_nolog_ACBM5ZLC, ds_validation_genctrl_prof_realACBM5ZLC, \"beta1\", log_beta1, True)"
   ]
  },
  {
   "cell_type": "code",
   "execution_count": 19,
   "id": "e7dd43f1-65f7-435f-a03e-480f12147591",
   "metadata": {},
   "outputs": [
    {
     "name": "stdout",
     "output_type": "stream",
     "text": [
      "-12394.28640129987 -12393.62639654693 15622.346857000844 15619.987578443737 0.0009739253932194991 0 0\n"
     ]
    },
    {
     "name": "stderr",
     "output_type": "stream",
     "text": [
      "/tmp/ipykernel_2145777/308923850.py:15: RuntimeWarning: invalid value encountered in divide\n",
      "  np.nanmax((np.abs(varb_validation_genctrl_prof/varb_validation_genctrl_nolog) - 1.0) * (np.abs(varb_validation_genctrl_nolog) > 0.1*np.max(np.abs(varb_validation_genctrl_nolog)))),\n"
     ]
    }
   ],
   "source": [
    "log_beta2 = np.log10(7.28)\n",
    "compare(ds_validation_genctrl_nolog_ACBM5ZLC, ds_validation_genctrl_prof_realACBM5ZLC, \"beta2\", log_beta2, True)"
   ]
  },
  {
   "cell_type": "code",
   "execution_count": 20,
   "id": "b494f6c4-d518-41d2-8da7-6221ff958fe4",
   "metadata": {},
   "outputs": [
    {
     "name": "stdout",
     "output_type": "stream",
     "text": [
      "65288.01044980501 65284.08950891373 86137.64258829784 86130.09729830586 0.0010567918895105777 0 0\n"
     ]
    },
    {
     "name": "stderr",
     "output_type": "stream",
     "text": [
      "/tmp/ipykernel_2145777/308923850.py:15: RuntimeWarning: invalid value encountered in divide\n",
      "  np.nanmax((np.abs(varb_validation_genctrl_prof/varb_validation_genctrl_nolog) - 1.0) * (np.abs(varb_validation_genctrl_nolog) > 0.1*np.max(np.abs(varb_validation_genctrl_nolog)))),\n"
     ]
    }
   ],
   "source": [
    "log_Pmax = np.log10(0.6)\n",
    "compare(ds_validation_genctrl_nolog_ACBM5ZLC, ds_validation_genctrl_prof_realACBM5ZLC, \"Pmax\", log_Pmax, True)"
   ]
  },
  {
   "cell_type": "code",
   "execution_count": 21,
   "id": "0c8a3425-4559-488f-9a60-fea76164f9b0",
   "metadata": {},
   "outputs": [
    {
     "name": "stdout",
     "output_type": "stream",
     "text": [
      "8.209646012717723 8.20940993031591 27.60136248736306 27.60113334293088 0.0077115674633290165 0 0\n"
     ]
    }
   ],
   "source": [
    "log_RHO_A = np.log10(3300.0)\n",
    "compare(ds_validation_genctrl_nolog_ACBM5ZLC, ds_validation_genctrl_prof_realACBM5ZLC, \"RHO_A\", log_RHO_A, True)"
   ]
  },
  {
   "cell_type": "code",
   "execution_count": 22,
   "id": "f232d368-a2c1-4d91-9278-2640663e7eed",
   "metadata": {},
   "outputs": [
    {
     "name": "stdout",
     "output_type": "stream",
     "text": [
      "-1.6943351617325533 -1.6942474977722117 3.2273019234129774 3.2271405595406804 0.006385258114273817 0 0\n"
     ]
    }
   ],
   "source": [
    "log_time_lag_asth = np.log10(3000.0)\n",
    "compare(ds_validation_genctrl_nolog_ACBM5ZLC, ds_validation_genctrl_prof_realACBM5ZLC, \"time_lag_asth\", log_time_lag_asth, True)"
   ]
  },
  {
   "cell_type": "code",
   "execution_count": 23,
   "id": "67c1df67-397f-4c6b-a671-64785e699210",
   "metadata": {},
   "outputs": [
    {
     "name": "stdout",
     "output_type": "stream",
     "text": [
      "2.70918318419685e-21 2.709105277004251e-21 9.10844962082981e-21 9.108374003167194e-21 0.0077115674633287945 0 0\n"
     ]
    }
   ],
   "source": [
    "log_flex_rig_lith = np.log10(1.e25)*np.ones((JMAX+1, IMAX+1))\n",
    "compare(ds_validation_genctrl_nolog_ACBM5ZLC, ds_validation_genctrl_prof_realACBM5ZLC, \"flex_rig_lith\", log_flex_rig_lith, True)"
   ]
  },
  {
   "cell_type": "code",
   "execution_count": 24,
   "id": "450e786b-1ccb-4cc4-a9eb-9e3186b9c0de",
   "metadata": {},
   "outputs": [
    {
     "name": "stdout",
     "output_type": "stream",
     "text": [
      "-17405.88951467569 -17406.093391302034 17405.88951467569 17406.093391302034 1.1713082872066849e-05 0 0\n"
     ]
    }
   ],
   "source": [
    "log_enh_intg_da_dummy2d_scalar = np.log10(1.0)\n",
    "compare(ds_validation_genctrl_nolog_ACBM5ZLC, ds_validation_genctrl_prof_realACBM5ZLC, \"enh_intg_da_dummy2d_scalar\", log_enh_intg_da_dummy2d_scalar, True)"
   ]
  },
  {
   "cell_type": "code",
   "execution_count": 25,
   "id": "0669bbb9-d59f-41ad-b3c8-239570568760",
   "metadata": {},
   "outputs": [
    {
     "name": "stdout",
     "output_type": "stream",
     "text": [
      "32.75011848865601 32.74540092591592 54.986191748752546 54.98729727115624 1.910190496334785e-05 0 0\n"
     ]
    },
    {
     "name": "stderr",
     "output_type": "stream",
     "text": [
      "/tmp/ipykernel_2145777/308923850.py:15: RuntimeWarning: invalid value encountered in divide\n",
      "  np.nanmax((np.abs(varb_validation_genctrl_prof/varb_validation_genctrl_nolog) - 1.0) * (np.abs(varb_validation_genctrl_nolog) > 0.1*np.max(np.abs(varb_validation_genctrl_nolog)))),\n"
     ]
    }
   ],
   "source": [
    "compare(ds_validation_genctrl_nolog_ACBM5ZLC, ds_validation_genctrl_prof_realACBM5ZLC, \"zs\", None, False)"
   ]
  },
  {
   "cell_type": "code",
   "execution_count": 26,
   "id": "2c832723-280f-4995-8113-3362389e2e02",
   "metadata": {},
   "outputs": [
    {
     "name": "stdout",
     "output_type": "stream",
     "text": [
      "5.766042293577237 5.785929913692861 185.08687345940015 185.0949587964675 0.019287296580427826 0 0\n"
     ]
    }
   ],
   "source": [
    "compare(ds_validation_genctrl_nolog_ACBM5ZLC, ds_validation_genctrl_prof_realACBM5ZLC, \"zl\", None, False)"
   ]
  },
  {
   "cell_type": "code",
   "execution_count": 27,
   "id": "af21d172-57c8-465c-8e89-dcd58ecea2f0",
   "metadata": {},
   "outputs": [
    {
     "name": "stdout",
     "output_type": "stream",
     "text": [
      "-3183.1670501515937 -3184.2337516752914 5856.132690747058 5857.82832269005 0.006518351667576416 0 0\n"
     ]
    },
    {
     "name": "stderr",
     "output_type": "stream",
     "text": [
      "/tmp/ipykernel_2145777/308923850.py:15: RuntimeWarning: invalid value encountered in divide\n",
      "  np.nanmax((np.abs(varb_validation_genctrl_prof/varb_validation_genctrl_nolog) - 1.0) * (np.abs(varb_validation_genctrl_nolog) > 0.1*np.max(np.abs(varb_validation_genctrl_nolog)))),\n"
     ]
    }
   ],
   "source": [
    "compare(ds_validation_genctrl_nolog_ACBM5ZLC, ds_validation_genctrl_prof_realACBM5ZLC, \"temp_c\", None, False)"
   ]
  },
  {
   "cell_type": "code",
   "execution_count": 28,
   "id": "95474e0e-2628-4e6d-9ed8-4aaa473f847d",
   "metadata": {},
   "outputs": [
    {
     "name": "stderr",
     "output_type": "stream",
     "text": [
      "/tmp/ipykernel_2145777/144168397.py:2: RuntimeWarning: divide by zero encountered in log10\n",
      "  log_omega_c = np.where(data > 0, np.log10(data), -10)\n"
     ]
    },
    {
     "name": "stdout",
     "output_type": "stream",
     "text": [
      "-538836.4406157025 -539018.9949423469 993110.2923554329 993401.8478193342 0.006658150156317655 0 0\n"
     ]
    },
    {
     "name": "stderr",
     "output_type": "stream",
     "text": [
      "/tmp/ipykernel_2145777/308923850.py:15: RuntimeWarning: invalid value encountered in divide\n",
      "  np.nanmax((np.abs(varb_validation_genctrl_prof/varb_validation_genctrl_nolog) - 1.0) * (np.abs(varb_validation_genctrl_nolog) > 0.1*np.max(np.abs(varb_validation_genctrl_nolog)))),\n"
     ]
    }
   ],
   "source": [
    "data = ds_grl40_bm5_paleo17a_CT4_BH0_m11ka_pkp_init['omega_c'].data\n",
    "log_omega_c = np.where(data > 0, np.log10(data), -10)\n",
    "compare(ds_validation_genctrl_nolog_ACBM5ZLC, ds_validation_genctrl_prof_realACBM5ZLC, \"omega_c\", log_omega_c, True)"
   ]
  },
  {
   "cell_type": "code",
   "execution_count": 29,
   "id": "277a1fe4-6c15-4df3-a51d-8480f39c9551",
   "metadata": {},
   "outputs": [
    {
     "name": "stdout",
     "output_type": "stream",
     "text": [
      "6.656530397531861 6.656510538334067 9.557680410937694 9.557659582997825 1.0565239023874184e-05 0 0\n"
     ]
    },
    {
     "name": "stderr",
     "output_type": "stream",
     "text": [
      "/tmp/ipykernel_2145777/3401026808.py:2: RuntimeWarning: divide by zero encountered in log10\n",
      "  log_age_c = np.where(data > 0, np.log10(data), -10)\n",
      "/tmp/ipykernel_2145777/308923850.py:15: RuntimeWarning: invalid value encountered in divide\n",
      "  np.nanmax((np.abs(varb_validation_genctrl_prof/varb_validation_genctrl_nolog) - 1.0) * (np.abs(varb_validation_genctrl_nolog) > 0.1*np.max(np.abs(varb_validation_genctrl_nolog)))),\n"
     ]
    }
   ],
   "source": [
    "data = ds_grl40_bm5_paleo17a_CT4_BH0_m11ka_pkp_init['age_c'].data\n",
    "log_age_c = np.where(data > 0, np.log10(data), -10)\n",
    "compare(ds_validation_genctrl_nolog_ACBM5ZLC, ds_validation_genctrl_prof_realACBM5ZLC, \"age_c\", log_age_c, True)"
   ]
  },
  {
   "cell_type": "code",
   "execution_count": 30,
   "id": "d4b2c5ed-c457-45dd-b05c-ce440f54f85e",
   "metadata": {},
   "outputs": [
    {
     "name": "stdout",
     "output_type": "stream",
     "text": [
      "-3496.3633617257055 -3496.5560682195855 7053.832445935527 7053.746291077227 0.0023133975856513 0 0\n"
     ]
    },
    {
     "name": "stderr",
     "output_type": "stream",
     "text": [
      "/tmp/ipykernel_2145777/308923850.py:15: RuntimeWarning: invalid value encountered in divide\n",
      "  np.nanmax((np.abs(varb_validation_genctrl_prof/varb_validation_genctrl_nolog) - 1.0) * (np.abs(varb_validation_genctrl_nolog) > 0.1*np.max(np.abs(varb_validation_genctrl_nolog)))),\n"
     ]
    }
   ],
   "source": [
    "compare(ds_validation_genctrl_nolog_ACBM5ZLC, ds_validation_genctrl_prof_realACBM5ZLC, \"temp_r\", None, False)"
   ]
  },
  {
   "cell_type": "code",
   "execution_count": 31,
   "id": "2fdee723-d776-45d3-94db-29a855f6863e",
   "metadata": {},
   "outputs": [
    {
     "name": "stdout",
     "output_type": "stream",
     "text": [
      "9.094947017729282e-13 1.8189894035458565e-12 54810.88181347219 54808.2608272904 0.0006581971303309953 0 0\n"
     ]
    },
    {
     "name": "stderr",
     "output_type": "stream",
     "text": [
      "/tmp/ipykernel_2145777/308923850.py:15: RuntimeWarning: invalid value encountered in divide\n",
      "  np.nanmax((np.abs(varb_validation_genctrl_prof/varb_validation_genctrl_nolog) - 1.0) * (np.abs(varb_validation_genctrl_nolog) > 0.1*np.max(np.abs(varb_validation_genctrl_nolog)))),\n"
     ]
    }
   ],
   "source": [
    "compare(ds_validation_genctrl_nolog_ACBM5ZLC, ds_validation_genctrl_prof_realACBM5ZLC, \"delta_tda\", None, False)"
   ]
  }
 ],
 "metadata": {
  "kernelspec": {
   "display_name": "py310_LRP",
   "language": "python",
   "name": "py310_lrp"
  },
  "language_info": {
   "codemirror_mode": {
    "name": "ipython",
    "version": 3
   },
   "file_extension": ".py",
   "mimetype": "text/x-python",
   "name": "python",
   "nbconvert_exporter": "python",
   "pygments_lexer": "ipython3",
   "version": "3.10.8"
  }
 },
 "nbformat": 4,
 "nbformat_minor": 5
}
