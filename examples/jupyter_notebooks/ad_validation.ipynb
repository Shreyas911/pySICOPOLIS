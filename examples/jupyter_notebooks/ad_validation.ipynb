{
 "cells": [
  {
   "cell_type": "code",
   "execution_count": 51,
   "id": "c7a6f9f6-4e93-40ab-a742-1deb6ebee6d6",
   "metadata": {},
   "outputs": [],
   "source": [
    "import numpy as np\n",
    "import xarray as xr\n",
    "import matplotlib.pyplot as plt\n",
    "import time\n",
    "\n",
    "# Paths and stuff\n",
    "import os\n",
    "import sys\n",
    "\n",
    "sys.path.append('/home/shreyas/pySICOPOLIS/src')\n",
    "from pySICOPOLIS import *"
   ]
  },
  {
   "cell_type": "code",
   "execution_count": 52,
   "id": "43cdebd1-df13-4891-a6a6-0e6942566e0b",
   "metadata": {},
   "outputs": [],
   "source": [
    "ds_grl40_bm5_paleo17a_CT4_BH0_m11ka_pkp_init = xr.open_dataset('/home/shreyas/update_to_develop_sicopolis/sicopolis_spinups/sico_out/grl40_bm5_paleo17a_CT4_BH0_8point5CS_spinup_0ka/grl40_bm5_paleo17a_CT4_BH0_8point5CS_spinup_0ka0006.nc')\n",
    "\n",
    "# Manually verify gradients in sicopolis_validation_genctrl_nolog match sicopolis_validation. A quick check of SUM(varb) for each var should suffice.\n",
    "# Once you are confident in sicopolis_validation_genctrl_nolog, use it to verify sicopolis_validation_genctrl_prof.\n",
    "sicopolis_validation_genctrl_nolog_dir = '/home/shreyas/update_to_develop_sicopolis/sicopolis_validation_genctrl_nolog'\n",
    "sicopolis_validation_genctrl_prof_dir = '/home/shreyas/update_to_develop_sicopolis/sicopolis_validation_genctrl_prof'\n",
    "\n",
    "H_data_40 = xr.open_dataset(\"/scratch2/shreyas/GrIS_paleo_data/bm5_data_40kms.nc\")\n",
    "age_data_40 = xr.open_dataset(\"/scratch2/shreyas/GrIS_paleo_data/age_data_40kms.nc\")\n",
    "\n",
    "H_data = H_data_40[\"H\"].data\n",
    "H_uncert_data = H_data_40[\"H_uncert\"].data\n",
    "zl_uncert_data = H_data_40[\"zl_uncert\"].data\n",
    "\n",
    "age_c_data = age_data_40[\"age_c\"].data\n",
    "age_c_uncert_data = age_data_40[\"age_c_uncert\"].data\n",
    "\n",
    "mask_age_c = np.zeros(age_c_data.shape)\n",
    "for kc in range(age_c_data.shape[0]):\n",
    "    for j in range(age_c_data.shape[1]):\n",
    "        for i in range(age_c_data.shape[2]):\n",
    "            if age_c_uncert_data[kc, j, i] > 0 and age_c_data[kc, j, i] >= 0 and age_c_data[kc, j, i] <= 134000 and H_data[j, i] >= 2000.0:\n",
    "                mask_age_c[kc, j, i] = 1.0"
   ]
  },
  {
   "cell_type": "code",
   "execution_count": 53,
   "id": "f0dc9dc0-169b-463c-8343-c59bd9bf6104",
   "metadata": {},
   "outputs": [
    {
     "name": "stderr",
     "output_type": "stream",
     "text": [
      "/tmp/ipykernel_1246721/1632818231.py:67: RuntimeWarning: divide by zero encountered in log10\n",
      "  log_omega_c = np.where(data > 0, np.log10(data), -10)\n",
      "/tmp/ipykernel_1246721/1632818231.py:69: RuntimeWarning: divide by zero encountered in log10\n",
      "  log_age_c = np.where(data > 0, np.log10(data), -10)\n"
     ]
    }
   ],
   "source": [
    "# Since all we need is fake sampling to get all the nercdf files including prior files, no need to change simulation name I think. \n",
    "# The generated input files should work for both cases as long as the same variables are activated in the same order.\n",
    "# NTDAMAX will have to be set to 11 in the SVC case to make it work though.\n",
    "simulation = 'grl40_bm5_paleo17a_CT4_BH0_AC_BM5_ZLC_m11ka_pkp'\n",
    "# simulation = 'grl40_bm5_paleo17a_nudged_CT4_BH0_m21ka_pkp'\n",
    "\n",
    "dict_sico_out_folder_prefixes = {\"nodiff\": \"N\",\n",
    "                                 \"tlm\": \"FORWARD\",\n",
    "                                 \"adj\": \"ADJOINT\",\n",
    "                                 \"tlm_action\": \"FORWARDHESSACTION\",\n",
    "                                 \"adj_action\": \"ADJHESSACTION\"}\n",
    "dict_ad_exec_cmds_suffixes = {\"nodiff\": \"nodiff\",\n",
    "                              \"tlm\": \"forward\",\n",
    "                              \"adj\": \"adjoint\",\n",
    "                              \"tlm_action\": \"forwardhessaction\",\n",
    "                              \"adj_action\": \"adjointhessaction\"}\n",
    "dict_ad_log_file_suffixes = {\"nodiff\": \"nodiff\",\n",
    "                             \"tlm\": \"tlm\",\n",
    "                             \"adj\": \"adj\",\n",
    "                             \"tlm_action\": \"tlm_hessaction\",\n",
    "                             \"adj_action\": \"adj_hessaction\"}\n",
    "dict_ad_nc_suffixes = {\"nodiff\": \"nodiff\",\n",
    "                       \"tlm\": \"tlm\",\n",
    "                       \"adj\": \"adj\",\n",
    "                       \"tlm_action\": \"tlm_hessaction\",\n",
    "                       \"adj_action\": \"adj_hessaction\"}\n",
    "\n",
    "KCMAX = 80\n",
    "exp_sigma_level = dataCleaner.exp_sigma_level(zeta = np.arange(0,1+1./KCMAX,1./KCMAX),\n",
    "                                              exponent = 2.0)\n",
    "KRMAX = 40\n",
    "zeta_r = np.arange(0.,1. + 1.0/KRMAX, 1.0/KRMAX)\n",
    "xModel40       = np.arange(-72.,97.,4.0)*10\n",
    "yModel40       = np.arange(-345.,-56.,4.0)*10\n",
    "time_ad = np.arange(12, dtype=float)\n",
    "IMAX = xModel40.shape[0]-1\n",
    "JMAX = yModel40.shape[0]-1\n",
    "NTDAMAX = time_ad.shape[0]-1\n",
    "\n",
    "delta_tda_const = np.zeros((JMAX+1, IMAX+1), dtype=float)\n",
    "data = ds_grl40_bm5_paleo17a_CT4_BH0_m11ka_pkp_init['q_geo'].data\n",
    "log_q_geo = np.where(data > 0, np.log10(data), -10)\n",
    "zs = np.zeros((JMAX+1, IMAX+1), dtype=float)\n",
    "zl = np.zeros((JMAX+1, IMAX+1), dtype=float)\n",
    "zl0 = np.zeros((JMAX+1, IMAX+1), dtype=float)\n",
    "zb = np.zeros((JMAX+1, IMAX+1), dtype=float)\n",
    "\n",
    "log_c_dis_da = np.log10(15659.0)\n",
    "log_c_slide_init = np.log10(0.85)*np.ones((JMAX+1, IMAX+1))\n",
    "log_gamma_s = np.log10(0.070458)*np.ones((JMAX+1, IMAX+1))\n",
    "log_s_stat = np.log10(5.0)\n",
    "log_beta1 = np.log10(2.73)\n",
    "log_beta2 = np.log10(7.28)\n",
    "log_Pmax = np.log10(0.6)\n",
    "log_mu = np.log10(9.7155)\n",
    "log_RHO_A = np.log10(3300.0)\n",
    "log_time_lag_asth = np.log10(3000.0)\n",
    "log_flex_rig_lith = np.log10(1.e25)*np.ones((JMAX+1, IMAX+1))\n",
    "log_p_weert = np.log10(3.0)\n",
    "log_q_weert = np.log10(2.0)\n",
    "log_enh_fact_da_dummy2d_scalar = np.log10(3.0)\n",
    "log_enh_intg_da_dummy2d_scalar = np.log10(1.0)\n",
    "log_n_glen_da_dummy2d_scalar = np.log10(3.0)\n",
    "\n",
    "temp_c = np.zeros((KCMAX+1, JMAX+1, IMAX+1), dtype=float)\n",
    "data = ds_grl40_bm5_paleo17a_CT4_BH0_m11ka_pkp_init['omega_c'].data\n",
    "log_omega_c = np.where(data > 0, np.log10(data), -10)\n",
    "data = ds_grl40_bm5_paleo17a_CT4_BH0_m11ka_pkp_init['age_c'].data\n",
    "log_age_c = np.where(data > 0, np.log10(data), -10)\n",
    "\n",
    "temp_r = np.zeros((KRMAX+1, JMAX+1, IMAX+1), dtype=float)\n",
    "\n",
    "delta_tda = np.zeros((NTDAMAX+1, JMAX+1, IMAX+1), dtype=float)\n",
    "\n",
    "dict_og_params_fields_vals = {\"xx_c_slide_init\": log_c_slide_init,\n",
    "                              \"xx_delta_tda_const\": delta_tda_const,\n",
    "                              \"xx_c_dis_da\": log_c_dis_da,\n",
    "                              \"xx_q_geo\": log_q_geo,\n",
    "                              \"xx_gamma_s\": log_gamma_s,\n",
    "                              \"xx_s_stat\": log_s_stat,\n",
    "                              \"xx_beta1\": log_beta1,\n",
    "                              \"xx_beta2\": log_beta2,\n",
    "                              \"xx_Pmax\": log_Pmax,\n",
    "                              \"xx_mu\": log_mu,\n",
    "                              \"xx_RHO_A\": log_RHO_A,\n",
    "                              \"xx_time_lag_asth\": log_time_lag_asth,\n",
    "                              \"xx_flex_rig_lith\": log_flex_rig_lith,\n",
    "                              \"xx_p_weert\": log_p_weert,\n",
    "                              \"xx_q_weert\": log_q_weert,\n",
    "                              \"xx_enh_fact_da_dummy2d_scalar\": log_enh_fact_da_dummy2d_scalar,\n",
    "                              \"xx_enh_intg_da_dummy2d_scalar\": log_enh_intg_da_dummy2d_scalar,\n",
    "                              \"xx_n_glen_da_dummy2d_scalar\": log_n_glen_da_dummy2d_scalar,\n",
    "                              \"xx_zs\": zs,\n",
    "                              \"xx_zl\": zl,\n",
    "                              \"xx_zl0\": zl0,\n",
    "                              \"xx_zb\": zb,\n",
    "                              \"xx_temp_c\": temp_c,\n",
    "                              \"xx_omega_c\": log_omega_c,\n",
    "                              \"xx_age_c\": log_age_c,\n",
    "                              \"xx_temp_r\": temp_r,\n",
    "                              \"xx_delta_tda\": delta_tda}\n",
    "\n",
    "dict_og_params_fields_vals_nolog = {\"xx_c_slide_init\": np.zeros((JMAX+1, IMAX+1), dtype=float),\n",
    "                                    \"xx_delta_tda_const\": np.zeros((JMAX+1, IMAX+1), dtype=float),\n",
    "                                    \"xx_c_dis_da\": 0.0,\n",
    "                                    \"xx_q_geo\": np.zeros((JMAX+1, IMAX+1), dtype=float),\n",
    "                                    \"xx_gamma_s\": np.zeros((JMAX+1, IMAX+1), dtype=float),\n",
    "                                    \"xx_s_stat\": 0.0,\n",
    "                                    \"xx_beta1\": 0.0,\n",
    "                                    \"xx_beta2\": 0.0,\n",
    "                                    \"xx_Pmax\": 0.0,\n",
    "                                    \"xx_mu\": 0.0,\n",
    "                                    \"xx_RHO_A\": 0.0,\n",
    "                                    \"xx_time_lag_asth\": 0.0,\n",
    "                                    \"xx_flex_rig_lith\": np.zeros((JMAX+1, IMAX+1), dtype=float),\n",
    "                                    \"xx_p_weert\": 0.0,\n",
    "                                    \"xx_q_weert\": 0.0,\n",
    "                                    \"xx_enh_fact_da_dummy2d_scalar\": 0.0,\n",
    "                                    \"xx_enh_intg_da_dummy2d_scalar\": 0.0,\n",
    "                                    \"xx_n_glen_da_dummy2d_scalar\": 0.0,\n",
    "                                    \"xx_zs\": np.zeros((JMAX+1, IMAX+1), dtype=float),\n",
    "                                    \"xx_zl\": np.zeros((JMAX+1, IMAX+1), dtype=float),\n",
    "                                    \"xx_zl0\": np.zeros((JMAX+1, IMAX+1), dtype=float),\n",
    "                                    \"xx_zb\": np.zeros((JMAX+1, IMAX+1), dtype=float),\n",
    "                                    \"xx_temp_c\": np.zeros((KCMAX+1, JMAX+1, IMAX+1), dtype=float),\n",
    "                                    \"xx_omega_c\": np.zeros((KCMAX+1, JMAX+1, IMAX+1), dtype=float),\n",
    "                                    \"xx_age_c\": np.zeros((KCMAX+1, JMAX+1, IMAX+1), dtype=float),\n",
    "                                    \"xx_temp_r\": np.zeros((KRMAX+1, JMAX+1, IMAX+1), dtype=float),\n",
    "                                    \"xx_delta_tda\": np.zeros((NTDAMAX+1, JMAX+1, IMAX+1), dtype=float)}\n",
    "\n",
    "dict_params_fields_num_dims = {\"xx_c_slide_init\": \"2D\",\n",
    "                               \"xx_delta_tda_const\": \"2D\",\n",
    "                               \"xx_c_dis_da\": \"2D\",\n",
    "                               \"xx_q_geo\": \"2D\",\n",
    "                               \"xx_gamma_s\": \"2D\",\n",
    "                               \"xx_s_stat\": \"2D\",\n",
    "                               \"xx_beta1\": \"2D\",\n",
    "                               \"xx_beta2\": \"2D\",\n",
    "                               \"xx_Pmax\": \"2D\",\n",
    "                               \"xx_mu\": \"2D\",\n",
    "                               \"xx_RHO_A\": \"2D\",\n",
    "                               \"xx_time_lag_asth\": \"2D\",\n",
    "                               \"xx_flex_rig_lith\": \"2D\",\n",
    "                               \"xx_p_weert\": \"2D\",\n",
    "                               \"xx_q_weert\": \"2D\",\n",
    "                               \"xx_enh_fact_da_dummy2d_scalar\": \"2D\",\n",
    "                               \"xx_enh_intg_da_dummy2d_scalar\": \"2D\",\n",
    "                               \"xx_n_glen_da_dummy2d_scalar\": \"2D\",\n",
    "                               \"xx_zs\": \"2D\",\n",
    "                               \"xx_zl\": \"2D\",\n",
    "                               \"xx_zl0\": \"2D\",\n",
    "                               \"xx_zb\": \"2D\",\n",
    "                               \"xx_temp_c\": \"3D\",\n",
    "                               \"xx_omega_c\": \"3D\",\n",
    "                               \"xx_age_c\": \"3D\",\n",
    "                               \"xx_temp_r\": \"3DR\",\n",
    "                               \"xx_delta_tda\": \"2DT\"}\n",
    "\n",
    "dict_params_coords = {\"time_ad\": time_ad,\n",
    "                      \"zeta_c\": exp_sigma_level,\n",
    "                      \"zeta_r\": zeta_r,\n",
    "                      \"y\": yModel40,\n",
    "                      \"x\": xModel40}\n",
    "\n",
    "dict_params_attrs_type = {\"xx_c_slide_init\": \"nodiff\",\n",
    "                          \"xx_delta_tda_const\": \"nodiff\",\n",
    "                          \"xx_c_dis_da\": \"nodiff\",\n",
    "                          \"xx_q_geo\": \"nodiff\",\n",
    "                          \"xx_gamma_s\": \"nodiff\",\n",
    "                          \"xx_s_stat\": \"nodiff\",\n",
    "                          \"xx_beta1\": \"nodiff\",\n",
    "                          \"xx_beta2\": \"nodiff\",\n",
    "                          \"xx_Pmax\": \"nodiff\",\n",
    "                          \"xx_mu\": \"nodiff\",\n",
    "                          \"xx_RHO_A\": \"nodiff\",\n",
    "                          \"xx_time_lag_asth\": \"nodiff\",\n",
    "                          \"xx_flex_rig_lith\": \"nodiff\",\n",
    "                          \"xx_p_weert\": \"nodiff\",\n",
    "                          \"xx_q_weert\": \"nodiff\",\n",
    "                          \"xx_enh_fact_da_dummy2d_scalar\": \"nodiff\",\n",
    "                          \"xx_enh_intg_da_dummy2d_scalar\": \"nodiff\",\n",
    "                          \"xx_n_glen_da_dummy2d_scalar\": \"nodiff\",\n",
    "                          \"xx_zs\": \"nodiff\",\n",
    "                          \"xx_zl\": \"nodiff\",\n",
    "                          \"xx_zl0\": \"nodiff\",\n",
    "                          \"xx_zb\": \"nodiff\",\n",
    "                          \"xx_temp_c\": \"nodiff\",\n",
    "                          \"xx_omega_c\": \"nodiff\",\n",
    "                          \"xx_age_c\": \"nodiff\",\n",
    "                          \"xx_temp_r\": \"nodiff\",\n",
    "                          \"xx_delta_tda\": \"nodiff\"}\n",
    "\n",
    "dict_params_fields_or_scalars = {\"xx_c_slide_init\": \"field\",\n",
    "                                 \"xx_delta_tda_const\": \"field\",\n",
    "                                 \"xx_c_dis_da\": \"scalar\",\n",
    "                                 \"xx_q_geo\": \"field\",\n",
    "                                 \"xx_gamma_s\": \"field\",\n",
    "                                 \"xx_s_stat\": \"scalar\",\n",
    "                                 \"xx_beta1\": \"scalar\",\n",
    "                                 \"xx_beta2\": \"scalar\",\n",
    "                                 \"xx_Pmax\": \"scalar\",\n",
    "                                 \"xx_mu\": \"scalar\",\n",
    "                                 \"xx_RHO_A\": \"scalar\",\n",
    "                                 \"xx_time_lag_asth\": \"scalar\",\n",
    "                                 \"xx_flex_rig_lith\": \"field\",\n",
    "                                 \"xx_p_weert\": \"scalar\",\n",
    "                                 \"xx_q_weert\": \"scalar\",\n",
    "                                 \"xx_enh_fact_da_dummy2d_scalar\": \"scalar\",\n",
    "                                 \"xx_enh_intg_da_dummy2d_scalar\": \"scalar\",\n",
    "                                 \"xx_n_glen_da_dummy2d_scalar\": \"scalar\",\n",
    "                                 \"xx_zs\": \"field\",\n",
    "                                 \"xx_zl\": \"field\",\n",
    "                                 \"xx_zl0\": \"field\",\n",
    "                                 \"xx_zb\": \"field\",\n",
    "                                 \"xx_temp_c\": \"field\",\n",
    "                                 \"xx_omega_c\": \"field\",\n",
    "                                 \"xx_age_c\": \"field\",\n",
    "                                 \"xx_temp_r\": \"field\",\n",
    "                                 \"xx_delta_tda\": \"field\"}\n",
    "\n",
    "year2sec = 3.1556925445e+07\n",
    "dict_masks_observables = {\"H\": H_uncert_data**(-2),\n",
    "                          \"zl\": zl_uncert_data**(-2),\n",
    "                          \"age_c\": mask_age_c*(age_c_uncert_data*year2sec)**(-2)}\n",
    "\n",
    "dict_prior_sigmas = {\"xx_c_slide_init\": 0.3,\n",
    "                     \"xx_delta_tda_const\": 0.3,\n",
    "                     \"xx_c_dis_da\": 0.3,\n",
    "                     \"xx_q_geo\": 0.3,\n",
    "                     \"xx_gamma_s\": 0.3,\n",
    "                     \"xx_s_stat\": 0.3,\n",
    "                     \"xx_beta1\": 0.3,\n",
    "                     \"xx_beta2\": 0.3,\n",
    "                     \"xx_Pmax\": 0.3,\n",
    "                     \"xx_mu\": 0.3,\n",
    "                     \"xx_RHO_A\": 0.3,\n",
    "                     \"xx_time_lag_asth\": 0.3,\n",
    "                     \"xx_flex_rig_lith\": 0.3,\n",
    "                     \"xx_p_weert\": 0.3,\n",
    "                     \"xx_q_weert\": 0.3,\n",
    "                     \"xx_enh_fact_da_dummy2d_scalar\": 0.3,\n",
    "                     \"xx_enh_intg_da_dummy2d_scalar\": 0.3,\n",
    "                     \"xx_n_glen_da_dummy2d_scalar\": 0.02,\n",
    "                     \"xx_zs\": 300.0,\n",
    "                     \"xx_zl\": 300.0,\n",
    "                     \"xx_zl0\": 300.0,\n",
    "                     \"xx_zb\": 300.0,\n",
    "                     \"xx_temp_c\": 0.5,\n",
    "                     \"xx_omega_c\": 10.0,\n",
    "                     \"xx_age_c\": 0.3,\n",
    "                     \"xx_temp_r\": 0.5,\n",
    "                     \"xx_delta_tda\": 0.1}\n",
    "\n",
    "dict_prior_sigmas_nolog = {\"xx_c_slide_init\": 1.5,\n",
    "                     \"xx_delta_tda_const\": 0.1,\n",
    "                     \"xx_c_dis_da\": 1000.0,\n",
    "                     \"xx_q_geo\": 100.0,\n",
    "                     \"xx_gamma_s\": 0.01,\n",
    "                     \"xx_s_stat\": 1.0,\n",
    "                     \"xx_beta1\": 1.0,\n",
    "                     \"xx_beta2\": 1.0,\n",
    "                     \"xx_Pmax\": 1.0,\n",
    "                     \"xx_mu\": 1.0,\n",
    "                     \"xx_RHO_A\": 100.0,\n",
    "                     \"xx_time_lag_asth\": 100.0,\n",
    "                     \"xx_flex_rig_lith\": 1.e+24,\n",
    "                     \"xx_p_weert\": 1.0,\n",
    "                     \"xx_q_weert\": 1.0,\n",
    "                     \"xx_enh_fact_da_dummy2d_scalar\": 0.3,\n",
    "                     \"xx_enh_intg_da_dummy2d_scalar\": 0.3,\n",
    "                     \"xx_n_glen_da_dummy2d_scalar\": 0.2,\n",
    "                     \"xx_zs\": 300.0,\n",
    "                     \"xx_zl\": 300.0,\n",
    "                     \"xx_zl0\": 300.0,\n",
    "                     \"xx_zb\": 300.0,\n",
    "                     \"xx_temp_c\": 0.5,\n",
    "                     \"xx_omega_c\": 0.01,\n",
    "                     \"xx_age_c\": 100.0,\n",
    "                     \"xx_temp_r\": 0.5,\n",
    "                     \"xx_delta_tda\": 0.1}\n",
    "\n",
    "dict_prior_gammas = {\"xx_c_slide_init\": 1.0,\n",
    "                     \"xx_delta_tda_const\": 1.0,\n",
    "                     \"xx_c_dis_da\": 0.0,\n",
    "                     \"xx_q_geo\": 1.0,\n",
    "                     \"xx_gamma_s\": 1.0,\n",
    "                     \"xx_s_stat\": 0.0,\n",
    "                     \"xx_beta1\": 0.0,\n",
    "                     \"xx_beta2\": 0.0,\n",
    "                     \"xx_Pmax\": 0.0,\n",
    "                     \"xx_mu\": 0.0,\n",
    "                     \"xx_RHO_A\": 0.0,\n",
    "                     \"xx_time_lag_asth\": 0.0,\n",
    "                     \"xx_flex_rig_lith\": 1.0,\n",
    "                     \"xx_p_weert\": 0.0,\n",
    "                     \"xx_q_weert\": 0.0,\n",
    "                     \"xx_enh_fact_da_dummy2d_scalar\": 0.0,\n",
    "                     \"xx_enh_intg_da_dummy2d_scalar\": 0.0,\n",
    "                     \"xx_n_glen_da_dummy2d_scalar\": 0.0,\n",
    "                     \"xx_zs\": 1.0,\n",
    "                     \"xx_zl\": 1.0,\n",
    "                     \"xx_zl0\": 1.0,\n",
    "                     \"xx_zb\": 1.0,\n",
    "                     \"xx_temp_c\": 0.0,\n",
    "                     \"xx_omega_c\": 0.0,\n",
    "                     \"xx_age_c\": 0.0,\n",
    "                     \"xx_temp_r\": 0.0,\n",
    "                     \"xx_delta_tda\": 1.0}\n",
    "\n",
    "dict_prior_deltas = {\"xx_c_slide_init\": 0.001,\n",
    "                     \"xx_delta_tda_const\": 0.001,\n",
    "                     \"xx_c_dis_da\": 0.001,\n",
    "                     \"xx_q_geo\": 0.001,\n",
    "                     \"xx_gamma_s\": 0.001,\n",
    "                     \"xx_s_stat\": 0.001,\n",
    "                     \"xx_beta1\": 0.001,\n",
    "                     \"xx_beta2\": 0.001,\n",
    "                     \"xx_Pmax\": 0.001,\n",
    "                     \"xx_mu\": 0.001,\n",
    "                     \"xx_RHO_A\": 0.001,\n",
    "                     \"xx_time_lag_asth\": 0.001,\n",
    "                     \"xx_flex_rig_lith\": 0.001,\n",
    "                     \"xx_p_weert\": 0.001,\n",
    "                     \"xx_q_weert\": 0.001,\n",
    "                     \"xx_enh_fact_da_dummy2d_scalar\": 0.001,\n",
    "                     \"xx_enh_intg_da_dummy2d_scalar\": 0.001,\n",
    "                     \"xx_n_glen_da_dummy2d_scalar\": 0.001,\n",
    "                     \"xx_zs\": 0.001,\n",
    "                     \"xx_zl\": 0.001,\n",
    "                     \"xx_zl0\": 0.001,\n",
    "                     \"xx_zb\": 0.001,\n",
    "                     \"xx_temp_c\": 0.001,\n",
    "                     \"xx_omega_c\": 0.001,\n",
    "                     \"xx_age_c\": 0.001,\n",
    "                     \"xx_temp_r\": 0.001,\n",
    "                     \"xx_delta_tda\": 0.001}\n",
    "\n",
    "list_fields_to_ignore = None\n",
    "MAX_ITERS_SOR = 50\n",
    "OMEGA_SOR = 1.5\n",
    "\n",
    "## Use only when you want to generate the ad_input files.\n",
    "# _ = optim.DataAssimilation(sicopolis_validation_genctrl_nolog_dir, simulation,\n",
    "#                             dict_sico_out_folder_prefixes, dict_ad_exec_cmds_suffixes,\n",
    "#                             dict_ad_log_file_suffixes, dict_ad_nc_suffixes,\n",
    "#                             dict_og_params_fields_vals_nolog, dict_params_fields_num_dims, \n",
    "#                             dict_params_coords, dict_params_attrs_type, dict_params_fields_or_scalars, dict_masks_observables,\n",
    "#                             dict_prior_sigmas_nolog, dict_prior_gammas, dict_prior_deltas,\n",
    "#                             MAX_ITERS_SOR, OMEGA_SOR, list_fields_to_ignore, False, None, \"/scratch2/shreyas/ad_validation_genctrl_nolog\", 10, None)\n",
    "\n",
    "# _ = optim.DataAssimilation(sicopolis_validation_genctrl_prof_dir, simulation,\n",
    "#                             dict_sico_out_folder_prefixes, dict_ad_exec_cmds_suffixes,\n",
    "#                             dict_ad_log_file_suffixes, dict_ad_nc_suffixes,\n",
    "#                             dict_og_params_fields_vals, dict_params_fields_num_dims, \n",
    "#                             dict_params_coords, dict_params_attrs_type, dict_params_fields_or_scalars, dict_masks_observables,\n",
    "#                             dict_prior_sigmas, dict_prior_gammas, dict_prior_deltas,\n",
    "#                             MAX_ITERS_SOR, OMEGA_SOR, list_fields_to_ignore, False, None, \"/scratch2/shreyas/ad_validation_genctrl_prof\", 10, None)"
   ]
  },
  {
   "cell_type": "code",
   "execution_count": 54,
   "id": "fbffb8de-69b5-4c6a-b4e2-87f3b249aa5b",
   "metadata": {},
   "outputs": [],
   "source": [
    "### GO TO THE TERMINAL AND RUN THE ADJOINTS IN BOTH DIRS NOW BEFORE RUNNING THE REST OF THIS NOTEBOOK."
   ]
  },
  {
   "cell_type": "code",
   "execution_count": 62,
   "id": "41a9e520-2b15-4cb2-a364-c82ff827f446",
   "metadata": {},
   "outputs": [],
   "source": [
    "ds_validation_genctrl_nolog = xr.open_dataset(sicopolis_validation_genctrl_nolog_dir + \"/src/subroutines/tapenade/ad_io/ad_output_SVC_nudged_m21ka_pkp_adj_genctrl_nooptim_noprof.nc\")\n",
    "# ds_validation_genctrl_prof = xr.open_dataset(sicopolis_validation_genctrl_prof_dir + \"/src/subroutines/tapenade/ad_io/ad_output_AC_BM5_ZLC_m11ka_pkp_adj.nc\")"
   ]
  },
  {
   "cell_type": "code",
   "execution_count": 63,
   "id": "363f58fa-4afe-401d-a372-a7bd05b56829",
   "metadata": {},
   "outputs": [
    {
     "data": {
      "text/html": [
       "<div><svg style=\"position: absolute; width: 0; height: 0; overflow: hidden\">\n",
       "<defs>\n",
       "<symbol id=\"icon-database\" viewBox=\"0 0 32 32\">\n",
       "<path d=\"M16 0c-8.837 0-16 2.239-16 5v4c0 2.761 7.163 5 16 5s16-2.239 16-5v-4c0-2.761-7.163-5-16-5z\"></path>\n",
       "<path d=\"M16 17c-8.837 0-16-2.239-16-5v6c0 2.761 7.163 5 16 5s16-2.239 16-5v-6c0 2.761-7.163 5-16 5z\"></path>\n",
       "<path d=\"M16 26c-8.837 0-16-2.239-16-5v6c0 2.761 7.163 5 16 5s16-2.239 16-5v-6c0 2.761-7.163 5-16 5z\"></path>\n",
       "</symbol>\n",
       "<symbol id=\"icon-file-text2\" viewBox=\"0 0 32 32\">\n",
       "<path d=\"M28.681 7.159c-0.694-0.947-1.662-2.053-2.724-3.116s-2.169-2.030-3.116-2.724c-1.612-1.182-2.393-1.319-2.841-1.319h-15.5c-1.378 0-2.5 1.121-2.5 2.5v27c0 1.378 1.122 2.5 2.5 2.5h23c1.378 0 2.5-1.122 2.5-2.5v-19.5c0-0.448-0.137-1.23-1.319-2.841zM24.543 5.457c0.959 0.959 1.712 1.825 2.268 2.543h-4.811v-4.811c0.718 0.556 1.584 1.309 2.543 2.268zM28 29.5c0 0.271-0.229 0.5-0.5 0.5h-23c-0.271 0-0.5-0.229-0.5-0.5v-27c0-0.271 0.229-0.5 0.5-0.5 0 0 15.499-0 15.5 0v7c0 0.552 0.448 1 1 1h7v19.5z\"></path>\n",
       "<path d=\"M23 26h-14c-0.552 0-1-0.448-1-1s0.448-1 1-1h14c0.552 0 1 0.448 1 1s-0.448 1-1 1z\"></path>\n",
       "<path d=\"M23 22h-14c-0.552 0-1-0.448-1-1s0.448-1 1-1h14c0.552 0 1 0.448 1 1s-0.448 1-1 1z\"></path>\n",
       "<path d=\"M23 18h-14c-0.552 0-1-0.448-1-1s0.448-1 1-1h14c0.552 0 1 0.448 1 1s-0.448 1-1 1z\"></path>\n",
       "</symbol>\n",
       "</defs>\n",
       "</svg>\n",
       "<style>/* CSS stylesheet for displaying xarray objects in jupyterlab.\n",
       " *\n",
       " */\n",
       "\n",
       ":root {\n",
       "  --xr-font-color0: var(--jp-content-font-color0, rgba(0, 0, 0, 1));\n",
       "  --xr-font-color2: var(--jp-content-font-color2, rgba(0, 0, 0, 0.54));\n",
       "  --xr-font-color3: var(--jp-content-font-color3, rgba(0, 0, 0, 0.38));\n",
       "  --xr-border-color: var(--jp-border-color2, #e0e0e0);\n",
       "  --xr-disabled-color: var(--jp-layout-color3, #bdbdbd);\n",
       "  --xr-background-color: var(--jp-layout-color0, white);\n",
       "  --xr-background-color-row-even: var(--jp-layout-color1, white);\n",
       "  --xr-background-color-row-odd: var(--jp-layout-color2, #eeeeee);\n",
       "}\n",
       "\n",
       "html[theme=\"dark\"],\n",
       "html[data-theme=\"dark\"],\n",
       "body[data-theme=\"dark\"],\n",
       "body.vscode-dark {\n",
       "  --xr-font-color0: rgba(255, 255, 255, 1);\n",
       "  --xr-font-color2: rgba(255, 255, 255, 0.54);\n",
       "  --xr-font-color3: rgba(255, 255, 255, 0.38);\n",
       "  --xr-border-color: #1f1f1f;\n",
       "  --xr-disabled-color: #515151;\n",
       "  --xr-background-color: #111111;\n",
       "  --xr-background-color-row-even: #111111;\n",
       "  --xr-background-color-row-odd: #313131;\n",
       "}\n",
       "\n",
       ".xr-wrap {\n",
       "  display: block !important;\n",
       "  min-width: 300px;\n",
       "  max-width: 700px;\n",
       "}\n",
       "\n",
       ".xr-text-repr-fallback {\n",
       "  /* fallback to plain text repr when CSS is not injected (untrusted notebook) */\n",
       "  display: none;\n",
       "}\n",
       "\n",
       ".xr-header {\n",
       "  padding-top: 6px;\n",
       "  padding-bottom: 6px;\n",
       "  margin-bottom: 4px;\n",
       "  border-bottom: solid 1px var(--xr-border-color);\n",
       "}\n",
       "\n",
       ".xr-header > div,\n",
       ".xr-header > ul {\n",
       "  display: inline;\n",
       "  margin-top: 0;\n",
       "  margin-bottom: 0;\n",
       "}\n",
       "\n",
       ".xr-obj-type,\n",
       ".xr-array-name {\n",
       "  margin-left: 2px;\n",
       "  margin-right: 10px;\n",
       "}\n",
       "\n",
       ".xr-obj-type {\n",
       "  color: var(--xr-font-color2);\n",
       "}\n",
       "\n",
       ".xr-sections {\n",
       "  padding-left: 0 !important;\n",
       "  display: grid;\n",
       "  grid-template-columns: 150px auto auto 1fr 0 20px 0 20px;\n",
       "}\n",
       "\n",
       ".xr-section-item {\n",
       "  display: contents;\n",
       "}\n",
       "\n",
       ".xr-section-item input {\n",
       "  display: inline-block;\n",
       "  opacity: 0;\n",
       "  height: 0;\n",
       "}\n",
       "\n",
       ".xr-section-item input + label {\n",
       "  color: var(--xr-disabled-color);\n",
       "}\n",
       "\n",
       ".xr-section-item input:enabled + label {\n",
       "  cursor: pointer;\n",
       "  color: var(--xr-font-color2);\n",
       "}\n",
       "\n",
       ".xr-section-item input:focus + label {\n",
       "  border: 2px solid var(--xr-font-color0);\n",
       "}\n",
       "\n",
       ".xr-section-item input:enabled + label:hover {\n",
       "  color: var(--xr-font-color0);\n",
       "}\n",
       "\n",
       ".xr-section-summary {\n",
       "  grid-column: 1;\n",
       "  color: var(--xr-font-color2);\n",
       "  font-weight: 500;\n",
       "}\n",
       "\n",
       ".xr-section-summary > span {\n",
       "  display: inline-block;\n",
       "  padding-left: 0.5em;\n",
       "}\n",
       "\n",
       ".xr-section-summary-in:disabled + label {\n",
       "  color: var(--xr-font-color2);\n",
       "}\n",
       "\n",
       ".xr-section-summary-in + label:before {\n",
       "  display: inline-block;\n",
       "  content: \"►\";\n",
       "  font-size: 11px;\n",
       "  width: 15px;\n",
       "  text-align: center;\n",
       "}\n",
       "\n",
       ".xr-section-summary-in:disabled + label:before {\n",
       "  color: var(--xr-disabled-color);\n",
       "}\n",
       "\n",
       ".xr-section-summary-in:checked + label:before {\n",
       "  content: \"▼\";\n",
       "}\n",
       "\n",
       ".xr-section-summary-in:checked + label > span {\n",
       "  display: none;\n",
       "}\n",
       "\n",
       ".xr-section-summary,\n",
       ".xr-section-inline-details {\n",
       "  padding-top: 4px;\n",
       "  padding-bottom: 4px;\n",
       "}\n",
       "\n",
       ".xr-section-inline-details {\n",
       "  grid-column: 2 / -1;\n",
       "}\n",
       "\n",
       ".xr-section-details {\n",
       "  display: none;\n",
       "  grid-column: 1 / -1;\n",
       "  margin-bottom: 5px;\n",
       "}\n",
       "\n",
       ".xr-section-summary-in:checked ~ .xr-section-details {\n",
       "  display: contents;\n",
       "}\n",
       "\n",
       ".xr-array-wrap {\n",
       "  grid-column: 1 / -1;\n",
       "  display: grid;\n",
       "  grid-template-columns: 20px auto;\n",
       "}\n",
       "\n",
       ".xr-array-wrap > label {\n",
       "  grid-column: 1;\n",
       "  vertical-align: top;\n",
       "}\n",
       "\n",
       ".xr-preview {\n",
       "  color: var(--xr-font-color3);\n",
       "}\n",
       "\n",
       ".xr-array-preview,\n",
       ".xr-array-data {\n",
       "  padding: 0 5px !important;\n",
       "  grid-column: 2;\n",
       "}\n",
       "\n",
       ".xr-array-data,\n",
       ".xr-array-in:checked ~ .xr-array-preview {\n",
       "  display: none;\n",
       "}\n",
       "\n",
       ".xr-array-in:checked ~ .xr-array-data,\n",
       ".xr-array-preview {\n",
       "  display: inline-block;\n",
       "}\n",
       "\n",
       ".xr-dim-list {\n",
       "  display: inline-block !important;\n",
       "  list-style: none;\n",
       "  padding: 0 !important;\n",
       "  margin: 0;\n",
       "}\n",
       "\n",
       ".xr-dim-list li {\n",
       "  display: inline-block;\n",
       "  padding: 0;\n",
       "  margin: 0;\n",
       "}\n",
       "\n",
       ".xr-dim-list:before {\n",
       "  content: \"(\";\n",
       "}\n",
       "\n",
       ".xr-dim-list:after {\n",
       "  content: \")\";\n",
       "}\n",
       "\n",
       ".xr-dim-list li:not(:last-child):after {\n",
       "  content: \",\";\n",
       "  padding-right: 5px;\n",
       "}\n",
       "\n",
       ".xr-has-index {\n",
       "  font-weight: bold;\n",
       "}\n",
       "\n",
       ".xr-var-list,\n",
       ".xr-var-item {\n",
       "  display: contents;\n",
       "}\n",
       "\n",
       ".xr-var-item > div,\n",
       ".xr-var-item label,\n",
       ".xr-var-item > .xr-var-name span {\n",
       "  background-color: var(--xr-background-color-row-even);\n",
       "  margin-bottom: 0;\n",
       "}\n",
       "\n",
       ".xr-var-item > .xr-var-name:hover span {\n",
       "  padding-right: 5px;\n",
       "}\n",
       "\n",
       ".xr-var-list > li:nth-child(odd) > div,\n",
       ".xr-var-list > li:nth-child(odd) > label,\n",
       ".xr-var-list > li:nth-child(odd) > .xr-var-name span {\n",
       "  background-color: var(--xr-background-color-row-odd);\n",
       "}\n",
       "\n",
       ".xr-var-name {\n",
       "  grid-column: 1;\n",
       "}\n",
       "\n",
       ".xr-var-dims {\n",
       "  grid-column: 2;\n",
       "}\n",
       "\n",
       ".xr-var-dtype {\n",
       "  grid-column: 3;\n",
       "  text-align: right;\n",
       "  color: var(--xr-font-color2);\n",
       "}\n",
       "\n",
       ".xr-var-preview {\n",
       "  grid-column: 4;\n",
       "}\n",
       "\n",
       ".xr-index-preview {\n",
       "  grid-column: 2 / 5;\n",
       "  color: var(--xr-font-color2);\n",
       "}\n",
       "\n",
       ".xr-var-name,\n",
       ".xr-var-dims,\n",
       ".xr-var-dtype,\n",
       ".xr-preview,\n",
       ".xr-attrs dt {\n",
       "  white-space: nowrap;\n",
       "  overflow: hidden;\n",
       "  text-overflow: ellipsis;\n",
       "  padding-right: 10px;\n",
       "}\n",
       "\n",
       ".xr-var-name:hover,\n",
       ".xr-var-dims:hover,\n",
       ".xr-var-dtype:hover,\n",
       ".xr-attrs dt:hover {\n",
       "  overflow: visible;\n",
       "  width: auto;\n",
       "  z-index: 1;\n",
       "}\n",
       "\n",
       ".xr-var-attrs,\n",
       ".xr-var-data,\n",
       ".xr-index-data {\n",
       "  display: none;\n",
       "  background-color: var(--xr-background-color) !important;\n",
       "  padding-bottom: 5px !important;\n",
       "}\n",
       "\n",
       ".xr-var-attrs-in:checked ~ .xr-var-attrs,\n",
       ".xr-var-data-in:checked ~ .xr-var-data,\n",
       ".xr-index-data-in:checked ~ .xr-index-data {\n",
       "  display: block;\n",
       "}\n",
       "\n",
       ".xr-var-data > table {\n",
       "  float: right;\n",
       "}\n",
       "\n",
       ".xr-var-name span,\n",
       ".xr-var-data,\n",
       ".xr-index-name div,\n",
       ".xr-index-data,\n",
       ".xr-attrs {\n",
       "  padding-left: 25px !important;\n",
       "}\n",
       "\n",
       ".xr-attrs,\n",
       ".xr-var-attrs,\n",
       ".xr-var-data,\n",
       ".xr-index-data {\n",
       "  grid-column: 1 / -1;\n",
       "}\n",
       "\n",
       "dl.xr-attrs {\n",
       "  padding: 0;\n",
       "  margin: 0;\n",
       "  display: grid;\n",
       "  grid-template-columns: 125px auto;\n",
       "}\n",
       "\n",
       ".xr-attrs dt,\n",
       ".xr-attrs dd {\n",
       "  padding: 0;\n",
       "  margin: 0;\n",
       "  float: left;\n",
       "  padding-right: 10px;\n",
       "  width: auto;\n",
       "}\n",
       "\n",
       ".xr-attrs dt {\n",
       "  font-weight: normal;\n",
       "  grid-column: 1;\n",
       "}\n",
       "\n",
       ".xr-attrs dt:hover span {\n",
       "  display: inline-block;\n",
       "  background: var(--xr-background-color);\n",
       "  padding-right: 10px;\n",
       "}\n",
       "\n",
       ".xr-attrs dd {\n",
       "  grid-column: 2;\n",
       "  white-space: pre-wrap;\n",
       "  word-break: break-all;\n",
       "}\n",
       "\n",
       ".xr-icon-database,\n",
       ".xr-icon-file-text2,\n",
       ".xr-no-icon {\n",
       "  display: inline-block;\n",
       "  vertical-align: middle;\n",
       "  width: 1em;\n",
       "  height: 1.5em !important;\n",
       "  stroke-width: 0;\n",
       "  stroke: currentColor;\n",
       "  fill: currentColor;\n",
       "}\n",
       "</style><pre class='xr-text-repr-fallback'>&lt;xarray.Dataset&gt; Size: 16MB\n",
       "Dimensions:                         (x: 43, y: 73, zeta_c: 81, zeta_r: 41,\n",
       "                                     time_ad: 12, fc_dummy_dim: 1)\n",
       "Coordinates:\n",
       "  * x                               (x) float64 344B -7.2e+05 ... 9.6e+05\n",
       "  * y                               (y) float64 584B -3.45e+06 ... -5.7e+05\n",
       "  * zeta_r                          (zeta_r) float64 328B 0.0 0.025 ... 1.0\n",
       "  * time_ad                         (time_ad) float64 96B 0.0 ... 2.1e+04\n",
       "Dimensions without coordinates: zeta_c, fc_dummy_dim\n",
       "Data variables: (12/65)\n",
       "    sigma_level_c                   (zeta_c) float64 648B ...\n",
       "    fc                              (fc_dummy_dim) float64 8B ...\n",
       "    fc_data                         (fc_dummy_dim) float64 8B ...\n",
       "    fc_bm5                          (fc_dummy_dim) float64 8B ...\n",
       "    fc_ac                           (fc_dummy_dim) float64 8B ...\n",
       "    fc_svc                          (fc_dummy_dim) float64 8B ...\n",
       "    ...                              ...\n",
       "    xx_age_c                        (zeta_c, y, x) float64 2MB ...\n",
       "    xx_age_cb                       (zeta_c, y, x) float64 2MB ...\n",
       "    xx_temp_r                       (zeta_r, y, x) float64 1MB ...\n",
       "    xx_temp_rb                      (zeta_r, y, x) float64 1MB ...\n",
       "    xx_delta_tda                    (time_ad, y, x) float64 301kB ...\n",
       "    xx_delta_tdab                   (time_ad, y, x) float64 301kB ...\n",
       "Attributes:\n",
       "    history:  2025-07-02 09:41:34 -05:00 - Data produced</pre><div class='xr-wrap' style='display:none'><div class='xr-header'><div class='xr-obj-type'>xarray.Dataset</div></div><ul class='xr-sections'><li class='xr-section-item'><input id='section-cfe8602e-360d-44b6-9a84-ff395573aa6c' class='xr-section-summary-in' type='checkbox' disabled ><label for='section-cfe8602e-360d-44b6-9a84-ff395573aa6c' class='xr-section-summary'  title='Expand/collapse section'>Dimensions:</label><div class='xr-section-inline-details'><ul class='xr-dim-list'><li><span class='xr-has-index'>x</span>: 43</li><li><span class='xr-has-index'>y</span>: 73</li><li><span>zeta_c</span>: 81</li><li><span class='xr-has-index'>zeta_r</span>: 41</li><li><span class='xr-has-index'>time_ad</span>: 12</li><li><span>fc_dummy_dim</span>: 1</li></ul></div><div class='xr-section-details'></div></li><li class='xr-section-item'><input id='section-bb23e115-4ae9-4466-b30d-fe14988200a8' class='xr-section-summary-in' type='checkbox'  checked><label for='section-bb23e115-4ae9-4466-b30d-fe14988200a8' class='xr-section-summary' >Coordinates: <span>(4)</span></label><div class='xr-section-inline-details'></div><div class='xr-section-details'><ul class='xr-var-list'><li class='xr-var-item'><div class='xr-var-name'><span class='xr-has-index'>x</span></div><div class='xr-var-dims'>(x)</div><div class='xr-var-dtype'>float64</div><div class='xr-var-preview xr-preview'>-7.2e+05 -6.8e+05 ... 9.6e+05</div><input id='attrs-24cc63d2-eddc-49a7-bfb5-4c3d742bad21' class='xr-var-attrs-in' type='checkbox' ><label for='attrs-24cc63d2-eddc-49a7-bfb5-4c3d742bad21' title='Show/Hide attributes'><svg class='icon xr-icon-file-text2'><use xlink:href='#icon-file-text2'></use></svg></label><input id='data-773f7979-bffc-4ee8-99f2-70cacfd5c94f' class='xr-var-data-in' type='checkbox'><label for='data-773f7979-bffc-4ee8-99f2-70cacfd5c94f' title='Show/Hide data repr'><svg class='icon xr-icon-database'><use xlink:href='#icon-database'></use></svg></label><div class='xr-var-attrs'><dl class='xr-attrs'><dt><span>units :</span></dt><dd>m</dd><dt><span>standard_name :</span></dt><dd>projection_x_coordinate</dd><dt><span>long_name :</span></dt><dd>x-coordinate of the grid point i</dd><dt><span>axis :</span></dt><dd>x</dd></dl></div><div class='xr-var-data'><pre>array([-720000., -680000., -640000., -600000., -560000., -520000., -480000.,\n",
       "       -440000., -400000., -360000., -320000., -280000., -240000., -200000.,\n",
       "       -160000., -120000.,  -80000.,  -40000.,       0.,   40000.,   80000.,\n",
       "        120000.,  160000.,  200000.,  240000.,  280000.,  320000.,  360000.,\n",
       "        400000.,  440000.,  480000.,  520000.,  560000.,  600000.,  640000.,\n",
       "        680000.,  720000.,  760000.,  800000.,  840000.,  880000.,  920000.,\n",
       "        960000.])</pre></div></li><li class='xr-var-item'><div class='xr-var-name'><span class='xr-has-index'>y</span></div><div class='xr-var-dims'>(y)</div><div class='xr-var-dtype'>float64</div><div class='xr-var-preview xr-preview'>-3.45e+06 -3.41e+06 ... -5.7e+05</div><input id='attrs-1eca386a-5ecc-445a-900b-2b408b21ddbd' class='xr-var-attrs-in' type='checkbox' ><label for='attrs-1eca386a-5ecc-445a-900b-2b408b21ddbd' title='Show/Hide attributes'><svg class='icon xr-icon-file-text2'><use xlink:href='#icon-file-text2'></use></svg></label><input id='data-cee4de61-5e6b-42ad-b9ec-14fc0569e3cc' class='xr-var-data-in' type='checkbox'><label for='data-cee4de61-5e6b-42ad-b9ec-14fc0569e3cc' title='Show/Hide data repr'><svg class='icon xr-icon-database'><use xlink:href='#icon-database'></use></svg></label><div class='xr-var-attrs'><dl class='xr-attrs'><dt><span>units :</span></dt><dd>m</dd><dt><span>standard_name :</span></dt><dd>projection_y_coordinate</dd><dt><span>long_name :</span></dt><dd>y-coordinate of the grid point j</dd><dt><span>axis :</span></dt><dd>y</dd></dl></div><div class='xr-var-data'><pre>array([-3450000., -3410000., -3370000., -3330000., -3290000., -3250000.,\n",
       "       -3210000., -3170000., -3130000., -3090000., -3050000., -3010000.,\n",
       "       -2970000., -2930000., -2890000., -2850000., -2810000., -2770000.,\n",
       "       -2730000., -2690000., -2650000., -2610000., -2570000., -2530000.,\n",
       "       -2490000., -2450000., -2410000., -2370000., -2330000., -2290000.,\n",
       "       -2250000., -2210000., -2170000., -2130000., -2090000., -2050000.,\n",
       "       -2010000., -1970000., -1930000., -1890000., -1850000., -1810000.,\n",
       "       -1770000., -1730000., -1690000., -1650000., -1610000., -1570000.,\n",
       "       -1530000., -1490000., -1450000., -1410000., -1370000., -1330000.,\n",
       "       -1290000., -1250000., -1210000., -1170000., -1130000., -1090000.,\n",
       "       -1050000., -1010000.,  -970000.,  -930000.,  -890000.,  -850000.,\n",
       "        -810000.,  -770000.,  -730000.,  -690000.,  -650000.,  -610000.,\n",
       "        -570000.])</pre></div></li><li class='xr-var-item'><div class='xr-var-name'><span class='xr-has-index'>zeta_r</span></div><div class='xr-var-dims'>(zeta_r)</div><div class='xr-var-dtype'>float64</div><div class='xr-var-preview xr-preview'>0.0 0.025 0.05 ... 0.95 0.975 1.0</div><input id='attrs-92d1efde-fa63-46e9-8c74-2cbc56a38162' class='xr-var-attrs-in' type='checkbox' ><label for='attrs-92d1efde-fa63-46e9-8c74-2cbc56a38162' title='Show/Hide attributes'><svg class='icon xr-icon-file-text2'><use xlink:href='#icon-file-text2'></use></svg></label><input id='data-7aab7272-0885-40d2-88a5-6dbc0c45efcd' class='xr-var-data-in' type='checkbox'><label for='data-7aab7272-0885-40d2-88a5-6dbc0c45efcd' title='Show/Hide data repr'><svg class='icon xr-icon-database'><use xlink:href='#icon-database'></use></svg></label><div class='xr-var-attrs'><dl class='xr-attrs'><dt><span>positive :</span></dt><dd>up</dd><dt><span>standard_name :</span></dt><dd>bedrock_kr_layer_uniform_coordinate</dd><dt><span>long_name :</span></dt><dd>coordinate of the grid point kr (uniform kr)</dd><dt><span>type :</span></dt><dd>ignore</dd></dl></div><div class='xr-var-data'><pre>array([0.   , 0.025, 0.05 , 0.075, 0.1  , 0.125, 0.15 , 0.175, 0.2  , 0.225,\n",
       "       0.25 , 0.275, 0.3  , 0.325, 0.35 , 0.375, 0.4  , 0.425, 0.45 , 0.475,\n",
       "       0.5  , 0.525, 0.55 , 0.575, 0.6  , 0.625, 0.65 , 0.675, 0.7  , 0.725,\n",
       "       0.75 , 0.775, 0.8  , 0.825, 0.85 , 0.875, 0.9  , 0.925, 0.95 , 0.975,\n",
       "       1.   ])</pre></div></li><li class='xr-var-item'><div class='xr-var-name'><span class='xr-has-index'>time_ad</span></div><div class='xr-var-dims'>(time_ad)</div><div class='xr-var-dtype'>float64</div><div class='xr-var-preview xr-preview'>0.0 1.909e+03 ... 1.909e+04 2.1e+04</div><input id='attrs-0c01da79-2f0e-4061-9b7e-fde6133aa12f' class='xr-var-attrs-in' type='checkbox' ><label for='attrs-0c01da79-2f0e-4061-9b7e-fde6133aa12f' title='Show/Hide attributes'><svg class='icon xr-icon-file-text2'><use xlink:href='#icon-file-text2'></use></svg></label><input id='data-5f901d2b-8ea7-4c6a-9d34-0baba4a762f7' class='xr-var-data-in' type='checkbox'><label for='data-5f901d2b-8ea7-4c6a-9d34-0baba4a762f7' title='Show/Hide data repr'><svg class='icon xr-icon-database'><use xlink:href='#icon-database'></use></svg></label><div class='xr-var-attrs'><dl class='xr-attrs'><dt><span>standard_name :</span></dt><dd>time_ad_gentim2d</dd><dt><span>long_name :</span></dt><dd>Times between which linear interp. for gentim2d</dd></dl></div><div class='xr-var-data'><pre>array([    0.      ,  1909.090909,  3818.181818,  5727.272727,  7636.363636,\n",
       "        9545.454545, 11454.545455, 13363.636364, 15272.727273, 17181.818182,\n",
       "       19090.909091, 21000.      ])</pre></div></li></ul></div></li><li class='xr-section-item'><input id='section-e761c4c8-f902-4579-baa0-c5fe3dc6ef83' class='xr-section-summary-in' type='checkbox'  ><label for='section-e761c4c8-f902-4579-baa0-c5fe3dc6ef83' class='xr-section-summary' >Data variables: <span>(65)</span></label><div class='xr-section-inline-details'></div><div class='xr-section-details'><ul class='xr-var-list'><li class='xr-var-item'><div class='xr-var-name'><span>sigma_level_c</span></div><div class='xr-var-dims'>(zeta_c)</div><div class='xr-var-dtype'>float64</div><div class='xr-var-preview xr-preview'>...</div><input id='attrs-d54b964a-0607-4622-9220-b573f6732a8b' class='xr-var-attrs-in' type='checkbox' ><label for='attrs-d54b964a-0607-4622-9220-b573f6732a8b' title='Show/Hide attributes'><svg class='icon xr-icon-file-text2'><use xlink:href='#icon-file-text2'></use></svg></label><input id='data-c4cff224-db5b-4558-baa9-d3be0491b509' class='xr-var-data-in' type='checkbox'><label for='data-c4cff224-db5b-4558-baa9-d3be0491b509' title='Show/Hide data repr'><svg class='icon xr-icon-database'><use xlink:href='#icon-database'></use></svg></label><div class='xr-var-attrs'><dl class='xr-attrs'><dt><span>positive :</span></dt><dd>up</dd><dt><span>standard_name :</span></dt><dd>land_ice_kc_layer_sigma_coordinate</dd><dt><span>long_name :</span></dt><dd>sigma-coordinate of the grid point kc</dd><dt><span>type :</span></dt><dd>ignore</dd></dl></div><div class='xr-var-data'><pre>[81 values with dtype=float64]</pre></div></li><li class='xr-var-item'><div class='xr-var-name'><span>fc</span></div><div class='xr-var-dims'>(fc_dummy_dim)</div><div class='xr-var-dtype'>float64</div><div class='xr-var-preview xr-preview'>...</div><input id='attrs-8dc00365-3438-401e-9bc4-bde9426d38bc' class='xr-var-attrs-in' type='checkbox' ><label for='attrs-8dc00365-3438-401e-9bc4-bde9426d38bc' title='Show/Hide attributes'><svg class='icon xr-icon-file-text2'><use xlink:href='#icon-file-text2'></use></svg></label><input id='data-8683a1c8-2efc-4f4b-8067-91cf065a9a4d' class='xr-var-data-in' type='checkbox'><label for='data-8683a1c8-2efc-4f4b-8067-91cf065a9a4d' title='Show/Hide data repr'><svg class='icon xr-icon-database'><use xlink:href='#icon-database'></use></svg></label><div class='xr-var-attrs'><dl class='xr-attrs'><dt><span>type :</span></dt><dd>cost</dd></dl></div><div class='xr-var-data'><pre>[1 values with dtype=float64]</pre></div></li><li class='xr-var-item'><div class='xr-var-name'><span>fc_data</span></div><div class='xr-var-dims'>(fc_dummy_dim)</div><div class='xr-var-dtype'>float64</div><div class='xr-var-preview xr-preview'>...</div><input id='attrs-4bb80567-95ad-45f0-b990-95817aab3b0f' class='xr-var-attrs-in' type='checkbox' ><label for='attrs-4bb80567-95ad-45f0-b990-95817aab3b0f' title='Show/Hide attributes'><svg class='icon xr-icon-file-text2'><use xlink:href='#icon-file-text2'></use></svg></label><input id='data-31283c00-6806-4e0d-aae8-ebc4ab4bf6d4' class='xr-var-data-in' type='checkbox'><label for='data-31283c00-6806-4e0d-aae8-ebc4ab4bf6d4' title='Show/Hide data repr'><svg class='icon xr-icon-database'><use xlink:href='#icon-database'></use></svg></label><div class='xr-var-attrs'><dl class='xr-attrs'><dt><span>type :</span></dt><dd>cost</dd></dl></div><div class='xr-var-data'><pre>[1 values with dtype=float64]</pre></div></li><li class='xr-var-item'><div class='xr-var-name'><span>fc_bm5</span></div><div class='xr-var-dims'>(fc_dummy_dim)</div><div class='xr-var-dtype'>float64</div><div class='xr-var-preview xr-preview'>...</div><input id='attrs-bc67896e-ba79-4e6c-8df0-913493a3174e' class='xr-var-attrs-in' type='checkbox' ><label for='attrs-bc67896e-ba79-4e6c-8df0-913493a3174e' title='Show/Hide attributes'><svg class='icon xr-icon-file-text2'><use xlink:href='#icon-file-text2'></use></svg></label><input id='data-16c0671b-cacb-4c21-928d-bdd821ee8a72' class='xr-var-data-in' type='checkbox'><label for='data-16c0671b-cacb-4c21-928d-bdd821ee8a72' title='Show/Hide data repr'><svg class='icon xr-icon-database'><use xlink:href='#icon-database'></use></svg></label><div class='xr-var-attrs'><dl class='xr-attrs'><dt><span>type :</span></dt><dd>cost</dd></dl></div><div class='xr-var-data'><pre>[1 values with dtype=float64]</pre></div></li><li class='xr-var-item'><div class='xr-var-name'><span>fc_ac</span></div><div class='xr-var-dims'>(fc_dummy_dim)</div><div class='xr-var-dtype'>float64</div><div class='xr-var-preview xr-preview'>...</div><input id='attrs-49be3e26-3d16-4ec0-adbd-1ae79d597b55' class='xr-var-attrs-in' type='checkbox' ><label for='attrs-49be3e26-3d16-4ec0-adbd-1ae79d597b55' title='Show/Hide attributes'><svg class='icon xr-icon-file-text2'><use xlink:href='#icon-file-text2'></use></svg></label><input id='data-a90c0920-9afb-47e1-901d-61a7d98c6e23' class='xr-var-data-in' type='checkbox'><label for='data-a90c0920-9afb-47e1-901d-61a7d98c6e23' title='Show/Hide data repr'><svg class='icon xr-icon-database'><use xlink:href='#icon-database'></use></svg></label><div class='xr-var-attrs'><dl class='xr-attrs'><dt><span>type :</span></dt><dd>cost</dd></dl></div><div class='xr-var-data'><pre>[1 values with dtype=float64]</pre></div></li><li class='xr-var-item'><div class='xr-var-name'><span>fc_svc</span></div><div class='xr-var-dims'>(fc_dummy_dim)</div><div class='xr-var-dtype'>float64</div><div class='xr-var-preview xr-preview'>...</div><input id='attrs-c24813ab-1e87-4669-9a5d-86752668748a' class='xr-var-attrs-in' type='checkbox' ><label for='attrs-c24813ab-1e87-4669-9a5d-86752668748a' title='Show/Hide attributes'><svg class='icon xr-icon-file-text2'><use xlink:href='#icon-file-text2'></use></svg></label><input id='data-154c6e70-1467-462d-b676-4f7ac32af3a9' class='xr-var-data-in' type='checkbox'><label for='data-154c6e70-1467-462d-b676-4f7ac32af3a9' title='Show/Hide data repr'><svg class='icon xr-icon-database'><use xlink:href='#icon-database'></use></svg></label><div class='xr-var-attrs'><dl class='xr-attrs'><dt><span>type :</span></dt><dd>cost</dd></dl></div><div class='xr-var-data'><pre>[1 values with dtype=float64]</pre></div></li><li class='xr-var-item'><div class='xr-var-name'><span>fc_vxc</span></div><div class='xr-var-dims'>(fc_dummy_dim)</div><div class='xr-var-dtype'>float64</div><div class='xr-var-preview xr-preview'>...</div><input id='attrs-55625dda-bb9c-40aa-9cfc-0b3546f419d9' class='xr-var-attrs-in' type='checkbox' ><label for='attrs-55625dda-bb9c-40aa-9cfc-0b3546f419d9' title='Show/Hide attributes'><svg class='icon xr-icon-file-text2'><use xlink:href='#icon-file-text2'></use></svg></label><input id='data-51e51458-cc16-4cb9-bb73-a645a7e0be14' class='xr-var-data-in' type='checkbox'><label for='data-51e51458-cc16-4cb9-bb73-a645a7e0be14' title='Show/Hide data repr'><svg class='icon xr-icon-database'><use xlink:href='#icon-database'></use></svg></label><div class='xr-var-attrs'><dl class='xr-attrs'><dt><span>type :</span></dt><dd>cost</dd></dl></div><div class='xr-var-data'><pre>[1 values with dtype=float64]</pre></div></li><li class='xr-var-item'><div class='xr-var-name'><span>fc_vyc</span></div><div class='xr-var-dims'>(fc_dummy_dim)</div><div class='xr-var-dtype'>float64</div><div class='xr-var-preview xr-preview'>...</div><input id='attrs-d36ef9b4-bb82-4aa9-af17-d927b2868f02' class='xr-var-attrs-in' type='checkbox' ><label for='attrs-d36ef9b4-bb82-4aa9-af17-d927b2868f02' title='Show/Hide attributes'><svg class='icon xr-icon-file-text2'><use xlink:href='#icon-file-text2'></use></svg></label><input id='data-4ff25b63-f1e1-434e-9bde-1783827821a6' class='xr-var-data-in' type='checkbox'><label for='data-4ff25b63-f1e1-434e-9bde-1783827821a6' title='Show/Hide data repr'><svg class='icon xr-icon-database'><use xlink:href='#icon-database'></use></svg></label><div class='xr-var-attrs'><dl class='xr-attrs'><dt><span>type :</span></dt><dd>cost</dd></dl></div><div class='xr-var-data'><pre>[1 values with dtype=float64]</pre></div></li><li class='xr-var-item'><div class='xr-var-name'><span>fc_zsc</span></div><div class='xr-var-dims'>(fc_dummy_dim)</div><div class='xr-var-dtype'>float64</div><div class='xr-var-preview xr-preview'>...</div><input id='attrs-35aa1cbb-b77b-45e7-8d26-e78b7ed33324' class='xr-var-attrs-in' type='checkbox' ><label for='attrs-35aa1cbb-b77b-45e7-8d26-e78b7ed33324' title='Show/Hide attributes'><svg class='icon xr-icon-file-text2'><use xlink:href='#icon-file-text2'></use></svg></label><input id='data-573221ca-8147-43fc-a795-e3f18243a12c' class='xr-var-data-in' type='checkbox'><label for='data-573221ca-8147-43fc-a795-e3f18243a12c' title='Show/Hide data repr'><svg class='icon xr-icon-database'><use xlink:href='#icon-database'></use></svg></label><div class='xr-var-attrs'><dl class='xr-attrs'><dt><span>type :</span></dt><dd>cost</dd></dl></div><div class='xr-var-data'><pre>[1 values with dtype=float64]</pre></div></li><li class='xr-var-item'><div class='xr-var-name'><span>fc_zlc</span></div><div class='xr-var-dims'>(fc_dummy_dim)</div><div class='xr-var-dtype'>float64</div><div class='xr-var-preview xr-preview'>...</div><input id='attrs-09f8a208-6e4d-4252-bf67-9b54e886c97d' class='xr-var-attrs-in' type='checkbox' ><label for='attrs-09f8a208-6e4d-4252-bf67-9b54e886c97d' title='Show/Hide attributes'><svg class='icon xr-icon-file-text2'><use xlink:href='#icon-file-text2'></use></svg></label><input id='data-195943e2-67f4-4ed6-afd1-fb0ec319f249' class='xr-var-data-in' type='checkbox'><label for='data-195943e2-67f4-4ed6-afd1-fb0ec319f249' title='Show/Hide data repr'><svg class='icon xr-icon-database'><use xlink:href='#icon-database'></use></svg></label><div class='xr-var-attrs'><dl class='xr-attrs'><dt><span>type :</span></dt><dd>cost</dd></dl></div><div class='xr-var-data'><pre>[1 values with dtype=float64]</pre></div></li><li class='xr-var-item'><div class='xr-var-name'><span>fc_reg</span></div><div class='xr-var-dims'>(fc_dummy_dim)</div><div class='xr-var-dtype'>float64</div><div class='xr-var-preview xr-preview'>...</div><input id='attrs-230afd0d-55d1-4fc1-be2b-00a716e09568' class='xr-var-attrs-in' type='checkbox' ><label for='attrs-230afd0d-55d1-4fc1-be2b-00a716e09568' title='Show/Hide attributes'><svg class='icon xr-icon-file-text2'><use xlink:href='#icon-file-text2'></use></svg></label><input id='data-6a66fad0-26d8-4025-b531-36edefe92b82' class='xr-var-data-in' type='checkbox'><label for='data-6a66fad0-26d8-4025-b531-36edefe92b82' title='Show/Hide data repr'><svg class='icon xr-icon-database'><use xlink:href='#icon-database'></use></svg></label><div class='xr-var-attrs'><dl class='xr-attrs'><dt><span>type :</span></dt><dd>cost</dd></dl></div><div class='xr-var-data'><pre>[1 values with dtype=float64]</pre></div></li><li class='xr-var-item'><div class='xr-var-name'><span>xx_c_slide_init</span></div><div class='xr-var-dims'>(y, x)</div><div class='xr-var-dtype'>float64</div><div class='xr-var-preview xr-preview'>...</div><input id='attrs-f0563bf7-66f8-4151-9347-26f9ccede6b8' class='xr-var-attrs-in' type='checkbox' ><label for='attrs-f0563bf7-66f8-4151-9347-26f9ccede6b8' title='Show/Hide attributes'><svg class='icon xr-icon-file-text2'><use xlink:href='#icon-file-text2'></use></svg></label><input id='data-1cec174d-b487-41f8-b8be-b808f51e6be8' class='xr-var-data-in' type='checkbox'><label for='data-1cec174d-b487-41f8-b8be-b808f51e6be8' title='Show/Hide data repr'><svg class='icon xr-icon-database'><use xlink:href='#icon-database'></use></svg></label><div class='xr-var-attrs'><dl class='xr-attrs'><dt><span>type :</span></dt><dd>nodiff</dd></dl></div><div class='xr-var-data'><pre>[3139 values with dtype=float64]</pre></div></li><li class='xr-var-item'><div class='xr-var-name'><span>xx_c_slide_initb</span></div><div class='xr-var-dims'>(y, x)</div><div class='xr-var-dtype'>float64</div><div class='xr-var-preview xr-preview'>...</div><input id='attrs-34773971-9404-43e8-820f-254958f64cd5' class='xr-var-attrs-in' type='checkbox' ><label for='attrs-34773971-9404-43e8-820f-254958f64cd5' title='Show/Hide attributes'><svg class='icon xr-icon-file-text2'><use xlink:href='#icon-file-text2'></use></svg></label><input id='data-82052a05-c3af-4ee0-96a8-db39dd1793e1' class='xr-var-data-in' type='checkbox'><label for='data-82052a05-c3af-4ee0-96a8-db39dd1793e1' title='Show/Hide data repr'><svg class='icon xr-icon-database'><use xlink:href='#icon-database'></use></svg></label><div class='xr-var-attrs'><dl class='xr-attrs'><dt><span>type :</span></dt><dd>adj</dd></dl></div><div class='xr-var-data'><pre>[3139 values with dtype=float64]</pre></div></li><li class='xr-var-item'><div class='xr-var-name'><span>xx_delta_tda_const</span></div><div class='xr-var-dims'>(y, x)</div><div class='xr-var-dtype'>float64</div><div class='xr-var-preview xr-preview'>...</div><input id='attrs-4b95981c-15e0-4623-99d1-a6093d8bd463' class='xr-var-attrs-in' type='checkbox' ><label for='attrs-4b95981c-15e0-4623-99d1-a6093d8bd463' title='Show/Hide attributes'><svg class='icon xr-icon-file-text2'><use xlink:href='#icon-file-text2'></use></svg></label><input id='data-024fdb43-0c2f-4062-861a-f84105b63c26' class='xr-var-data-in' type='checkbox'><label for='data-024fdb43-0c2f-4062-861a-f84105b63c26' title='Show/Hide data repr'><svg class='icon xr-icon-database'><use xlink:href='#icon-database'></use></svg></label><div class='xr-var-attrs'><dl class='xr-attrs'><dt><span>type :</span></dt><dd>nodiff</dd></dl></div><div class='xr-var-data'><pre>[3139 values with dtype=float64]</pre></div></li><li class='xr-var-item'><div class='xr-var-name'><span>xx_delta_tda_constb</span></div><div class='xr-var-dims'>(y, x)</div><div class='xr-var-dtype'>float64</div><div class='xr-var-preview xr-preview'>...</div><input id='attrs-6b19739d-7d01-4ff3-8400-3deba01543cc' class='xr-var-attrs-in' type='checkbox' ><label for='attrs-6b19739d-7d01-4ff3-8400-3deba01543cc' title='Show/Hide attributes'><svg class='icon xr-icon-file-text2'><use xlink:href='#icon-file-text2'></use></svg></label><input id='data-f41d7725-f921-495b-b3cc-066def0e3d9e' class='xr-var-data-in' type='checkbox'><label for='data-f41d7725-f921-495b-b3cc-066def0e3d9e' title='Show/Hide data repr'><svg class='icon xr-icon-database'><use xlink:href='#icon-database'></use></svg></label><div class='xr-var-attrs'><dl class='xr-attrs'><dt><span>type :</span></dt><dd>adj</dd></dl></div><div class='xr-var-data'><pre>[3139 values with dtype=float64]</pre></div></li><li class='xr-var-item'><div class='xr-var-name'><span>xx_c_dis_da</span></div><div class='xr-var-dims'>(y, x)</div><div class='xr-var-dtype'>float64</div><div class='xr-var-preview xr-preview'>...</div><input id='attrs-f92df319-b0d1-4eb0-aa28-cc93df4063ff' class='xr-var-attrs-in' type='checkbox' ><label for='attrs-f92df319-b0d1-4eb0-aa28-cc93df4063ff' title='Show/Hide attributes'><svg class='icon xr-icon-file-text2'><use xlink:href='#icon-file-text2'></use></svg></label><input id='data-54fb260a-5a08-45c9-8101-4faa86103223' class='xr-var-data-in' type='checkbox'><label for='data-54fb260a-5a08-45c9-8101-4faa86103223' title='Show/Hide data repr'><svg class='icon xr-icon-database'><use xlink:href='#icon-database'></use></svg></label><div class='xr-var-attrs'><dl class='xr-attrs'><dt><span>type :</span></dt><dd>nodiff</dd></dl></div><div class='xr-var-data'><pre>[3139 values with dtype=float64]</pre></div></li><li class='xr-var-item'><div class='xr-var-name'><span>xx_c_dis_dab</span></div><div class='xr-var-dims'>(y, x)</div><div class='xr-var-dtype'>float64</div><div class='xr-var-preview xr-preview'>...</div><input id='attrs-3d5dcf46-257d-4594-98ed-d5d700e22423' class='xr-var-attrs-in' type='checkbox' ><label for='attrs-3d5dcf46-257d-4594-98ed-d5d700e22423' title='Show/Hide attributes'><svg class='icon xr-icon-file-text2'><use xlink:href='#icon-file-text2'></use></svg></label><input id='data-5d315f22-e29a-409a-aabb-d3afe5f2ac18' class='xr-var-data-in' type='checkbox'><label for='data-5d315f22-e29a-409a-aabb-d3afe5f2ac18' title='Show/Hide data repr'><svg class='icon xr-icon-database'><use xlink:href='#icon-database'></use></svg></label><div class='xr-var-attrs'><dl class='xr-attrs'><dt><span>type :</span></dt><dd>adj</dd></dl></div><div class='xr-var-data'><pre>[3139 values with dtype=float64]</pre></div></li><li class='xr-var-item'><div class='xr-var-name'><span>xx_q_geo</span></div><div class='xr-var-dims'>(y, x)</div><div class='xr-var-dtype'>float64</div><div class='xr-var-preview xr-preview'>...</div><input id='attrs-9d20ffa3-e2f8-4016-93d3-9f8f313da131' class='xr-var-attrs-in' type='checkbox' ><label for='attrs-9d20ffa3-e2f8-4016-93d3-9f8f313da131' title='Show/Hide attributes'><svg class='icon xr-icon-file-text2'><use xlink:href='#icon-file-text2'></use></svg></label><input id='data-3de7d5fd-a484-4af3-9739-dcb9678c627d' class='xr-var-data-in' type='checkbox'><label for='data-3de7d5fd-a484-4af3-9739-dcb9678c627d' title='Show/Hide data repr'><svg class='icon xr-icon-database'><use xlink:href='#icon-database'></use></svg></label><div class='xr-var-attrs'><dl class='xr-attrs'><dt><span>type :</span></dt><dd>nodiff</dd></dl></div><div class='xr-var-data'><pre>[3139 values with dtype=float64]</pre></div></li><li class='xr-var-item'><div class='xr-var-name'><span>xx_q_geob</span></div><div class='xr-var-dims'>(y, x)</div><div class='xr-var-dtype'>float64</div><div class='xr-var-preview xr-preview'>...</div><input id='attrs-669281a1-a435-41d8-9660-aa965795cec3' class='xr-var-attrs-in' type='checkbox' ><label for='attrs-669281a1-a435-41d8-9660-aa965795cec3' title='Show/Hide attributes'><svg class='icon xr-icon-file-text2'><use xlink:href='#icon-file-text2'></use></svg></label><input id='data-3ff95818-5e5c-4579-a716-2d3a4d67c1db' class='xr-var-data-in' type='checkbox'><label for='data-3ff95818-5e5c-4579-a716-2d3a4d67c1db' title='Show/Hide data repr'><svg class='icon xr-icon-database'><use xlink:href='#icon-database'></use></svg></label><div class='xr-var-attrs'><dl class='xr-attrs'><dt><span>type :</span></dt><dd>adj</dd></dl></div><div class='xr-var-data'><pre>[3139 values with dtype=float64]</pre></div></li><li class='xr-var-item'><div class='xr-var-name'><span>xx_gamma_s</span></div><div class='xr-var-dims'>(y, x)</div><div class='xr-var-dtype'>float64</div><div class='xr-var-preview xr-preview'>...</div><input id='attrs-de07b239-6e2c-4580-8c2a-d5de1ac420ba' class='xr-var-attrs-in' type='checkbox' ><label for='attrs-de07b239-6e2c-4580-8c2a-d5de1ac420ba' title='Show/Hide attributes'><svg class='icon xr-icon-file-text2'><use xlink:href='#icon-file-text2'></use></svg></label><input id='data-ff7f51e7-7256-4399-80dd-eea058d4e488' class='xr-var-data-in' type='checkbox'><label for='data-ff7f51e7-7256-4399-80dd-eea058d4e488' title='Show/Hide data repr'><svg class='icon xr-icon-database'><use xlink:href='#icon-database'></use></svg></label><div class='xr-var-attrs'><dl class='xr-attrs'><dt><span>type :</span></dt><dd>nodiff</dd></dl></div><div class='xr-var-data'><pre>[3139 values with dtype=float64]</pre></div></li><li class='xr-var-item'><div class='xr-var-name'><span>xx_gamma_sb</span></div><div class='xr-var-dims'>(y, x)</div><div class='xr-var-dtype'>float64</div><div class='xr-var-preview xr-preview'>...</div><input id='attrs-ebd2c43b-f3c9-46ea-94d9-aac088714a92' class='xr-var-attrs-in' type='checkbox' ><label for='attrs-ebd2c43b-f3c9-46ea-94d9-aac088714a92' title='Show/Hide attributes'><svg class='icon xr-icon-file-text2'><use xlink:href='#icon-file-text2'></use></svg></label><input id='data-00811ec4-6100-4160-8f05-4fe1d1305d80' class='xr-var-data-in' type='checkbox'><label for='data-00811ec4-6100-4160-8f05-4fe1d1305d80' title='Show/Hide data repr'><svg class='icon xr-icon-database'><use xlink:href='#icon-database'></use></svg></label><div class='xr-var-attrs'><dl class='xr-attrs'><dt><span>type :</span></dt><dd>adj</dd></dl></div><div class='xr-var-data'><pre>[3139 values with dtype=float64]</pre></div></li><li class='xr-var-item'><div class='xr-var-name'><span>xx_s_stat</span></div><div class='xr-var-dims'>(y, x)</div><div class='xr-var-dtype'>float64</div><div class='xr-var-preview xr-preview'>...</div><input id='attrs-33550d5b-a6ad-43cb-b491-8fe0925b8ad9' class='xr-var-attrs-in' type='checkbox' ><label for='attrs-33550d5b-a6ad-43cb-b491-8fe0925b8ad9' title='Show/Hide attributes'><svg class='icon xr-icon-file-text2'><use xlink:href='#icon-file-text2'></use></svg></label><input id='data-7cee354b-b55a-4bda-837d-627c64554a01' class='xr-var-data-in' type='checkbox'><label for='data-7cee354b-b55a-4bda-837d-627c64554a01' title='Show/Hide data repr'><svg class='icon xr-icon-database'><use xlink:href='#icon-database'></use></svg></label><div class='xr-var-attrs'><dl class='xr-attrs'><dt><span>type :</span></dt><dd>nodiff</dd></dl></div><div class='xr-var-data'><pre>[3139 values with dtype=float64]</pre></div></li><li class='xr-var-item'><div class='xr-var-name'><span>xx_s_statb</span></div><div class='xr-var-dims'>(y, x)</div><div class='xr-var-dtype'>float64</div><div class='xr-var-preview xr-preview'>...</div><input id='attrs-fd92cea4-0bd1-4711-ab35-da4bc981b1a9' class='xr-var-attrs-in' type='checkbox' ><label for='attrs-fd92cea4-0bd1-4711-ab35-da4bc981b1a9' title='Show/Hide attributes'><svg class='icon xr-icon-file-text2'><use xlink:href='#icon-file-text2'></use></svg></label><input id='data-80e702a7-13c9-4a09-8000-fbd7914bd5d6' class='xr-var-data-in' type='checkbox'><label for='data-80e702a7-13c9-4a09-8000-fbd7914bd5d6' title='Show/Hide data repr'><svg class='icon xr-icon-database'><use xlink:href='#icon-database'></use></svg></label><div class='xr-var-attrs'><dl class='xr-attrs'><dt><span>type :</span></dt><dd>adj</dd></dl></div><div class='xr-var-data'><pre>[3139 values with dtype=float64]</pre></div></li><li class='xr-var-item'><div class='xr-var-name'><span>xx_beta1</span></div><div class='xr-var-dims'>(y, x)</div><div class='xr-var-dtype'>float64</div><div class='xr-var-preview xr-preview'>...</div><input id='attrs-bed847e4-35f6-4dc2-a29e-e66514462be5' class='xr-var-attrs-in' type='checkbox' ><label for='attrs-bed847e4-35f6-4dc2-a29e-e66514462be5' title='Show/Hide attributes'><svg class='icon xr-icon-file-text2'><use xlink:href='#icon-file-text2'></use></svg></label><input id='data-84dec4c8-1ccf-46d3-a51c-2b3ed5e413ae' class='xr-var-data-in' type='checkbox'><label for='data-84dec4c8-1ccf-46d3-a51c-2b3ed5e413ae' title='Show/Hide data repr'><svg class='icon xr-icon-database'><use xlink:href='#icon-database'></use></svg></label><div class='xr-var-attrs'><dl class='xr-attrs'><dt><span>type :</span></dt><dd>nodiff</dd></dl></div><div class='xr-var-data'><pre>[3139 values with dtype=float64]</pre></div></li><li class='xr-var-item'><div class='xr-var-name'><span>xx_beta1b</span></div><div class='xr-var-dims'>(y, x)</div><div class='xr-var-dtype'>float64</div><div class='xr-var-preview xr-preview'>...</div><input id='attrs-2147f08c-1267-4dfa-86e0-8a02a249223a' class='xr-var-attrs-in' type='checkbox' ><label for='attrs-2147f08c-1267-4dfa-86e0-8a02a249223a' title='Show/Hide attributes'><svg class='icon xr-icon-file-text2'><use xlink:href='#icon-file-text2'></use></svg></label><input id='data-4ae27739-b733-4f7c-996b-f15f68c7ad14' class='xr-var-data-in' type='checkbox'><label for='data-4ae27739-b733-4f7c-996b-f15f68c7ad14' title='Show/Hide data repr'><svg class='icon xr-icon-database'><use xlink:href='#icon-database'></use></svg></label><div class='xr-var-attrs'><dl class='xr-attrs'><dt><span>type :</span></dt><dd>adj</dd></dl></div><div class='xr-var-data'><pre>[3139 values with dtype=float64]</pre></div></li><li class='xr-var-item'><div class='xr-var-name'><span>xx_beta2</span></div><div class='xr-var-dims'>(y, x)</div><div class='xr-var-dtype'>float64</div><div class='xr-var-preview xr-preview'>...</div><input id='attrs-07dfed13-2c00-48ab-94a1-717ddb235e1c' class='xr-var-attrs-in' type='checkbox' ><label for='attrs-07dfed13-2c00-48ab-94a1-717ddb235e1c' title='Show/Hide attributes'><svg class='icon xr-icon-file-text2'><use xlink:href='#icon-file-text2'></use></svg></label><input id='data-53ebea69-6880-42c4-abfb-ead21d96485d' class='xr-var-data-in' type='checkbox'><label for='data-53ebea69-6880-42c4-abfb-ead21d96485d' title='Show/Hide data repr'><svg class='icon xr-icon-database'><use xlink:href='#icon-database'></use></svg></label><div class='xr-var-attrs'><dl class='xr-attrs'><dt><span>type :</span></dt><dd>nodiff</dd></dl></div><div class='xr-var-data'><pre>[3139 values with dtype=float64]</pre></div></li><li class='xr-var-item'><div class='xr-var-name'><span>xx_beta2b</span></div><div class='xr-var-dims'>(y, x)</div><div class='xr-var-dtype'>float64</div><div class='xr-var-preview xr-preview'>...</div><input id='attrs-40234ed7-2a4c-45a4-84cd-a03084bb7985' class='xr-var-attrs-in' type='checkbox' ><label for='attrs-40234ed7-2a4c-45a4-84cd-a03084bb7985' title='Show/Hide attributes'><svg class='icon xr-icon-file-text2'><use xlink:href='#icon-file-text2'></use></svg></label><input id='data-4c814a5f-404f-445d-b32a-060730548070' class='xr-var-data-in' type='checkbox'><label for='data-4c814a5f-404f-445d-b32a-060730548070' title='Show/Hide data repr'><svg class='icon xr-icon-database'><use xlink:href='#icon-database'></use></svg></label><div class='xr-var-attrs'><dl class='xr-attrs'><dt><span>type :</span></dt><dd>adj</dd></dl></div><div class='xr-var-data'><pre>[3139 values with dtype=float64]</pre></div></li><li class='xr-var-item'><div class='xr-var-name'><span>xx_Pmax</span></div><div class='xr-var-dims'>(y, x)</div><div class='xr-var-dtype'>float64</div><div class='xr-var-preview xr-preview'>...</div><input id='attrs-f9b4e37e-36f8-40de-806a-b4c71bd5c309' class='xr-var-attrs-in' type='checkbox' ><label for='attrs-f9b4e37e-36f8-40de-806a-b4c71bd5c309' title='Show/Hide attributes'><svg class='icon xr-icon-file-text2'><use xlink:href='#icon-file-text2'></use></svg></label><input id='data-4dad1088-770a-426e-87d6-a65be8eba84f' class='xr-var-data-in' type='checkbox'><label for='data-4dad1088-770a-426e-87d6-a65be8eba84f' title='Show/Hide data repr'><svg class='icon xr-icon-database'><use xlink:href='#icon-database'></use></svg></label><div class='xr-var-attrs'><dl class='xr-attrs'><dt><span>type :</span></dt><dd>nodiff</dd></dl></div><div class='xr-var-data'><pre>[3139 values with dtype=float64]</pre></div></li><li class='xr-var-item'><div class='xr-var-name'><span>xx_Pmaxb</span></div><div class='xr-var-dims'>(y, x)</div><div class='xr-var-dtype'>float64</div><div class='xr-var-preview xr-preview'>...</div><input id='attrs-b3bb6e99-8538-4c9d-938f-e7c078a245e3' class='xr-var-attrs-in' type='checkbox' ><label for='attrs-b3bb6e99-8538-4c9d-938f-e7c078a245e3' title='Show/Hide attributes'><svg class='icon xr-icon-file-text2'><use xlink:href='#icon-file-text2'></use></svg></label><input id='data-f3fc0c1d-66b9-46b4-b42e-cd97599b8b94' class='xr-var-data-in' type='checkbox'><label for='data-f3fc0c1d-66b9-46b4-b42e-cd97599b8b94' title='Show/Hide data repr'><svg class='icon xr-icon-database'><use xlink:href='#icon-database'></use></svg></label><div class='xr-var-attrs'><dl class='xr-attrs'><dt><span>type :</span></dt><dd>adj</dd></dl></div><div class='xr-var-data'><pre>[3139 values with dtype=float64]</pre></div></li><li class='xr-var-item'><div class='xr-var-name'><span>xx_mu</span></div><div class='xr-var-dims'>(y, x)</div><div class='xr-var-dtype'>float64</div><div class='xr-var-preview xr-preview'>...</div><input id='attrs-ef6a6f26-f4d1-4698-a6d9-25370b14178b' class='xr-var-attrs-in' type='checkbox' ><label for='attrs-ef6a6f26-f4d1-4698-a6d9-25370b14178b' title='Show/Hide attributes'><svg class='icon xr-icon-file-text2'><use xlink:href='#icon-file-text2'></use></svg></label><input id='data-f1c4c841-a67f-49ec-ab7f-98700cf30233' class='xr-var-data-in' type='checkbox'><label for='data-f1c4c841-a67f-49ec-ab7f-98700cf30233' title='Show/Hide data repr'><svg class='icon xr-icon-database'><use xlink:href='#icon-database'></use></svg></label><div class='xr-var-attrs'><dl class='xr-attrs'><dt><span>type :</span></dt><dd>nodiff</dd></dl></div><div class='xr-var-data'><pre>[3139 values with dtype=float64]</pre></div></li><li class='xr-var-item'><div class='xr-var-name'><span>xx_mub</span></div><div class='xr-var-dims'>(y, x)</div><div class='xr-var-dtype'>float64</div><div class='xr-var-preview xr-preview'>...</div><input id='attrs-20d2787b-7c47-4eaf-8fb8-8bc4abc8c5b6' class='xr-var-attrs-in' type='checkbox' ><label for='attrs-20d2787b-7c47-4eaf-8fb8-8bc4abc8c5b6' title='Show/Hide attributes'><svg class='icon xr-icon-file-text2'><use xlink:href='#icon-file-text2'></use></svg></label><input id='data-3596151a-f923-442d-bde5-9e177bf082b1' class='xr-var-data-in' type='checkbox'><label for='data-3596151a-f923-442d-bde5-9e177bf082b1' title='Show/Hide data repr'><svg class='icon xr-icon-database'><use xlink:href='#icon-database'></use></svg></label><div class='xr-var-attrs'><dl class='xr-attrs'><dt><span>type :</span></dt><dd>adj</dd></dl></div><div class='xr-var-data'><pre>[3139 values with dtype=float64]</pre></div></li><li class='xr-var-item'><div class='xr-var-name'><span>xx_RHO_A</span></div><div class='xr-var-dims'>(y, x)</div><div class='xr-var-dtype'>float64</div><div class='xr-var-preview xr-preview'>...</div><input id='attrs-06b5847c-df3f-4d64-996a-9f503dffce9f' class='xr-var-attrs-in' type='checkbox' ><label for='attrs-06b5847c-df3f-4d64-996a-9f503dffce9f' title='Show/Hide attributes'><svg class='icon xr-icon-file-text2'><use xlink:href='#icon-file-text2'></use></svg></label><input id='data-d5489e02-ec01-4efe-987e-79ddf305b9f7' class='xr-var-data-in' type='checkbox'><label for='data-d5489e02-ec01-4efe-987e-79ddf305b9f7' title='Show/Hide data repr'><svg class='icon xr-icon-database'><use xlink:href='#icon-database'></use></svg></label><div class='xr-var-attrs'><dl class='xr-attrs'><dt><span>type :</span></dt><dd>nodiff</dd></dl></div><div class='xr-var-data'><pre>[3139 values with dtype=float64]</pre></div></li><li class='xr-var-item'><div class='xr-var-name'><span>xx_RHO_Ab</span></div><div class='xr-var-dims'>(y, x)</div><div class='xr-var-dtype'>float64</div><div class='xr-var-preview xr-preview'>...</div><input id='attrs-868178e1-a8d5-4c73-a7eb-d36d5d988252' class='xr-var-attrs-in' type='checkbox' ><label for='attrs-868178e1-a8d5-4c73-a7eb-d36d5d988252' title='Show/Hide attributes'><svg class='icon xr-icon-file-text2'><use xlink:href='#icon-file-text2'></use></svg></label><input id='data-7ac684c7-d5f6-4ccb-be50-0cbd43fac764' class='xr-var-data-in' type='checkbox'><label for='data-7ac684c7-d5f6-4ccb-be50-0cbd43fac764' title='Show/Hide data repr'><svg class='icon xr-icon-database'><use xlink:href='#icon-database'></use></svg></label><div class='xr-var-attrs'><dl class='xr-attrs'><dt><span>type :</span></dt><dd>adj</dd></dl></div><div class='xr-var-data'><pre>[3139 values with dtype=float64]</pre></div></li><li class='xr-var-item'><div class='xr-var-name'><span>xx_time_lag_asth</span></div><div class='xr-var-dims'>(y, x)</div><div class='xr-var-dtype'>float64</div><div class='xr-var-preview xr-preview'>...</div><input id='attrs-d41a254e-126d-41a7-a7a5-a1a95ddda0f2' class='xr-var-attrs-in' type='checkbox' ><label for='attrs-d41a254e-126d-41a7-a7a5-a1a95ddda0f2' title='Show/Hide attributes'><svg class='icon xr-icon-file-text2'><use xlink:href='#icon-file-text2'></use></svg></label><input id='data-c8d56410-59ab-4898-a8ea-46c0b9e146a4' class='xr-var-data-in' type='checkbox'><label for='data-c8d56410-59ab-4898-a8ea-46c0b9e146a4' title='Show/Hide data repr'><svg class='icon xr-icon-database'><use xlink:href='#icon-database'></use></svg></label><div class='xr-var-attrs'><dl class='xr-attrs'><dt><span>type :</span></dt><dd>nodiff</dd></dl></div><div class='xr-var-data'><pre>[3139 values with dtype=float64]</pre></div></li><li class='xr-var-item'><div class='xr-var-name'><span>xx_time_lag_asthb</span></div><div class='xr-var-dims'>(y, x)</div><div class='xr-var-dtype'>float64</div><div class='xr-var-preview xr-preview'>...</div><input id='attrs-efe077e2-ea2a-499d-90a6-4146108c382a' class='xr-var-attrs-in' type='checkbox' ><label for='attrs-efe077e2-ea2a-499d-90a6-4146108c382a' title='Show/Hide attributes'><svg class='icon xr-icon-file-text2'><use xlink:href='#icon-file-text2'></use></svg></label><input id='data-c11ad5ff-ff51-4d85-9e44-c93c13b37750' class='xr-var-data-in' type='checkbox'><label for='data-c11ad5ff-ff51-4d85-9e44-c93c13b37750' title='Show/Hide data repr'><svg class='icon xr-icon-database'><use xlink:href='#icon-database'></use></svg></label><div class='xr-var-attrs'><dl class='xr-attrs'><dt><span>type :</span></dt><dd>adj</dd></dl></div><div class='xr-var-data'><pre>[3139 values with dtype=float64]</pre></div></li><li class='xr-var-item'><div class='xr-var-name'><span>xx_flex_rig_lith</span></div><div class='xr-var-dims'>(y, x)</div><div class='xr-var-dtype'>float64</div><div class='xr-var-preview xr-preview'>...</div><input id='attrs-79bac133-d9c8-474b-933a-9c3ccb2a1f17' class='xr-var-attrs-in' type='checkbox' ><label for='attrs-79bac133-d9c8-474b-933a-9c3ccb2a1f17' title='Show/Hide attributes'><svg class='icon xr-icon-file-text2'><use xlink:href='#icon-file-text2'></use></svg></label><input id='data-ee6780db-06b7-4690-9b9a-6ce8ee81e072' class='xr-var-data-in' type='checkbox'><label for='data-ee6780db-06b7-4690-9b9a-6ce8ee81e072' title='Show/Hide data repr'><svg class='icon xr-icon-database'><use xlink:href='#icon-database'></use></svg></label><div class='xr-var-attrs'><dl class='xr-attrs'><dt><span>type :</span></dt><dd>nodiff</dd></dl></div><div class='xr-var-data'><pre>[3139 values with dtype=float64]</pre></div></li><li class='xr-var-item'><div class='xr-var-name'><span>xx_flex_rig_lithb</span></div><div class='xr-var-dims'>(y, x)</div><div class='xr-var-dtype'>float64</div><div class='xr-var-preview xr-preview'>...</div><input id='attrs-b4e5ef17-a561-448e-88e2-2c289cda08b9' class='xr-var-attrs-in' type='checkbox' ><label for='attrs-b4e5ef17-a561-448e-88e2-2c289cda08b9' title='Show/Hide attributes'><svg class='icon xr-icon-file-text2'><use xlink:href='#icon-file-text2'></use></svg></label><input id='data-0516cf5d-19d3-4fad-a569-37177e20d901' class='xr-var-data-in' type='checkbox'><label for='data-0516cf5d-19d3-4fad-a569-37177e20d901' title='Show/Hide data repr'><svg class='icon xr-icon-database'><use xlink:href='#icon-database'></use></svg></label><div class='xr-var-attrs'><dl class='xr-attrs'><dt><span>type :</span></dt><dd>adj</dd></dl></div><div class='xr-var-data'><pre>[3139 values with dtype=float64]</pre></div></li><li class='xr-var-item'><div class='xr-var-name'><span>xx_p_weert</span></div><div class='xr-var-dims'>(y, x)</div><div class='xr-var-dtype'>float64</div><div class='xr-var-preview xr-preview'>...</div><input id='attrs-743981c9-2e1e-4b23-a087-6d4b0059a284' class='xr-var-attrs-in' type='checkbox' ><label for='attrs-743981c9-2e1e-4b23-a087-6d4b0059a284' title='Show/Hide attributes'><svg class='icon xr-icon-file-text2'><use xlink:href='#icon-file-text2'></use></svg></label><input id='data-d0eb963f-bf2b-4a82-8486-c503146a1a54' class='xr-var-data-in' type='checkbox'><label for='data-d0eb963f-bf2b-4a82-8486-c503146a1a54' title='Show/Hide data repr'><svg class='icon xr-icon-database'><use xlink:href='#icon-database'></use></svg></label><div class='xr-var-attrs'><dl class='xr-attrs'><dt><span>type :</span></dt><dd>nodiff</dd></dl></div><div class='xr-var-data'><pre>[3139 values with dtype=float64]</pre></div></li><li class='xr-var-item'><div class='xr-var-name'><span>xx_p_weertb</span></div><div class='xr-var-dims'>(y, x)</div><div class='xr-var-dtype'>float64</div><div class='xr-var-preview xr-preview'>...</div><input id='attrs-4ca00273-19ea-476b-8452-8a346a67210f' class='xr-var-attrs-in' type='checkbox' ><label for='attrs-4ca00273-19ea-476b-8452-8a346a67210f' title='Show/Hide attributes'><svg class='icon xr-icon-file-text2'><use xlink:href='#icon-file-text2'></use></svg></label><input id='data-df389840-7eb4-4dcb-b60b-c855133faf78' class='xr-var-data-in' type='checkbox'><label for='data-df389840-7eb4-4dcb-b60b-c855133faf78' title='Show/Hide data repr'><svg class='icon xr-icon-database'><use xlink:href='#icon-database'></use></svg></label><div class='xr-var-attrs'><dl class='xr-attrs'><dt><span>type :</span></dt><dd>adj</dd></dl></div><div class='xr-var-data'><pre>[3139 values with dtype=float64]</pre></div></li><li class='xr-var-item'><div class='xr-var-name'><span>xx_q_weert</span></div><div class='xr-var-dims'>(y, x)</div><div class='xr-var-dtype'>float64</div><div class='xr-var-preview xr-preview'>...</div><input id='attrs-d529a775-e636-48d7-a95c-ab21d9861051' class='xr-var-attrs-in' type='checkbox' ><label for='attrs-d529a775-e636-48d7-a95c-ab21d9861051' title='Show/Hide attributes'><svg class='icon xr-icon-file-text2'><use xlink:href='#icon-file-text2'></use></svg></label><input id='data-b5775535-291e-4911-9f1d-d143e33d2e4d' class='xr-var-data-in' type='checkbox'><label for='data-b5775535-291e-4911-9f1d-d143e33d2e4d' title='Show/Hide data repr'><svg class='icon xr-icon-database'><use xlink:href='#icon-database'></use></svg></label><div class='xr-var-attrs'><dl class='xr-attrs'><dt><span>type :</span></dt><dd>nodiff</dd></dl></div><div class='xr-var-data'><pre>[3139 values with dtype=float64]</pre></div></li><li class='xr-var-item'><div class='xr-var-name'><span>xx_q_weertb</span></div><div class='xr-var-dims'>(y, x)</div><div class='xr-var-dtype'>float64</div><div class='xr-var-preview xr-preview'>...</div><input id='attrs-e485c8a1-899a-41d6-a48b-7735ec4a139c' class='xr-var-attrs-in' type='checkbox' ><label for='attrs-e485c8a1-899a-41d6-a48b-7735ec4a139c' title='Show/Hide attributes'><svg class='icon xr-icon-file-text2'><use xlink:href='#icon-file-text2'></use></svg></label><input id='data-d1115068-e658-4b66-b618-c0a3105a9855' class='xr-var-data-in' type='checkbox'><label for='data-d1115068-e658-4b66-b618-c0a3105a9855' title='Show/Hide data repr'><svg class='icon xr-icon-database'><use xlink:href='#icon-database'></use></svg></label><div class='xr-var-attrs'><dl class='xr-attrs'><dt><span>type :</span></dt><dd>adj</dd></dl></div><div class='xr-var-data'><pre>[3139 values with dtype=float64]</pre></div></li><li class='xr-var-item'><div class='xr-var-name'><span>xx_enh_fact_da_dummy2d_scalar</span></div><div class='xr-var-dims'>(y, x)</div><div class='xr-var-dtype'>float64</div><div class='xr-var-preview xr-preview'>...</div><input id='attrs-153e1ac2-4992-40c9-8afe-66f0989623dd' class='xr-var-attrs-in' type='checkbox' ><label for='attrs-153e1ac2-4992-40c9-8afe-66f0989623dd' title='Show/Hide attributes'><svg class='icon xr-icon-file-text2'><use xlink:href='#icon-file-text2'></use></svg></label><input id='data-9295d3e4-5a76-4ec0-b616-aa3e69298dd3' class='xr-var-data-in' type='checkbox'><label for='data-9295d3e4-5a76-4ec0-b616-aa3e69298dd3' title='Show/Hide data repr'><svg class='icon xr-icon-database'><use xlink:href='#icon-database'></use></svg></label><div class='xr-var-attrs'><dl class='xr-attrs'><dt><span>type :</span></dt><dd>nodiff</dd></dl></div><div class='xr-var-data'><pre>[3139 values with dtype=float64]</pre></div></li><li class='xr-var-item'><div class='xr-var-name'><span>xx_enh_fact_da_dummy2d_scalarb</span></div><div class='xr-var-dims'>(y, x)</div><div class='xr-var-dtype'>float64</div><div class='xr-var-preview xr-preview'>...</div><input id='attrs-a50e0b74-2b37-426a-af8e-8e44376eda6d' class='xr-var-attrs-in' type='checkbox' ><label for='attrs-a50e0b74-2b37-426a-af8e-8e44376eda6d' title='Show/Hide attributes'><svg class='icon xr-icon-file-text2'><use xlink:href='#icon-file-text2'></use></svg></label><input id='data-21e6c017-d651-48c7-ba33-dfde687314ff' class='xr-var-data-in' type='checkbox'><label for='data-21e6c017-d651-48c7-ba33-dfde687314ff' title='Show/Hide data repr'><svg class='icon xr-icon-database'><use xlink:href='#icon-database'></use></svg></label><div class='xr-var-attrs'><dl class='xr-attrs'><dt><span>type :</span></dt><dd>adj</dd></dl></div><div class='xr-var-data'><pre>[3139 values with dtype=float64]</pre></div></li><li class='xr-var-item'><div class='xr-var-name'><span>xx_enh_intg_da_dummy2d_scalar</span></div><div class='xr-var-dims'>(y, x)</div><div class='xr-var-dtype'>float64</div><div class='xr-var-preview xr-preview'>...</div><input id='attrs-acb785f8-1ebe-45e2-be73-2c26c316b6d1' class='xr-var-attrs-in' type='checkbox' ><label for='attrs-acb785f8-1ebe-45e2-be73-2c26c316b6d1' title='Show/Hide attributes'><svg class='icon xr-icon-file-text2'><use xlink:href='#icon-file-text2'></use></svg></label><input id='data-394ea0a6-42f3-4a5d-bfe0-4e23f0158597' class='xr-var-data-in' type='checkbox'><label for='data-394ea0a6-42f3-4a5d-bfe0-4e23f0158597' title='Show/Hide data repr'><svg class='icon xr-icon-database'><use xlink:href='#icon-database'></use></svg></label><div class='xr-var-attrs'><dl class='xr-attrs'><dt><span>type :</span></dt><dd>nodiff</dd></dl></div><div class='xr-var-data'><pre>[3139 values with dtype=float64]</pre></div></li><li class='xr-var-item'><div class='xr-var-name'><span>xx_enh_intg_da_dummy2d_scalarb</span></div><div class='xr-var-dims'>(y, x)</div><div class='xr-var-dtype'>float64</div><div class='xr-var-preview xr-preview'>...</div><input id='attrs-4491fac0-06d7-4205-a8b1-926d1e89c5f4' class='xr-var-attrs-in' type='checkbox' ><label for='attrs-4491fac0-06d7-4205-a8b1-926d1e89c5f4' title='Show/Hide attributes'><svg class='icon xr-icon-file-text2'><use xlink:href='#icon-file-text2'></use></svg></label><input id='data-b4b5be64-9437-40ea-ba8d-d14c98abf7c0' class='xr-var-data-in' type='checkbox'><label for='data-b4b5be64-9437-40ea-ba8d-d14c98abf7c0' title='Show/Hide data repr'><svg class='icon xr-icon-database'><use xlink:href='#icon-database'></use></svg></label><div class='xr-var-attrs'><dl class='xr-attrs'><dt><span>type :</span></dt><dd>adj</dd></dl></div><div class='xr-var-data'><pre>[3139 values with dtype=float64]</pre></div></li><li class='xr-var-item'><div class='xr-var-name'><span>xx_n_glen_da_dummy2d_scalar</span></div><div class='xr-var-dims'>(y, x)</div><div class='xr-var-dtype'>float64</div><div class='xr-var-preview xr-preview'>...</div><input id='attrs-2d805056-af80-4fea-b720-ee37b51b06e9' class='xr-var-attrs-in' type='checkbox' ><label for='attrs-2d805056-af80-4fea-b720-ee37b51b06e9' title='Show/Hide attributes'><svg class='icon xr-icon-file-text2'><use xlink:href='#icon-file-text2'></use></svg></label><input id='data-7c840971-6286-49b5-8ec3-5967c8d0182a' class='xr-var-data-in' type='checkbox'><label for='data-7c840971-6286-49b5-8ec3-5967c8d0182a' title='Show/Hide data repr'><svg class='icon xr-icon-database'><use xlink:href='#icon-database'></use></svg></label><div class='xr-var-attrs'><dl class='xr-attrs'><dt><span>type :</span></dt><dd>nodiff</dd></dl></div><div class='xr-var-data'><pre>[3139 values with dtype=float64]</pre></div></li><li class='xr-var-item'><div class='xr-var-name'><span>xx_n_glen_da_dummy2d_scalarb</span></div><div class='xr-var-dims'>(y, x)</div><div class='xr-var-dtype'>float64</div><div class='xr-var-preview xr-preview'>...</div><input id='attrs-39b156f1-0f7f-42d6-b87b-14812a84a4c5' class='xr-var-attrs-in' type='checkbox' ><label for='attrs-39b156f1-0f7f-42d6-b87b-14812a84a4c5' title='Show/Hide attributes'><svg class='icon xr-icon-file-text2'><use xlink:href='#icon-file-text2'></use></svg></label><input id='data-06fc5334-2379-4a7a-91c9-396a162ef8ab' class='xr-var-data-in' type='checkbox'><label for='data-06fc5334-2379-4a7a-91c9-396a162ef8ab' title='Show/Hide data repr'><svg class='icon xr-icon-database'><use xlink:href='#icon-database'></use></svg></label><div class='xr-var-attrs'><dl class='xr-attrs'><dt><span>type :</span></dt><dd>adj</dd></dl></div><div class='xr-var-data'><pre>[3139 values with dtype=float64]</pre></div></li><li class='xr-var-item'><div class='xr-var-name'><span>xx_zs</span></div><div class='xr-var-dims'>(y, x)</div><div class='xr-var-dtype'>float64</div><div class='xr-var-preview xr-preview'>...</div><input id='attrs-863a006e-30f3-4766-8ad9-afd8c98aca92' class='xr-var-attrs-in' type='checkbox' ><label for='attrs-863a006e-30f3-4766-8ad9-afd8c98aca92' title='Show/Hide attributes'><svg class='icon xr-icon-file-text2'><use xlink:href='#icon-file-text2'></use></svg></label><input id='data-e1e5886e-c732-405a-9773-43f4bb671d82' class='xr-var-data-in' type='checkbox'><label for='data-e1e5886e-c732-405a-9773-43f4bb671d82' title='Show/Hide data repr'><svg class='icon xr-icon-database'><use xlink:href='#icon-database'></use></svg></label><div class='xr-var-attrs'><dl class='xr-attrs'><dt><span>type :</span></dt><dd>nodiff</dd></dl></div><div class='xr-var-data'><pre>[3139 values with dtype=float64]</pre></div></li><li class='xr-var-item'><div class='xr-var-name'><span>xx_zsb</span></div><div class='xr-var-dims'>(y, x)</div><div class='xr-var-dtype'>float64</div><div class='xr-var-preview xr-preview'>...</div><input id='attrs-74136506-af8e-435b-8f15-d278ff9685ba' class='xr-var-attrs-in' type='checkbox' ><label for='attrs-74136506-af8e-435b-8f15-d278ff9685ba' title='Show/Hide attributes'><svg class='icon xr-icon-file-text2'><use xlink:href='#icon-file-text2'></use></svg></label><input id='data-dccac6f8-cae0-48dc-a5c4-c8c125c32265' class='xr-var-data-in' type='checkbox'><label for='data-dccac6f8-cae0-48dc-a5c4-c8c125c32265' title='Show/Hide data repr'><svg class='icon xr-icon-database'><use xlink:href='#icon-database'></use></svg></label><div class='xr-var-attrs'><dl class='xr-attrs'><dt><span>type :</span></dt><dd>adj</dd></dl></div><div class='xr-var-data'><pre>[3139 values with dtype=float64]</pre></div></li><li class='xr-var-item'><div class='xr-var-name'><span>xx_zl</span></div><div class='xr-var-dims'>(y, x)</div><div class='xr-var-dtype'>float64</div><div class='xr-var-preview xr-preview'>...</div><input id='attrs-7500b6f4-6aed-44e6-8dd6-a1fc0476fc21' class='xr-var-attrs-in' type='checkbox' ><label for='attrs-7500b6f4-6aed-44e6-8dd6-a1fc0476fc21' title='Show/Hide attributes'><svg class='icon xr-icon-file-text2'><use xlink:href='#icon-file-text2'></use></svg></label><input id='data-2fbcb8fe-6413-4497-91da-5e3ed01a1f2b' class='xr-var-data-in' type='checkbox'><label for='data-2fbcb8fe-6413-4497-91da-5e3ed01a1f2b' title='Show/Hide data repr'><svg class='icon xr-icon-database'><use xlink:href='#icon-database'></use></svg></label><div class='xr-var-attrs'><dl class='xr-attrs'><dt><span>type :</span></dt><dd>nodiff</dd></dl></div><div class='xr-var-data'><pre>[3139 values with dtype=float64]</pre></div></li><li class='xr-var-item'><div class='xr-var-name'><span>xx_zlb</span></div><div class='xr-var-dims'>(y, x)</div><div class='xr-var-dtype'>float64</div><div class='xr-var-preview xr-preview'>...</div><input id='attrs-81b4a15c-7e74-4698-88c4-2d0ddf6d4b64' class='xr-var-attrs-in' type='checkbox' ><label for='attrs-81b4a15c-7e74-4698-88c4-2d0ddf6d4b64' title='Show/Hide attributes'><svg class='icon xr-icon-file-text2'><use xlink:href='#icon-file-text2'></use></svg></label><input id='data-62993656-b9f1-4b78-8b7d-5e5c3c2594a5' class='xr-var-data-in' type='checkbox'><label for='data-62993656-b9f1-4b78-8b7d-5e5c3c2594a5' title='Show/Hide data repr'><svg class='icon xr-icon-database'><use xlink:href='#icon-database'></use></svg></label><div class='xr-var-attrs'><dl class='xr-attrs'><dt><span>type :</span></dt><dd>adj</dd></dl></div><div class='xr-var-data'><pre>[3139 values with dtype=float64]</pre></div></li><li class='xr-var-item'><div class='xr-var-name'><span>xx_zl0</span></div><div class='xr-var-dims'>(y, x)</div><div class='xr-var-dtype'>float64</div><div class='xr-var-preview xr-preview'>...</div><input id='attrs-1a5bd6d3-5112-4f41-8d97-61a59a79f743' class='xr-var-attrs-in' type='checkbox' ><label for='attrs-1a5bd6d3-5112-4f41-8d97-61a59a79f743' title='Show/Hide attributes'><svg class='icon xr-icon-file-text2'><use xlink:href='#icon-file-text2'></use></svg></label><input id='data-d266e89c-33cd-4d12-bde5-166cade00945' class='xr-var-data-in' type='checkbox'><label for='data-d266e89c-33cd-4d12-bde5-166cade00945' title='Show/Hide data repr'><svg class='icon xr-icon-database'><use xlink:href='#icon-database'></use></svg></label><div class='xr-var-attrs'><dl class='xr-attrs'><dt><span>type :</span></dt><dd>nodiff</dd></dl></div><div class='xr-var-data'><pre>[3139 values with dtype=float64]</pre></div></li><li class='xr-var-item'><div class='xr-var-name'><span>xx_zl0b</span></div><div class='xr-var-dims'>(y, x)</div><div class='xr-var-dtype'>float64</div><div class='xr-var-preview xr-preview'>...</div><input id='attrs-9ab86a6a-025f-498e-a2ab-6b6702e15f5c' class='xr-var-attrs-in' type='checkbox' ><label for='attrs-9ab86a6a-025f-498e-a2ab-6b6702e15f5c' title='Show/Hide attributes'><svg class='icon xr-icon-file-text2'><use xlink:href='#icon-file-text2'></use></svg></label><input id='data-7fe50e9c-cd3b-46e2-8c01-fb81aa002f6f' class='xr-var-data-in' type='checkbox'><label for='data-7fe50e9c-cd3b-46e2-8c01-fb81aa002f6f' title='Show/Hide data repr'><svg class='icon xr-icon-database'><use xlink:href='#icon-database'></use></svg></label><div class='xr-var-attrs'><dl class='xr-attrs'><dt><span>type :</span></dt><dd>adj</dd></dl></div><div class='xr-var-data'><pre>[3139 values with dtype=float64]</pre></div></li><li class='xr-var-item'><div class='xr-var-name'><span>xx_zb</span></div><div class='xr-var-dims'>(y, x)</div><div class='xr-var-dtype'>float64</div><div class='xr-var-preview xr-preview'>...</div><input id='attrs-e7d7ccce-cf81-4a17-84ac-3e26ed9075ac' class='xr-var-attrs-in' type='checkbox' ><label for='attrs-e7d7ccce-cf81-4a17-84ac-3e26ed9075ac' title='Show/Hide attributes'><svg class='icon xr-icon-file-text2'><use xlink:href='#icon-file-text2'></use></svg></label><input id='data-c4517867-37d1-4d8f-bfb7-539682e70a65' class='xr-var-data-in' type='checkbox'><label for='data-c4517867-37d1-4d8f-bfb7-539682e70a65' title='Show/Hide data repr'><svg class='icon xr-icon-database'><use xlink:href='#icon-database'></use></svg></label><div class='xr-var-attrs'><dl class='xr-attrs'><dt><span>type :</span></dt><dd>nodiff</dd></dl></div><div class='xr-var-data'><pre>[3139 values with dtype=float64]</pre></div></li><li class='xr-var-item'><div class='xr-var-name'><span>xx_zbb</span></div><div class='xr-var-dims'>(y, x)</div><div class='xr-var-dtype'>float64</div><div class='xr-var-preview xr-preview'>...</div><input id='attrs-a105ee87-60ab-472f-a500-1255980f167c' class='xr-var-attrs-in' type='checkbox' ><label for='attrs-a105ee87-60ab-472f-a500-1255980f167c' title='Show/Hide attributes'><svg class='icon xr-icon-file-text2'><use xlink:href='#icon-file-text2'></use></svg></label><input id='data-1e6a34f5-ac3f-402f-8dd0-331635955483' class='xr-var-data-in' type='checkbox'><label for='data-1e6a34f5-ac3f-402f-8dd0-331635955483' title='Show/Hide data repr'><svg class='icon xr-icon-database'><use xlink:href='#icon-database'></use></svg></label><div class='xr-var-attrs'><dl class='xr-attrs'><dt><span>type :</span></dt><dd>adj</dd></dl></div><div class='xr-var-data'><pre>[3139 values with dtype=float64]</pre></div></li><li class='xr-var-item'><div class='xr-var-name'><span>xx_temp_c</span></div><div class='xr-var-dims'>(zeta_c, y, x)</div><div class='xr-var-dtype'>float64</div><div class='xr-var-preview xr-preview'>...</div><input id='attrs-6376171e-bcd3-4df9-ad8c-40c43c3d8587' class='xr-var-attrs-in' type='checkbox' ><label for='attrs-6376171e-bcd3-4df9-ad8c-40c43c3d8587' title='Show/Hide attributes'><svg class='icon xr-icon-file-text2'><use xlink:href='#icon-file-text2'></use></svg></label><input id='data-dc5a3653-70fc-4004-ab9a-67057b382607' class='xr-var-data-in' type='checkbox'><label for='data-dc5a3653-70fc-4004-ab9a-67057b382607' title='Show/Hide data repr'><svg class='icon xr-icon-database'><use xlink:href='#icon-database'></use></svg></label><div class='xr-var-attrs'><dl class='xr-attrs'><dt><span>type :</span></dt><dd>nodiff</dd></dl></div><div class='xr-var-data'><pre>[254259 values with dtype=float64]</pre></div></li><li class='xr-var-item'><div class='xr-var-name'><span>xx_temp_cb</span></div><div class='xr-var-dims'>(zeta_c, y, x)</div><div class='xr-var-dtype'>float64</div><div class='xr-var-preview xr-preview'>...</div><input id='attrs-0d547bab-87bc-4e2f-8aee-82d47b2d1478' class='xr-var-attrs-in' type='checkbox' ><label for='attrs-0d547bab-87bc-4e2f-8aee-82d47b2d1478' title='Show/Hide attributes'><svg class='icon xr-icon-file-text2'><use xlink:href='#icon-file-text2'></use></svg></label><input id='data-24a96d12-4178-4588-8d7e-55b9c7586fd9' class='xr-var-data-in' type='checkbox'><label for='data-24a96d12-4178-4588-8d7e-55b9c7586fd9' title='Show/Hide data repr'><svg class='icon xr-icon-database'><use xlink:href='#icon-database'></use></svg></label><div class='xr-var-attrs'><dl class='xr-attrs'><dt><span>type :</span></dt><dd>adj</dd></dl></div><div class='xr-var-data'><pre>[254259 values with dtype=float64]</pre></div></li><li class='xr-var-item'><div class='xr-var-name'><span>xx_omega_c</span></div><div class='xr-var-dims'>(zeta_c, y, x)</div><div class='xr-var-dtype'>float64</div><div class='xr-var-preview xr-preview'>...</div><input id='attrs-9b734e9d-ee61-4a50-8426-5234ecc751d0' class='xr-var-attrs-in' type='checkbox' ><label for='attrs-9b734e9d-ee61-4a50-8426-5234ecc751d0' title='Show/Hide attributes'><svg class='icon xr-icon-file-text2'><use xlink:href='#icon-file-text2'></use></svg></label><input id='data-805219ab-0a1a-4b65-b1ac-5141e9ba6763' class='xr-var-data-in' type='checkbox'><label for='data-805219ab-0a1a-4b65-b1ac-5141e9ba6763' title='Show/Hide data repr'><svg class='icon xr-icon-database'><use xlink:href='#icon-database'></use></svg></label><div class='xr-var-attrs'><dl class='xr-attrs'><dt><span>type :</span></dt><dd>nodiff</dd></dl></div><div class='xr-var-data'><pre>[254259 values with dtype=float64]</pre></div></li><li class='xr-var-item'><div class='xr-var-name'><span>xx_omega_cb</span></div><div class='xr-var-dims'>(zeta_c, y, x)</div><div class='xr-var-dtype'>float64</div><div class='xr-var-preview xr-preview'>...</div><input id='attrs-f6799f10-081f-4b86-ac4f-1b50e3e7c513' class='xr-var-attrs-in' type='checkbox' ><label for='attrs-f6799f10-081f-4b86-ac4f-1b50e3e7c513' title='Show/Hide attributes'><svg class='icon xr-icon-file-text2'><use xlink:href='#icon-file-text2'></use></svg></label><input id='data-71d998c4-32d2-42b3-85f2-0a8a6e0b5bc8' class='xr-var-data-in' type='checkbox'><label for='data-71d998c4-32d2-42b3-85f2-0a8a6e0b5bc8' title='Show/Hide data repr'><svg class='icon xr-icon-database'><use xlink:href='#icon-database'></use></svg></label><div class='xr-var-attrs'><dl class='xr-attrs'><dt><span>type :</span></dt><dd>adj</dd></dl></div><div class='xr-var-data'><pre>[254259 values with dtype=float64]</pre></div></li><li class='xr-var-item'><div class='xr-var-name'><span>xx_age_c</span></div><div class='xr-var-dims'>(zeta_c, y, x)</div><div class='xr-var-dtype'>float64</div><div class='xr-var-preview xr-preview'>...</div><input id='attrs-b13d9e37-956f-4df2-84d3-1d19ba215c47' class='xr-var-attrs-in' type='checkbox' ><label for='attrs-b13d9e37-956f-4df2-84d3-1d19ba215c47' title='Show/Hide attributes'><svg class='icon xr-icon-file-text2'><use xlink:href='#icon-file-text2'></use></svg></label><input id='data-99f08164-e070-40fc-852b-ae2ae3f9355b' class='xr-var-data-in' type='checkbox'><label for='data-99f08164-e070-40fc-852b-ae2ae3f9355b' title='Show/Hide data repr'><svg class='icon xr-icon-database'><use xlink:href='#icon-database'></use></svg></label><div class='xr-var-attrs'><dl class='xr-attrs'><dt><span>type :</span></dt><dd>nodiff</dd></dl></div><div class='xr-var-data'><pre>[254259 values with dtype=float64]</pre></div></li><li class='xr-var-item'><div class='xr-var-name'><span>xx_age_cb</span></div><div class='xr-var-dims'>(zeta_c, y, x)</div><div class='xr-var-dtype'>float64</div><div class='xr-var-preview xr-preview'>...</div><input id='attrs-f2bbdbb5-de2e-49aa-ae9e-8f9358c09b6d' class='xr-var-attrs-in' type='checkbox' ><label for='attrs-f2bbdbb5-de2e-49aa-ae9e-8f9358c09b6d' title='Show/Hide attributes'><svg class='icon xr-icon-file-text2'><use xlink:href='#icon-file-text2'></use></svg></label><input id='data-9662692c-0972-48c3-af56-de502a1ec674' class='xr-var-data-in' type='checkbox'><label for='data-9662692c-0972-48c3-af56-de502a1ec674' title='Show/Hide data repr'><svg class='icon xr-icon-database'><use xlink:href='#icon-database'></use></svg></label><div class='xr-var-attrs'><dl class='xr-attrs'><dt><span>type :</span></dt><dd>adj</dd></dl></div><div class='xr-var-data'><pre>[254259 values with dtype=float64]</pre></div></li><li class='xr-var-item'><div class='xr-var-name'><span>xx_temp_r</span></div><div class='xr-var-dims'>(zeta_r, y, x)</div><div class='xr-var-dtype'>float64</div><div class='xr-var-preview xr-preview'>...</div><input id='attrs-2ef58d8c-e890-48e9-b21c-ad66016204bb' class='xr-var-attrs-in' type='checkbox' ><label for='attrs-2ef58d8c-e890-48e9-b21c-ad66016204bb' title='Show/Hide attributes'><svg class='icon xr-icon-file-text2'><use xlink:href='#icon-file-text2'></use></svg></label><input id='data-7d507e07-7ef5-4455-b686-ed19296bee62' class='xr-var-data-in' type='checkbox'><label for='data-7d507e07-7ef5-4455-b686-ed19296bee62' title='Show/Hide data repr'><svg class='icon xr-icon-database'><use xlink:href='#icon-database'></use></svg></label><div class='xr-var-attrs'><dl class='xr-attrs'><dt><span>type :</span></dt><dd>nodiff</dd></dl></div><div class='xr-var-data'><pre>[128699 values with dtype=float64]</pre></div></li><li class='xr-var-item'><div class='xr-var-name'><span>xx_temp_rb</span></div><div class='xr-var-dims'>(zeta_r, y, x)</div><div class='xr-var-dtype'>float64</div><div class='xr-var-preview xr-preview'>...</div><input id='attrs-1b046f6b-41f2-4a62-b57d-e7547a919dc4' class='xr-var-attrs-in' type='checkbox' ><label for='attrs-1b046f6b-41f2-4a62-b57d-e7547a919dc4' title='Show/Hide attributes'><svg class='icon xr-icon-file-text2'><use xlink:href='#icon-file-text2'></use></svg></label><input id='data-5e68bd83-b87b-4739-8fca-a391d1dcd39f' class='xr-var-data-in' type='checkbox'><label for='data-5e68bd83-b87b-4739-8fca-a391d1dcd39f' title='Show/Hide data repr'><svg class='icon xr-icon-database'><use xlink:href='#icon-database'></use></svg></label><div class='xr-var-attrs'><dl class='xr-attrs'><dt><span>type :</span></dt><dd>adj</dd></dl></div><div class='xr-var-data'><pre>[128699 values with dtype=float64]</pre></div></li><li class='xr-var-item'><div class='xr-var-name'><span>xx_delta_tda</span></div><div class='xr-var-dims'>(time_ad, y, x)</div><div class='xr-var-dtype'>float64</div><div class='xr-var-preview xr-preview'>...</div><input id='attrs-497b42b4-37ee-444b-960d-3f535139d861' class='xr-var-attrs-in' type='checkbox' ><label for='attrs-497b42b4-37ee-444b-960d-3f535139d861' title='Show/Hide attributes'><svg class='icon xr-icon-file-text2'><use xlink:href='#icon-file-text2'></use></svg></label><input id='data-e7a7c1e4-be2c-41a7-ac04-77d8ea204307' class='xr-var-data-in' type='checkbox'><label for='data-e7a7c1e4-be2c-41a7-ac04-77d8ea204307' title='Show/Hide data repr'><svg class='icon xr-icon-database'><use xlink:href='#icon-database'></use></svg></label><div class='xr-var-attrs'><dl class='xr-attrs'><dt><span>type :</span></dt><dd>nodiff</dd></dl></div><div class='xr-var-data'><pre>[37668 values with dtype=float64]</pre></div></li><li class='xr-var-item'><div class='xr-var-name'><span>xx_delta_tdab</span></div><div class='xr-var-dims'>(time_ad, y, x)</div><div class='xr-var-dtype'>float64</div><div class='xr-var-preview xr-preview'>...</div><input id='attrs-3b6d64d5-b408-459e-9230-951fda5bb02b' class='xr-var-attrs-in' type='checkbox' ><label for='attrs-3b6d64d5-b408-459e-9230-951fda5bb02b' title='Show/Hide attributes'><svg class='icon xr-icon-file-text2'><use xlink:href='#icon-file-text2'></use></svg></label><input id='data-aadb0d2f-975c-4291-982d-ed4a8134f381' class='xr-var-data-in' type='checkbox'><label for='data-aadb0d2f-975c-4291-982d-ed4a8134f381' title='Show/Hide data repr'><svg class='icon xr-icon-database'><use xlink:href='#icon-database'></use></svg></label><div class='xr-var-attrs'><dl class='xr-attrs'><dt><span>type :</span></dt><dd>adj</dd></dl></div><div class='xr-var-data'><pre>[37668 values with dtype=float64]</pre></div></li></ul></div></li><li class='xr-section-item'><input id='section-1431f159-d82a-4b9c-8939-e684aafb8d07' class='xr-section-summary-in' type='checkbox'  ><label for='section-1431f159-d82a-4b9c-8939-e684aafb8d07' class='xr-section-summary' >Indexes: <span>(4)</span></label><div class='xr-section-inline-details'></div><div class='xr-section-details'><ul class='xr-var-list'><li class='xr-var-item'><div class='xr-index-name'><div>x</div></div><div class='xr-index-preview'>PandasIndex</div><input type='checkbox' disabled/><label></label><input id='index-8f09f21b-642e-4fb0-b788-17cd3ddc00a7' class='xr-index-data-in' type='checkbox'/><label for='index-8f09f21b-642e-4fb0-b788-17cd3ddc00a7' title='Show/Hide index repr'><svg class='icon xr-icon-database'><use xlink:href='#icon-database'></use></svg></label><div class='xr-index-data'><pre>PandasIndex(Index([-720000.0, -680000.0, -640000.0, -600000.0, -560000.0, -520000.0,\n",
       "       -480000.0, -440000.0, -400000.0, -360000.0, -320000.0, -280000.0,\n",
       "       -240000.0, -200000.0, -160000.0, -120000.0,  -80000.0,  -40000.0,\n",
       "             0.0,   40000.0,   80000.0,  120000.0,  160000.0,  200000.0,\n",
       "        240000.0,  280000.0,  320000.0,  360000.0,  400000.0,  440000.0,\n",
       "        480000.0,  520000.0,  560000.0,  600000.0,  640000.0,  680000.0,\n",
       "        720000.0,  760000.0,  800000.0,  840000.0,  880000.0,  920000.0,\n",
       "        960000.0],\n",
       "      dtype=&#x27;float64&#x27;, name=&#x27;x&#x27;))</pre></div></li><li class='xr-var-item'><div class='xr-index-name'><div>y</div></div><div class='xr-index-preview'>PandasIndex</div><input type='checkbox' disabled/><label></label><input id='index-9e85f84d-acdb-43ca-bafd-937ee18e8e5a' class='xr-index-data-in' type='checkbox'/><label for='index-9e85f84d-acdb-43ca-bafd-937ee18e8e5a' title='Show/Hide index repr'><svg class='icon xr-icon-database'><use xlink:href='#icon-database'></use></svg></label><div class='xr-index-data'><pre>PandasIndex(Index([-3450000.0, -3410000.0, -3370000.0, -3330000.0, -3290000.0, -3250000.0,\n",
       "       -3210000.0, -3170000.0, -3130000.0, -3090000.0, -3050000.0, -3010000.0,\n",
       "       -2970000.0, -2930000.0, -2890000.0, -2850000.0, -2810000.0, -2770000.0,\n",
       "       -2730000.0, -2690000.0, -2650000.0, -2610000.0, -2570000.0, -2530000.0,\n",
       "       -2490000.0, -2450000.0, -2410000.0, -2370000.0, -2330000.0, -2290000.0,\n",
       "       -2250000.0, -2210000.0, -2170000.0, -2130000.0, -2090000.0, -2050000.0,\n",
       "       -2010000.0, -1970000.0, -1930000.0, -1890000.0, -1850000.0, -1810000.0,\n",
       "       -1770000.0, -1730000.0, -1690000.0, -1650000.0, -1610000.0, -1570000.0,\n",
       "       -1530000.0, -1490000.0, -1450000.0, -1410000.0, -1370000.0, -1330000.0,\n",
       "       -1290000.0, -1250000.0, -1210000.0, -1170000.0, -1130000.0, -1090000.0,\n",
       "       -1050000.0, -1010000.0,  -970000.0,  -930000.0,  -890000.0,  -850000.0,\n",
       "        -810000.0,  -770000.0,  -730000.0,  -690000.0,  -650000.0,  -610000.0,\n",
       "        -570000.0],\n",
       "      dtype=&#x27;float64&#x27;, name=&#x27;y&#x27;))</pre></div></li><li class='xr-var-item'><div class='xr-index-name'><div>zeta_r</div></div><div class='xr-index-preview'>PandasIndex</div><input type='checkbox' disabled/><label></label><input id='index-3dcd592a-7127-41b3-b063-7c78409a10e9' class='xr-index-data-in' type='checkbox'/><label for='index-3dcd592a-7127-41b3-b063-7c78409a10e9' title='Show/Hide index repr'><svg class='icon xr-icon-database'><use xlink:href='#icon-database'></use></svg></label><div class='xr-index-data'><pre>PandasIndex(Index([                0.0,               0.025,                0.05,\n",
       "       0.07500000000000001,                 0.1,               0.125,\n",
       "       0.15000000000000002, 0.17500000000000002,                 0.2,\n",
       "                     0.225,                0.25,               0.275,\n",
       "       0.30000000000000004,               0.325, 0.35000000000000003,\n",
       "                     0.375,                 0.4, 0.42500000000000004,\n",
       "                      0.45, 0.47500000000000003,                 0.5,\n",
       "                     0.525,                0.55,  0.5750000000000001,\n",
       "        0.6000000000000001,               0.625,                0.65,\n",
       "                     0.675,  0.7000000000000001,  0.7250000000000001,\n",
       "                      0.75,               0.775,                 0.8,\n",
       "        0.8250000000000001,  0.8500000000000001,               0.875,\n",
       "                       0.9,               0.925,  0.9500000000000001,\n",
       "        0.9750000000000001,                 1.0],\n",
       "      dtype=&#x27;float64&#x27;, name=&#x27;zeta_r&#x27;))</pre></div></li><li class='xr-var-item'><div class='xr-index-name'><div>time_ad</div></div><div class='xr-index-preview'>PandasIndex</div><input type='checkbox' disabled/><label></label><input id='index-219060c0-20b5-4ca1-95e8-eee5a924060e' class='xr-index-data-in' type='checkbox'/><label for='index-219060c0-20b5-4ca1-95e8-eee5a924060e' title='Show/Hide index repr'><svg class='icon xr-icon-database'><use xlink:href='#icon-database'></use></svg></label><div class='xr-index-data'><pre>PandasIndex(Index([               0.0,      1909.09090909,      3818.18181818,\n",
       "        5727.272727269999,      7636.36363636,      9545.45454545,\n",
       "       11454.545454539999,     13363.63636363,     15272.72727272,\n",
       "           17181.81818181,      19090.9090909,     20999.99999999],\n",
       "      dtype=&#x27;float64&#x27;, name=&#x27;time_ad&#x27;))</pre></div></li></ul></div></li><li class='xr-section-item'><input id='section-6f3d8e4c-e590-48f2-a48f-461aaaec6791' class='xr-section-summary-in' type='checkbox'  checked><label for='section-6f3d8e4c-e590-48f2-a48f-461aaaec6791' class='xr-section-summary' >Attributes: <span>(1)</span></label><div class='xr-section-inline-details'></div><div class='xr-section-details'><dl class='xr-attrs'><dt><span>history :</span></dt><dd>2025-07-02 09:41:34 -05:00 - Data produced</dd></dl></div></li></ul></div></div>"
      ],
      "text/plain": [
       "<xarray.Dataset> Size: 16MB\n",
       "Dimensions:                         (x: 43, y: 73, zeta_c: 81, zeta_r: 41,\n",
       "                                     time_ad: 12, fc_dummy_dim: 1)\n",
       "Coordinates:\n",
       "  * x                               (x) float64 344B -7.2e+05 ... 9.6e+05\n",
       "  * y                               (y) float64 584B -3.45e+06 ... -5.7e+05\n",
       "  * zeta_r                          (zeta_r) float64 328B 0.0 0.025 ... 1.0\n",
       "  * time_ad                         (time_ad) float64 96B 0.0 ... 2.1e+04\n",
       "Dimensions without coordinates: zeta_c, fc_dummy_dim\n",
       "Data variables: (12/65)\n",
       "    sigma_level_c                   (zeta_c) float64 648B ...\n",
       "    fc                              (fc_dummy_dim) float64 8B ...\n",
       "    fc_data                         (fc_dummy_dim) float64 8B ...\n",
       "    fc_bm5                          (fc_dummy_dim) float64 8B ...\n",
       "    fc_ac                           (fc_dummy_dim) float64 8B ...\n",
       "    fc_svc                          (fc_dummy_dim) float64 8B ...\n",
       "    ...                              ...\n",
       "    xx_age_c                        (zeta_c, y, x) float64 2MB ...\n",
       "    xx_age_cb                       (zeta_c, y, x) float64 2MB ...\n",
       "    xx_temp_r                       (zeta_r, y, x) float64 1MB ...\n",
       "    xx_temp_rb                      (zeta_r, y, x) float64 1MB ...\n",
       "    xx_delta_tda                    (time_ad, y, x) float64 301kB ...\n",
       "    xx_delta_tdab                   (time_ad, y, x) float64 301kB ...\n",
       "Attributes:\n",
       "    history:  2025-07-02 09:41:34 -05:00 - Data produced"
      ]
     },
     "execution_count": 63,
     "metadata": {},
     "output_type": "execute_result"
    }
   ],
   "source": [
    "ds_validation_genctrl_nolog"
   ]
  },
  {
   "cell_type": "code",
   "execution_count": 36,
   "id": "a991fd2e-535c-4b4f-a546-c2ff9a35d011",
   "metadata": {},
   "outputs": [
    {
     "data": {
      "text/plain": [
       "<matplotlib.colorbar.Colorbar at 0x14e298f93f10>"
      ]
     },
     "execution_count": 36,
     "metadata": {},
     "output_type": "execute_result"
    },
    {
     "data": {
      "image/png": "[encoded data removed]",
      "text/plain": [
       "<Figure size 640x480 with 2 Axes>"
      ]
     },
     "metadata": {},
     "output_type": "display_data"
    }
   ],
   "source": [
    "plt.contourf(ds_grl40_bm5_paleo17a_CT4_BH0_m11ka_pkp_init[\"temp_c\"][0], cmap = \"RdBu_r\", vmin = -10, vmax = 10, levels = 10)\n",
    "plt.colorbar()"
   ]
  },
  {
   "cell_type": "code",
   "execution_count": 37,
   "id": "08a46dbd-742e-4d00-bea0-d31ef445041d",
   "metadata": {},
   "outputs": [
    {
     "data": {
      "text/plain": [
       "<matplotlib.colorbar.Colorbar at 0x14e298e63e80>"
      ]
     },
     "execution_count": 37,
     "metadata": {},
     "output_type": "execute_result"
    },
    {
     "data": {
      "image/png": "[encoded data removed]",
      "text/plain": [
       "<Figure size 640x480 with 2 Axes>"
      ]
     },
     "metadata": {},
     "output_type": "display_data"
    }
   ],
   "source": [
    "plt.contourf(ds_grl40_bm5_paleo17a_CT4_BH0_m11ka_pkp_init[\"temp_r\"][-1], cmap = \"RdBu_r\", vmin = -10, vmax = 10, levels = 10)\n",
    "plt.colorbar()"
   ]
  },
  {
   "cell_type": "code",
   "execution_count": 46,
   "id": "49af9e0c-ceee-48d0-b3bd-51b944f5060a",
   "metadata": {},
   "outputs": [
    {
     "data": {
      "text/plain": [
       "<matplotlib.colorbar.Colorbar at 0x14e29866a470>"
      ]
     },
     "execution_count": 46,
     "metadata": {},
     "output_type": "execute_result"
    },
    {
     "data": {
      "image/png": "[encoded data removed]",
      "text/plain": [
       "<Figure size 640x480 with 2 Axes>"
      ]
     },
     "metadata": {},
     "output_type": "display_data"
    }
   ],
   "source": [
    "plt.contourf(ds_grl40_bm5_paleo17a_CT4_BH0_m11ka_pkp_init[\"temp_r\"][-1]/ds_grl40_bm5_paleo17a_CT4_BH0_m11ka_pkp_init[\"temp_c\"][0]-1, cmap = \"RdBu_r\", vmin = -0.01, vmax = 0.01, levels = 100)\n",
    "plt.colorbar()"
   ]
  },
  {
   "cell_type": "code",
   "execution_count": 70,
   "id": "095a08cd-bcf6-4dca-9ad6-cc98195e36a8",
   "metadata": {},
   "outputs": [
    {
     "data": {
      "text/plain": [
       "<matplotlib.colorbar.Colorbar at 0x14e29377e8f0>"
      ]
     },
     "execution_count": 70,
     "metadata": {},
     "output_type": "execute_result"
    },
    {
     "data": {
      "image/png": "[encoded data removed]",
      "text/plain": [
       "<Figure size 640x480 with 2 Axes>"
      ]
     },
     "metadata": {},
     "output_type": "display_data"
    }
   ],
   "source": [
    "plt.contourf(ds_validation_genctrl_nolog[\"xx_temp_rb\"].data[-1], cmap = \"RdBu_r\", vmin = -0.0004, vmax = 0.0004, levels = 100)\n",
    "plt.colorbar()"
   ]
  },
  {
   "cell_type": "code",
   "execution_count": 71,
   "id": "638d14d4-d6fd-457d-8957-5d974bffd0c6",
   "metadata": {},
   "outputs": [
    {
     "data": {
      "text/plain": [
       "<matplotlib.colorbar.Colorbar at 0x14e2936674f0>"
      ]
     },
     "execution_count": 71,
     "metadata": {},
     "output_type": "execute_result"
    },
    {
     "data": {
      "image/png": "[encoded data removed]",
      "text/plain": [
       "<Figure size 640x480 with 2 Axes>"
      ]
     },
     "metadata": {},
     "output_type": "display_data"
    }
   ],
   "source": [
    "plt.contourf(ds_validation_genctrl_nolog[\"xx_temp_cb\"].data[0], cmap = \"RdBu_r\", vmin = -0.0004, vmax = 0.0004, levels = 100)\n",
    "plt.colorbar()"
   ]
  },
  {
   "cell_type": "code",
   "execution_count": 35,
   "id": "1ad2c505-701e-4052-9ae1-b4ee1d3bce4a",
   "metadata": {},
   "outputs": [],
   "source": [
    "def compare(var_name, bool_log = False):\n",
    "    varb_validation_genctrl_nolog = ds_validation_genctrl_nolog[\"xx_\" + var_name + \"b\"].data\n",
    "    if not bool_log:\n",
    "        varb_validation_genctrl_prof = ds_validation_genctrl_prof[\"xx_\" + var_name + \"b\"].data\n",
    "    else:\n",
    "        varb_validation_genctrl_prof = 10**(-dict_og_params_fields_vals[\"xx_\" + var_name])*ds_validation_genctrl_prof[\"xx_\" + var_name + \"b\"].data/np.log(10)\n",
    "        \n",
    "    print(np.sum(varb_validation_genctrl_nolog), \n",
    "          np.sum(varb_validation_genctrl_prof),\n",
    "          np.sum(np.abs(varb_validation_genctrl_nolog)), \n",
    "          np.sum(np.abs(varb_validation_genctrl_prof)),\n",
    "          np.nanmax((np.abs(varb_validation_genctrl_prof/varb_validation_genctrl_nolog) - 1.0) * (np.abs(varb_validation_genctrl_nolog) > 0.1*np.max(np.abs(varb_validation_genctrl_nolog)))),\n",
    "          np.sum((varb_validation_genctrl_nolog == 0.0) & (varb_validation_genctrl_prof != 0.0)),\n",
    "          np.sum((varb_validation_genctrl_nolog != 0.0) & (varb_validation_genctrl_prof == 0.0)))"
   ]
  },
  {
   "cell_type": "code",
   "execution_count": 36,
   "id": "91daf13b-5aa6-4e7e-9745-a7f4f5d94fec",
   "metadata": {},
   "outputs": [
    {
     "name": "stdout",
     "output_type": "stream",
     "text": [
      "-36906.49314545212 -36904.09547530843 89442.84603419193 89445.23981142126 0.0010639377026036012 0 0\n"
     ]
    },
    {
     "name": "stderr",
     "output_type": "stream",
     "text": [
      "/tmp/ipykernel_1201010/2250920545.py:12: RuntimeWarning: invalid value encountered in divide\n",
      "  np.nanmax((np.abs(varb_validation_genctrl_prof/varb_validation_genctrl_nolog) - 1.0) * (np.abs(varb_validation_genctrl_nolog) > 0.1*np.max(np.abs(varb_validation_genctrl_nolog)))),\n"
     ]
    }
   ],
   "source": [
    "compare(\"c_slide_init\", True)"
   ]
  },
  {
   "cell_type": "code",
   "execution_count": 37,
   "id": "e52556c4-dace-4773-866c-ffb14f4d2c9c",
   "metadata": {},
   "outputs": [
    {
     "name": "stdout",
     "output_type": "stream",
     "text": [
      "-34770.60953800539 -34774.50889801636 59127.82599048865 59127.554093910585 0.001043768347676055 0 0\n"
     ]
    },
    {
     "name": "stderr",
     "output_type": "stream",
     "text": [
      "/tmp/ipykernel_1201010/2250920545.py:12: RuntimeWarning: invalid value encountered in divide\n",
      "  np.nanmax((np.abs(varb_validation_genctrl_prof/varb_validation_genctrl_nolog) - 1.0) * (np.abs(varb_validation_genctrl_nolog) > 0.1*np.max(np.abs(varb_validation_genctrl_nolog)))),\n"
     ]
    }
   ],
   "source": [
    "compare(\"delta_tda_const\", False)"
   ]
  },
  {
   "cell_type": "code",
   "execution_count": 38,
   "id": "fa3a8f29-9305-4aed-8445-58429a804ba0",
   "metadata": {},
   "outputs": [
    {
     "name": "stdout",
     "output_type": "stream",
     "text": [
      "-3.103756431276544 -3.1038847371979985 3.6688347511782493 3.668703318527175 0.00017364039931422326 0 0\n"
     ]
    },
    {
     "name": "stderr",
     "output_type": "stream",
     "text": [
      "/tmp/ipykernel_1201010/2250920545.py:12: RuntimeWarning: invalid value encountered in divide\n",
      "  np.nanmax((np.abs(varb_validation_genctrl_prof/varb_validation_genctrl_nolog) - 1.0) * (np.abs(varb_validation_genctrl_nolog) > 0.1*np.max(np.abs(varb_validation_genctrl_nolog)))),\n"
     ]
    }
   ],
   "source": [
    "compare(\"c_dis_da\", True)"
   ]
  },
  {
   "cell_type": "code",
   "execution_count": 39,
   "id": "b33d881e-5baa-4bc6-b033-f0334ab91cc8",
   "metadata": {},
   "outputs": [
    {
     "name": "stdout",
     "output_type": "stream",
     "text": [
      "-14653.66633783024 -14653.81033240738 51583.394428630854 51583.28921252617 3.634443493227835e-05 0 0\n"
     ]
    },
    {
     "name": "stderr",
     "output_type": "stream",
     "text": [
      "/tmp/ipykernel_1201010/2250920545.py:12: RuntimeWarning: invalid value encountered in divide\n",
      "  np.nanmax((np.abs(varb_validation_genctrl_prof/varb_validation_genctrl_nolog) - 1.0) * (np.abs(varb_validation_genctrl_nolog) > 0.1*np.max(np.abs(varb_validation_genctrl_nolog)))),\n"
     ]
    }
   ],
   "source": [
    "compare(\"q_geo\", True)"
   ]
  },
  {
   "cell_type": "code",
   "execution_count": 40,
   "id": "8d1f7bfe-8d4e-4433-9413-d68b94ceb8a3",
   "metadata": {},
   "outputs": [
    {
     "name": "stdout",
     "output_type": "stream",
     "text": [
      "11863.20222088675 11860.43280813557 253052.45877444284 253051.74364307593 0.0010387667808535728 0 0\n"
     ]
    },
    {
     "name": "stderr",
     "output_type": "stream",
     "text": [
      "/tmp/ipykernel_1201010/2250920545.py:12: RuntimeWarning: invalid value encountered in divide\n",
      "  np.nanmax((np.abs(varb_validation_genctrl_prof/varb_validation_genctrl_nolog) - 1.0) * (np.abs(varb_validation_genctrl_nolog) > 0.1*np.max(np.abs(varb_validation_genctrl_nolog)))),\n"
     ]
    }
   ],
   "source": [
    "compare(\"gamma_s\", True)"
   ]
  },
  {
   "cell_type": "code",
   "execution_count": 41,
   "id": "9c651592-9d3a-44f5-99c6-d30754167a63",
   "metadata": {},
   "outputs": [
    {
     "name": "stdout",
     "output_type": "stream",
     "text": [
      "-24849.29308419575 -24852.37052992064 33997.92789311879 33997.140017487014 0.0010772586524669947 0 0\n"
     ]
    },
    {
     "name": "stderr",
     "output_type": "stream",
     "text": [
      "/tmp/ipykernel_1201010/2250920545.py:12: RuntimeWarning: invalid value encountered in divide\n",
      "  np.nanmax((np.abs(varb_validation_genctrl_prof/varb_validation_genctrl_nolog) - 1.0) * (np.abs(varb_validation_genctrl_nolog) > 0.1*np.max(np.abs(varb_validation_genctrl_nolog)))),\n"
     ]
    }
   ],
   "source": [
    "compare(\"s_stat\", True)"
   ]
  },
  {
   "cell_type": "code",
   "execution_count": 42,
   "id": "e4d5b61d-c55b-4f46-a7e6-df5d356b75fb",
   "metadata": {},
   "outputs": [
    {
     "name": "stdout",
     "output_type": "stream",
     "text": [
      "-7875.697814615456 -7876.343385900058 11165.869403320845 11165.581944195957 0.0005070759370144895 0 0\n"
     ]
    },
    {
     "name": "stderr",
     "output_type": "stream",
     "text": [
      "/tmp/ipykernel_1201010/2250920545.py:12: RuntimeWarning: invalid value encountered in divide\n",
      "  np.nanmax((np.abs(varb_validation_genctrl_prof/varb_validation_genctrl_nolog) - 1.0) * (np.abs(varb_validation_genctrl_nolog) > 0.1*np.max(np.abs(varb_validation_genctrl_nolog)))),\n"
     ]
    }
   ],
   "source": [
    "compare(\"beta1\", True)"
   ]
  },
  {
   "cell_type": "code",
   "execution_count": 43,
   "id": "e438b87c-f90f-414f-9387-7f04c6ff4afc",
   "metadata": {},
   "outputs": [
    {
     "name": "stdout",
     "output_type": "stream",
     "text": [
      "-12394.28640129987 -12395.970168601714 15622.346857000844 15622.299222211524 0.0010172412359112926 0 0\n"
     ]
    },
    {
     "name": "stderr",
     "output_type": "stream",
     "text": [
      "/tmp/ipykernel_1201010/2250920545.py:12: RuntimeWarning: invalid value encountered in divide\n",
      "  np.nanmax((np.abs(varb_validation_genctrl_prof/varb_validation_genctrl_nolog) - 1.0) * (np.abs(varb_validation_genctrl_nolog) > 0.1*np.max(np.abs(varb_validation_genctrl_nolog)))),\n"
     ]
    }
   ],
   "source": [
    "compare(\"beta2\", True)"
   ]
  },
  {
   "cell_type": "code",
   "execution_count": 44,
   "id": "c80e341a-d406-451f-9adf-d4dfe6d05996",
   "metadata": {},
   "outputs": [
    {
     "name": "stdout",
     "output_type": "stream",
     "text": [
      "65288.01044980501 65294.519560867106 86137.64258829784 86140.08919975585 0.00119078410668072 0 0\n"
     ]
    },
    {
     "name": "stderr",
     "output_type": "stream",
     "text": [
      "/tmp/ipykernel_1201010/2250920545.py:12: RuntimeWarning: invalid value encountered in divide\n",
      "  np.nanmax((np.abs(varb_validation_genctrl_prof/varb_validation_genctrl_nolog) - 1.0) * (np.abs(varb_validation_genctrl_nolog) > 0.1*np.max(np.abs(varb_validation_genctrl_nolog)))),\n"
     ]
    }
   ],
   "source": [
    "compare(\"Pmax\", True)"
   ]
  },
  {
   "cell_type": "code",
   "execution_count": 45,
   "id": "b1ed6b3f-40e5-4b1a-971f-d22760a6534e",
   "metadata": {},
   "outputs": [
    {
     "name": "stdout",
     "output_type": "stream",
     "text": [
      "35.77922839448175 35.789310481386714 148.83698116865287 148.81665382963638 0.00012754872147624496 0 0\n"
     ]
    },
    {
     "name": "stderr",
     "output_type": "stream",
     "text": [
      "/tmp/ipykernel_1201010/2250920545.py:12: RuntimeWarning: invalid value encountered in divide\n",
      "  np.nanmax((np.abs(varb_validation_genctrl_prof/varb_validation_genctrl_nolog) - 1.0) * (np.abs(varb_validation_genctrl_nolog) > 0.1*np.max(np.abs(varb_validation_genctrl_nolog)))),\n"
     ]
    }
   ],
   "source": [
    "compare(\"mu\", True)"
   ]
  },
  {
   "cell_type": "code",
   "execution_count": 46,
   "id": "8f09084b-aa0a-4d50-8080-5010178e3dec",
   "metadata": {},
   "outputs": [
    {
     "name": "stdout",
     "output_type": "stream",
     "text": [
      "8.209646012717723 8.20996009873599 27.60136248736306 27.60247843923184 0.0014760600686296588 0 0\n"
     ]
    }
   ],
   "source": [
    "compare(\"RHO_A\", True)"
   ]
  },
  {
   "cell_type": "code",
   "execution_count": 47,
   "id": "fd033258-bada-475a-934d-37a9fa1db0fc",
   "metadata": {},
   "outputs": [
    {
     "name": "stdout",
     "output_type": "stream",
     "text": [
      "-1.6943351617325533 -1.6944000580877796 3.2273019234129774 3.2273244547691915 0.0006881792834700917 0 0\n"
     ]
    }
   ],
   "source": [
    "compare(\"time_lag_asth\", True)"
   ]
  },
  {
   "cell_type": "code",
   "execution_count": 48,
   "id": "adead0e9-fb69-47cc-bd7c-6f742fffbceb",
   "metadata": {},
   "outputs": [
    {
     "name": "stdout",
     "output_type": "stream",
     "text": [
      "2.70918318419685e-21 2.7092868325828777e-21 9.10844962082981e-21 9.10881788494651e-21 0.0014760600686301029 0 0\n"
     ]
    }
   ],
   "source": [
    "compare(\"flex_rig_lith\", True)"
   ]
  },
  {
   "cell_type": "code",
   "execution_count": 49,
   "id": "2b7d9d46-9c31-4099-b0b8-c4381781bd91",
   "metadata": {},
   "outputs": [
    {
     "name": "stdout",
     "output_type": "stream",
     "text": [
      "5568.151445948595 5569.076833599429 17103.209757415232 17103.67468016424 0.0009387662551916254 0 0\n"
     ]
    },
    {
     "name": "stderr",
     "output_type": "stream",
     "text": [
      "/tmp/ipykernel_1201010/2250920545.py:12: RuntimeWarning: invalid value encountered in divide\n",
      "  np.nanmax((np.abs(varb_validation_genctrl_prof/varb_validation_genctrl_nolog) - 1.0) * (np.abs(varb_validation_genctrl_nolog) > 0.1*np.max(np.abs(varb_validation_genctrl_nolog)))),\n"
     ]
    }
   ],
   "source": [
    "compare(\"p_weert\", True)"
   ]
  },
  {
   "cell_type": "code",
   "execution_count": 50,
   "id": "25e11668-db29-496c-b24c-5873ce54939a",
   "metadata": {},
   "outputs": [
    {
     "name": "stdout",
     "output_type": "stream",
     "text": [
      "-10780.833828493596 -10782.80385953636 42698.81956503917 42700.11574840954 0.0013096512985308895 0 0\n"
     ]
    },
    {
     "name": "stderr",
     "output_type": "stream",
     "text": [
      "/tmp/ipykernel_1201010/2250920545.py:12: RuntimeWarning: invalid value encountered in divide\n",
      "  np.nanmax((np.abs(varb_validation_genctrl_prof/varb_validation_genctrl_nolog) - 1.0) * (np.abs(varb_validation_genctrl_nolog) > 0.1*np.max(np.abs(varb_validation_genctrl_nolog)))),\n"
     ]
    }
   ],
   "source": [
    "compare(\"q_weert\", True)"
   ]
  },
  {
   "cell_type": "code",
   "execution_count": 51,
   "id": "0733bbd0-87f6-4f27-881b-32c9f85c370e",
   "metadata": {},
   "outputs": [
    {
     "name": "stdout",
     "output_type": "stream",
     "text": [
      "3783.156445989561 3782.4083961744277 3783.156445989561 3782.4083961744277 -0.00019773166291536803 0 0\n"
     ]
    }
   ],
   "source": [
    "compare(\"enh_fact_da_dummy2d_scalar\", True)"
   ]
  },
  {
   "cell_type": "code",
   "execution_count": 52,
   "id": "b5855039-21e4-4098-ac4c-a78c83b36eee",
   "metadata": {},
   "outputs": [
    {
     "name": "stdout",
     "output_type": "stream",
     "text": [
      "-17405.88951467569 -17405.812483699847 17405.88951467569 17405.812483699847 -4.425569619659342e-06 0 0\n"
     ]
    }
   ],
   "source": [
    "compare(\"enh_intg_da_dummy2d_scalar\", True)"
   ]
  },
  {
   "cell_type": "code",
   "execution_count": 53,
   "id": "70fd0747-0e46-4834-8ee7-bfe008f14646",
   "metadata": {},
   "outputs": [
    {
     "name": "stdout",
     "output_type": "stream",
     "text": [
      "-9147.151006173646 -9147.140898970338 9147.151006173646 9147.140898970338 -1.1049564290210867e-06 0 0\n"
     ]
    }
   ],
   "source": [
    "compare(\"n_glen_da_dummy2d_scalar\", True)"
   ]
  },
  {
   "cell_type": "code",
   "execution_count": 54,
   "id": "e3887403-50c2-40e3-bbab-91a344e44423",
   "metadata": {},
   "outputs": [
    {
     "name": "stdout",
     "output_type": "stream",
     "text": [
      "32.75031482279271 32.74776083919053 54.98662076820323 54.98846165127814 7.93219160799552e-06 0 0\n"
     ]
    },
    {
     "name": "stderr",
     "output_type": "stream",
     "text": [
      "/tmp/ipykernel_1201010/2250920545.py:12: RuntimeWarning: invalid value encountered in divide\n",
      "  np.nanmax((np.abs(varb_validation_genctrl_prof/varb_validation_genctrl_nolog) - 1.0) * (np.abs(varb_validation_genctrl_nolog) > 0.1*np.max(np.abs(varb_validation_genctrl_nolog)))),\n"
     ]
    }
   ],
   "source": [
    "compare(\"zs\", False)"
   ]
  },
  {
   "cell_type": "code",
   "execution_count": 55,
   "id": "2fd746e5-492e-4c90-a227-419612514eb5",
   "metadata": {},
   "outputs": [
    {
     "name": "stdout",
     "output_type": "stream",
     "text": [
      "16.266817493793116 16.66141794813908 172.2431801910453 171.91563042205408 0.060812062080574325 0 0\n"
     ]
    }
   ],
   "source": [
    "compare(\"zl\", False)"
   ]
  },
  {
   "cell_type": "code",
   "execution_count": 56,
   "id": "b7f31db7-f24f-4f0d-9b3f-8671ff273679",
   "metadata": {},
   "outputs": [
    {
     "name": "stdout",
     "output_type": "stream",
     "text": [
      "168.75200091628355 168.7599836450807 596.2747897535075 596.2918073616217 0.0012555767272768303 0 0\n"
     ]
    }
   ],
   "source": [
    "compare(\"zl0\", False)"
   ]
  },
  {
   "cell_type": "code",
   "execution_count": 57,
   "id": "461d4217-1581-43c6-8125-33773fcc8f44",
   "metadata": {},
   "outputs": [
    {
     "name": "stdout",
     "output_type": "stream",
     "text": [
      "-10.500971534352582 -10.875943769700765 14.64427040326942 15.689839237988762 1.86742351471203e-06 86 100\n"
     ]
    },
    {
     "name": "stderr",
     "output_type": "stream",
     "text": [
      "/tmp/ipykernel_1201010/2250920545.py:12: RuntimeWarning: divide by zero encountered in divide\n",
      "  np.nanmax((np.abs(varb_validation_genctrl_prof/varb_validation_genctrl_nolog) - 1.0) * (np.abs(varb_validation_genctrl_nolog) > 0.1*np.max(np.abs(varb_validation_genctrl_nolog)))),\n",
      "/tmp/ipykernel_1201010/2250920545.py:12: RuntimeWarning: invalid value encountered in divide\n",
      "  np.nanmax((np.abs(varb_validation_genctrl_prof/varb_validation_genctrl_nolog) - 1.0) * (np.abs(varb_validation_genctrl_nolog) > 0.1*np.max(np.abs(varb_validation_genctrl_nolog)))),\n",
      "/tmp/ipykernel_1201010/2250920545.py:12: RuntimeWarning: invalid value encountered in multiply\n",
      "  np.nanmax((np.abs(varb_validation_genctrl_prof/varb_validation_genctrl_nolog) - 1.0) * (np.abs(varb_validation_genctrl_nolog) > 0.1*np.max(np.abs(varb_validation_genctrl_nolog)))),\n"
     ]
    }
   ],
   "source": [
    "compare(\"zb\", False)"
   ]
  },
  {
   "cell_type": "code",
   "execution_count": 58,
   "id": "560cc4c3-36ad-490e-96f0-2de9c0933a84",
   "metadata": {},
   "outputs": [
    {
     "name": "stdout",
     "output_type": "stream",
     "text": [
      "-3183.1670501515937 -3183.8762540553507 5856.132690747058 5857.0229755804185 0.00254198409133366 0 0\n"
     ]
    },
    {
     "name": "stderr",
     "output_type": "stream",
     "text": [
      "/tmp/ipykernel_1201010/2250920545.py:12: RuntimeWarning: invalid value encountered in divide\n",
      "  np.nanmax((np.abs(varb_validation_genctrl_prof/varb_validation_genctrl_nolog) - 1.0) * (np.abs(varb_validation_genctrl_nolog) > 0.1*np.max(np.abs(varb_validation_genctrl_nolog)))),\n"
     ]
    }
   ],
   "source": [
    "compare(\"temp_c\", False)"
   ]
  },
  {
   "cell_type": "code",
   "execution_count": 59,
   "id": "176a9bd7-5d79-4113-8bea-a94497ecfeff",
   "metadata": {},
   "outputs": [
    {
     "name": "stdout",
     "output_type": "stream",
     "text": [
      "-538836.4406157025 -0.00012409932927481975 993110.2923554329 0.00022870681028734808 -0.0 0 0\n"
     ]
    },
    {
     "name": "stderr",
     "output_type": "stream",
     "text": [
      "/tmp/ipykernel_1201010/2250920545.py:12: RuntimeWarning: invalid value encountered in divide\n",
      "  np.nanmax((np.abs(varb_validation_genctrl_prof/varb_validation_genctrl_nolog) - 1.0) * (np.abs(varb_validation_genctrl_nolog) > 0.1*np.max(np.abs(varb_validation_genctrl_nolog)))),\n"
     ]
    }
   ],
   "source": [
    "compare(\"omega_c\", False)"
   ]
  },
  {
   "cell_type": "code",
   "execution_count": 60,
   "id": "2ad3bdfa-d61b-431e-aed5-8287359a90fa",
   "metadata": {},
   "outputs": [
    {
     "name": "stdout",
     "output_type": "stream",
     "text": [
      "6.656530397531861 6.656533429021276 9.557680410937694 9.557682592115313 8.070063691079099e-06 0 0\n"
     ]
    },
    {
     "name": "stderr",
     "output_type": "stream",
     "text": [
      "/tmp/ipykernel_1201010/2250920545.py:12: RuntimeWarning: invalid value encountered in divide\n",
      "  np.nanmax((np.abs(varb_validation_genctrl_prof/varb_validation_genctrl_nolog) - 1.0) * (np.abs(varb_validation_genctrl_nolog) > 0.1*np.max(np.abs(varb_validation_genctrl_nolog)))),\n"
     ]
    }
   ],
   "source": [
    "compare(\"age_c\", True)"
   ]
  },
  {
   "cell_type": "code",
   "execution_count": 61,
   "id": "2aafb5bd-105d-4371-953e-55ec6c40eacc",
   "metadata": {},
   "outputs": [
    {
     "name": "stdout",
     "output_type": "stream",
     "text": [
      "-1.8189894035458565e-12 0.0 62392.37241802309 62393.78729011 0.006068916336801733 0 0\n"
     ]
    },
    {
     "name": "stderr",
     "output_type": "stream",
     "text": [
      "/tmp/ipykernel_1201010/2250920545.py:12: RuntimeWarning: invalid value encountered in divide\n",
      "  np.nanmax((np.abs(varb_validation_genctrl_prof/varb_validation_genctrl_nolog) - 1.0) * (np.abs(varb_validation_genctrl_nolog) > 0.1*np.max(np.abs(varb_validation_genctrl_nolog)))),\n"
     ]
    }
   ],
   "source": [
    "compare(\"delta_tda\", False)"
   ]
  },
  {
   "cell_type": "code",
   "execution_count": 62,
   "id": "7506cbc0-b680-4285-b2f5-3f0412d5e2e6",
   "metadata": {},
   "outputs": [
    {
     "data": {
      "text/plain": [
       "<matplotlib.contour.QuadContourSet at 0x14bc8083b250>"
      ]
     },
     "execution_count": 62,
     "metadata": {},
     "output_type": "execute_result"
    },
    {
     "data": {
      "image/png": "[encoded data removed]",
      "text/plain": [
       "<Figure size 640x480 with 1 Axes>"
      ]
     },
     "metadata": {},
     "output_type": "display_data"
    }
   ],
   "source": [
    "varb_validation_genctrl_nolog = ds_validation_genctrl_nolog[\"xx_zbb\"].data\n",
    "varb_validation_genctrl_prof = ds_validation_genctrl_prof[\"xx_zbb\"].data\n",
    "\n",
    "plt.contourf(((varb_validation_genctrl_nolog == 0.0) & (varb_validation_genctrl_prof != 0.0)))\n",
    "plt.contourf(((varb_validation_genctrl_nolog != 0.0) & (varb_validation_genctrl_prof == 0.0)))"
   ]
  }
 ],
 "metadata": {
  "kernelspec": {
   "display_name": "py310_LRP",
   "language": "python",
   "name": "py310_lrp"
  },
  "language_info": {
   "codemirror_mode": {
    "name": "ipython",
    "version": 3
   },
   "file_extension": ".py",
   "mimetype": "text/x-python",
   "name": "python",
   "nbconvert_exporter": "python",
   "pygments_lexer": "ipython3",
   "version": "3.10.8"
  }
 },
 "nbformat": 4,
 "nbformat_minor": 5
}
