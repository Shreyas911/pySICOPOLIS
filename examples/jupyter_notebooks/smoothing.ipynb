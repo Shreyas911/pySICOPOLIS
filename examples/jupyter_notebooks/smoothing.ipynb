{
 "cells": [
  {
   "cell_type": "code",
   "execution_count": 1,
   "id": "b596cd05-cd8e-44a4-acc7-2576988ee507",
   "metadata": {},
   "outputs": [],
   "source": [
    "import numpy as np\n",
    "import xarray as xr\n",
    "import matplotlib.pyplot as plt\n",
    "\n",
    "# Paths and stuff\n",
    "import os\n",
    "import sys\n",
    "\n",
    "sys.path.append('/home/shreyas/pySICOPOLIS/src')\n",
    "from pySICOPOLIS import *"
   ]
  },
  {
   "cell_type": "code",
   "execution_count": 2,
   "id": "6775a001-3e34-4831-8e97-71f590a3edc1",
   "metadata": {},
   "outputs": [],
   "source": [
    "KCMAX = 80\n",
    "exp_sigma_level = dataCleaner.exp_sigma_level(zeta = np.arange(0,1+1./KCMAX,1./KCMAX),\n",
    "                                              exponent = 2.0)\n",
    "xModel40       = np.arange(-72.,97.,4.0)*10\n",
    "yModel40       = np.arange(-345.,-56.,4.0)*10\n",
    "time_ad = np.arange(12, dtype=float)\n",
    "IMAX = xModel40.shape[0]-1\n",
    "JMAX = yModel40.shape[0]-1"
   ]
  },
  {
   "cell_type": "code",
   "execution_count": 3,
   "id": "84447643-45aa-4700-8250-03c4f7e2b533",
   "metadata": {},
   "outputs": [
    {
     "data": {
      "text/plain": [
       "(0.03783680594221125,\n",
       " 0.9873575847457544,\n",
       " 0.0037841190080716396,\n",
       " 0.10114961230463275,\n",
       " 0.03783680594221126,\n",
       " 0.9873575847457544)"
      ]
     },
     "execution_count": 3,
     "metadata": {},
     "output_type": "execute_result"
    }
   ],
   "source": [
    "def prior_inv_sqrt_action(field, gamma, delta, delta_x = 40.0, delta_y = 40.0):\n",
    "\n",
    "    field_new = delta*field.copy()\n",
    "\n",
    "    field_new[0, 0]       = field_new[0, 0]       - gamma*(field[0, 1]         / delta_x**2 + field[1, 0]         / delta_y**2)\n",
    "    field_new[JMAX, 0]    = field_new[JMAX, 0]    - gamma*(field[JMAX, 1]      / delta_x**2 + field[JMAX-1, 0]      / delta_y**2)\n",
    "    field_new[0, IMAX]    = field_new[0, IMAX]    - gamma*(field[0, IMAX-1]    / delta_x**2 + field[1, IMAX]      / delta_y**2)\n",
    "    field_new[JMAX, IMAX] = field_new[JMAX, IMAX] - gamma*(field[JMAX, IMAX-1] / delta_x**2 + field[JMAX-1, IMAX] / delta_y**2)\n",
    "\n",
    "    field_new[1:JMAX, 0]    = field_new[1:JMAX, 0]    - gamma*((field[0:JMAX-1, 0]    - 2*field[1:JMAX, 0]    + field[2:, 0])    / delta_y**2 + (field[1:JMAX, 1]      - field[1:JMAX, 0])    / delta_x**2)\n",
    "    field_new[1:JMAX, IMAX] = field_new[1:JMAX, IMAX] - gamma*((field[0:JMAX-1, IMAX] - 2*field[1:JMAX, IMAX] + field[2:, IMAX]) / delta_y**2 + (field[1:JMAX, IMAX-1] - field[1:JMAX, IMAX]) / delta_x**2)\n",
    "\n",
    "    field_new[0, 1:IMAX]    = field_new[0, 1:IMAX]    - gamma*((field[1, 1:IMAX]      - field[0, 1:IMAX])    / delta_y**2 + (field[0, 0:IMAX-1]    - 2*field[0, 1:IMAX]    + field[0, 2:])    / delta_x**2)\n",
    "    field_new[JMAX, 1:IMAX] = field_new[JMAX, 1:IMAX] - gamma*((field[JMAX-1, 1:IMAX] - field[JMAX, 1:IMAX]) / delta_y**2 + (field[JMAX, 0:IMAX-1] - 2*field[JMAX, 1:IMAX] + field[JMAX, 2:]) / delta_x**2)\n",
    "    \n",
    "    for j in range(1, JMAX):\n",
    "        for i in range(1, IMAX):\n",
    "            field_new[j, i] = field_new[j, i] - gamma*(field[j, i-1] - 2*field[j, i] + field[j, i+1]) / delta_x**2\n",
    "            field_new[j, i] = field_new[j, i] - gamma*(field[j-1, i] - 2*field[j, i] + field[j+1, i]) / delta_y**2\n",
    "    \n",
    "    return field_new\n",
    "\n",
    "def prior_sqrt_action(field, omega, gamma, delta, delta_x = 40.0, delta_y = 40.0):\n",
    "\n",
    "    out_old = np.copy(field)\n",
    "    out_new = np.copy(field)\n",
    "\n",
    "    iterations = 0\n",
    "    while True:\n",
    "        \n",
    "        iterations = iterations + 1\n",
    "        \n",
    "        for j in range(JMAX+1):\n",
    "            for i in range(IMAX+1):\n",
    "\n",
    "                if j == 0 and i == 0:\n",
    "                    diagonal = delta\n",
    "                    bracket = field[0, 0] + gamma*(out_old[0, 1] / delta_x**2 + out_old[1, 0] / delta_y**2)\n",
    "                elif j == JMAX and i == 0:\n",
    "                    diagonal = delta\n",
    "                    bracket = field[JMAX, 0] + gamma*(out_old[JMAX, 1] / delta_x**2 + out_new[JMAX-1, 0] / delta_y**2)\n",
    "                elif j == 0 and i == IMAX:\n",
    "                    diagonal = delta\n",
    "                    bracket = field[0, IMAX] + gamma*(out_new[0, IMAX-1] / delta_x**2 + out_old[1, IMAX] / delta_y**2)\n",
    "                elif j == JMAX and i == IMAX:\n",
    "                    diagonal = delta\n",
    "                    bracket = field[JMAX, IMAX] + gamma*(out_new[JMAX, IMAX-1] / delta_x**2 + out_new[JMAX-1, IMAX] / delta_y**2)\n",
    "                elif i == 0:\n",
    "                    diagonal = delta + gamma*(1/delta_x**2 + 2/delta_y**2)\n",
    "                    bracket = field[j, 0] + gamma*((out_new[j-1, 0] + out_old[j+1, 0]) / delta_y**2 + out_old[j, 1] / delta_x**2)\n",
    "                elif i == IMAX:\n",
    "                    diagonal = delta + gamma*(1/delta_x**2 + 2/delta_y**2)\n",
    "                    bracket = field[j, IMAX] + gamma*((out_new[j-1, IMAX] + out_old[j+1, IMAX]) / delta_y**2 + out_new[j, IMAX-1] / delta_x**2)\n",
    "                elif j == 0:\n",
    "                    diagonal = delta + gamma*(2/delta_x**2 + 1/delta_y**2)\n",
    "                    bracket = field[0, i] + gamma*(out_old[1, i] / delta_y**2 + (out_new[0, i-1] + out_old[0, i+1]) / delta_x**2)\n",
    "                elif j == JMAX:\n",
    "                    diagonal = delta + gamma*(1/delta_x**2 + 2/delta_y**2)\n",
    "                    bracket = field[JMAX, i] + gamma*(out_new[JMAX-1, i] / delta_y**2 + (out_new[JMAX, i-1] + out_old[JMAX, i+1]) / delta_x**2)\n",
    "                else:\n",
    "                    diagonal = delta + 2*gamma*(1/delta_x**2 + 1/delta_y**2)\n",
    "                    bracket = field[j, i] + gamma*((out_new[j-1, i] + out_old[j+1, i]) / delta_y**2 + (out_new[j, i-1] + out_old[j, i+1]) / delta_x**2)\n",
    "\n",
    "                out_new[j, i] = (1 - omega) * out_old[j, i] + omega / diagonal * bracket\n",
    "                \n",
    "        out_old = out_new.copy()\n",
    "\n",
    "        if iterations == 100:\n",
    "            break\n",
    "\n",
    "    return out_new\n",
    "\n",
    "delta = 0.1\n",
    "gamma = 1\n",
    "\n",
    "random = np.random.randn(JMAX+1, IMAX+1)\n",
    "random_new = prior_inv_sqrt_action(random, gamma, delta)\n",
    "random_recovered = prior_sqrt_action(random_new, 1.5, gamma, delta)\n",
    "np.mean(random), np.std(random), np.mean(random_new), np.std(random_new), np.mean(random_recovered), np.std(random_recovered)"
   ]
  },
  {
   "cell_type": "code",
   "execution_count": 4,
   "id": "9ba647a8-9978-4992-8943-d0e8608acae0",
   "metadata": {},
   "outputs": [
    {
     "data": {
      "text/plain": [
       "(0.9294189257142927,\n",
       " 0.0,\n",
       " 0.09294041213351001,\n",
       " 4.1445652114596894e-05,\n",
       " 0.9294189257142927,\n",
       " 1.1116368717750646e-16)"
      ]
     },
     "execution_count": 4,
     "metadata": {},
     "output_type": "execute_result"
    }
   ],
   "source": [
    "random = log_c_slide_init = np.log10(8.5)*np.ones((JMAX+1, IMAX+1))\n",
    "random_new = prior_inv_sqrt_action(random, gamma, delta)\n",
    "random_recovered = prior_sqrt_action(random_new, 1.5, gamma, delta)\n",
    "np.mean(random), np.std(random), np.mean(random_new), np.std(random_new), np.mean(random_recovered), np.std(random_recovered)"
   ]
  }
 ],
 "metadata": {
  "kernelspec": {
   "display_name": "py310_LRP",
   "language": "python",
   "name": "py310_lrp"
  },
  "language_info": {
   "codemirror_mode": {
    "name": "ipython",
    "version": 3
   },
   "file_extension": ".py",
   "mimetype": "text/x-python",
   "name": "python",
   "nbconvert_exporter": "python",
   "pygments_lexer": "ipython3",
   "version": "3.10.8"
  }
 },
 "nbformat": 4,
 "nbformat_minor": 5
}
