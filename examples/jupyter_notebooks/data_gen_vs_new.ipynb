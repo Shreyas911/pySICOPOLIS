{
 "cells": [
  {
   "cell_type": "code",
   "execution_count": 1,
   "id": "eaa5a2e0-7d12-4f78-b9ef-4a7d88a734ea",
   "metadata": {},
   "outputs": [],
   "source": [
    "# HPC\n",
    "import numpy as np\n",
    "import xarray as xr\n",
    "\n",
    "# Plotting\n",
    "import matplotlib.pyplot as plt\n",
    "\n",
    "# Paths and stuff\n",
    "import os\n",
    "import sys\n",
    "\n",
    "# For surfvel data in tif files\n",
    "import rasterio\n",
    "from rasterio.transform import from_origin\n",
    "\n",
    "sys.path.append('/home/shreyas/pySICOPOLIS/src')\n",
    "from pySICOPOLIS import *"
   ]
  },
  {
   "cell_type": "code",
   "execution_count": 2,
   "id": "3503fee7-d6d6-4964-af98-5fe11c1e21b5",
   "metadata": {},
   "outputs": [],
   "source": [
    "modelPath = '/home/shreyas/update_to_develop_sicopolis/sicopolis_spinups/sico_out/'\n",
    "dataPath = '/scratch2/shreyas/GrIS_paleo_data/'\n",
    "\n",
    "ds_surfvel_model_40km = xr.open_dataset(modelPath + 'grl40_bm5_paleo17a_nudged_CT4_BH0_m21ka_pkp/grl40_bm5_paleo17a_nudged_CT4_BH0_m21ka_pkp0007.nc')\n",
    "ds_surfvel_model_40km[\"vs\"] = ds_surfvel_model_40km['vh_s'].copy()\n",
    "ds_surfvel_model_40km[\"vx\"] = ds_surfvel_model_40km['vx_s_g'].copy()\n",
    "ds_surfvel_model_40km[\"vy\"] = ds_surfvel_model_40km['vy_s_g'].copy()\n",
    "ds_surfvel_model_40km[\"vs_uncert\"] = ds_surfvel_model_40km[\"vs\"].copy()*0.0 + 10.0\n",
    "ds_surfvel_model_40km[\"vx_uncert\"] = ds_surfvel_model_40km[\"vx\"].copy()*0.0 + 10.0\n",
    "ds_surfvel_model_40km[\"vy_uncert\"] = ds_surfvel_model_40km[\"vy\"].copy()*0.0 + 10.0\n",
    "ds_surfvel_model_40km.to_netcdf('/scratch2/shreyas/GrIS_paleo_data/fake_surfvel_data_40kms.nc', mode='w')"
   ]
  },
  {
   "cell_type": "code",
   "execution_count": 3,
   "id": "1b8ec301-60a9-4b11-8a82-8c8d64d0ac7a",
   "metadata": {},
   "outputs": [],
   "source": [
    "xModel10 = np.arange(-72.,97.,1.0)*10\n",
    "yModel10 = np.arange(-345.,-56.,1.0)*10\n",
    "xModel16 = np.arange(-72.,97.,1.6)*10\n",
    "yModel16 = np.arange(-345.,-56.,1.6)*10\n",
    "xModel40 = np.arange(-72.,97.,4.0)*10\n",
    "yModel40 = np.arange(-345.,-56.,4.0)*10"
   ]
  },
  {
   "cell_type": "code",
   "execution_count": 4,
   "id": "c34e7fca-69ed-4fcf-a19c-7276ea80c6cd",
   "metadata": {},
   "outputs": [],
   "source": [
    "def read_field_from_tif(file_path):\n",
    "\n",
    "    # Open the file\n",
    "    with rasterio.open(file_path) as dataset:\n",
    "\n",
    "        # # Print metadata information about the GeoTIFF file\n",
    "        # print(dataset.meta)\n",
    "        \n",
    "        # Read the data from the first band (if the image has multiple bands)\n",
    "        field = dataset.read(1)\n",
    "\n",
    "        # SSG: Invert y-axis to match Ralf's surfvel data convention\n",
    "        field = field[::-1]\n",
    "        \n",
    "        # # Accessing additional information\n",
    "        # print(f\"Width: {dataset.width}\")\n",
    "        # print(f\"Height: {dataset.height}\")\n",
    "        # print(f\"Number of Bands: {dataset.count}\")\n",
    "\n",
    "        return field\n",
    "\n",
    "vs_data = read_field_from_tif(\"/scratch2/shreyas/GrIS_paleo_data/greenland_vel_mosaic250_vs_v1.tif\")\n",
    "vx_data = read_field_from_tif(\"/scratch2/shreyas/GrIS_paleo_data/greenland_vel_mosaic250_vx_v1.tif\")\n",
    "vx_uncert_data = read_field_from_tif(\"/scratch2/shreyas/GrIS_paleo_data/greenland_vel_mosaic250_ex_v1.tif\")\n",
    "vy_data = read_field_from_tif(\"/scratch2/shreyas/GrIS_paleo_data/greenland_vel_mosaic250_vy_v1.tif\")\n",
    "vy_uncert_data = read_field_from_tif(\"/scratch2/shreyas/GrIS_paleo_data/greenland_vel_mosaic250_ey_v1.tif\")\n",
    "\n",
    "ds = xr.open_dataset(\"/scratch2/shreyas/GrIS_paleo_data/greenland_vel_mosaic250_vs_v1.nc\")\n",
    "xs = ds[\"x\"].data / 1000.0\n",
    "ys = ds[\"y\"].data / 1000.0"
   ]
  },
  {
   "cell_type": "code",
   "execution_count": 5,
   "id": "5b804557-5381-4d8c-8e2c-eb3b49b215c0",
   "metadata": {},
   "outputs": [],
   "source": [
    "def frac_area(x, y, xx, yy):\n",
    "    \"\"\"\n",
    "    Compute the fraction of the area of the small rectangle (xx, yy)\n",
    "    within the large rectangle (x, y).\n",
    "\n",
    "    Parameters:\n",
    "        x, y:   Length-2 arrays for the large rectangle [x1, x2], [y1, y2]\n",
    "        xx, yy: Length-2 arrays for the small rectangle\n",
    "\n",
    "    Returns:\n",
    "        Fraction of area of (xx, yy) within (x, y)\n",
    "    \"\"\"\n",
    "\n",
    "    x = sorted(x)\n",
    "    y = sorted(y)\n",
    "    xx = sorted(xx)\n",
    "    yy = sorted(yy)\n",
    "\n",
    "    dx_inv = 1.0 / (x[1] - x[0])\n",
    "    dy_inv = 1.0 / (y[1] - y[0])\n",
    "\n",
    "    # normalized x-bounds and y-bounds of the small rectangle in the large rectangle's coordinate space\n",
    "    xxm = (np.array(xx) - x[0]) * dx_inv\n",
    "    yym = (np.array(yy) - y[0]) * dy_inv\n",
    "\n",
    "    if (xx[1] - xx[0] > x[1] - x[0]) or (yy[1] - yy[0] > y[1] - y[0]):\n",
    "        raise ValueError(\"Small rectangle larger than large rectangle!\")\n",
    "\n",
    "    # Case 1: Fully inside\n",
    "    if 0 <= xxm[0] and xxm[1] <= 1 and 0 <= yym[0] and yym[1] <= 1:\n",
    "        return 1.0\n",
    "\n",
    "    # Partial overlaps along one edge\n",
    "    if 0 <= xxm[0] and xxm[1] <= 1:\n",
    "        if yym[0] < 0 < yym[1]:\n",
    "            return yym[1] / (yym[1] - yym[0])\n",
    "        elif yym[0] < 1 < yym[1]:\n",
    "            return (1 - yym[0]) / (yym[1] - yym[0])\n",
    "        else:\n",
    "            return 0.0\n",
    "\n",
    "    if 0 <= yym[0] and yym[1] <= 1:\n",
    "        if xxm[0] < 0 < xxm[1]:\n",
    "            return xxm[1] / (xxm[1] - xxm[0])\n",
    "        elif xxm[0] < 1 < xxm[1]:\n",
    "            return (1 - xxm[0]) / (xxm[1] - xxm[0])\n",
    "        else:\n",
    "            return 0.0\n",
    "\n",
    "    # Partial overlaps at corners\n",
    "    denom = (xxm[1] - xxm[0]) * (yym[1] - yym[0])\n",
    "    if denom == 0:\n",
    "        return 0.0\n",
    "\n",
    "    if xxm[0] < 0 < xxm[1] and yym[0] < 0 < yym[1]:\n",
    "        return xxm[1] * yym[1] / denom\n",
    "    if xxm[0] < 1 < xxm[1] and yym[0] < 0 < yym[1]:\n",
    "        return (1 - xxm[0]) * yym[1] / denom\n",
    "    if xxm[0] < 0 < xxm[1] and yym[0] < 1 < yym[1]:\n",
    "        return xxm[1] * (1 - yym[0]) / denom\n",
    "    if xxm[0] < 1 < xxm[1] and yym[0] < 1 < yym[1]:\n",
    "        return (1 - xxm[0]) * (1 - yym[0]) / denom\n",
    "\n",
    "    return 0.0\n",
    "\n",
    "def downsample_field(xs, ys, field_data, x_sico, y_sico, dx_ms, dx):\n",
    "    \"\"\"\n",
    "    Downsample a 2D field using area-weighted averaging from fine to coarse grid.\n",
    "\n",
    "    Parameters:\n",
    "        xs, ys         - 1D fine grid coordinates (x_ms, y_ms)\n",
    "        field_data     - 2D array on fine grid, shape (len(ys), len(xs))\n",
    "        x_sico, y_sico - 1D coarse grid coordinates\n",
    "        dx_ms          - fine grid spacing (same for x and y)\n",
    "        dx             - coarse grid spacing (same for x and y)\n",
    "\n",
    "    Returns:\n",
    "        field_interp   - 2D array on coarse grid (len(y_sico), len(x_sico))\n",
    "    \"\"\"\n",
    "\n",
    "    field_interp = np.zeros((len(y_sico), len(x_sico)))\n",
    "    sum_weight = np.zeros_like(field_interp)\n",
    "    sum_weight_max = (dx / dx_ms) ** 2\n",
    "\n",
    "    for i, x in enumerate(x_sico):\n",
    "\n",
    "        for j, y in enumerate(y_sico):\n",
    "\n",
    "            # Handle points outside domain\n",
    "            if x < xs[0] or x > xs[-1] or y < ys[0] or y > ys[-1]:\n",
    "                continue\n",
    "\n",
    "            # Define bounding box around current coarse cell\n",
    "            x1 = x - 0.5 * (dx + dx_ms)\n",
    "            x2 = x + 0.5 * (dx + dx_ms)\n",
    "            y1 = y - 0.5 * (dx + dx_ms)\n",
    "            y2 = y + 0.5 * (dx + dx_ms)\n",
    "\n",
    "            # Convert bounding box to index range in BedMachine grid\n",
    "            ii1 = int(np.floor((x1 - xs[0]) / dx_ms))\n",
    "            ii2 = int(np.ceil((x2 - xs[0]) / dx_ms))\n",
    "            jj1 = int(np.floor((y1 - ys[0]) / dx_ms))\n",
    "            jj2 = int(np.ceil((y2 - ys[0]) / dx_ms))\n",
    "\n",
    "            # Loop over overlapping fine grid cells\n",
    "            for ii in range(ii1, ii2):\n",
    "                for jj in range(jj1, jj2):\n",
    "                    if 0 <= ii < len(xs) and 0 <= jj < len(ys):\n",
    "                        val = field_data[jj, ii]\n",
    "                        if not np.isnan(val):\n",
    "                            weight = frac_area(\n",
    "                                [x - 0.5 * dx, x + 0.5 * dx],\n",
    "                                [y - 0.5 * dx, y + 0.5 * dx],\n",
    "                                [xs[ii] - 0.5 * dx_ms, xs[ii] + 0.5 * dx_ms],\n",
    "                                [ys[jj] - 0.5 * dx_ms, ys[jj] + 0.5 * dx_ms],\n",
    "                            )\n",
    "                            sum_weight[j, i] += weight\n",
    "                            field_interp[j, i] += weight * val\n",
    "\n",
    "            # Normalize sums by total weight to get downsampled values\n",
    "            if sum_weight[j, i] > 0.5 * sum_weight_max:\n",
    "                field_interp[j, i] /= sum_weight[j, i]\n",
    "            else:\n",
    "                field_interp[j, i] = 0.0\n",
    "\n",
    "    return field_interp\n",
    "\n",
    "vx_data[vx_data < -1.5e9] = np.nan\n",
    "vy_data[vy_data < -1.5e9] = np.nan\n",
    "vs_data[vs_data < -1.5e9] = np.nan\n",
    "vx_uncert_data[vx_uncert_data < -1.5e9] = np.nan\n",
    "vy_uncert_data[vy_uncert_data < -1.5e9] = np.nan\n",
    "\n",
    "vs_data_interp = downsample_field(xs=xs, ys=ys, field_data=vs_data, x_sico=xModel40, y_sico=yModel40, dx_ms=0.25, dx=40.0)\n",
    "vx_data_interp = downsample_field(xs=xs, ys=ys, field_data=vx_data, x_sico=xModel40, y_sico=yModel40, dx_ms=0.25, dx=40.0)\n",
    "vy_data_interp = downsample_field(xs=xs, ys=ys, field_data=vy_data, x_sico=xModel40, y_sico=yModel40, dx_ms=0.25, dx=40.0)\n",
    "vx_uncert_data_interp = downsample_field(xs=xs, ys=ys, field_data=vx_uncert_data, x_sico=xModel40, y_sico=yModel40, dx_ms=0.25, dx=40.0)\n",
    "vy_uncert_data_interp = downsample_field(xs=xs, ys=ys, field_data=vy_uncert_data, x_sico=xModel40, y_sico=yModel40, dx_ms=0.25, dx=40.0)\n",
    "\n",
    "vx_uncert_data_interp[vx_uncert_data_interp == 0.0] = -2.e9\n",
    "vy_uncert_data_interp[vy_uncert_data_interp == 0.0] = -2.e9"
   ]
  },
  {
   "cell_type": "code",
   "execution_count": 6,
   "id": "d6be064d-fd14-411a-b1bd-bc04be185521",
   "metadata": {},
   "outputs": [
    {
     "name": "stderr",
     "output_type": "stream",
     "text": [
      "/tmp/ipykernel_368477/1181234617.py:4: RuntimeWarning: invalid value encountered in divide\n",
      "  np.nansum(np.abs((vs_orig-vs_data_interp)/vs_orig))/np.sum(vs_orig > 0), np.nansum(np.abs((vs_orig-vs_data_interp_calc)/vs_orig))/np.sum(vs_orig > 0)\n"
     ]
    },
    {
     "data": {
      "text/plain": [
       "(2.119570653391888e-08, 0.158914788798674)"
      ]
     },
     "execution_count": 6,
     "metadata": {},
     "output_type": "execute_result"
    }
   ],
   "source": [
    "ds_surfvel_data_40km_orig = xr.open_dataset(dataPath + 'surfvel_data_40kms_orig.nc')\n",
    "vs_orig = ds_surfvel_data_40km_orig[\"vs\"].data\n",
    "vs_data_interp_calc = np.sqrt(vx_data_interp**2 + vy_data_interp**2)\n",
    "np.nansum(np.abs((vs_orig-vs_data_interp)/vs_orig))/np.sum(vs_orig > 0), np.nansum(np.abs((vs_orig-vs_data_interp_calc)/vs_orig))/np.sum(vs_orig > 0)"
   ]
  },
  {
   "cell_type": "code",
   "execution_count": 7,
   "id": "86b5175e-2a34-4a1d-bb4e-99d9b8fbfc11",
   "metadata": {},
   "outputs": [],
   "source": [
    "da_vs_data_orig = xr.DataArray(\n",
    "        data = vs_orig,\n",
    "        dims = [\"y\", \"x\"],\n",
    "        coords = dict(\n",
    "            y = yModel40,\n",
    "            x = xModel40,\n",
    "        ),  \n",
    "        attrs = dict(description=\"vs OG in ma^(-1)\"),\n",
    "    )\n",
    "\n",
    "da_vs_data_interp = xr.DataArray(\n",
    "        data = vs_data_interp,\n",
    "        dims = [\"y\", \"x\"],\n",
    "        coords = dict(\n",
    "            y = yModel40,\n",
    "            x = xModel40,\n",
    "        ),  \n",
    "        attrs = dict(description=\"vs in ma^(-1)\"),\n",
    "    )\n",
    "\n",
    "da_vx_data_interp = xr.DataArray(\n",
    "        data = vx_data_interp,\n",
    "        dims = [\"y\", \"x\"],\n",
    "        coords = dict(\n",
    "            y = yModel40,\n",
    "            x = xModel40,\n",
    "        ),  \n",
    "        attrs = dict(description=\"vx in ma^(-1)\"),\n",
    "    )\n",
    "\n",
    "da_vy_data_interp = xr.DataArray(\n",
    "        data = vy_data_interp,\n",
    "        dims = [\"y\", \"x\"],\n",
    "        coords = dict(\n",
    "            y = yModel40,\n",
    "            x = xModel40,\n",
    "        ),  \n",
    "        attrs = dict(description=\"vy in ma^(-1)\"),\n",
    "    )\n",
    "\n",
    "da_vx_uncert_data_interp = xr.DataArray(\n",
    "        data = vx_uncert_data_interp,\n",
    "        dims = [\"y\", \"x\"],\n",
    "        coords = dict(\n",
    "            y = yModel40,\n",
    "            x = xModel40,\n",
    "        ),  \n",
    "        attrs = dict(description=\"vx_uncert in ma^(-1)\"),\n",
    "    )\n",
    "\n",
    "da_vy_uncert_data_interp = xr.DataArray(\n",
    "        data = vy_uncert_data_interp,\n",
    "        dims = [\"y\", \"x\"],\n",
    "        coords = dict(\n",
    "            y = yModel40,\n",
    "            x = xModel40,\n",
    "        ),  \n",
    "        attrs = dict(description=\"vy_uncert in ma^(-1)\"),\n",
    "    )\n",
    "\n",
    "ds_surfvel_data_40km = ds_surfvel_data_40km_orig.copy()\n",
    "ds_surfvel_data_40km[\"vs_orig\"] = da_vs_data_orig\n",
    "ds_surfvel_data_40km[\"vs\"] = da_vs_data_interp\n",
    "ds_surfvel_data_40km[\"vx\"] = da_vx_data_interp\n",
    "ds_surfvel_data_40km[\"vy\"] = da_vy_data_interp\n",
    "\n",
    "ds_surfvel_data_40km[\"vx_uncert_unbounded\"] = da_vx_uncert_data_interp\n",
    "ds_surfvel_data_40km[\"vx_uncert\"] = ds_surfvel_data_40km[\"vx_uncert_unbounded\"].copy()\n",
    "ratio_x = np.abs(vx_data_interp/vx_uncert_data_interp)\n",
    "ds_surfvel_data_40km[\"vx_uncert\"].data[ratio_x > 10.0] = 0.1*np.abs(vx_data_interp[ratio_x > 10.0])\n",
    "\n",
    "ds_surfvel_data_40km[\"vy_uncert_unbounded\"] = da_vy_uncert_data_interp\n",
    "ds_surfvel_data_40km[\"vy_uncert\"] = ds_surfvel_data_40km[\"vy_uncert_unbounded\"].copy()\n",
    "ratio_y = np.abs(vy_data_interp/vy_uncert_data_interp)\n",
    "ds_surfvel_data_40km[\"vy_uncert\"].data[ratio_y > 10.0] = 0.1*np.abs(vy_data_interp[ratio_y > 10.0])\n",
    "\n",
    "!rm /scratch2/shreyas/GrIS_paleo_data/surfvel_data_40kms.nc\n",
    "ds_surfvel_data_40km.to_netcdf(dataPath + 'surfvel_data_40kms.nc')"
   ]
  },
  {
   "cell_type": "code",
   "execution_count": 8,
   "id": "65271b4a-74fb-46b1-b2a9-61b82c20b3d9",
   "metadata": {},
   "outputs": [
    {
     "data": {
      "text/plain": [
       "1801"
      ]
     },
     "execution_count": 8,
     "metadata": {},
     "output_type": "execute_result"
    }
   ],
   "source": [
    "mask = (ds_surfvel_data_40km[\"vx_uncert\"].data < 0) & (ds_surfvel_data_40km[\"vx\"].data == 0.0)\n",
    "np.sum(mask)"
   ]
  },
  {
   "cell_type": "code",
   "execution_count": 9,
   "id": "ee32fe7d-17d7-4d07-b651-08819bbedba2",
   "metadata": {},
   "outputs": [
    {
     "data": {
      "text/plain": [
       "(1337, 10.0, -0.0)"
      ]
     },
     "execution_count": 9,
     "metadata": {},
     "output_type": "execute_result"
    }
   ],
   "source": [
    "mask = (ds_surfvel_data_40km[\"vx_uncert\"].data > 0) & (ds_surfvel_data_40km[\"vx\"].data != 0.0)\n",
    "np.sum(mask), np.nanmax(np.abs(ds_surfvel_data_40km[\"vx\"].data) / ds_surfvel_data_40km[\"vx_uncert\"].data * mask), np.nanmin(np.abs(ds_surfvel_data_40km[\"vx\"].data) / ds_surfvel_data_40km[\"vx_uncert\"].data * mask)"
   ]
  },
  {
   "cell_type": "code",
   "execution_count": 10,
   "id": "993c721b-f071-4f8c-8be9-946fc2d4e45d",
   "metadata": {},
   "outputs": [
    {
     "data": {
      "text/plain": [
       "0"
      ]
     },
     "execution_count": 10,
     "metadata": {},
     "output_type": "execute_result"
    }
   ],
   "source": [
    "mask = (ds_surfvel_data_40km[\"vx_uncert\"].data > 0) & (ds_surfvel_data_40km[\"vx\"].data == 0.0)\n",
    "np.sum(mask)"
   ]
  },
  {
   "cell_type": "code",
   "execution_count": 11,
   "id": "44f6ccd6-4cbe-4259-ab2e-1300d7079f51",
   "metadata": {},
   "outputs": [
    {
     "data": {
      "text/plain": [
       "1"
      ]
     },
     "execution_count": 11,
     "metadata": {},
     "output_type": "execute_result"
    }
   ],
   "source": [
    "mask = (ds_surfvel_data_40km[\"vx_uncert\"].data < 0) & (ds_surfvel_data_40km[\"vx\"].data != 0.0)\n",
    "np.sum(mask)"
   ]
  },
  {
   "cell_type": "code",
   "execution_count": 12,
   "id": "dd4c9dd3-576b-491b-94e1-2c75e416356c",
   "metadata": {},
   "outputs": [
    {
     "data": {
      "text/plain": [
       "1801"
      ]
     },
     "execution_count": 12,
     "metadata": {},
     "output_type": "execute_result"
    }
   ],
   "source": [
    "mask = (ds_surfvel_data_40km[\"vy_uncert\"].data < 0) & (ds_surfvel_data_40km[\"vy\"].data == 0.0)\n",
    "np.sum(mask)"
   ]
  },
  {
   "cell_type": "code",
   "execution_count": 13,
   "id": "a4774d03-0d9f-45d1-98f1-fb110807483c",
   "metadata": {},
   "outputs": [
    {
     "data": {
      "text/plain": [
       "(1337, 10.0, -0.0)"
      ]
     },
     "execution_count": 13,
     "metadata": {},
     "output_type": "execute_result"
    }
   ],
   "source": [
    "mask = (ds_surfvel_data_40km[\"vy_uncert\"].data > 0) & (ds_surfvel_data_40km[\"vy\"].data != 0.0)\n",
    "np.sum(mask), np.nanmax(np.abs(ds_surfvel_data_40km[\"vy\"].data) / ds_surfvel_data_40km[\"vy_uncert\"].data * mask), np.nanmin(np.abs(ds_surfvel_data_40km[\"vy\"].data) / ds_surfvel_data_40km[\"vy_uncert\"].data * mask)"
   ]
  },
  {
   "cell_type": "code",
   "execution_count": 14,
   "id": "455a73bb-82b2-48e9-a619-9e0915618a35",
   "metadata": {},
   "outputs": [
    {
     "data": {
      "text/plain": [
       "0"
      ]
     },
     "execution_count": 14,
     "metadata": {},
     "output_type": "execute_result"
    }
   ],
   "source": [
    "mask = (ds_surfvel_data_40km[\"vy_uncert\"].data > 0) & (ds_surfvel_data_40km[\"vy\"].data == 0.0)\n",
    "np.sum(mask)"
   ]
  },
  {
   "cell_type": "code",
   "execution_count": 15,
   "id": "a977e68b-afe4-48b1-9c25-0ab160992d61",
   "metadata": {},
   "outputs": [
    {
     "data": {
      "text/plain": [
       "1"
      ]
     },
     "execution_count": 15,
     "metadata": {},
     "output_type": "execute_result"
    }
   ],
   "source": [
    "mask = (ds_surfvel_data_40km[\"vy_uncert\"].data < 0) & (ds_surfvel_data_40km[\"vy\"].data != 0.0)\n",
    "np.sum(mask)"
   ]
  },
  {
   "cell_type": "code",
   "execution_count": 16,
   "id": "5af53475-0cb0-43cf-a6e1-00730b79f597",
   "metadata": {},
   "outputs": [
    {
     "data": {
      "text/plain": [
       "981"
      ]
     },
     "execution_count": 16,
     "metadata": {},
     "output_type": "execute_result"
    }
   ],
   "source": [
    "np.nansum(ds_surfvel_data_40km[\"vx_uncert\"].data != ds_surfvel_data_40km[\"vx_uncert_unbounded\"].data)"
   ]
  },
  {
   "cell_type": "code",
   "execution_count": 17,
   "id": "abca3fce-a4cf-411a-ba27-3e72b7878f93",
   "metadata": {},
   "outputs": [
    {
     "data": {
      "text/plain": [
       "650"
      ]
     },
     "execution_count": 17,
     "metadata": {},
     "output_type": "execute_result"
    }
   ],
   "source": [
    "np.nansum(ds_surfvel_data_40km[\"vy_uncert\"].data != ds_surfvel_data_40km[\"vy_uncert_unbounded\"].data)"
   ]
  },
  {
   "cell_type": "code",
   "execution_count": 18,
   "id": "a6af7f8a-fe63-46c8-8e0d-81d4c22eaf18",
   "metadata": {},
   "outputs": [],
   "source": [
    "def downsample_std(xs, ys, field_data, x_sico, y_sico, dx_ms, dx, method=\"subgrid\", interp_std=None):\n",
    "    \"\"\"\n",
    "    Downsample standard deviation using subgrid variability and optionally combine with interpolated std.\n",
    "\n",
    "    Parameters:\n",
    "        xs, ys         - 1D fine grid coordinates (x_ms, y_ms)\n",
    "        field_data     - 2D array on fine grid, shape (len(ys), len(xs))\n",
    "        x_sico, y_sico - 1D coarse grid coordinates\n",
    "        dx_ms          - fine grid spacing (same for x and y)\n",
    "        dx             - coarse grid spacing (same for x and y)\n",
    "        method         - \"subgrid\" (Option 3) or \"combine\" (Option 2)\n",
    "        interp_std     - 2D array of interpolated standard deviation on coarse grid (only needed for \"combine\")\n",
    "\n",
    "    Returns:\n",
    "        std_interp     - 2D array on coarse grid (len(y_sico), len(x_sico))\n",
    "    \"\"\"\n",
    "\n",
    "    std_interp = np.full((len(y_sico), len(x_sico)), np.nan)\n",
    "    n_thresh = 0.5 * (dx / dx_ms) ** 2\n",
    "\n",
    "    for i, x in enumerate(x_sico):\n",
    "        for j, y in enumerate(y_sico):\n",
    "\n",
    "            # Bounding box for the coarse cell\n",
    "            x1 = x - 0.5 * dx\n",
    "            x2 = x + 0.5 * dx\n",
    "            y1 = y - 0.5 * dx\n",
    "            y2 = y + 0.5 * dx\n",
    "\n",
    "            # Convert bounds to index range in fine grid\n",
    "            ii1 = int(np.floor((x1 - xs[0]) / dx_ms))\n",
    "            ii2 = int(np.ceil((x2 - xs[0]) / dx_ms))\n",
    "            jj1 = int(np.floor((y1 - ys[0]) / dx_ms))\n",
    "            jj2 = int(np.ceil((y2 - ys[0]) / dx_ms))\n",
    "\n",
    "            # Clip to domain\n",
    "            ii1 = max(0, ii1)\n",
    "            ii2 = min(len(xs), ii2)\n",
    "            jj1 = max(0, jj1)\n",
    "            jj2 = min(len(ys), jj2)\n",
    "\n",
    "            sub_values = field_data[jj1:jj2, ii1:ii2].ravel()\n",
    "            sub_values = sub_values[~np.isnan(sub_values)]\n",
    "\n",
    "            if len(sub_values) >= n_thresh:\n",
    "                std_local = np.std(sub_values)\n",
    "                if method == \"subgrid\":\n",
    "                    std_interp[j, i] = std_local\n",
    "                elif method == \"combine\":\n",
    "                    if interp_std is None:\n",
    "                        raise ValueError(\"interp_std must be provided for method='combine'\")\n",
    "                    std_interp[j, i] = np.sqrt(std_local**2 + interp_std[j, i]**2)\n",
    "                else:\n",
    "                    raise ValueError(\"Invalid method. Use 'subgrid' or 'combine'\")\n",
    "            else:\n",
    "                std_interp[j, i] = np.nan\n",
    "\n",
    "    return std_interp\n"
   ]
  },
  {
   "cell_type": "code",
   "execution_count": 19,
   "id": "38968e21-ad5c-42de-9496-04191851643a",
   "metadata": {},
   "outputs": [],
   "source": [
    "vx_uncert_data_interp_1 = downsample_std(xs=xs, ys=ys, field_data=vx_uncert_data, x_sico=xModel40, y_sico=yModel40, dx_ms=0.25, dx=40.0)\n",
    "vy_uncert_data_interp_1 = downsample_std(xs=xs, ys=ys, field_data=vy_uncert_data, x_sico=xModel40, y_sico=yModel40, dx_ms=0.25, dx=40.0)"
   ]
  },
  {
   "cell_type": "code",
   "execution_count": 20,
   "id": "694d2150-a120-4a45-b2ae-2b4d679db03e",
   "metadata": {},
   "outputs": [],
   "source": [
    "vx_uncert_data_interp_1[np.isnan(vx_uncert_data_interp_1)] = -2.e9\n",
    "vy_uncert_data_interp_1[np.isnan(vy_uncert_data_interp_1)] = -2.e9"
   ]
  },
  {
   "cell_type": "code",
   "execution_count": 21,
   "id": "4ac66c99-d70a-49c4-8a4d-4a8e7ac69c70",
   "metadata": {},
   "outputs": [
    {
     "data": {
      "text/plain": [
       "<matplotlib.colorbar.Colorbar at 0x14b6291bf880>"
      ]
     },
     "execution_count": 21,
     "metadata": {},
     "output_type": "execute_result"
    },
    {
     "data": {
      "image/png": "[encoded data removed]",
      "text/plain": [
       "<Figure size 640x480 with 2 Axes>"
      ]
     },
     "metadata": {},
     "output_type": "display_data"
    }
   ],
   "source": [
    "plt.contourf(vx_uncert_data_interp_1/vx_uncert_data_interp*(vx_uncert_data_interp>0))\n",
    "plt.colorbar()"
   ]
  },
  {
   "cell_type": "code",
   "execution_count": 22,
   "id": "35b3d575-3233-429f-9365-0cdcab7a075e",
   "metadata": {},
   "outputs": [
    {
     "data": {
      "text/plain": [
       "<matplotlib.colorbar.Colorbar at 0x14b5da88b0d0>"
      ]
     },
     "execution_count": 22,
     "metadata": {},
     "output_type": "execute_result"
    },
    {
     "data": {
      "image/png": "[encoded data removed]",
      "text/plain": [
       "<Figure size 640x480 with 2 Axes>"
      ]
     },
     "metadata": {},
     "output_type": "display_data"
    }
   ],
   "source": [
    "plt.contourf(vx_uncert_data_interp_1/ds_surfvel_data_40km[\"vx_uncert\"].data*(ds_surfvel_data_40km[\"vx_uncert\"].data>0), vmin = 0, vmax = 2, cmap = \"RdBu_r\")\n",
    "plt.colorbar()"
   ]
  },
  {
   "cell_type": "code",
   "execution_count": 23,
   "id": "938b83a6-a268-4da6-b6cc-fe1a23a907f8",
   "metadata": {},
   "outputs": [
    {
     "data": {
      "text/plain": [
       "949882.5459905554"
      ]
     },
     "execution_count": 23,
     "metadata": {},
     "output_type": "execute_result"
    }
   ],
   "source": [
    "np.nansum(np.abs(ds_surfvel_data_40km[\"vx\"].data/vx_uncert_data_interp_1))"
   ]
  },
  {
   "cell_type": "code",
   "execution_count": 24,
   "id": "c533daf7-2283-4a2f-aa0c-663377a1052c",
   "metadata": {},
   "outputs": [
    {
     "data": {
      "text/plain": [
       "10778.643514400193"
      ]
     },
     "execution_count": 24,
     "metadata": {},
     "output_type": "execute_result"
    }
   ],
   "source": [
    "np.nansum(np.abs(ds_surfvel_data_40km[\"vx\"].data/ds_surfvel_data_40km[\"vx_uncert\"].data))"
   ]
  }
 ],
 "metadata": {
  "kernelspec": {
   "display_name": "py310_LRP",
   "language": "python",
   "name": "py310_lrp"
  },
  "language_info": {
   "codemirror_mode": {
    "name": "ipython",
    "version": 3
   },
   "file_extension": ".py",
   "mimetype": "text/x-python",
   "name": "python",
   "nbconvert_exporter": "python",
   "pygments_lexer": "ipython3",
   "version": "3.10.8"
  }
 },
 "nbformat": 4,
 "nbformat_minor": 5
}
