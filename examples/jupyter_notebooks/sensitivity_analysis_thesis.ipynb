{
 "cells": [
  {
   "cell_type": "code",
   "execution_count": 1,
   "id": "9a2f1784-9ecf-4217-aade-88c9da9543ca",
   "metadata": {},
   "outputs": [],
   "source": [
    "import numpy as np\n",
    "import xarray as xr\n",
    "import matplotlib.pyplot as plt\n",
    "\n",
    "# Paths and stuff\n",
    "import os\n",
    "import sys\n",
    "\n",
    "sys.path.append('/home/shreyas/pySICOPOLIS/src')\n",
    "from pySICOPOLIS import *"
   ]
  },
  {
   "cell_type": "code",
   "execution_count": 2,
   "id": "d71cf34b-3553-4b75-af81-13c5eccce503",
   "metadata": {},
   "outputs": [],
   "source": [
    "# lambda_ = ds_grl40_bm5_paleo17a_CT4_BH0_m11ka_pkp_final[\"lambda\"].data.copy()\n",
    "# phi = ds_grl40_bm5_paleo17a_CT4_BH0_m11ka_pkp_final[\"phi\"].data.copy()\n",
    "# zs = ds_grl40_bm5_paleo17a_CT4_BH0_m11ka_pkp_final[\"zs\"].data.copy()\n",
    "\n",
    "# def compute_present_temps(zs, phi, lambda_, temp_present_offset=-1.0):\n",
    "#     \"\"\"\n",
    "#     Vectorized translation of the Fortran snippet.\n",
    "#     Inputs are in radians for phi (latitude) and lambda_ (longitude).\n",
    "#     Returns temp_ma_present, temp_mj_present with the same shape as inputs.\n",
    "#     \"\"\"\n",
    "#     # constants\n",
    "#     rad2deg = 180.0 / np.pi\n",
    "\n",
    "#     # Offsets\n",
    "#     theta_ma_offset = temp_present_offset\n",
    "#     theta_mj_offset = temp_present_offset\n",
    "\n",
    "#     # Mean-annual parameters\n",
    "#     theta_ma = 41.83 + theta_ma_offset\n",
    "#     gamma_ma = -6.309e-3\n",
    "#     c_ma     = -0.7189\n",
    "#     kappa_ma = -0.0672\n",
    "\n",
    "#     # Mean-July parameters\n",
    "#     theta_mj = 14.70 + theta_mj_offset\n",
    "#     gamma_mj = -5.426e-3\n",
    "#     c_mj     = -0.1585\n",
    "#     kappa_mj = -0.0518\n",
    "\n",
    "#     # Map longitude to (-π, π] like Fortran: modulo(lambda+π, 2π) - π\n",
    "#     lon_term = np.mod(lambda_ + np.pi, 2*np.pi) - np.pi\n",
    "\n",
    "#     # Present-day mean-annual air temperature\n",
    "#     temp_ma_present = (\n",
    "#         theta_ma\n",
    "#         + gamma_ma * zs\n",
    "#         + c_ma * phi * rad2deg\n",
    "#         + kappa_ma * lon_term * rad2deg\n",
    "#     )\n",
    "\n",
    "#     # Present-day mean-July (mid-summer) air temperature\n",
    "#     temp_mj_present = (\n",
    "#         theta_mj\n",
    "#         + gamma_mj * zs\n",
    "#         + c_mj * phi * rad2deg\n",
    "#         + kappa_mj * lon_term * rad2deg\n",
    "#     )\n",
    "\n",
    "#     return temp_ma_present, temp_mj_present\n",
    "\n",
    "# temp_ma_present, temp_mj_present = compute_present_temps(zs, phi, lambda_, temp_present_offset=-1.0)\n",
    "\n",
    "# plt.contourf(temp_ma_present)\n",
    "# plt.colorbar()"
   ]
  },
  {
   "cell_type": "code",
   "execution_count": 3,
   "id": "cbdf8f2a-f0f8-41fe-9709-ba0ba36b8260",
   "metadata": {},
   "outputs": [
    {
     "data": {
      "text/plain": [
       "<matplotlib.colorbar.Colorbar at 0x14571c1c67d0>"
      ]
     },
     "execution_count": 3,
     "metadata": {},
     "output_type": "execute_result"
    },
    {
     "data": {
      "image/png": "[encoded data removed]",
      "text/plain": [
       "<Figure size 640x480 with 2 Axes>"
      ]
     },
     "metadata": {},
     "output_type": "display_data"
    }
   ],
   "source": [
    "precip = xr.open_dataset(\"/home/shreyas/update_to_develop_sicopolis/sicopolis/sico_in/grl/grl_rembo_40_precip.nc\")\n",
    "plt.contourf(precip[\"precip_ma_present\"].data)\n",
    "plt.colorbar()"
   ]
  },
  {
   "cell_type": "code",
   "execution_count": 4,
   "id": "25dedcbc-eaab-4481-8f0e-26b6dfacdae9",
   "metadata": {},
   "outputs": [],
   "source": [
    "ds_grl40_bm5_paleo17a_CT4_BH0_m21ka_pkp_init = xr.open_dataset('/home/shreyas/update_to_develop_sicopolis/sicopolis_spinups/sico_out/grl40_bm5_paleo17a_CT4_BH0_8point5CS_spinup_0ka/grl40_bm5_paleo17a_CT4_BH0_8point5CS_spinup_0ka0005.nc')\n",
    "ds_grl40_bm5_paleo17a_CT4_BH0_m11ka_pkp_init = xr.open_dataset('/home/shreyas/update_to_develop_sicopolis/sicopolis_spinups/sico_out/grl40_bm5_paleo17a_CT4_BH0_8point5CS_spinup_0ka/grl40_bm5_paleo17a_CT4_BH0_8point5CS_spinup_0ka0006.nc')\n",
    "ds_grl40_bm5_paleo17a_CT4_BH0_m11ka_pkp_final = xr.open_dataset('/home/shreyas/update_to_develop_sicopolis/sicopolis_spinups/sico_out/grl40_bm5_paleo17a_CT4_BH0_m11ka_pkp/grl40_bm5_paleo17a_CT4_BH0_m11ka_pkp0006.nc')\n",
    "ds_ser_grl40_bm5_paleo17a_CT4_BH0_8point5CS_spinup_0ka = xr.open_dataset('/home/shreyas/update_to_develop_sicopolis/sicopolis_spinups_develop/sico_out/grl40_bm5_paleo17a_CT4_BH0_8point5CS_spinup_0ka/grl40_bm5_paleo17a_CT4_BH0_8point5CS_spinup_0ka_ser.nc')\n",
    "\n",
    "ds_adj_SVC_nudged_m21ka = xr.open_dataset('/home/shreyas/update_to_develop_sicopolis/sicopolis_sens/src/subroutines/tapenade/ad_io/ad_output_adj_grl40_bm5_paleo17a_nudged_CT4_BH0_SVC_m21ka_pkp.nc')\n",
    "ds_adj_BM5_m11ka = xr.open_dataset('/home/shreyas/update_to_develop_sicopolis/sicopolis_sens/src/subroutines/tapenade/ad_io/ad_output_adj_grl40_bm5_paleo17a_CT4_BH0_BM5_m11ka_pkp.nc')\n",
    "ds_adj_AC_m11ka = xr.open_dataset('/home/shreyas/update_to_develop_sicopolis/sicopolis_sens/src/subroutines/tapenade/ad_io/ad_output_adj_grl40_bm5_paleo17a_CT4_BH0_AC_m11ka_pkp.nc')\n",
    "ds_adj_AC_BM5_m11ka = xr.open_dataset('/home/shreyas/update_to_develop_sicopolis/sicopolis_sens/src/subroutines/tapenade/ad_io/ad_output_adj_grl40_bm5_paleo17a_CT4_BH0_AC_BM5_m11ka_pkp.nc')"
   ]
  },
  {
   "cell_type": "code",
   "execution_count": 18,
   "id": "b01bbdbf-9431-465b-a884-7ded5aec0361",
   "metadata": {},
   "outputs": [],
   "source": [
    "def non_dim_sensitivities(ds_init, ds_output_adj, bool_nudged):\n",
    "    non_dim_grads = {}\n",
    "    fc = ds_output_adj['fc'].data\n",
    "    print(fc)\n",
    "\n",
    "    ### FUTURE WORK, SINCE I MISSED TUNING THIS IN PHASE I\n",
    "    # non_dim_grads['c_dis_dab'] = np.abs(np.sum(ds_output_adj['xx_c_dis_dab'].data)) * 15659.0 / fc[0] \n",
    "\n",
    "    ### ds_init['c_slide'].data/10.0 used here to non-dimensionalize, assuming p = 3, q = 2\n",
    "    non_dim_grads['c_slide_initb'] = np.sum(np.abs(ds_output_adj['xx_c_slide_initb'].data * ds_init['c_slide'].data/10.0)) / fc[0]\n",
    "\n",
    "    non_dim_grads['q_geob'] = np.sum(np.abs(ds_output_adj['xx_q_geob'].data * ds_init['q_geo'].data)) / fc[0]\n",
    "    non_dim_grads['enh_fact_da_dummy2d_scalar'] = np.abs(np.sum(ds_output_adj['xx_enh_fact_da_dummy2d_scalarb'].data)) * 3.0 / fc[0]\n",
    "    non_dim_grads['enh_intg_da_dummy2d_scalar'] = np.abs(np.sum(ds_output_adj['xx_enh_intg_da_dummy2d_scalarb'].data)) * 1.0 / fc[0]\n",
    "    non_dim_grads['n_glen_da_dummy2d_scalar'] = np.abs(np.sum(ds_output_adj['xx_n_glen_da_dummy2d_scalarb'].data)) * 1.0 / fc[0]\n",
    "    non_dim_grads['p_weert'] = np.abs(np.sum(ds_output_adj['xx_p_weertb'].data)) * 1.0 / fc[0] # p==3, but expected change should be 2, this is not a bug\n",
    "    non_dim_grads['q_weert'] = np.abs(np.sum(ds_output_adj['xx_q_weertb'].data)) * 1.0 / fc[0]\n",
    "    if not bool_nudged:\n",
    "        # non_dim_grads['zsb'] = np.sum(np.abs(ds_output_adj['xx_zsb'].data)) * 100.0 / fc[0]\n",
    "        # non_dim_grads['zlb'] = np.sum(np.abs(ds_output_adj['xx_zlb'].data)) * 100.0 / fc[0]\n",
    "        non_dim_grads['Hb'] = np.sum(np.abs(ds_output_adj['xx_Hb'].data * 1000.0)) / fc[0]\n",
    "        # non_dim_grads['zbb'] = np.sum(np.abs(ds_output_adj['xx_zbb'].data)) * 100.0 / fc[0]\n",
    "        non_dim_grads['temp_cb'] = np.sum(np.abs(ds_output_adj['xx_temp_cb'].data * 5)) / fc[0]\n",
    "        non_dim_grads['temp_rb'] = np.sum(np.abs(ds_output_adj['xx_temp_rb'].data * 5)) / fc[0]\n",
    "        non_dim_grads['omega_cb'] = np.sum(np.abs(ds_output_adj['xx_omega_cb'].data * 0.01)) / fc[0]\n",
    "        non_dim_grads['age_cb'] = np.sum(np.abs(ds_output_adj['xx_age_cb'].data) * ds_init['age_c'].data) / fc[0] # * 3.156e+7 # year2sec\n",
    "        non_dim_grads['delta_tdab'] = np.sum(np.abs(ds_output_adj['xx_delta_tdab'].data[:-1])) * 5.0 / fc[0]\n",
    "        non_dim_grads['gamma_sb'] = np.sum(np.abs(ds_output_adj['xx_gamma_sb'].data)) * 0.070458 / fc[0]\n",
    "        non_dim_grads['s_statb'] = np.abs(np.sum(ds_output_adj['xx_s_statb'].data)) * 5.0 / fc[0]\n",
    "        non_dim_grads['beta1b'] = np.abs(np.sum(ds_output_adj['xx_beta1b'].data)) * 2.73 / fc[0]\n",
    "        non_dim_grads['beta2b'] = np.abs(np.sum(ds_output_adj['xx_beta2b'].data)) * 7.28 / fc[0]\n",
    "        non_dim_grads['Pmaxb'] = np.abs(np.sum(ds_output_adj['xx_Pmaxb'].data)) * 0.6 / fc[0]\n",
    "        non_dim_grads['mub'] = np.abs(np.sum(ds_output_adj['xx_mub'].data)) * 9.7155 / fc[0]\n",
    "\n",
    "    \n",
    "    # Sum of all calculated non-dimensional sensitivities\n",
    "    total_sum = sum(non_dim_grads.values())\n",
    "    \n",
    "    # Normalize each field to percentage and round to two decimal places\n",
    "    non_dim_grads_percentage = {key: np.round((value / total_sum) * 100, 2) for key, value in non_dim_grads.items()}\n",
    "    \n",
    "    return non_dim_grads_percentage"
   ]
  },
  {
   "cell_type": "code",
   "execution_count": 19,
   "id": "d5efad09-9a56-4ff3-affb-a8e304d7a7e3",
   "metadata": {},
   "outputs": [
    {
     "data": {
      "text/plain": [
       "array([16915.8627614])"
      ]
     },
     "execution_count": 19,
     "metadata": {},
     "output_type": "execute_result"
    }
   ],
   "source": [
    "temp = xr.open_dataset(\"/scratch2/shreyas/optim_AB_nodeltats_noconvinit_2/inexact_gn_hessian_cg/state_GNHessCG_iter_10.nc\")\n",
    "10**temp[\"xx_c_dis_da\"].data"
   ]
  },
  {
   "cell_type": "code",
   "execution_count": 20,
   "id": "5645e1be-ba31-4d7f-9e9d-40f83d5cb4f2",
   "metadata": {},
   "outputs": [
    {
     "name": "stdout",
     "output_type": "stream",
     "text": [
      "[11602.29494573]\n"
     ]
    },
    {
     "data": {
      "text/plain": [
       "{'c_slide_initb': 45.52,\n",
       " 'q_geob': 7.45,\n",
       " 'enh_fact_da_dummy2d_scalar': 6.15,\n",
       " 'enh_intg_da_dummy2d_scalar': 0.22,\n",
       " 'n_glen_da_dummy2d_scalar': 2.97,\n",
       " 'p_weert': 11.48,\n",
       " 'q_weert': 26.2}"
      ]
     },
     "execution_count": 20,
     "metadata": {},
     "output_type": "execute_result"
    }
   ],
   "source": [
    "non_dim_sensitivities(ds_grl40_bm5_paleo17a_CT4_BH0_m21ka_pkp_init, ds_adj_SVC_nudged_m21ka, True)"
   ]
  },
  {
   "cell_type": "code",
   "execution_count": 21,
   "id": "17c87408-12bc-4f1c-9c1b-13ee7a750c66",
   "metadata": {
    "scrolled": true
   },
   "outputs": [
    {
     "name": "stdout",
     "output_type": "stream",
     "text": [
      "[18027.74366304]\n"
     ]
    },
    {
     "data": {
      "text/plain": [
       "{'c_slide_initb': 4.87,\n",
       " 'q_geob': 0.12,\n",
       " 'enh_fact_da_dummy2d_scalar': 1.69,\n",
       " 'enh_intg_da_dummy2d_scalar': 0.57,\n",
       " 'n_glen_da_dummy2d_scalar': 0.61,\n",
       " 'p_weert': 1.04,\n",
       " 'q_weert': 1.4,\n",
       " 'Hb': 2.9,\n",
       " 'temp_cb': 1.68,\n",
       " 'temp_rb': 2.04,\n",
       " 'omega_cb': 0.57,\n",
       " 'age_cb': 17.27,\n",
       " 'delta_tdab': 27.88,\n",
       " 'gamma_sb': 1.36,\n",
       " 's_statb': 18.49,\n",
       " 'beta1b': 3.3,\n",
       " 'beta2b': 8.95,\n",
       " 'Pmaxb': 5.19,\n",
       " 'mub': 0.07}"
      ]
     },
     "execution_count": 21,
     "metadata": {},
     "output_type": "execute_result"
    }
   ],
   "source": [
    "non_dim_sensitivities(ds_grl40_bm5_paleo17a_CT4_BH0_m11ka_pkp_init, ds_adj_AC_BM5_m11ka, False)"
   ]
  },
  {
   "cell_type": "code",
   "execution_count": 9,
   "id": "46bc88ee-eac7-4956-896f-c8e48df7cf3a",
   "metadata": {},
   "outputs": [
    {
     "name": "stdout",
     "output_type": "stream",
     "text": [
      "[4780.79563039]\n"
     ]
    },
    {
     "data": {
      "text/plain": [
       "{'c_slide_initb': 5.54,\n",
       " 'q_geob': 0.11,\n",
       " 'enh_fact_da_dummy2d_scalar': 1.84,\n",
       " 'enh_intg_da_dummy2d_scalar': 0.08,\n",
       " 'n_glen_da_dummy2d_scalar': 0.41,\n",
       " 'p_weert': 3.16,\n",
       " 'q_weert': 4.44,\n",
       " 'Hb': 1.66,\n",
       " 'temp_cb': 1.36,\n",
       " 'temp_rb': 1.55,\n",
       " 'omega_cb': 0.46,\n",
       " 'age_cb': 0.0,\n",
       " 'delta_tdab': 19.11,\n",
       " 'gamma_sb': 1.39,\n",
       " 's_statb': 29.64,\n",
       " 'beta1b': 5.28,\n",
       " 'beta2b': 15.41,\n",
       " 'Pmaxb': 8.48,\n",
       " 'mub': 0.09}"
      ]
     },
     "execution_count": 9,
     "metadata": {},
     "output_type": "execute_result"
    }
   ],
   "source": [
    "non_dim_sensitivities(ds_grl40_bm5_paleo17a_CT4_BH0_m11ka_pkp_init, ds_adj_BM5_m11ka, False)"
   ]
  },
  {
   "cell_type": "code",
   "execution_count": 10,
   "id": "4bfeccd7-55a6-4b1e-b543-d6c23c43d261",
   "metadata": {},
   "outputs": [
    {
     "name": "stdout",
     "output_type": "stream",
     "text": [
      "[13254.0710004]\n"
     ]
    },
    {
     "data": {
      "text/plain": [
       "{'c_slide_initb': 5.35,\n",
       " 'q_geob': 0.2,\n",
       " 'enh_fact_da_dummy2d_scalar': 1.63,\n",
       " 'enh_intg_da_dummy2d_scalar': 1.89,\n",
       " 'n_glen_da_dummy2d_scalar': 1.08,\n",
       " 'p_weert': 0.04,\n",
       " 'q_weert': 0.1,\n",
       " 'Hb': 5.78,\n",
       " 'temp_cb': 2.75,\n",
       " 'temp_rb': 3.34,\n",
       " 'omega_cb': 0.93,\n",
       " 'age_cb': 52.39,\n",
       " 'delta_tdab': 15.28,\n",
       " 'gamma_sb': 1.71,\n",
       " 's_statb': 2.62,\n",
       " 'beta1b': 0.41,\n",
       " 'beta2b': 3.42,\n",
       " 'Pmaxb': 1.01,\n",
       " 'mub': 0.06}"
      ]
     },
     "execution_count": 10,
     "metadata": {},
     "output_type": "execute_result"
    }
   ],
   "source": [
    "non_dim_sensitivities(ds_grl40_bm5_paleo17a_CT4_BH0_m11ka_pkp_init, ds_adj_AC_m11ka, False)"
   ]
  }
 ],
 "metadata": {
  "kernelspec": {
   "display_name": "py310_LRP",
   "language": "python",
   "name": "py310_lrp"
  },
  "language_info": {
   "codemirror_mode": {
    "name": "ipython",
    "version": 3
   },
   "file_extension": ".py",
   "mimetype": "text/x-python",
   "name": "python",
   "nbconvert_exporter": "python",
   "pygments_lexer": "ipython3",
   "version": "3.10.8"
  }
 },
 "nbformat": 4,
 "nbformat_minor": 5
}
