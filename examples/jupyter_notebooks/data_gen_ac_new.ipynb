{
 "cells": [
  {
   "cell_type": "code",
   "execution_count": 1,
   "id": "eaa5a2e0-7d12-4f78-b9ef-4a7d88a734ea",
   "metadata": {},
   "outputs": [],
   "source": [
    "# HPC\n",
    "import numpy as np\n",
    "import xarray as xr\n",
    "\n",
    "# Plotting\n",
    "import matplotlib.pyplot as plt\n",
    "\n",
    "# Paths and stuff\n",
    "import os\n",
    "import sys\n",
    "\n",
    "# For surfvel data in tif files\n",
    "import rasterio\n",
    "from rasterio.transform import from_origin\n",
    "\n",
    "sys.path.append('/home/shreyas/pySICOPOLIS/src')\n",
    "from pySICOPOLIS import *"
   ]
  },
  {
   "cell_type": "code",
   "execution_count": 2,
   "id": "272c012e-af23-42e9-bfcd-ad7acdead7b8",
   "metadata": {},
   "outputs": [
    {
     "name": "stdout",
     "output_type": "stream",
     "text": [
      "Uncorrupt z=1.\n",
      "Uncorrupt z=2.\n",
      "Uncorrupt z=3.\n"
     ]
    }
   ],
   "source": [
    "xModel10 = np.arange(-72.,97.,1.0)*10\n",
    "yModel10 = np.arange(-345.,-56.,1.0)*10\n",
    "xModel16 = np.arange(-72.,97.,1.6)*10\n",
    "yModel16 = np.arange(-345.,-56.,1.6)*10\n",
    "xModel40 = np.arange(-72.,97.,4.0)*10\n",
    "yModel40 = np.arange(-345.,-56.,4.0)*10\n",
    "\n",
    "dataPath = '/scratch2/shreyas/GrIS_paleo_data/'\n",
    "\n",
    "ds_age  = xr.open_dataset(dataPath + 'RRRAG4_Greenland_1993_2013_01_age_grid.nc')\n",
    "\n",
    "!rm /scratch2/shreyas/GrIS_paleo_data/RRRAG4_Greenland_1993_2013_01_age_grid_corrected.nc\n",
    "ds_age_correct = ageData.correctAgeDataset(ds_age,\n",
    "                            path = dataPath,\n",
    "                            filename = 'RRRAG4_Greenland_1993_2013_01_age_grid_corrected.nc',\n",
    "                            zetaLevels = 26,\n",
    "                            unCorrupt = True)\n",
    "ds_age_correct = xr.open_dataset(dataPath + 'RRRAG4_Greenland_1993_2013_01_age_grid_corrected.nc')\n",
    "ds_bm5 = xr.open_dataset(\"/scratch2/shreyas/GrIS_paleo_data/BedMachineGreenland-v5.nc\")\n",
    "ds_bm5_orig = xr.open_dataset(\"/scratch2/shreyas/GrIS_paleo_data/bm5_data_40kms_orig.nc\")\n",
    "ds_age_old = xr.open_dataset(\"/scratch2/shreyas/GrIS_paleo_data/age_data_40kms_old.nc\")\n",
    "\n",
    "modelPath = '/home/shreyas/update_to_develop_sicopolis/sicopolis_spinups/sico_out/'\n",
    "\n",
    "ds_grl40_bm5_paleo17a_CT4_BH0_m11ka_pkp = xr.open_dataset(modelPath + 'grl40_bm5_paleo17a_CT4_BH0_m11ka_pkp/grl40_bm5_paleo17a_CT4_BH0_m11ka_pkp0006.nc')\n",
    "\n",
    "ds_grl40_bm5_paleo17a_CT4_BH0_m11ka_pkp['age_c_uncert_real'] = ds_grl40_bm5_paleo17a_CT4_BH0_m11ka_pkp['age_c'] / 10.0\n",
    "ds_grl40_bm5_paleo17a_CT4_BH0_m11ka_pkp['age_c_uncert_real'] = ds_grl40_bm5_paleo17a_CT4_BH0_m11ka_pkp['age_c_uncert_real'].where(ds_grl40_bm5_paleo17a_CT4_BH0_m11ka_pkp['age_c_uncert_real'] > 1.0, 1.0)\n",
    "ds_grl40_bm5_paleo17a_CT4_BH0_m11ka_pkp['age_c_uncert_real'].attrs['units'] = 'a'\n",
    "ds_grl40_bm5_paleo17a_CT4_BH0_m11ka_pkp['age_c_uncert_real'].attrs['standard_name'] = 'land_ice_kc_layer_age_uncert'\n",
    "ds_grl40_bm5_paleo17a_CT4_BH0_m11ka_pkp['age_c_uncert_real'].attrs['long_name'] = 'Age uncertainty in the upper (kc) ice layer'\n",
    "ds_grl40_bm5_paleo17a_CT4_BH0_m11ka_pkp['age_c_uncert_real'].attrs['grid_mapping'] = 'mapping'\n",
    "ds_grl40_bm5_paleo17a_CT4_BH0_m11ka_pkp['age_c_uncert'] = ds_grl40_bm5_paleo17a_CT4_BH0_m11ka_pkp['age_c'] / 10.0\n",
    "ds_grl40_bm5_paleo17a_CT4_BH0_m11ka_pkp['age_c_uncert'] = ds_grl40_bm5_paleo17a_CT4_BH0_m11ka_pkp['age_c_uncert'].where(ds_grl40_bm5_paleo17a_CT4_BH0_m11ka_pkp['age_c_uncert'] > 1.0, 1.0)\n",
    "ds_grl40_bm5_paleo17a_CT4_BH0_m11ka_pkp['age_c_uncert'].attrs['units'] = 'a'\n",
    "ds_grl40_bm5_paleo17a_CT4_BH0_m11ka_pkp['age_c_uncert'].attrs['standard_name'] = 'land_ice_kc_layer_age_uncert'\n",
    "ds_grl40_bm5_paleo17a_CT4_BH0_m11ka_pkp['age_c_uncert'].attrs['long_name'] = 'Age uncertainty in the upper (kc) ice layer'\n",
    "ds_grl40_bm5_paleo17a_CT4_BH0_m11ka_pkp['age_c_uncert'].attrs['grid_mapping'] = 'mapping'\n",
    "\n",
    "ds_grl40_bm5_paleo17a_CT4_BH0_m11ka_pkp['H_uncert'] = ds_grl40_bm5_paleo17a_CT4_BH0_m11ka_pkp['H'] / 10.0\n",
    "ds_grl40_bm5_paleo17a_CT4_BH0_m11ka_pkp['H_uncert'] = ds_grl40_bm5_paleo17a_CT4_BH0_m11ka_pkp['H_uncert'].where(ds_grl40_bm5_paleo17a_CT4_BH0_m11ka_pkp['H_uncert'] > 1.0, 1.0)\n",
    "ds_grl40_bm5_paleo17a_CT4_BH0_m11ka_pkp['H_uncert'].attrs['units'] = 'm'\n",
    "ds_grl40_bm5_paleo17a_CT4_BH0_m11ka_pkp['H_uncert'].attrs['standard_name'] = 'land_ice_thickness_uncert'\n",
    "ds_grl40_bm5_paleo17a_CT4_BH0_m11ka_pkp['H_uncert'].attrs['long_name'] = 'Ice thickness uncertainty'\n",
    "ds_grl40_bm5_paleo17a_CT4_BH0_m11ka_pkp['H_uncert'].attrs['grid_mapping'] = 'mapping'\n",
    "\n",
    "ds_grl40_bm5_paleo17a_CT4_BH0_m11ka_pkp['zs_uncert'] = ds_grl40_bm5_paleo17a_CT4_BH0_m11ka_pkp['zs']*0.0 + 5.0\n",
    "ds_grl40_bm5_paleo17a_CT4_BH0_m11ka_pkp['zs_uncert'] = ds_grl40_bm5_paleo17a_CT4_BH0_m11ka_pkp['zs_uncert'].where(ds_grl40_bm5_paleo17a_CT4_BH0_m11ka_pkp['zs_uncert'] > 1.0, 1.0)\n",
    "ds_grl40_bm5_paleo17a_CT4_BH0_m11ka_pkp['zs_uncert'].attrs['units'] = 'm'\n",
    "ds_grl40_bm5_paleo17a_CT4_BH0_m11ka_pkp['zs_uncert'].attrs['standard_name'] = 'land_ice_surface_uncert'\n",
    "ds_grl40_bm5_paleo17a_CT4_BH0_m11ka_pkp['zs_uncert'].attrs['long_name'] = 'Ice surface uncertainty'\n",
    "ds_grl40_bm5_paleo17a_CT4_BH0_m11ka_pkp['zs_uncert'].attrs['grid_mapping'] = 'mapping'\n",
    "\n",
    "ds_grl40_bm5_paleo17a_CT4_BH0_m11ka_pkp['zl_uncert'] = ds_grl40_bm5_paleo17a_CT4_BH0_m11ka_pkp['H_uncert'].copy()\n",
    "ds_grl40_bm5_paleo17a_CT4_BH0_m11ka_pkp['zl_uncert'] = ds_grl40_bm5_paleo17a_CT4_BH0_m11ka_pkp['zl_uncert'].where(ds_grl40_bm5_paleo17a_CT4_BH0_m11ka_pkp['zl_uncert'] > 1.0, 1.0)\n",
    "ds_grl40_bm5_paleo17a_CT4_BH0_m11ka_pkp['zl_uncert'].attrs['units'] = 'm'\n",
    "ds_grl40_bm5_paleo17a_CT4_BH0_m11ka_pkp['zl_uncert'].attrs['standard_name'] = 'land_ice_bed_uncert'\n",
    "ds_grl40_bm5_paleo17a_CT4_BH0_m11ka_pkp['zl_uncert'].attrs['long_name'] = 'Ice bed uncertainty'\n",
    "ds_grl40_bm5_paleo17a_CT4_BH0_m11ka_pkp['zl_uncert'].attrs['grid_mapping'] = 'mapping'\n",
    "\n",
    "ds_grl40_bm5_paleo17a_CT4_BH0_m11ka_pkp.to_netcdf('/scratch2/shreyas/GrIS_paleo_data/fake_age_data_40kms.nc', mode='w')\n",
    "ds_grl40_bm5_paleo17a_CT4_BH0_m11ka_pkp.to_netcdf('/scratch2/shreyas/GrIS_paleo_data/fake_bm5_data_40kms.nc', mode='w')"
   ]
  },
  {
   "cell_type": "code",
   "execution_count": 3,
   "id": "cc69090b-2cdb-4162-8257-dd7e58ca705a",
   "metadata": {},
   "outputs": [],
   "source": [
    "def frac_area(x, y, xx, yy):\n",
    "    \"\"\"\n",
    "    Compute the fraction of the area of the small rectangle (xx, yy)\n",
    "    within the large rectangle (x, y).\n",
    "\n",
    "    Parameters:\n",
    "        x, y:   Length-2 arrays for the large rectangle [x1, x2], [y1, y2]\n",
    "        xx, yy: Length-2 arrays for the small rectangle\n",
    "\n",
    "    Returns:\n",
    "        Fraction of area of (xx, yy) within (x, y)\n",
    "    \"\"\"\n",
    "\n",
    "    x = sorted(x)\n",
    "    y = sorted(y)\n",
    "    xx = sorted(xx)\n",
    "    yy = sorted(yy)\n",
    "\n",
    "    dx_inv = 1.0 / (x[1] - x[0])\n",
    "    dy_inv = 1.0 / (y[1] - y[0])\n",
    "\n",
    "    # Normalize coordinates of small rectangle to large rectangle frame\n",
    "    xxm = (np.array(xx) - x[0]) * dx_inv\n",
    "    yym = (np.array(yy) - y[0]) * dy_inv\n",
    "\n",
    "    # Error check: small rectangle should not be larger than the big one\n",
    "    if (xx[1] - xx[0] > x[1] - x[0]) or (yy[1] - yy[0] > y[1] - y[0]):\n",
    "        raise ValueError(\"Small rectangle larger than large rectangle!\")\n",
    "\n",
    "    # Fully inside\n",
    "    if 0 <= xxm[0] and xxm[1] <= 1 and 0 <= yym[0] and yym[1] <= 1:\n",
    "        return 1.0\n",
    "\n",
    "    # Edge overlap cases\n",
    "    if 0 <= xxm[0] and xxm[1] <= 1:\n",
    "        if yym[0] < 0 < yym[1]:\n",
    "            return yym[1] / (yym[1] - yym[0])\n",
    "        elif yym[0] < 1 < yym[1]:\n",
    "            return (1 - yym[0]) / (yym[1] - yym[0])\n",
    "        else:\n",
    "            return 0.0\n",
    "\n",
    "    if 0 <= yym[0] and yym[1] <= 1:\n",
    "        if xxm[0] < 0 < xxm[1]:\n",
    "            return xxm[1] / (xxm[1] - xxm[0])\n",
    "        elif xxm[0] < 1 < xxm[1]:\n",
    "            return (1 - xxm[0]) / (xxm[1] - xxm[0])\n",
    "        else:\n",
    "            return 0.0\n",
    "\n",
    "    # Corner overlap cases\n",
    "    denom = (xxm[1] - xxm[0]) * (yym[1] - yym[0])\n",
    "    if denom == 0:\n",
    "        return 0.0\n",
    "\n",
    "    if xxm[0] < 0 < xxm[1] and yym[0] < 0 < yym[1]:\n",
    "        return xxm[1] * yym[1] / denom\n",
    "    if xxm[0] < 1 < xxm[1] and yym[0] < 0 < yym[1]:\n",
    "        return (1 - xxm[0]) * yym[1] / denom\n",
    "    if xxm[0] < 0 < xxm[1] and yym[0] < 1 < yym[1]:\n",
    "        return xxm[1] * (1 - yym[0]) / denom\n",
    "    if xxm[0] < 1 < xxm[1] and yym[0] < 1 < yym[1]:\n",
    "        return (1 - xxm[0]) * (1 - yym[0]) / denom\n",
    "\n",
    "    return 0.0\n",
    "\n",
    "# -----------------------------\n",
    "# Area-weighted downsampling (H + mask)\n",
    "def area_weighted_downsample_with_mask_H(H_hr, mask_hr, x_hr, y_hr, x_lr, y_lr, dx_lr, dx_hr):\n",
    "    \"\"\"\n",
    "    Downsample high-resolution H field and masks from age data grid to a \n",
    "    coarser SICOPOLIS (sico) grid using area-weighted interpolation.\n",
    "\n",
    "    Parameters:\n",
    "        H_hr: H data from age data nc file (high resolution)\n",
    "        mask_hr: dict of 2D arrays (y, x), masks (e.g., ice, ocean) at bm resolution\n",
    "        x_hr, y_hr: 1D arrays of age data grid coordinates\n",
    "        x_lr, y_lr: 1D arrays of coarse sico grid coordinates\n",
    "        dx_lr: spacing of sico grid (same for x and y)\n",
    "        dx_hr: horizontal resolution of age data grid (same for x and y)\n",
    "    Returns:\n",
    "        H_lr: downsampled H field\n",
    "        r_masks: downsampled masks\n",
    "    \"\"\"\n",
    "\n",
    "    shape = (len(y_lr), len(x_lr))\n",
    "    H_lr = np.zeros(shape)\n",
    "    r_masks = {k: np.zeros(shape) for k in range(5)}  # 0–4: grounded, land, ocean, floating, nongrlld\n",
    "\n",
    "    for j, y in enumerate(y_lr):\n",
    "        for i, x in enumerate(x_lr):\n",
    "\n",
    "            # Handle points outside age data domain as ocean\n",
    "            if x < x_hr[0] or x > x_hr[-1] or y < y_hr[0] or y > y_hr[-1]:\n",
    "                continue\n",
    "\n",
    "            # Define bounding box around current coarse cell\n",
    "            x1, x2 = x - 0.5*(dx_lr + dx_hr), x + 0.5*(dx_lr + dx_hr)\n",
    "            y1, y2 = y - 0.5*(dx_lr + dx_hr), y + 0.5*(dx_lr + dx_hr)\n",
    "\n",
    "            # Convert bounding box to index range in BedMachine grid\n",
    "            ii1 = int(np.floor((x1 - x_hr[0]) / dx_hr))\n",
    "            ii2 = int(np.ceil((x2 - x_hr[0]) / dx_hr))\n",
    "            jj1 = int(np.floor((y1 - y_hr[0]) / dx_hr))\n",
    "            jj2 = int(np.ceil((y2 - y_hr[0]) / dx_hr))\n",
    "\n",
    "            H_sum = 0.0\n",
    "            w_sum = 0.0\n",
    "            mask_sum = np.zeros(5)\n",
    "\n",
    "            # Loop over overlapping fine grid cells\n",
    "            for jj in range(jj1, jj2):\n",
    "                for ii in range(ii1, ii2):\n",
    "                    if 0 <= ii < len(x_hr) and 0 <= jj < len(y_hr):\n",
    "                        w = frac_area(\n",
    "                            [x - 0.5*dx_lr, x + 0.5*dx_lr],\n",
    "                            [y - 0.5*dx_lr, y + 0.5*dx_lr],\n",
    "                            [x_hr[ii] - 0.5*dx_hr, x_hr[ii] + 0.5*dx_hr],\n",
    "                            [y_hr[jj] - 0.5*dx_hr, y_hr[jj] + 0.5*dx_hr]\n",
    "                        )\n",
    "                        H_sum += w * H_hr[jj, ii]\n",
    "                        mval = mask_hr[jj, ii]\n",
    "                        if 0 <= mval <= 4:\n",
    "                            mask_sum[mval] += w\n",
    "                        w_sum += w\n",
    "\n",
    "            # Normalize sums by total weight to get downsampled values\n",
    "            if w_sum > 0:\n",
    "                H_lr[j, i] = H_sum / w_sum\n",
    "                for k in range(5):\n",
    "                    r_masks[k][j, i] = mask_sum[k] / w_sum\n",
    "\n",
    "    return H_lr, r_masks\n",
    "\n",
    "# -----------------------------\n",
    "# Downsample 3D fields with a given mask\n",
    "def downsample_3d_field_with_mask(field_hr, x_hr, y_hr, x_lr, y_lr, dx_lr, mask_sico, coverage_thresh=0.5):\n",
    "    \"\"\"\n",
    "    Downsample high-resolution 3D fields and masks from age data grid to a \n",
    "    coarser SICOPOLIS (sico) grid using area-weighted interpolation.\n",
    "\n",
    "    Parameters:\n",
    "        field_hr: high resolution 3D field from age_data\n",
    "        x_hr, y_hr: 1D arrays of age data grid coordinates\n",
    "        x_lr, y_lr: 1D arrays of coarse sico grid coordinates\n",
    "        dx_lr: spacing of sico grid (same for x and y)\n",
    "        mask_sico: mask of coarse sico grid\n",
    "        coverage_thresh:\n",
    "    Returns:\n",
    "        field_lr: downsampled 3D field (in 2D sense it's downsampled)\n",
    "    \"\"\"\n",
    "\n",
    "    nz = field_hr.shape[0]\n",
    "    field_lr = np.full((nz, len(y_lr), len(x_lr)), np.nan)\n",
    "    dx_hr = x_hr[1] - x_hr[0]\n",
    "\n",
    "    for j, y in enumerate(y_lr):\n",
    "        for i, x in enumerate(x_lr):\n",
    "            # if not ((mask_sico[j, i] == 0) or (mask_sico[j, i] == 3)):\n",
    "            #     continue  # valid only over grounded or floating ice\n",
    "\n",
    "            # Define bounding box around current coarse cell\n",
    "            x1, x2 = x - 0.5 * dx_lr, x + 0.5 * dx_lr\n",
    "            y1, y2 = y - 0.5 * dx_lr, y + 0.5 * dx_lr\n",
    "\n",
    "            # Convert bounding box to index range in BedMachine grid\n",
    "            ii1 = int(np.floor((x1 - x_hr[0]) / dx_hr))\n",
    "            ii2 = int(np.ceil((x2 - x_hr[0]) / dx_hr))\n",
    "            jj1 = int(np.floor((y1 - y_hr[0]) / dx_hr))\n",
    "            jj2 = int(np.ceil((y2 - y_hr[0]) / dx_hr))\n",
    "\n",
    "            # Loop over overlapping fine grid cells\n",
    "            for k in range(nz):\n",
    "                # Count_valid only increments if it's not NaN\n",
    "                v_sum, count_valid, total = 0.0, 0, 0\n",
    "                for jj in range(jj1, jj2):\n",
    "                    for ii in range(ii1, ii2):\n",
    "                        if 0 <= ii < len(x_hr) and 0 <= jj < len(y_hr):\n",
    "                            val = field_hr[k, jj, ii]\n",
    "                            if np.isfinite(val):\n",
    "                                v_sum += val\n",
    "                                count_valid += 1\n",
    "                            total += 1\n",
    "                if total > 0 and (count_valid / total) >= coverage_thresh:\n",
    "                    field_lr[k, j, i] = v_sum / count_valid\n",
    "\n",
    "    return field_lr"
   ]
  },
  {
   "cell_type": "code",
   "execution_count": 4,
   "id": "1c29c6c9-46d3-4224-a511-9c12587219b4",
   "metadata": {},
   "outputs": [
    {
     "name": "stdout",
     "output_type": "stream",
     "text": [
      "Downsampling complete.\n",
      "NaNs removal complete.\n"
     ]
    }
   ],
   "source": [
    "# Flip BedMachine y-axis\n",
    "y_bm = ds_bm5[\"y\"].values[::-1] / 1000.0\n",
    "x_bm = ds_bm5[\"x\"].values / 1000.0\n",
    "mask_bm = np.flip(ds_bm5[\"mask\"].values, axis=0).astype(np.int16)\n",
    "\n",
    "# Extract age grid\n",
    "x_age = ds_age_correct[\"xMesh\"].values[0]\n",
    "y_age = ds_age_correct[\"yMesh\"].values[:, 0]\n",
    "dx_age = x_age[1] - x_age[0]\n",
    "dx_bm = x_bm[1] - x_bm[0]\n",
    "\n",
    "# Define non-Greenland mask regions and blank them out\n",
    "regions = [\n",
    "    (np.array([x_bm[0], -1190.0]), np.array([110.0, y_bm[-1]])),    # Ellesmere\n",
    "    (np.array([400.0, y_bm[-1]]), np.array([x_bm[-1], -900.0])),    # Svalbard\n",
    "    (np.array([x_bm[-1], -2250.0]), np.array([250.0, y_bm[0]])),    # Iceland\n",
    "    (np.array([-300.0, y_bm[0]]), np.array([x_bm[0], -2000.0]))     # Baffin\n",
    "]\n",
    "for p1, p2 in regions:\n",
    "    v = p2 - p1\n",
    "    for j in range(len(y_bm)):\n",
    "        for i in range(len(x_bm)):\n",
    "            test = np.array([x_bm[i], y_bm[j]]) - p1\n",
    "            if v[0]*test[1] - v[1]*test[0] > 0:\n",
    "                mask_bm[j, i] = 4 # Mark as non-Greenland\n",
    "\n",
    "# Interpolate via area-weighted majority vote from bm5 grid (fine) to age data grid (coarser but still finer than sico grid)\n",
    "mask_down = np.zeros((len(y_age), len(x_age)), dtype=np.int16)\n",
    "for j, y in enumerate(y_age):\n",
    "    for i, x in enumerate(x_age):\n",
    "\n",
    "        # Handle points outside BedMachine domain as ocean\n",
    "        if x < x_bm[0] or x > x_bm[-1] or y < y_bm[0] or y > y_bm[-1]:\n",
    "            mask_down[j, i] = 2\n",
    "            continue\n",
    "\n",
    "        # Define bounding box around current coarse cell\n",
    "        x1, x2 = x - 0.5*(dx_age+dx_bm), x + 0.5*(dx_age+dx_bm)\n",
    "        y1, y2 = y - 0.5*(dx_age+dx_bm), y + 0.5*(dx_age+dx_bm)\n",
    "\n",
    "        # Convert bounding box to index range in BedMachine grid\n",
    "        ii1 = int(np.floor((x1 - x_bm[0]) / dx_bm))\n",
    "        ii2 = int(np.ceil((x2 - x_bm[0]) / dx_bm))\n",
    "        jj1 = int(np.floor((y1 - y_bm[0]) / dx_bm))\n",
    "        jj2 = int(np.ceil((y2 - y_bm[0]) / dx_bm))\n",
    "\n",
    "        counts = np.zeros(5)  # 0: grounded, 1: land, 2: ocean, 3: floating, 4: non-Greenland\n",
    "        for jj in range(jj1, jj2):\n",
    "            for ii in range(ii1, ii2):\n",
    "                if 0 <= ii < len(x_bm) and 0 <= jj < len(y_bm):\n",
    "                    mval = mask_bm[jj, ii]\n",
    "                    if 0 <= mval <= 4:\n",
    "                        counts[mval] += 1\n",
    "\n",
    "        if counts.sum() > 0:\n",
    "            mask_down[j, i] = int(np.argmax(counts))\n",
    "        else:\n",
    "            mask_down[j, i] = 2  # Default to ocean if empty\n",
    "\n",
    "# Load high-res data\n",
    "age_hr = ds_age_correct[\"age_c\"].values  # shape: (nz, ny_hr, nx_hr)\n",
    "age_uncert_hr = ds_age_correct[\"age_c_uncert\"].values\n",
    "H_hr = ds_age_correct[\"H\"].values      # shape: (ny_hr, nx_hr)\n",
    "\n",
    "# Define low-res target grid (e.g., from SICOPOLIS)\n",
    "x_sico = np.arange(-720, 960 + 40, 40)  # in km\n",
    "y_sico = np.arange(-3450, -570 + 40, 40)\n",
    "dx_sico = 40.0  # km\n",
    "\n",
    "# Downsample H using area-weighted average + mask\n",
    "H_lr, r_masks = area_weighted_downsample_with_mask_H(H_hr, mask_down, x_age, y_age, x_sico, y_sico, dx_sico, dx_age)\n",
    "\n",
    "# Construct final majority-vote mask (same method as before)\n",
    "stack = np.stack([r_masks[k] for k in range(5)])  # order: 0–4\n",
    "mask_sico = np.take([0, 3, 1, 2, 2], np.argmax(stack, axis=0))  # SICOPOLIS order: 0 grounded, 1 land, 2 ocean, 3 floating\n",
    "\n",
    "# Downsample age and age_uncert using the same mask (only where grounded or floating)\n",
    "age_lr = downsample_3d_field_with_mask(\n",
    "    age_hr, x_age, y_age, x_sico, y_sico, dx_sico, mask_sico, coverage_thresh=0.5\n",
    ")\n",
    "\n",
    "age_uncert_lr = downsample_3d_field_with_mask(\n",
    "    age_uncert_hr, x_age, y_age, x_sico, y_sico, dx_sico, mask_sico, coverage_thresh=0.5\n",
    ")\n",
    "\n",
    "print(\"Downsampling complete.\")\n",
    "\n",
    "for j in range(len(y_sico)):\n",
    "    for i in range(len(x_sico)):\n",
    "        age_lr[:, j, i] = ageData.interpolate_nans(age_lr[:, j, i], bool_uncert = False)\n",
    "\n",
    "age_uncert_lr_1 = np.copy(age_uncert_lr)\n",
    "for j in range(len(y_sico)):\n",
    "    for i in range(len(x_sico)):\n",
    "        # Update age_uncert_lr_1 first before age_uncert_lr gets updated\n",
    "        age_uncert_lr_1[:, j, i] = ageData.interpolate_nans(age_uncert_lr[:, j, i], bool_uncert = True)\n",
    "        age_uncert_lr[:, j, i] = ageData.interpolate_nans(age_uncert_lr[:, j, i], bool_uncert = False)\n",
    "\n",
    "print(\"NaNs removal complete.\")"
   ]
  },
  {
   "cell_type": "code",
   "execution_count": 5,
   "id": "cf5f6953-4ef0-468b-8e71-42d3ea8aff63",
   "metadata": {},
   "outputs": [],
   "source": [
    "zeta_data = np.arange(0,1+1./25,1./25)\n",
    "zeta = np.arange(0,1+1./80,1./80)\n",
    "sigma = dataCleaner.exp_sigma_level(zeta = np.arange(0,1+1./80,1./80),\n",
    "                                    exponent = 2.0)\n",
    "\n",
    "da_age_c = xr.DataArray(\n",
    "        data = age_lr,\n",
    "        dims = [\"sigma\", \"y\", \"x\"],\n",
    "        coords = dict(\n",
    "            sigma = zeta_data,\n",
    "            y = yModel40,\n",
    "            x = xModel40,\n",
    "        ),  \n",
    "        attrs = dict(description=\"age_c in a\"),\n",
    "    )\n",
    "\n",
    "da_age_c_uncert_unbounded = xr.DataArray(\n",
    "        data = age_uncert_lr,\n",
    "        dims = [\"sigma\", \"y\", \"x\"],\n",
    "        coords = dict(\n",
    "            sigma = zeta_data,\n",
    "            y = yModel40,\n",
    "            x = xModel40,\n",
    "        ),  \n",
    "        attrs = dict(description=\"age_c_uncert in a\"),\n",
    "    )\n",
    "\n",
    "da_age_c_uncert_unbounded_rigorous = xr.DataArray(\n",
    "        data = age_uncert_lr_1,\n",
    "        dims = [\"sigma\", \"y\", \"x\"],\n",
    "        coords = dict(\n",
    "            sigma = zeta_data,\n",
    "            y = yModel40,\n",
    "            x = xModel40,\n",
    "        ),  \n",
    "        attrs = dict(description=\"age_c_uncert (rigorous calculation i.e. variances are additive) in a\"),\n",
    "    )\n",
    "\n",
    "da_H = xr.DataArray(\n",
    "        data = H_lr,\n",
    "        dims = [\"y\", \"x\"],\n",
    "        coords = dict(\n",
    "            y = yModel40,\n",
    "            x = xModel40,\n",
    "        ),  \n",
    "        attrs = dict(description=\"Thickness in m\"),\n",
    "    )\n",
    "\n",
    "ds_age_40kms = xr.Dataset(\n",
    "    data_vars=dict(\n",
    "        age_c=da_age_c,\n",
    "        age_c_uncert_unbounded=da_age_c_uncert_unbounded,\n",
    "        age_c_uncert_unbounded_rigorous=da_age_c_uncert_unbounded_rigorous,\n",
    "        H=da_H\n",
    "    ),\n",
    "    attrs=dict(\n",
    "        title=\"Downsampled age, uncertainty, and thickness\",\n",
    "        description=\"Processed from corrected age data on to SICOPOLIS 40 km grid\",\n",
    "        units=\"age in years, thickness in meters\"\n",
    "    )\n",
    ")\n",
    "\n",
    "ds_age_40kms = ds_age_40kms.interp(sigma=sigma, method = \"linear\")\n",
    "ds_age_40kms[\"age_c\"].data[-1, :, :] = 0.0\n",
    "ds_age_40kms[\"age_c\"].data[np.isnan(ds_age_40kms[\"age_c\"].data)] = -999.0\n",
    "ds_age_40kms[\"age_c_uncert_unbounded\"].data[np.isnan(ds_age_40kms[\"age_c_uncert_unbounded\"].data)] = -2.e9\n",
    "ds_age_40kms[\"age_c_uncert_unbounded_rigorous\"].data[np.isnan(ds_age_40kms[\"age_c_uncert_unbounded_rigorous\"].data)] = -2.e9\n",
    "\n",
    "ratio = np.abs(ds_age_40kms[\"age_c\"].data/ds_age_40kms[\"age_c_uncert_unbounded\"].data)\n",
    "ds_age_40kms[\"age_c_uncert\"] = ds_age_40kms[\"age_c_uncert_unbounded\"].copy()\n",
    "ds_age_40kms[\"age_c_uncert\"].data[ratio > 10] = 0.1*ds_age_40kms[\"age_c\"].data[ratio > 10]\n",
    "\n",
    "ratio = np.abs(ds_age_40kms[\"age_c\"].data/ds_age_40kms[\"age_c_uncert_unbounded_rigorous\"].data)\n",
    "ds_age_40kms[\"age_c_uncert_rigorous\"] = ds_age_40kms[\"age_c_uncert_unbounded_rigorous\"].copy()\n",
    "ds_age_40kms[\"age_c_uncert_rigorous\"].data[ratio > 10] = 0.1*ds_age_40kms[\"age_c\"].data[ratio > 10]\n",
    "\n",
    "H_orig = ds_bm5_orig[\"H\"].data\n",
    "H_orig_safe = np.where(H_orig == 0, np.nan, H_orig)  # Avoid division by zero\n",
    "\n",
    "scale_uncert_factor = 1 + np.abs((H_lr / H_orig_safe) - 1)*4.0    # Scale uncert to account for mismatch in H values between age data and BM5\n",
    "scale_uncert_factor = np.nan_to_num(scale_uncert_factor, nan=2.5)  # Assign 2.5 when original H is zero\n",
    "scale_uncert_factor = np.minimum(scale_uncert_factor, 5.0)         # Cap to max scale factor\n",
    "\n",
    "ds_age_40kms[\"age_c_uncert\"].data = ds_age_40kms[\"age_c_uncert\"].data*scale_uncert_factor[None, :, :]\n",
    "ds_age_40kms[\"age_c_uncert_rigorous\"].data = ds_age_40kms[\"age_c_uncert_rigorous\"].data*scale_uncert_factor[None, :, :]\n",
    "\n",
    "ds_age_40kms[\"age_c_uncert\"].data[ds_age_40kms[\"age_c_uncert\"].data < 0] = -2.e9\n",
    "ds_age_40kms[\"age_c_uncert_rigorous\"].data[ds_age_40kms[\"age_c_uncert_rigorous\"].data < 0] = -2.e9\n",
    "\n",
    "!rm /scratch2/shreyas/GrIS_paleo_data/age_data_40kms.nc\n",
    "ds_age_40kms.to_netcdf(\"/scratch2/shreyas/GrIS_paleo_data/age_data_40kms.nc\")"
   ]
  },
  {
   "cell_type": "code",
   "execution_count": 6,
   "id": "3dd6ef1b-b2d0-41e0-b553-0415318158eb",
   "metadata": {
    "scrolled": true
   },
   "outputs": [
    {
     "data": {
      "text/plain": [
       "<matplotlib.colorbar.Colorbar at 0x148f244991e0>"
      ]
     },
     "execution_count": 6,
     "metadata": {},
     "output_type": "execute_result"
    },
    {
     "data": {
      "image/png": "[encoded data removed]",
      "text/plain": [
       "<Figure size 640x480 with 2 Axes>"
      ]
     },
     "metadata": {},
     "output_type": "display_data"
    }
   ],
   "source": [
    "plt.contourf(H_lr-ds_bm5_orig[\"H\"].data, cmap = \"RdBu_r\", vmin = -100, vmax = 100, levels = 100)\n",
    "plt.colorbar()"
   ]
  },
  {
   "cell_type": "code",
   "execution_count": 7,
   "id": "8618670f-157b-4560-a090-477f7a79b8ff",
   "metadata": {},
   "outputs": [
    {
     "name": "stderr",
     "output_type": "stream",
     "text": [
      "/tmp/ipykernel_3943295/246116528.py:1: RuntimeWarning: divide by zero encountered in divide\n",
      "  plt.contourf((H_lr/ds_bm5_orig[\"H\"].data-1)*(ds_bm5_orig[\"H\"].data > 1500), cmap = \"RdBu_r\", vmin = -0.05, vmax = 0.05, levels = 100)\n",
      "/tmp/ipykernel_3943295/246116528.py:1: RuntimeWarning: invalid value encountered in divide\n",
      "  plt.contourf((H_lr/ds_bm5_orig[\"H\"].data-1)*(ds_bm5_orig[\"H\"].data > 1500), cmap = \"RdBu_r\", vmin = -0.05, vmax = 0.05, levels = 100)\n",
      "/tmp/ipykernel_3943295/246116528.py:1: RuntimeWarning: invalid value encountered in multiply\n",
      "  plt.contourf((H_lr/ds_bm5_orig[\"H\"].data-1)*(ds_bm5_orig[\"H\"].data > 1500), cmap = \"RdBu_r\", vmin = -0.05, vmax = 0.05, levels = 100)\n"
     ]
    },
    {
     "data": {
      "text/plain": [
       "<matplotlib.colorbar.Colorbar at 0x148f24233250>"
      ]
     },
     "execution_count": 7,
     "metadata": {},
     "output_type": "execute_result"
    },
    {
     "data": {
      "image/png": "[encoded data removed]",
      "text/plain": [
       "<Figure size 640x480 with 2 Axes>"
      ]
     },
     "metadata": {},
     "output_type": "display_data"
    }
   ],
   "source": [
    "plt.contourf((H_lr/ds_bm5_orig[\"H\"].data-1)*(ds_bm5_orig[\"H\"].data > 1500), cmap = \"RdBu_r\", vmin = -0.05, vmax = 0.05, levels = 100)\n",
    "plt.colorbar()"
   ]
  },
  {
   "cell_type": "code",
   "execution_count": 8,
   "id": "c80dfc0e-50c2-44ab-9964-2b6a1cada467",
   "metadata": {},
   "outputs": [
    {
     "name": "stderr",
     "output_type": "stream",
     "text": [
      "/tmp/ipykernel_3943295/3181783737.py:1: RuntimeWarning: divide by zero encountered in divide\n",
      "  plt.contourf((np.abs((H_lr/ds_bm5_orig[\"H\"].data-1))>= 0.1)*(ds_bm5_orig[\"H\"].data > 1500), cmap = \"RdBu_r\", vmin = -0.05, vmax = 0.05, levels = 100)\n",
      "/tmp/ipykernel_3943295/3181783737.py:1: RuntimeWarning: invalid value encountered in divide\n",
      "  plt.contourf((np.abs((H_lr/ds_bm5_orig[\"H\"].data-1))>= 0.1)*(ds_bm5_orig[\"H\"].data > 1500), cmap = \"RdBu_r\", vmin = -0.05, vmax = 0.05, levels = 100)\n"
     ]
    },
    {
     "data": {
      "text/plain": [
       "<matplotlib.colorbar.Colorbar at 0x148f23b51ff0>"
      ]
     },
     "execution_count": 8,
     "metadata": {},
     "output_type": "execute_result"
    },
    {
     "data": {
      "image/png": "[encoded data removed]",
      "text/plain": [
       "<Figure size 640x480 with 2 Axes>"
      ]
     },
     "metadata": {},
     "output_type": "display_data"
    }
   ],
   "source": [
    "plt.contourf((np.abs((H_lr/ds_bm5_orig[\"H\"].data-1))>= 0.1)*(ds_bm5_orig[\"H\"].data > 1500), cmap = \"RdBu_r\", vmin = -0.05, vmax = 0.05, levels = 100)\n",
    "plt.colorbar()"
   ]
  },
  {
   "cell_type": "code",
   "execution_count": 9,
   "id": "f450ac42-6bb2-44bf-b431-3120e70c5316",
   "metadata": {},
   "outputs": [
    {
     "data": {
      "text/plain": [
       "5163"
      ]
     },
     "execution_count": 9,
     "metadata": {},
     "output_type": "execute_result"
    }
   ],
   "source": [
    "mask = (ds_age_40kms[\"age_c_uncert\"].data < 0) & (ds_age_40kms[\"age_c\"].data > 0)\n",
    "np.sum(mask)"
   ]
  },
  {
   "cell_type": "code",
   "execution_count": 10,
   "id": "ad41e39e-0436-4dac-b9c2-c1d07c264bf5",
   "metadata": {},
   "outputs": [
    {
     "data": {
      "text/plain": [
       "0"
      ]
     },
     "execution_count": 10,
     "metadata": {},
     "output_type": "execute_result"
    }
   ],
   "source": [
    "mask = (ds_age_40kms[\"age_c_uncert\"].data > 0) & (ds_age_40kms[\"age_c\"].data < 0)\n",
    "np.sum(mask)"
   ]
  },
  {
   "cell_type": "code",
   "execution_count": 11,
   "id": "ff78ac44-c7fd-422c-87bc-6417ee24ee10",
   "metadata": {},
   "outputs": [
    {
     "data": {
      "text/plain": [
       "203660"
      ]
     },
     "execution_count": 11,
     "metadata": {},
     "output_type": "execute_result"
    }
   ],
   "source": [
    "mask = (ds_age_40kms[\"age_c_uncert\"].data < 0) & (ds_age_40kms[\"age_c\"].data < 0)\n",
    "np.sum(mask)"
   ]
  },
  {
   "cell_type": "code",
   "execution_count": 12,
   "id": "e5990815-272c-4dd3-abd6-aeef816ce6ce",
   "metadata": {},
   "outputs": [
    {
     "data": {
      "text/plain": [
       "(42297, 9.999924813165915, -0.0)"
      ]
     },
     "execution_count": 12,
     "metadata": {},
     "output_type": "execute_result"
    }
   ],
   "source": [
    "mask = (ds_age_40kms[\"age_c_uncert\"].data > 0) & (ds_age_40kms[\"age_c\"].data > 0)\n",
    "np.sum(mask), np.nanmax(ds_age_40kms[\"age_c\"].data / ds_age_40kms[\"age_c_uncert\"].data * mask), np.nanmin(ds_age_40kms[\"age_c\"].data / ds_age_40kms[\"age_c_uncert\"].data * mask)"
   ]
  },
  {
   "cell_type": "code",
   "execution_count": 13,
   "id": "f2b982b8-f792-41e3-a92d-0c513718b428",
   "metadata": {},
   "outputs": [
    {
     "data": {
      "text/plain": [
       "0"
      ]
     },
     "execution_count": 13,
     "metadata": {},
     "output_type": "execute_result"
    }
   ],
   "source": [
    "mask = ds_age_40kms[\"age_c_uncert\"].data == 0.0\n",
    "np.sum(mask)"
   ]
  },
  {
   "cell_type": "code",
   "execution_count": 14,
   "id": "2ec2c9a6-3b8d-48c1-968b-b568676e2a0e",
   "metadata": {},
   "outputs": [
    {
     "data": {
      "text/plain": [
       "(2.131788538387892, 1.621012679077892, 1.621012679077892, 1.621012679077892)"
      ]
     },
     "execution_count": 14,
     "metadata": {},
     "output_type": "execute_result"
    }
   ],
   "source": [
    "np.max(scale_uncert_factor*(H_orig > 500)), np.max(scale_uncert_factor*(H_orig > 1000)), np.max(scale_uncert_factor*(H_orig > 1500)), np.max(scale_uncert_factor*(H_orig > 2000))"
   ]
  },
  {
   "cell_type": "code",
   "execution_count": 15,
   "id": "354d227a-5b17-4910-a420-a59cc4f9d7e3",
   "metadata": {},
   "outputs": [
    {
     "data": {
      "text/plain": [
       "(58, 17, 7, 2)"
      ]
     },
     "execution_count": 15,
     "metadata": {},
     "output_type": "execute_result"
    }
   ],
   "source": [
    "# points with more than 5% rel H error or 1.2 or more scaling\n",
    "np.sum((scale_uncert_factor>1.2)*(H_orig > 500)), np.sum((scale_uncert_factor>1.2)*(H_orig > 1000)), np.sum((scale_uncert_factor>1.2)*(H_orig > 1500)), np.sum((scale_uncert_factor>1.2)*(H_orig > 2000))"
   ]
  },
  {
   "cell_type": "code",
   "execution_count": 16,
   "id": "0e5026bf-b156-40a5-a377-741a97ef5ee8",
   "metadata": {},
   "outputs": [
    {
     "data": {
      "text/plain": [
       "(25, 2, 2, 1)"
      ]
     },
     "execution_count": 16,
     "metadata": {},
     "output_type": "execute_result"
    }
   ],
   "source": [
    "# points with more than 10% rel H error or 1.4 or more scaling\n",
    "np.sum((scale_uncert_factor>1.4)*(H_orig > 500)), np.sum((scale_uncert_factor>1.4)*(H_orig > 1000)), np.sum((scale_uncert_factor>1.4)*(H_orig > 1500)), np.sum((scale_uncert_factor>1.4)*(H_orig > 2000))"
   ]
  },
  {
   "cell_type": "code",
   "execution_count": 17,
   "id": "5a5c23bb-a1fc-45bc-b57c-aa5c27cebf10",
   "metadata": {},
   "outputs": [
    {
     "data": {
      "text/plain": [
       "(16, 2, 2, 1)"
      ]
     },
     "execution_count": 17,
     "metadata": {},
     "output_type": "execute_result"
    }
   ],
   "source": [
    "# points with more than 15% rel H error or 1.6 or more scaling\n",
    "np.sum((scale_uncert_factor>1.6)*(H_orig > 500)), np.sum((scale_uncert_factor>1.6)*(H_orig > 1000)), np.sum((scale_uncert_factor>1.6)*(H_orig > 1500)), np.sum((scale_uncert_factor>1.6)*(H_orig > 2000))"
   ]
  },
  {
   "cell_type": "code",
   "execution_count": 18,
   "id": "55011cc5-dab1-431b-bdd0-4de6212fdcd5",
   "metadata": {},
   "outputs": [
    {
     "data": {
      "text/plain": [
       "(6, 0, 0, 0)"
      ]
     },
     "execution_count": 18,
     "metadata": {},
     "output_type": "execute_result"
    }
   ],
   "source": [
    "# points with more than 20% rel H error or 1.8 or more scaling\n",
    "np.sum((scale_uncert_factor>1.8)*(H_orig > 500)), np.sum((scale_uncert_factor>1.8)*(H_orig > 1000)), np.sum((scale_uncert_factor>1.8)*(H_orig > 1500)), np.sum((scale_uncert_factor>1.8)*(H_orig > 2000))"
   ]
  },
  {
   "cell_type": "code",
   "execution_count": 19,
   "id": "5f549652-8409-4590-9823-9f2cdfe8c063",
   "metadata": {},
   "outputs": [
    {
     "data": {
      "text/plain": [
       "(1, 0, 0, 0)"
      ]
     },
     "execution_count": 19,
     "metadata": {},
     "output_type": "execute_result"
    }
   ],
   "source": [
    "# points with more than 25% rel H error or 2.0 or more scaling\n",
    "np.sum((scale_uncert_factor>2.0)*(H_orig > 500)), np.sum((scale_uncert_factor>2.0)*(H_orig > 1000)), np.sum((scale_uncert_factor>2.0)*(H_orig > 1500)), np.sum((scale_uncert_factor>2.0)*(H_orig > 2000))"
   ]
  },
  {
   "cell_type": "code",
   "execution_count": 20,
   "id": "1d304375-6bcc-4aba-8a0a-f1e53e002688",
   "metadata": {},
   "outputs": [
    {
     "data": {
      "text/plain": [
       "(43088, 43088, 47460)"
      ]
     },
     "execution_count": 20,
     "metadata": {},
     "output_type": "execute_result"
    }
   ],
   "source": [
    "np.sum(ds_age_40kms[\"age_c_uncert\"].data != ds_age_40kms[\"age_c_uncert_unbounded\"].data), np.sum(ds_age_40kms[\"age_c_uncert\"].data > 0), np.sum(ds_age_40kms[\"age_c\"].data > 0)"
   ]
  }
 ],
 "metadata": {
  "kernelspec": {
   "display_name": "py310_LRP",
   "language": "python",
   "name": "py310_lrp"
  },
  "language_info": {
   "codemirror_mode": {
    "name": "ipython",
    "version": 3
   },
   "file_extension": ".py",
   "mimetype": "text/x-python",
   "name": "python",
   "nbconvert_exporter": "python",
   "pygments_lexer": "ipython3",
   "version": "3.10.8"
  }
 },
 "nbformat": 4,
 "nbformat_minor": 5
}
