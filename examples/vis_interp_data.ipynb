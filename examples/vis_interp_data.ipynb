{
 "cells": [
  {
   "cell_type": "code",
   "execution_count": null,
   "id": "1b1b2957",
   "metadata": {},
   "outputs": [],
   "source": [
    "# HPC\n",
    "import netCDF4 as nc\n",
    "import numpy as np\n",
    "import xarray as xr\n",
    "from scipy.interpolate import interp1d\n",
    "\n",
    "# Plotting\n",
    "import matplotlib.pyplot as plt\n",
    "import matplotlib.tri as tri\n",
    "from mpl_toolkits.axes_grid1 import make_axes_locatable\n",
    "from matplotlib.ticker import FormatStrFormatter\n",
    "\n",
    "# Paths and stuff\n",
    "import os\n",
    "import sys\n",
    "\n",
    "# Append to sys.path the absolute path to src/XAIRT\n",
    "path_list = os.path.abspath('').split('/')\n",
    "path_src_pySICOPOLIS = ''\n",
    "for link in path_list[:-1]:\n",
    "    path_src_pySICOPOLIS = path_src_pySICOPOLIS+link+'/'\n",
    "sys.path.append(path_src_pySICOPOLIS+'/src')\n",
    "\n",
    "# Now import module pySICOPOLIS\n",
    "from pySICOPOLIS import *"
   ]
  },
  {
   "cell_type": "code",
   "execution_count": null,
   "id": "652ac1fb",
   "metadata": {},
   "outputs": [],
   "source": [
    "ds_temp = xr.open_dataset('/scratch2/shreyas/GrIS_paleo_data/RDBTS4_Greenland_1993_2017_02_basal_thermal_state.nc')\n",
    "ds_vel = xr.open_dataset('/scratch2/shreyas/GrIS_paleo_data/RDGBV4_Greenland_1993_2013_01_balance_velocity_9ka.nc')\n",
    "ds_age = xr.open_dataset('/scratch2/shreyas/GrIS_paleo_data/RRRAG4_Greenland_1993_2013_01_age_grid.nc')\n",
    "ds_bm5 = xr.open_dataset('/scratch2/shreyas/GrIS_paleo_data/BedMachineGreenland-v5.nc')"
   ]
  },
  {
   "cell_type": "code",
   "execution_count": null,
   "id": "dc6992e7",
   "metadata": {},
   "outputs": [],
   "source": [
    "plt.rcParams[\"figure.figsize\"] = (10,5)\n",
    "fig, ax = plt.subplots(1,2)\n",
    "\n",
    "fancyPlotter.plot_normal(ds_temp['x']*0.001, ds_temp['y']*0.001, \n",
    "                         ds_temp.variables['likely_basal_thermal_state'],\n",
    "                         cmap = 'RdBu_r', nbins = 10, fig = fig, ax = ax[0])\n",
    "ax[0].set_title('Contourf of basal thermal states')\n",
    "\n",
    "\n",
    "ax[1].hist(ds_temp.variables['likely_basal_thermal_state'].to_numpy().flatten(), \n",
    "           bins = 20)\n",
    "ax[1].set_title('Histogram of basal thermal states')\n",
    "fig.suptitle('Likely basal thermal state dataset', fontsize = 16)\n",
    "\n",
    "plt.tight_layout()"
   ]
  },
  {
   "cell_type": "code",
   "execution_count": null,
   "id": "440e4e36",
   "metadata": {
    "scrolled": true
   },
   "outputs": [],
   "source": [
    "plt.rcParams[\"figure.figsize\"] = (10,10)\n",
    "fig, ax = plt.subplots(2,2)\n",
    "\n",
    "fancyPlotter.plot_normal(ds_temp['x']*0.001, ds_temp['y']*0.001, \n",
    "                         ds_vel.variables['accumulation_rate'][0][:,::-1].T,\n",
    "                         cmap = 'jet', nbins = 100, fig = fig, ax = ax[0,0])\n",
    "\n",
    "ax[0,0].set_title('9-ka mean Accumulation rate', fontsize=10)\n",
    "\n",
    "### 1 sigma STD\n",
    "STD = 0.25*(ds_vel.variables['accumulation_rate'][2]-ds_vel.variables['accumulation_rate'][1])\n",
    "fancyPlotter.plot_normal(ds_temp['x']*0.001, ds_temp['y']*0.001, \n",
    "                         STD[:,::-1].T,\n",
    "                         cmap = 'jet', nbins = 100, fig = fig, ax = ax[0,1])\n",
    "\n",
    "ax[0,1].set_title('9-ka STD Accumulation rate', fontsize=10)\n",
    "\n",
    "fancyPlotter.plot_normal(ds_temp['x']*0.001, ds_temp['y']*0.001, \n",
    "                         ds_vel.variables['accumulation_rate_difference'][0][:,::-1].T,\n",
    "                         cmap = 'RdBu_r', nbins = 100, fig = fig, ax = ax[1,0], vmin = -0.2, vmax = 0.2)\n",
    "\n",
    "ax[1,0].set_title('Modern-9ka-mean', fontsize=10)\n",
    "\n",
    "fancyPlotter.plot_normal(ds_temp['x']*0.001, ds_temp['y']*0.001, \n",
    "                         STD[:,::-1].T/ds_vel.variables['accumulation_rate'][0][:,::-1].T,\n",
    "                         cmap = 'jet', nbins = 100, fig = fig, ax = ax[1,1])\n",
    "\n",
    "ax[1,1].set_title('9-ka std / 9-ka mean', fontsize=10)\n",
    "\n",
    "fig.suptitle('Holocene velocity dataset', fontsize = 16)\n",
    "plt.tight_layout()"
   ]
  },
  {
   "cell_type": "code",
   "execution_count": null,
   "id": "115c65dd",
   "metadata": {},
   "outputs": [],
   "source": [
    "plt.rcParams[\"figure.figsize\"] = (10,10)\n",
    "fig, ax = plt.subplots(2,2)\n",
    "age_isochrones = ds_age.variables['age_iso'].data\n",
    "\n",
    "fancyPlotter.plot_normal(ds_age['x'], ds_age['y'], \n",
    "                         ds_age.variables['depth_iso'][0],\n",
    "                         cmap = 'jet', nbins = 100, \n",
    "                         fig = fig, ax = ax[0,0],\n",
    "                         cbar_label = 'metres')\n",
    "\n",
    "ax[0,0].set_title(f'Depth of isochrone {age_isochrones[0]/1000} ka', fontsize=10)\n",
    "\n",
    "fancyPlotter.plot_normal(ds_age['x'], ds_age['y'], \n",
    "                         ds_age.variables['depth_iso_uncert'][0],\n",
    "                         cmap = 'jet', nbins = 100, \n",
    "                         fig = fig, ax = ax[0,1],\n",
    "                         cbar_label = 'metres')\n",
    "\n",
    "ax[0,1].set_title(f'Uncert. depth of isochrone {age_isochrones[0]/1000} ka', fontsize=10)\n",
    "\n",
    "fancyPlotter.plot_normal(ds_age['x'], ds_age['y'], \n",
    "                         ds_age.variables['age_norm'][0],\n",
    "                         cmap = 'jet', nbins = 100, \n",
    "                         fig = fig, ax = ax[1,0],\n",
    "                         cbar_label = 'metres')\n",
    "\n",
    "### Age layer 1/26 is just age 0\n",
    "ax[1,0].set_title(f'Age layer 2/26 in years', fontsize=10)\n",
    "\n",
    "fancyPlotter.plot_normal(ds_age['x'], ds_age['y'], \n",
    "                         ds_age.variables['age_norm_uncert'][0]/ds_age.variables['age_norm'][0],\n",
    "                         cmap = 'jet', nbins = 100, \n",
    "                         fig = fig, ax = ax[1,1],\n",
    "                         cbar_label = 'metres', vmax = 10)\n",
    "\n",
    "### Age layer 1/26 is just age 0\n",
    "ax[1,1].set_title(f'Normalized uncert in age layer 2/26', fontsize=10)\n",
    "\n",
    "fig.suptitle('Age layer dataset', fontsize = 16)\n",
    "plt.tight_layout()"
   ]
  },
  {
   "cell_type": "code",
   "execution_count": null,
   "id": "f504ed9b",
   "metadata": {
    "scrolled": true
   },
   "outputs": [],
   "source": [
    "plt.rcParams[\"figure.figsize\"] = (15,15)\n",
    "fig, ax = plt.subplots(1,3, width_ratios=[1,1,2])\n",
    "\n",
    "xIndex = int(ds_age['x'].shape[0]/2)\n",
    "yIndex = int(ds_age['y'].shape[1]/2)\n",
    "\n",
    "xLoc = ds_age['x'][xIndex,0].data\n",
    "yLoc = ds_age['y'][0,yIndex].data\n",
    "age_z = np.concatenate((np.array([0.]),ds_age.variables['age_norm'][:, xIndex, yIndex].data), axis = 0)\n",
    "age_uncert_z = np.concatenate((np.array([0.]),ds_age.variables['age_norm_uncert'][:, xIndex, yIndex].data), axis = 0)\n",
    "depth_z = np.concatenate((np.array([0.]),ds_age['depth_norm']))*ds_age.variables['thick'][xIndex, yIndex].data\n",
    "\n",
    "fancyPlotter.plot_normal(ds_age['x'], ds_age['y'], \n",
    "                         ds_age.variables['thick'],\n",
    "                         cmap = 'jet', nbins = 100, \n",
    "                         fig = fig, ax = ax[2],\n",
    "                         cbar_label = 'metres')\n",
    "ax[2].set_title(f'Ice thickness plot', fontsize=10)\n",
    "\n",
    "fancyPlotter.plot_1D_depth_profile(age_z/1000, depth_z, age_uncert_z/1000,\n",
    "                                   fig=fig, ax = ax[0], \n",
    "                                   linestyle='-', marker='o', color='b')\n",
    "ax[0].set_title(f'x = {xLoc}, y = {yLoc}', fontsize=10)\n",
    "ax[0].set_xlabel(f'Age in ka', fontsize=10)\n",
    "ax[2].scatter(xLoc, yLoc, s=250, c='black', marker='x')\n",
    "\n",
    "xIndex = int(ds_age['x'].shape[0]/2)\n",
    "yIndex = int(3*ds_age['y'].shape[1]/4)\n",
    "\n",
    "xLoc = ds_age['x'][xIndex,0].data\n",
    "yLoc = ds_age['y'][0,yIndex].data\n",
    "age_z = np.concatenate((np.array([0.]),ds_age.variables['age_norm'][:, xIndex, yIndex].data), axis = 0)\n",
    "age_uncert_z = np.concatenate((np.array([0.]),ds_age.variables['age_norm_uncert'][:, xIndex, yIndex].data), axis = 0)\n",
    "depth_z = np.concatenate((np.array([0.]),ds_age['depth_norm']))*ds_age.variables['thick'][xIndex, yIndex].data\n",
    "\n",
    "fancyPlotter.plot_1D_depth_profile(age_z/1000, depth_z, age_uncert_z/1000,\n",
    "                                   fig=fig, ax = ax[1], \n",
    "                                   linestyle='-', marker='o', color='b')\n",
    "ax[1].set_title(f'x = {xLoc}, y = {yLoc}', fontsize=10)\n",
    "ax[1].set_xlabel(f'Age in ka', fontsize=10)\n",
    "ax[2].scatter(xLoc, yLoc, s=250, c='black', marker='x')\n",
    "\n",
    "fig.suptitle(f'Age layers at different locations')\n",
    "plt.tight_layout()"
   ]
  },
  {
   "cell_type": "code",
   "execution_count": null,
   "id": "c8a60c0a",
   "metadata": {},
   "outputs": [],
   "source": [
    "yIndex = int(ds_age['y'].shape[1]/2)\n",
    "yLoc = ds_age['y'][0,yIndex].data"
   ]
  },
  {
   "cell_type": "code",
   "execution_count": null,
   "id": "ea5790f1",
   "metadata": {},
   "outputs": [],
   "source": [
    "age_ySection = np.concatenate((np.zeros((1,ds_age['x'].shape[0]), dtype = np.float64),\n",
    "                        ds_age.variables['age_norm'][:, :, yIndex].data), \n",
    "                       axis = 0)\n",
    "age_ySection = age_ySection[::-1]\n",
    "\n",
    "thickness_ySection = ds_age.variables['thick'][:,yIndex].data\n",
    "heights_ySection = np.zeros(age_ySection.shape, dtype = np.float64)"
   ]
  },
  {
   "cell_type": "code",
   "execution_count": null,
   "id": "0cf1d562",
   "metadata": {},
   "outputs": [],
   "source": [
    "delta_z = 1/(heights_ySection.shape[0]-1)*thickness_ySection\n",
    "for k in range(heights_ySection.shape[0]):\n",
    "    heights_ySection[k] = delta_z*k"
   ]
  },
  {
   "cell_type": "code",
   "execution_count": null,
   "id": "d17dae35",
   "metadata": {},
   "outputs": [],
   "source": [
    "plt.rcParams[\"figure.figsize\"] = (10,5)\n",
    "fig, ax = plt.subplots()\n",
    "\n",
    "x = ds_age['x'][:,0]\n",
    "for k in range(heights_ySection.shape[0]-1):\n",
    "    plt.scatter(x, heights_ySection[k], s=10,c=age_ySection[k])\n",
    "plt.plot(x, heights_ySection[-1], c='b')"
   ]
  },
  {
   "cell_type": "code",
   "execution_count": null,
   "id": "3c42c416",
   "metadata": {
    "scrolled": true
   },
   "outputs": [],
   "source": [
    "plt.rcParams[\"figure.figsize\"] = (10,5)\n",
    "fig, ax = plt.subplots()\n",
    "\n",
    "xTri = np.tile(x,26)\n",
    "hTri = np.reshape(heights_ySection, (-1,))\n",
    "ageTri = np.reshape(age_ySection, (-1,))\n",
    "ageTri = np.nan_to_num(ageTri)\n",
    "\n",
    "ax.tricontour(xTri, hTri, ageTri, levels=20, cmap=\"jet\")"
   ]
  }
 ],
 "metadata": {
  "kernelspec": {
   "display_name": "py310_LRP",
   "language": "python",
   "name": "py310_lrp"
  },
  "language_info": {
   "codemirror_mode": {
    "name": "ipython",
    "version": 3
   },
   "file_extension": ".py",
   "mimetype": "text/x-python",
   "name": "python",
   "nbconvert_exporter": "python",
   "pygments_lexer": "ipython3",
   "version": "3.10.8"
  }
 },
 "nbformat": 4,
 "nbformat_minor": 5
}
